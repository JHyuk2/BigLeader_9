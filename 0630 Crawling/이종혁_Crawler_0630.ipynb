{
 "cells": [
  {
   "cell_type": "code",
   "execution_count": 9,
   "metadata": {},
   "outputs": [
    {
     "ename": "ElementNotInteractableException",
     "evalue": "Message: element not interactable\n  (Session info: chrome=114.0.5735.199)\n",
     "output_type": "error",
     "traceback": [
      "\u001b[1;31m---------------------------------------------------------------------------\u001b[0m",
      "\u001b[1;31mElementNotInteractableException\u001b[0m           Traceback (most recent call last)",
      "Cell \u001b[1;32mIn[9], line 31\u001b[0m\n\u001b[0;32m     27\u001b[0m         driver\u001b[39m.\u001b[39mswitch_to\u001b[39m.\u001b[39mwindow(driver\u001b[39m.\u001b[39mwindow_handles[\u001b[39m0\u001b[39m])\n\u001b[0;32m     29\u001b[0m \u001b[39m# 검색창에 검색어 넣기\u001b[39;00m\n\u001b[0;32m     30\u001b[0m \u001b[39m# driver.find_element(By.ID, )\u001b[39;00m\n\u001b[1;32m---> 31\u001b[0m driver\u001b[39m.\u001b[39;49mfind_element(By\u001b[39m.\u001b[39;49mID, \u001b[39m'\u001b[39;49m\u001b[39mquery\u001b[39;49m\u001b[39m'\u001b[39;49m)\u001b[39m.\u001b[39;49msend_keys(\u001b[39m'\u001b[39;49m\u001b[39m여름여행\u001b[39;49m\u001b[39m'\u001b[39;49m)\n\u001b[0;32m     33\u001b[0m ts(\u001b[39m5\u001b[39m); driver\u001b[39m.\u001b[39mclose()\n",
      "File \u001b[1;32mc:\\Users\\jhuyk\\anaconda3\\lib\\site-packages\\selenium\\webdriver\\remote\\webelement.py:477\u001b[0m, in \u001b[0;36mWebElement.send_keys\u001b[1;34m(self, *value)\u001b[0m\n\u001b[0;32m    474\u001b[0m     \u001b[39mif\u001b[39;00m local_file \u001b[39mis\u001b[39;00m \u001b[39mnot\u001b[39;00m \u001b[39mNone\u001b[39;00m:\n\u001b[0;32m    475\u001b[0m         value \u001b[39m=\u001b[39m \u001b[39mself\u001b[39m\u001b[39m.\u001b[39m_upload(local_file)\n\u001b[1;32m--> 477\u001b[0m \u001b[39mself\u001b[39;49m\u001b[39m.\u001b[39;49m_execute(Command\u001b[39m.\u001b[39;49mSEND_KEYS_TO_ELEMENT,\n\u001b[0;32m    478\u001b[0m               {\u001b[39m'\u001b[39;49m\u001b[39mtext\u001b[39;49m\u001b[39m'\u001b[39;49m: \u001b[39m\"\u001b[39;49m\u001b[39m\"\u001b[39;49m\u001b[39m.\u001b[39;49mjoin(keys_to_typing(value)),\n\u001b[0;32m    479\u001b[0m                \u001b[39m'\u001b[39;49m\u001b[39mvalue\u001b[39;49m\u001b[39m'\u001b[39;49m: keys_to_typing(value)})\n",
      "File \u001b[1;32mc:\\Users\\jhuyk\\anaconda3\\lib\\site-packages\\selenium\\webdriver\\remote\\webelement.py:633\u001b[0m, in \u001b[0;36mWebElement._execute\u001b[1;34m(self, command, params)\u001b[0m\n\u001b[0;32m    631\u001b[0m     params \u001b[39m=\u001b[39m {}\n\u001b[0;32m    632\u001b[0m params[\u001b[39m'\u001b[39m\u001b[39mid\u001b[39m\u001b[39m'\u001b[39m] \u001b[39m=\u001b[39m \u001b[39mself\u001b[39m\u001b[39m.\u001b[39m_id\n\u001b[1;32m--> 633\u001b[0m \u001b[39mreturn\u001b[39;00m \u001b[39mself\u001b[39;49m\u001b[39m.\u001b[39;49m_parent\u001b[39m.\u001b[39;49mexecute(command, params)\n",
      "File \u001b[1;32mc:\\Users\\jhuyk\\anaconda3\\lib\\site-packages\\selenium\\webdriver\\remote\\webdriver.py:321\u001b[0m, in \u001b[0;36mWebDriver.execute\u001b[1;34m(self, driver_command, params)\u001b[0m\n\u001b[0;32m    319\u001b[0m response \u001b[39m=\u001b[39m \u001b[39mself\u001b[39m\u001b[39m.\u001b[39mcommand_executor\u001b[39m.\u001b[39mexecute(driver_command, params)\n\u001b[0;32m    320\u001b[0m \u001b[39mif\u001b[39;00m response:\n\u001b[1;32m--> 321\u001b[0m     \u001b[39mself\u001b[39;49m\u001b[39m.\u001b[39;49merror_handler\u001b[39m.\u001b[39;49mcheck_response(response)\n\u001b[0;32m    322\u001b[0m     response[\u001b[39m'\u001b[39m\u001b[39mvalue\u001b[39m\u001b[39m'\u001b[39m] \u001b[39m=\u001b[39m \u001b[39mself\u001b[39m\u001b[39m.\u001b[39m_unwrap_value(\n\u001b[0;32m    323\u001b[0m         response\u001b[39m.\u001b[39mget(\u001b[39m'\u001b[39m\u001b[39mvalue\u001b[39m\u001b[39m'\u001b[39m, \u001b[39mNone\u001b[39;00m))\n\u001b[0;32m    324\u001b[0m     \u001b[39mreturn\u001b[39;00m response\n",
      "File \u001b[1;32mc:\\Users\\jhuyk\\anaconda3\\lib\\site-packages\\selenium\\webdriver\\remote\\errorhandler.py:242\u001b[0m, in \u001b[0;36mErrorHandler.check_response\u001b[1;34m(self, response)\u001b[0m\n\u001b[0;32m    240\u001b[0m         alert_text \u001b[39m=\u001b[39m value[\u001b[39m'\u001b[39m\u001b[39malert\u001b[39m\u001b[39m'\u001b[39m]\u001b[39m.\u001b[39mget(\u001b[39m'\u001b[39m\u001b[39mtext\u001b[39m\u001b[39m'\u001b[39m)\n\u001b[0;32m    241\u001b[0m     \u001b[39mraise\u001b[39;00m exception_class(message, screen, stacktrace, alert_text)\n\u001b[1;32m--> 242\u001b[0m \u001b[39mraise\u001b[39;00m exception_class(message, screen, stacktrace)\n",
      "\u001b[1;31mElementNotInteractableException\u001b[0m: Message: element not interactable\n  (Session info: chrome=114.0.5735.199)\n"
     ]
    }
   ],
   "source": [
    "from selenium import webdriver\n",
    "from selenium.webdriver.common.by import By\n",
    "import chromedriver_autoinstaller as ca\n",
    "\n",
    "import time, os, sys\n",
    "\n",
    "# site = 'https://www.naver.com'\n",
    "site = 'https://www.riss.kr'\n",
    "\n",
    "def ts(second : int):\n",
    "    time.sleep(second)\n",
    "\n",
    "# 웹사이트 오픈\n",
    "driver = webdriver.Chrome(ca.install())\n",
    "# driver = webdriver.Chrome()\n",
    "ts(2); driver.get(site)\n",
    "ts(2); driver.maximize_window()\n",
    "\n",
    "# 웹 사이트 제어하기\n",
    "main = driver.window_handles\n",
    "\n",
    "# if) 팦업창이 떠 있으면 전부 닫음\n",
    "for handle in main:\n",
    "    if handle != main[0]:\n",
    "        driver.switch_to.window(handle)\n",
    "        driver.close()\n",
    "        driver.switch_to.window(driver.window_handles[0])\n",
    "\n",
    "# 검색창에 검색어 넣기\n",
    "# driver.find_element(By.ID, )\n",
    "ts(2); driver.find_element(By.ID, 'query').send_keys('여름여행' + '\\n') # 찾는 내용(query) + \\n 엔터까지 같이 send\n",
    "ts(2); driver.find_element(By.LINK_TEXT, '학위논문').click() \n",
    "\n",
    "ts(5); driver.close()  ## 마지막에 추가해 주어 닫아준다."
   ]
  },
  {
   "attachments": {},
   "cell_type": "markdown",
   "metadata": {},
   "source": [
    "웨일브라우저로 실행했을 때, ca.install()을 해도 아무것도 리턴하지 않았다.  \n",
    "(정확히는 NoneType을 반환)\n",
    "> 이유는 크롬브라우저가 없어서(...)  \n",
    "\n",
    "<br>\n",
    "크롬을 설치 후 다시 실행해보니 잘 된다...앞으로는 주의하자\n",
    "\n",
    "```python\n",
    "import Chrome_autoinstaller as ca\n",
    "ca.install()\n",
    "\n",
    "## TypeError\n",
    "```"
   ]
  },
  {
   "cell_type": "code",
   "execution_count": 10,
   "metadata": {},
   "outputs": [
    {
     "ename": "ElementClickInterceptedException",
     "evalue": "Message: element click intercepted: Element <a href=\"#redirect\" onclick=\"javascript:goTopCate('bib_t',this);\">...</a> is not clickable at point (466, 36). Other element would receive the click: <div class=\"header\">...</div>\n  (Session info: chrome=114.0.5735.199)\n",
     "output_type": "error",
     "traceback": [
      "\u001b[1;31m---------------------------------------------------------------------------\u001b[0m",
      "\u001b[1;31mElementClickInterceptedException\u001b[0m          Traceback (most recent call last)",
      "Cell \u001b[1;32mIn[10], line 4\u001b[0m\n\u001b[0;32m      1\u001b[0m \u001b[39m# 검색창에 검색어 넣기\u001b[39;00m\n\u001b[0;32m      2\u001b[0m \u001b[39m# driver.find_element(By.ID, )\u001b[39;00m\n\u001b[0;32m      3\u001b[0m ts(\u001b[39m2\u001b[39m); driver\u001b[39m.\u001b[39mfind_element(By\u001b[39m.\u001b[39mID, \u001b[39m'\u001b[39m\u001b[39mquery\u001b[39m\u001b[39m'\u001b[39m)\u001b[39m.\u001b[39msend_keys(\u001b[39m'\u001b[39m\u001b[39m여름여행\u001b[39m\u001b[39m'\u001b[39m \u001b[39m+\u001b[39m \u001b[39m'\u001b[39m\u001b[39m\\n\u001b[39;00m\u001b[39m'\u001b[39m) \u001b[39m# 찾는 내용(query) + \\n 엔터까지 같이 send\u001b[39;00m\n\u001b[1;32m----> 4\u001b[0m ts(\u001b[39m2\u001b[39m); driver\u001b[39m.\u001b[39;49mfind_element(By\u001b[39m.\u001b[39;49mLINK_TEXT, \u001b[39m'\u001b[39;49m\u001b[39m학위논문\u001b[39;49m\u001b[39m'\u001b[39;49m)\u001b[39m.\u001b[39;49mclick() \n\u001b[0;32m      6\u001b[0m ts(\u001b[39m5\u001b[39m); driver\u001b[39m.\u001b[39mclose()\n",
      "File \u001b[1;32mc:\\Users\\jhuyk\\anaconda3\\lib\\site-packages\\selenium\\webdriver\\remote\\webelement.py:80\u001b[0m, in \u001b[0;36mWebElement.click\u001b[1;34m(self)\u001b[0m\n\u001b[0;32m     78\u001b[0m \u001b[39mdef\u001b[39;00m \u001b[39mclick\u001b[39m(\u001b[39mself\u001b[39m):\n\u001b[0;32m     79\u001b[0m     \u001b[39m\"\"\"Clicks the element.\"\"\"\u001b[39;00m\n\u001b[1;32m---> 80\u001b[0m     \u001b[39mself\u001b[39;49m\u001b[39m.\u001b[39;49m_execute(Command\u001b[39m.\u001b[39;49mCLICK_ELEMENT)\n",
      "File \u001b[1;32mc:\\Users\\jhuyk\\anaconda3\\lib\\site-packages\\selenium\\webdriver\\remote\\webelement.py:633\u001b[0m, in \u001b[0;36mWebElement._execute\u001b[1;34m(self, command, params)\u001b[0m\n\u001b[0;32m    631\u001b[0m     params \u001b[39m=\u001b[39m {}\n\u001b[0;32m    632\u001b[0m params[\u001b[39m'\u001b[39m\u001b[39mid\u001b[39m\u001b[39m'\u001b[39m] \u001b[39m=\u001b[39m \u001b[39mself\u001b[39m\u001b[39m.\u001b[39m_id\n\u001b[1;32m--> 633\u001b[0m \u001b[39mreturn\u001b[39;00m \u001b[39mself\u001b[39;49m\u001b[39m.\u001b[39;49m_parent\u001b[39m.\u001b[39;49mexecute(command, params)\n",
      "File \u001b[1;32mc:\\Users\\jhuyk\\anaconda3\\lib\\site-packages\\selenium\\webdriver\\remote\\webdriver.py:321\u001b[0m, in \u001b[0;36mWebDriver.execute\u001b[1;34m(self, driver_command, params)\u001b[0m\n\u001b[0;32m    319\u001b[0m response \u001b[39m=\u001b[39m \u001b[39mself\u001b[39m\u001b[39m.\u001b[39mcommand_executor\u001b[39m.\u001b[39mexecute(driver_command, params)\n\u001b[0;32m    320\u001b[0m \u001b[39mif\u001b[39;00m response:\n\u001b[1;32m--> 321\u001b[0m     \u001b[39mself\u001b[39;49m\u001b[39m.\u001b[39;49merror_handler\u001b[39m.\u001b[39;49mcheck_response(response)\n\u001b[0;32m    322\u001b[0m     response[\u001b[39m'\u001b[39m\u001b[39mvalue\u001b[39m\u001b[39m'\u001b[39m] \u001b[39m=\u001b[39m \u001b[39mself\u001b[39m\u001b[39m.\u001b[39m_unwrap_value(\n\u001b[0;32m    323\u001b[0m         response\u001b[39m.\u001b[39mget(\u001b[39m'\u001b[39m\u001b[39mvalue\u001b[39m\u001b[39m'\u001b[39m, \u001b[39mNone\u001b[39;00m))\n\u001b[0;32m    324\u001b[0m     \u001b[39mreturn\u001b[39;00m response\n",
      "File \u001b[1;32mc:\\Users\\jhuyk\\anaconda3\\lib\\site-packages\\selenium\\webdriver\\remote\\errorhandler.py:242\u001b[0m, in \u001b[0;36mErrorHandler.check_response\u001b[1;34m(self, response)\u001b[0m\n\u001b[0;32m    240\u001b[0m         alert_text \u001b[39m=\u001b[39m value[\u001b[39m'\u001b[39m\u001b[39malert\u001b[39m\u001b[39m'\u001b[39m]\u001b[39m.\u001b[39mget(\u001b[39m'\u001b[39m\u001b[39mtext\u001b[39m\u001b[39m'\u001b[39m)\n\u001b[0;32m    241\u001b[0m     \u001b[39mraise\u001b[39;00m exception_class(message, screen, stacktrace, alert_text)\n\u001b[1;32m--> 242\u001b[0m \u001b[39mraise\u001b[39;00m exception_class(message, screen, stacktrace)\n",
      "\u001b[1;31mElementClickInterceptedException\u001b[0m: Message: element click intercepted: Element <a href=\"#redirect\" onclick=\"javascript:goTopCate('bib_t',this);\">...</a> is not clickable at point (466, 36). Other element would receive the click: <div class=\"header\">...</div>\n  (Session info: chrome=114.0.5735.199)\n"
     ]
    }
   ],
   "source": [
    "# 검색창에 검색어 넣기\n",
    "# driver.find_element(By.ID, )\n",
    "ts(2); driver.find_element(By.ID, 'query').send_keys('여름여행' + '\\n') # 찾는 내용(query) + \\n 엔터까지 같이 send\n",
    "ts(2); driver.find_element(By.LINK_TEXT, '학위논문').click() \n",
    "\n",
    "ts(5); driver.close()  ## 마지막에 추가해 주어 닫아준다."
   ]
  },
  {
   "cell_type": "code",
   "execution_count": null,
   "metadata": {},
   "outputs": [],
   "source": [
    "from selenium.webdriver.common.keys import Keys\n",
    "\n",
    "ts(2); driver.find_element(By.ID, 'query').send_keys('여름여행' + '\\n') # 찾는 내용(query) + \\n 엔터까지 같이 send\n",
    "ts(2); driver.find_element(By.LINK_TEXT, '학위논문').click() \n",
    "\n",
    "ts(5); driver.close()  ## 마지막에 추가해 주어 닫아준다."
   ]
  },
  {
   "cell_type": "code",
   "execution_count": 6,
   "metadata": {},
   "outputs": [],
   "source": [
    "# 실행된 드라이버를 닫아줌.\n",
    "ts(5); driver.close()"
   ]
  }
 ],
 "metadata": {
  "kernelspec": {
   "display_name": "base",
   "language": "python",
   "name": "python3"
  },
  "language_info": {
   "codemirror_mode": {
    "name": "ipython",
    "version": 3
   },
   "file_extension": ".py",
   "mimetype": "text/x-python",
   "name": "python",
   "nbconvert_exporter": "python",
   "pygments_lexer": "ipython3",
   "version": "3.10.9"
  },
  "orig_nbformat": 4
 },
 "nbformat": 4,
 "nbformat_minor": 2
}

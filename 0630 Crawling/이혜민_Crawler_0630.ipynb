{
 "cells": [
  {
   "cell_type": "code",
   "execution_count": 9,
   "id": "bdc52fce",
   "metadata": {},
   "outputs": [],
   "source": [
    "from selenium import webdriver\n",
    "import time, os, sys"
   ]
  },
  {
   "cell_type": "code",
   "execution_count": 16,
   "id": "00a957c5",
   "metadata": {},
   "outputs": [],
   "source": [
    "def ts(x):\n",
    "    time.sleep(x)\n",
    "\n",
    "driver = webdriver.Chrome()\n",
    "\n",
    "ts(2); driver.get('http://www.riss.kr/index.do')\n",
    "ts(2); driver.maximize_window()"
   ]
  },
  {
   "cell_type": "code",
   "execution_count": 17,
   "id": "96719407",
   "metadata": {},
   "outputs": [],
   "source": [
    "main = driver.window_handles \n",
    "\n",
    "for handle in main: \n",
    "    if handle != main[0]: \n",
    "        driver.switch_to.window(handle) \n",
    "        driver.close()\n",
    "        \n",
    "driver.switch_to.window(driver.window_handles[0])"
   ]
  },
  {
   "cell_type": "markdown",
   "id": "ca9907b9",
   "metadata": {},
   "source": [
    "검색창에 검색어 넣기"
   ]
  },
  {
   "cell_type": "code",
   "execution_count": 18,
   "id": "e0b08302",
   "metadata": {},
   "outputs": [],
   "source": [
    "from selenium.webdriver.common.by import By"
   ]
  },
  {
   "cell_type": "code",
   "execution_count": 19,
   "id": "bd34e27d",
   "metadata": {},
   "outputs": [
    {
     "name": "stdout",
     "output_type": "stream",
     "text": [
      "검색할 테마: 여름여행\n"
     ]
    }
   ],
   "source": [
    "k = input(\"검색할 테마: \")"
   ]
  },
  {
   "cell_type": "code",
   "execution_count": 20,
   "id": "4b20eeda",
   "metadata": {},
   "outputs": [],
   "source": [
    "ts(2); driver.find_element(By.ID, 'query').send_keys(k)  # .send_keys('여름여행'+'\\n')해도 됨"
   ]
  },
  {
   "cell_type": "code",
   "execution_count": 21,
   "id": "ad492634",
   "metadata": {},
   "outputs": [],
   "source": [
    "ts(2); driver.find_element(By.XPATH, '//*[@id=\"in\"]/div/button').click()\n",
    "# ts(2); driver.find_element(By.LINK_TEXT, '학위논문').click()"
   ]
  },
  {
   "cell_type": "code",
   "execution_count": 22,
   "id": "239c9e29",
   "metadata": {},
   "outputs": [],
   "source": [
    "ts(2); driver.find_element(By.XPATH, '//*[@id=\"tabMenu\"]/ul/li/div/ul/li[3]/a/span').click()"
   ]
  },
  {
   "cell_type": "code",
   "execution_count": null,
   "id": "428c19cc",
   "metadata": {},
   "outputs": [],
   "source": []
  }
 ],
 "metadata": {
  "kernelspec": {
   "display_name": "Python 3 (ipykernel)",
   "language": "python",
   "name": "python3"
  },
  "language_info": {
   "codemirror_mode": {
    "name": "ipython",
    "version": 3
   },
   "file_extension": ".py",
   "mimetype": "text/x-python",
   "name": "python",
   "nbconvert_exporter": "python",
   "pygments_lexer": "ipython3",
   "version": "3.9.12"
  }
 },
 "nbformat": 4,
 "nbformat_minor": 5
}

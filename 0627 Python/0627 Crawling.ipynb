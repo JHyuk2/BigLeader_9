{
 "cells": [
  {
   "cell_type": "code",
   "execution_count": null,
   "id": "ba5c0609",
   "metadata": {},
   "outputs": [],
   "source": [
    "# Module import\n",
    "from bs4 import BeautifulSoup\n",
    "from urllib.request import urlopen"
   ]
  },
  {
   "cell_type": "code",
   "execution_count": null,
   "id": "47ccbaae",
   "metadata": {},
   "outputs": [],
   "source": [
    "# 1) 주소 가져오기\n",
    "url ="
   ]
  },
  {
   "cell_type": "code",
   "execution_count": null,
   "id": "ef7e8a87",
   "metadata": {},
   "outputs": [],
   "source": []
  }
 ],
 "metadata": {
  "kernelspec": {
   "display_name": "Python 3 (ipykernel)",
   "language": "python",
   "name": "python3"
  },
  "language_info": {
   "codemirror_mode": {
    "name": "ipython",
    "version": 3
   },
   "file_extension": ".py",
   "mimetype": "text/x-python",
   "name": "python",
   "nbconvert_exporter": "python",
   "pygments_lexer": "ipython3",
   "version": "3.10.9"
  }
 },
 "nbformat": 4,
 "nbformat_minor": 5
}

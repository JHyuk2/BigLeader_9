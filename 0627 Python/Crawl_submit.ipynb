{
 "cells": [
  {
   "cell_type": "code",
   "execution_count": 1,
   "id": "d17c359b",
   "metadata": {},
   "outputs": [],
   "source": [
    "from selenium import webdriver  \n",
    "from selenium.webdriver.common.by import By #이거 Seleminum 최신 버전에서 By import 안하면 Err "
   ]
  },
  {
   "cell_type": "code",
   "execution_count": 2,
   "id": "2c8b9078",
   "metadata": {},
   "outputs": [],
   "source": [
    "driver = webdriver.Chrome() #webDriver 버전 업데이트 되면서 같은 폴더 안의 Driver는 ()비워야 실행됨\n",
    "driver.get(\"http://www.opinet.co.kr\") #\"\"안에 원하는 주소에 대입"
   ]
  },
  {
   "cell_type": "code",
   "execution_count": 3,
   "id": "8845fac2",
   "metadata": {},
   "outputs": [],
   "source": [
    "driver.get(\"http://www.opinet.co.kr/searRgSelect.do\")"
   ]
  },
  {
   "cell_type": "code",
   "execution_count": 4,
   "id": "f658f521",
   "metadata": {},
   "outputs": [],
   "source": [
    "area = driver.find_element(By.XPATH, '//*[@id=\"SIDO_NM0\"]') #여기서부터는 원하는 사이트의 태그를 참고"
   ]
  },
  {
   "cell_type": "code",
   "execution_count": 5,
   "id": "4290a1ea",
   "metadata": {},
   "outputs": [],
   "source": [
    "area.send_keys('서울')"
   ]
  },
  {
   "cell_type": "code",
   "execution_count": 6,
   "id": "ad22501f",
   "metadata": {},
   "outputs": [],
   "source": [
    "gu_list_raw = driver.find_element(By.XPATH, '//*[@id=\"SIGUNGU_NM0\"]')"
   ]
  },
  {
   "cell_type": "code",
   "execution_count": 7,
   "id": "bd11ff48",
   "metadata": {},
   "outputs": [],
   "source": [
    "gu_list = gu_list_raw.find_elements(By.TAG_NAME, 'option')"
   ]
  },
  {
   "cell_type": "code",
   "execution_count": 8,
   "id": "82d96e65",
   "metadata": {},
   "outputs": [
    {
     "data": {
      "text/plain": [
       "['강남구',\n",
       " '강동구',\n",
       " '강북구',\n",
       " '강서구',\n",
       " '관악구',\n",
       " '광진구',\n",
       " '구로구',\n",
       " '금천구',\n",
       " '노원구',\n",
       " '도봉구',\n",
       " '동대문구',\n",
       " '동작구',\n",
       " '마포구',\n",
       " '서대문구',\n",
       " '서초구',\n",
       " '성동구',\n",
       " '성북구',\n",
       " '송파구',\n",
       " '양천구',\n",
       " '영등포구',\n",
       " '용산구',\n",
       " '은평구',\n",
       " '종로구',\n",
       " '중구',\n",
       " '중랑구']"
      ]
     },
     "execution_count": 8,
     "metadata": {},
     "output_type": "execute_result"
    }
   ],
   "source": [
    "gu_names = [option.get_attribute('value') for option in gu_list] #구 이름별로 뽑아내기\n",
    "gu_names.remove('')\n",
    "gu_names"
   ]
  },
  {
   "cell_type": "code",
   "execution_count": 9,
   "id": "6417bcbe",
   "metadata": {},
   "outputs": [],
   "source": [
    "element = driver.find_element(By.ID, 'SIGUNGU_NM0')\n",
    "element.send_keys(gu_names[0])"
   ]
  },
  {
   "cell_type": "code",
   "execution_count": 10,
   "id": "af8658ba",
   "metadata": {},
   "outputs": [],
   "source": [
    "xpath ='''//*[@id=\"searRgSelect\"]/span'''\n",
    "element_sel_gu = driver.find_element(By.XPATH, xpath).click()"
   ]
  },
  {
   "cell_type": "code",
   "execution_count": 11,
   "id": "b18eb07c",
   "metadata": {},
   "outputs": [],
   "source": [
    "xpath = '''//*[@id=\"glopopd_excel\"]/span'''\n",
    "element_get_excel = driver.find_element(By.XPATH, xpath).click()"
   ]
  },
  {
   "cell_type": "code",
   "execution_count": 12,
   "id": "fbf689fa",
   "metadata": {},
   "outputs": [
    {
     "name": "stderr",
     "output_type": "stream",
     "text": [
      "C:\\Users\\nahyu\\AppData\\Local\\Temp\\ipykernel_6276\\1185476956.py:4: TqdmDeprecationWarning: This function will be removed in tqdm==5.0.0\n",
      "Please use `tqdm.notebook.tqdm` instead of `tqdm.tqdm_notebook`\n",
      "  for gu in tqdm_notebook(gu_names):\n"
     ]
    },
    {
     "data": {
      "application/vnd.jupyter.widget-view+json": {
       "model_id": "abe1515bf51e425a983e25648bde20c6",
       "version_major": 2,
       "version_minor": 0
      },
      "text/plain": [
       "  0%|          | 0/25 [00:00<?, ?it/s]"
      ]
     },
     "metadata": {},
     "output_type": "display_data"
    }
   ],
   "source": [
    "import time\n",
    "from tqdm import tqdm_notebook\n",
    "# 반복문을 이용하여 모든 구 엑셀파일 다운로드 진행\n",
    "for gu in tqdm_notebook(gu_names):\n",
    "    element = driver.find_element(By.ID, 'SIGUNGU_NM0')\n",
    "    element.send_keys(gu)\n",
    "    time.sleep(2)# 데이터 획득 위한 지연 시간\n",
    "    xpath ='''//*[@id=\"searRgSelect\"]/span'''\n",
    "    element_sel_gu = driver.find_element(By.XPATH, xpath).click()\n",
    "    time.sleep(1)\n",
    "    xpath = '''//*[@id=\"glopopd_excel\"]/span'''\n",
    "    element_get_excel = driver.find_element(By.XPATH, xpath).click()\n",
    "    time.sleep(1) "
   ]
  },
  {
   "cell_type": "code",
   "execution_count": 1,
   "id": "eed2e3ed",
   "metadata": {},
   "outputs": [],
   "source": [
    "#여기서 커널이 한번 죽어서 재시작함\n",
    "import pandas as pd\n",
    "from glob import glob"
   ]
  },
  {
   "cell_type": "code",
   "execution_count": 2,
   "id": "e2a6f348",
   "metadata": {},
   "outputs": [
    {
     "data": {
      "text/plain": [
       "['data\\\\지역_위치별(주유소) (1).xls',\n",
       " 'data\\\\지역_위치별(주유소) (10).xls',\n",
       " 'data\\\\지역_위치별(주유소) (11).xls',\n",
       " 'data\\\\지역_위치별(주유소) (12).xls',\n",
       " 'data\\\\지역_위치별(주유소) (13).xls',\n",
       " 'data\\\\지역_위치별(주유소) (14).xls',\n",
       " 'data\\\\지역_위치별(주유소) (15).xls',\n",
       " 'data\\\\지역_위치별(주유소) (16).xls',\n",
       " 'data\\\\지역_위치별(주유소) (17).xls',\n",
       " 'data\\\\지역_위치별(주유소) (18).xls',\n",
       " 'data\\\\지역_위치별(주유소) (2).xls',\n",
       " 'data\\\\지역_위치별(주유소) (3).xls',\n",
       " 'data\\\\지역_위치별(주유소) (4).xls',\n",
       " 'data\\\\지역_위치별(주유소) (5).xls',\n",
       " 'data\\\\지역_위치별(주유소) (6).xls',\n",
       " 'data\\\\지역_위치별(주유소) (7).xls',\n",
       " 'data\\\\지역_위치별(주유소) (8).xls',\n",
       " 'data\\\\지역_위치별(주유소) (9).xls',\n",
       " 'data\\\\지역_위치별(주유소).xls']"
      ]
     },
     "execution_count": 2,
     "metadata": {},
     "output_type": "execute_result"
    }
   ],
   "source": [
    "#station_files 변수에 각 엑셀 파일의 경로와 이름을 리스트로 저장\n",
    "stations_files = glob('data/지역*.xls')\n",
    "stations_files"
   ]
  },
  {
   "cell_type": "code",
   "execution_count": 3,
   "id": "6a11970e",
   "metadata": {},
   "outputs": [],
   "source": [
    "import xlrd"
   ]
  },
  {
   "cell_type": "code",
   "execution_count": 4,
   "id": "cf6d1eb7",
   "metadata": {},
   "outputs": [],
   "source": [
    "# concat 명령으로 합쳐본다.\n",
    "tmp_raw = []\n",
    "for file_name in stations_files:\n",
    "    tmp = pd.read_excel(file_name, header=2)\n",
    "    tmp_raw.append(tmp)    \n",
    "station_raw = pd.concat(tmp_raw)"
   ]
  },
  {
   "cell_type": "code",
   "execution_count": 5,
   "id": "b4dd1096",
   "metadata": {},
   "outputs": [
    {
     "name": "stdout",
     "output_type": "stream",
     "text": [
      "<class 'pandas.core.frame.DataFrame'>\n",
      "Index: 314 entries, 0 to 33\n",
      "Data columns (total 10 columns):\n",
      " #   Column  Non-Null Count  Dtype \n",
      "---  ------  --------------  ----- \n",
      " 0   지역      314 non-null    object\n",
      " 1   상호      314 non-null    object\n",
      " 2   주소      314 non-null    object\n",
      " 3   상표      314 non-null    object\n",
      " 4   전화번호    314 non-null    object\n",
      " 5   셀프여부    314 non-null    object\n",
      " 6   고급휘발유   314 non-null    object\n",
      " 7   휘발유     314 non-null    int64 \n",
      " 8   경유      314 non-null    int64 \n",
      " 9   실내등유    314 non-null    object\n",
      "dtypes: int64(2), object(8)\n",
      "memory usage: 27.0+ KB\n"
     ]
    }
   ],
   "source": [
    "station_raw.info()"
   ]
  },
  {
   "cell_type": "code",
   "execution_count": 6,
   "id": "81142b97",
   "metadata": {},
   "outputs": [
    {
     "data": {
      "text/html": [
       "<div>\n",
       "<style scoped>\n",
       "    .dataframe tbody tr th:only-of-type {\n",
       "        vertical-align: middle;\n",
       "    }\n",
       "\n",
       "    .dataframe tbody tr th {\n",
       "        vertical-align: top;\n",
       "    }\n",
       "\n",
       "    .dataframe thead th {\n",
       "        text-align: right;\n",
       "    }\n",
       "</style>\n",
       "<table border=\"1\" class=\"dataframe\">\n",
       "  <thead>\n",
       "    <tr style=\"text-align: right;\">\n",
       "      <th></th>\n",
       "      <th>지역</th>\n",
       "      <th>상호</th>\n",
       "      <th>주소</th>\n",
       "      <th>상표</th>\n",
       "      <th>전화번호</th>\n",
       "      <th>셀프여부</th>\n",
       "      <th>고급휘발유</th>\n",
       "      <th>휘발유</th>\n",
       "      <th>경유</th>\n",
       "      <th>실내등유</th>\n",
       "    </tr>\n",
       "  </thead>\n",
       "  <tbody>\n",
       "    <tr>\n",
       "      <th>0</th>\n",
       "      <td>서울특별시</td>\n",
       "      <td>재건에너지 재정제2주유소 고속셀프지점</td>\n",
       "      <td>서울특별시 강동구  천호대로 1246 (둔촌제2동)</td>\n",
       "      <td>현대오일뱅크</td>\n",
       "      <td>02-487-2030</td>\n",
       "      <td>Y</td>\n",
       "      <td>-</td>\n",
       "      <td>1543</td>\n",
       "      <td>1393</td>\n",
       "      <td>-</td>\n",
       "    </tr>\n",
       "    <tr>\n",
       "      <th>1</th>\n",
       "      <td>서울특별시</td>\n",
       "      <td>구천면주유소</td>\n",
       "      <td>서울 강동구 구천면로 357 (암사동)</td>\n",
       "      <td>현대오일뱅크</td>\n",
       "      <td>02-441-0536</td>\n",
       "      <td>N</td>\n",
       "      <td>-</td>\n",
       "      <td>1584</td>\n",
       "      <td>1465</td>\n",
       "      <td>-</td>\n",
       "    </tr>\n",
       "    <tr>\n",
       "      <th>2</th>\n",
       "      <td>서울특별시</td>\n",
       "      <td>(주)삼표에너지 고덕주유소</td>\n",
       "      <td>서울 강동구 고덕로 39 (암사동)</td>\n",
       "      <td>GS칼텍스</td>\n",
       "      <td>02-441-3327</td>\n",
       "      <td>Y</td>\n",
       "      <td>1795</td>\n",
       "      <td>1595</td>\n",
       "      <td>1475</td>\n",
       "      <td>1585</td>\n",
       "    </tr>\n",
       "    <tr>\n",
       "      <th>3</th>\n",
       "      <td>서울특별시</td>\n",
       "      <td>(주)소모 신월주유소</td>\n",
       "      <td>서울 강동구 양재대로 1323 (성내동)</td>\n",
       "      <td>GS칼텍스</td>\n",
       "      <td>02-6956-6674</td>\n",
       "      <td>Y</td>\n",
       "      <td>1846</td>\n",
       "      <td>1596</td>\n",
       "      <td>1478</td>\n",
       "      <td>1590</td>\n",
       "    </tr>\n",
       "    <tr>\n",
       "      <th>4</th>\n",
       "      <td>서울특별시</td>\n",
       "      <td>대성석유(주)길동주유소</td>\n",
       "      <td>서울 강동구 천호대로 1168</td>\n",
       "      <td>GS칼텍스</td>\n",
       "      <td>02-474-7222</td>\n",
       "      <td>N</td>\n",
       "      <td>1855</td>\n",
       "      <td>1596</td>\n",
       "      <td>1478</td>\n",
       "      <td>1600</td>\n",
       "    </tr>\n",
       "  </tbody>\n",
       "</table>\n",
       "</div>"
      ],
      "text/plain": [
       "      지역                    상호                            주소      상표   \n",
       "0  서울특별시  재건에너지 재정제2주유소 고속셀프지점  서울특별시 강동구  천호대로 1246 (둔촌제2동)  현대오일뱅크  \\\n",
       "1  서울특별시                구천면주유소         서울 강동구 구천면로 357 (암사동)  현대오일뱅크   \n",
       "2  서울특별시        (주)삼표에너지 고덕주유소           서울 강동구 고덕로 39 (암사동)   GS칼텍스   \n",
       "3  서울특별시           (주)소모 신월주유소        서울 강동구 양재대로 1323 (성내동)   GS칼텍스   \n",
       "4  서울특별시          대성석유(주)길동주유소              서울 강동구 천호대로 1168   GS칼텍스   \n",
       "\n",
       "           전화번호 셀프여부 고급휘발유   휘발유    경유  실내등유  \n",
       "0   02-487-2030    Y     -  1543  1393     -  \n",
       "1   02-441-0536    N     -  1584  1465     -  \n",
       "2   02-441-3327    Y  1795  1595  1475  1585  \n",
       "3  02-6956-6674    Y  1846  1596  1478  1590  \n",
       "4   02-474-7222    N  1855  1596  1478  1600  "
      ]
     },
     "execution_count": 6,
     "metadata": {},
     "output_type": "execute_result"
    }
   ],
   "source": [
    "station_raw.head()"
   ]
  },
  {
   "cell_type": "code",
   "execution_count": 7,
   "id": "d987696a",
   "metadata": {},
   "outputs": [
    {
     "data": {
      "text/html": [
       "<div>\n",
       "<style scoped>\n",
       "    .dataframe tbody tr th:only-of-type {\n",
       "        vertical-align: middle;\n",
       "    }\n",
       "\n",
       "    .dataframe tbody tr th {\n",
       "        vertical-align: top;\n",
       "    }\n",
       "\n",
       "    .dataframe thead th {\n",
       "        text-align: right;\n",
       "    }\n",
       "</style>\n",
       "<table border=\"1\" class=\"dataframe\">\n",
       "  <thead>\n",
       "    <tr style=\"text-align: right;\">\n",
       "      <th></th>\n",
       "      <th>Oil_store</th>\n",
       "      <th>주소</th>\n",
       "      <th>가격</th>\n",
       "      <th>셀프</th>\n",
       "      <th>상표</th>\n",
       "    </tr>\n",
       "  </thead>\n",
       "  <tbody>\n",
       "    <tr>\n",
       "      <th>0</th>\n",
       "      <td>재건에너지 재정제2주유소 고속셀프지점</td>\n",
       "      <td>서울특별시 강동구  천호대로 1246 (둔촌제2동)</td>\n",
       "      <td>1543</td>\n",
       "      <td>Y</td>\n",
       "      <td>현대오일뱅크</td>\n",
       "    </tr>\n",
       "    <tr>\n",
       "      <th>1</th>\n",
       "      <td>구천면주유소</td>\n",
       "      <td>서울 강동구 구천면로 357 (암사동)</td>\n",
       "      <td>1584</td>\n",
       "      <td>N</td>\n",
       "      <td>현대오일뱅크</td>\n",
       "    </tr>\n",
       "    <tr>\n",
       "      <th>2</th>\n",
       "      <td>(주)삼표에너지 고덕주유소</td>\n",
       "      <td>서울 강동구 고덕로 39 (암사동)</td>\n",
       "      <td>1595</td>\n",
       "      <td>Y</td>\n",
       "      <td>GS칼텍스</td>\n",
       "    </tr>\n",
       "    <tr>\n",
       "      <th>3</th>\n",
       "      <td>(주)소모 신월주유소</td>\n",
       "      <td>서울 강동구 양재대로 1323 (성내동)</td>\n",
       "      <td>1596</td>\n",
       "      <td>Y</td>\n",
       "      <td>GS칼텍스</td>\n",
       "    </tr>\n",
       "    <tr>\n",
       "      <th>4</th>\n",
       "      <td>대성석유(주)길동주유소</td>\n",
       "      <td>서울 강동구 천호대로 1168</td>\n",
       "      <td>1596</td>\n",
       "      <td>N</td>\n",
       "      <td>GS칼텍스</td>\n",
       "    </tr>\n",
       "  </tbody>\n",
       "</table>\n",
       "</div>"
      ],
      "text/plain": [
       "              Oil_store                            주소    가격 셀프      상표\n",
       "0  재건에너지 재정제2주유소 고속셀프지점  서울특별시 강동구  천호대로 1246 (둔촌제2동)  1543  Y  현대오일뱅크\n",
       "1                구천면주유소         서울 강동구 구천면로 357 (암사동)  1584  N  현대오일뱅크\n",
       "2        (주)삼표에너지 고덕주유소           서울 강동구 고덕로 39 (암사동)  1595  Y   GS칼텍스\n",
       "3           (주)소모 신월주유소        서울 강동구 양재대로 1323 (성내동)  1596  Y   GS칼텍스\n",
       "4          대성석유(주)길동주유소              서울 강동구 천호대로 1168  1596  N   GS칼텍스"
      ]
     },
     "execution_count": 7,
     "metadata": {},
     "output_type": "execute_result"
    }
   ],
   "source": [
    "# 휘발유 데이터 저장.\n",
    "stations = pd.DataFrame({'Oil_store': station_raw['상호'],\n",
    "                        '주소': station_raw['주소'],\n",
    "                        '가격': station_raw['휘발유'],\n",
    "                        '셀프': station_raw['셀프여부'],\n",
    "                        '상표': station_raw['상표']\n",
    "})\n",
    "stations.head()"
   ]
  },
  {
   "cell_type": "code",
   "execution_count": 8,
   "id": "763395db",
   "metadata": {},
   "outputs": [
    {
     "data": {
      "text/html": [
       "<div>\n",
       "<style scoped>\n",
       "    .dataframe tbody tr th:only-of-type {\n",
       "        vertical-align: middle;\n",
       "    }\n",
       "\n",
       "    .dataframe tbody tr th {\n",
       "        vertical-align: top;\n",
       "    }\n",
       "\n",
       "    .dataframe thead th {\n",
       "        text-align: right;\n",
       "    }\n",
       "</style>\n",
       "<table border=\"1\" class=\"dataframe\">\n",
       "  <thead>\n",
       "    <tr style=\"text-align: right;\">\n",
       "      <th></th>\n",
       "      <th>Oil_store</th>\n",
       "      <th>주소</th>\n",
       "      <th>가격</th>\n",
       "      <th>셀프</th>\n",
       "      <th>상표</th>\n",
       "      <th>구</th>\n",
       "    </tr>\n",
       "  </thead>\n",
       "  <tbody>\n",
       "    <tr>\n",
       "      <th>0</th>\n",
       "      <td>재건에너지 재정제2주유소 고속셀프지점</td>\n",
       "      <td>서울특별시 강동구  천호대로 1246 (둔촌제2동)</td>\n",
       "      <td>1543</td>\n",
       "      <td>Y</td>\n",
       "      <td>현대오일뱅크</td>\n",
       "      <td>강동구</td>\n",
       "    </tr>\n",
       "    <tr>\n",
       "      <th>1</th>\n",
       "      <td>구천면주유소</td>\n",
       "      <td>서울 강동구 구천면로 357 (암사동)</td>\n",
       "      <td>1584</td>\n",
       "      <td>N</td>\n",
       "      <td>현대오일뱅크</td>\n",
       "      <td>강동구</td>\n",
       "    </tr>\n",
       "    <tr>\n",
       "      <th>2</th>\n",
       "      <td>(주)삼표에너지 고덕주유소</td>\n",
       "      <td>서울 강동구 고덕로 39 (암사동)</td>\n",
       "      <td>1595</td>\n",
       "      <td>Y</td>\n",
       "      <td>GS칼텍스</td>\n",
       "      <td>강동구</td>\n",
       "    </tr>\n",
       "    <tr>\n",
       "      <th>3</th>\n",
       "      <td>(주)소모 신월주유소</td>\n",
       "      <td>서울 강동구 양재대로 1323 (성내동)</td>\n",
       "      <td>1596</td>\n",
       "      <td>Y</td>\n",
       "      <td>GS칼텍스</td>\n",
       "      <td>강동구</td>\n",
       "    </tr>\n",
       "    <tr>\n",
       "      <th>4</th>\n",
       "      <td>대성석유(주)길동주유소</td>\n",
       "      <td>서울 강동구 천호대로 1168</td>\n",
       "      <td>1596</td>\n",
       "      <td>N</td>\n",
       "      <td>GS칼텍스</td>\n",
       "      <td>강동구</td>\n",
       "    </tr>\n",
       "  </tbody>\n",
       "</table>\n",
       "</div>"
      ],
      "text/plain": [
       "              Oil_store                            주소    가격 셀프      상표    구\n",
       "0  재건에너지 재정제2주유소 고속셀프지점  서울특별시 강동구  천호대로 1246 (둔촌제2동)  1543  Y  현대오일뱅크  강동구\n",
       "1                구천면주유소         서울 강동구 구천면로 357 (암사동)  1584  N  현대오일뱅크  강동구\n",
       "2        (주)삼표에너지 고덕주유소           서울 강동구 고덕로 39 (암사동)  1595  Y   GS칼텍스  강동구\n",
       "3           (주)소모 신월주유소        서울 강동구 양재대로 1323 (성내동)  1596  Y   GS칼텍스  강동구\n",
       "4          대성석유(주)길동주유소              서울 강동구 천호대로 1168  1596  N   GS칼텍스  강동구"
      ]
     },
     "execution_count": 8,
     "metadata": {},
     "output_type": "execute_result"
    }
   ],
   "source": [
    "# 구 이름만 추출\n",
    "stations['구'] = [eachAddress.split()[1] for eachAddress in stations['주소']]\n",
    "stations.head()\n"
   ]
  },
  {
   "cell_type": "code",
   "execution_count": 9,
   "id": "3a8887e7",
   "metadata": {},
   "outputs": [
    {
     "data": {
      "text/plain": [
       "array([1543, 1584, 1595, 1596, 1605, 1629, 1630, 1631, 1655, 1695, 1799,\n",
       "       1948, 1535, 1545, 1555, 1578, 1585, 1586, 1597, 1625, 1693, 1698,\n",
       "       1745, 1759, 1893, 1945, 1998, 2170, 1507, 1509, 1515, 1529, 1530,\n",
       "       1539, 1549, 1554, 1563, 1574, 1575, 1577, 1579, 1497, 1512, 1514,\n",
       "       1553, 1567, 1587, 1592, 1598, 1599, 1617, 1699, 1513, 1540, 1565,\n",
       "       1570, 1593, 1619, 1895, 1898, 2050, 2110, 2199, 1798, 1995, 1999,\n",
       "       2019, 2021, 2195, 2217, 2585, 1495, 1524, 1534, 1537, 1544, 1564,\n",
       "       1568, 1648, 1694, 1730, 2075, 2168, 2240, 2250, 1665, 1819, 1938,\n",
       "       2246, 2359, 2595, 1559, 1518, 1519, 1548, 1627, 1566, 1589, 1594,\n",
       "       1604, 1696, 1718, 1556, 1657, 1658, 1757, 1581, 1687, 2159, 1491,\n",
       "       1547, 1561, 1527, 1640, 1560, 1609, 1765, 1569, 1588, 1624, 1614,\n",
       "       1615, 1660, 1684, 1697, 1758, 1840, 1908, 1939, 1940, 2089, 2128,\n",
       "       2176, 2188, 2275, 2355, 2398, 2578], dtype=int64)"
      ]
     },
     "execution_count": 9,
     "metadata": {},
     "output_type": "execute_result"
    }
   ],
   "source": [
    "# unique() 이용해서 데이터 검사 수행\n",
    "stations['가격'].unique() #가격에 '-'가 있을 수 있으니 확인"
   ]
  },
  {
   "cell_type": "code",
   "execution_count": 10,
   "id": "935532d2",
   "metadata": {},
   "outputs": [
    {
     "data": {
      "text/plain": [
       "array(['강동구', '성동구', '성북구', '양천구', '영등포구', '용산구', '은평구', '종로구', '중구',\n",
       "       '중랑구', '강북구', '관악구', '광진구', '구로구', '도봉구', '동대문구', '동작구', '서대문구',\n",
       "       '강남구'], dtype=object)"
      ]
     },
     "execution_count": 10,
     "metadata": {},
     "output_type": "execute_result"
    }
   ],
   "source": [
    "stations['구'].unique()#'구'에도 결측stations[stations['치가 있을 수 있으니 확인"
   ]
  },
  {
   "cell_type": "code",
   "execution_count": 11,
   "id": "f252d774",
   "metadata": {},
   "outputs": [],
   "source": [
    "# 가격 float 형 변환.\n",
    "stations['가격'] = [float(value) for value in \n",
    "stations['가격']]"
   ]
  },
  {
   "cell_type": "code",
   "execution_count": 12,
   "id": "41f41ff1",
   "metadata": {},
   "outputs": [
    {
     "name": "stdout",
     "output_type": "stream",
     "text": [
      "<class 'pandas.core.frame.DataFrame'>\n",
      "Index: 314 entries, 0 to 33\n",
      "Data columns (total 6 columns):\n",
      " #   Column     Non-Null Count  Dtype  \n",
      "---  ------     --------------  -----  \n",
      " 0   Oil_store  314 non-null    object \n",
      " 1   주소         314 non-null    object \n",
      " 2   가격         314 non-null    float64\n",
      " 3   셀프         314 non-null    object \n",
      " 4   상표         314 non-null    object \n",
      " 5   구          314 non-null    object \n",
      "dtypes: float64(1), object(5)\n",
      "memory usage: 17.2+ KB\n"
     ]
    }
   ],
   "source": [
    "stations.info()\n",
    "# reset_index 이용하여 index 재정의\n",
    "stations.reset_index(inplace=True)\n",
    "del stations['index']# 기존 인덱스 삭제"
   ]
  },
  {
   "cell_type": "code",
   "execution_count": 13,
   "id": "c8fa2ce6",
   "metadata": {},
   "outputs": [],
   "source": [
    "import matplotlib.pyplot as plt\n",
    "import seaborn as sns"
   ]
  },
  {
   "cell_type": "code",
   "execution_count": 14,
   "id": "29eb163a",
   "metadata": {},
   "outputs": [],
   "source": [
    "%matplotlib inline\n",
    "import platform\n",
    "path = 'c:/Windows/Fonts/malgun.ttf'\n",
    "from matplotlib import font_manager, rc\n",
    "if platform.system() == 'Darwin':\n",
    "    rc('font', family = 'AppleGothic')\n",
    "elif platform.system() == 'Windows':\n",
    "    font_name = font_manager.FontProperties(fname=path).get_name()\n",
    "    rc('font', family=font_name)\n",
    "else:\n",
    "    print('Unknown system... sorry~~~')"
   ]
  },
  {
   "cell_type": "code",
   "execution_count": 15,
   "id": "b4fd6466",
   "metadata": {},
   "outputs": [
    {
     "data": {
      "text/plain": [
       "<Axes: title={'center': '가격'}, xlabel='셀프'>"
      ]
     },
     "execution_count": 15,
     "metadata": {},
     "output_type": "execute_result"
    },
    {
     "data": {
      "image/png": "[encoded data removed]",
      "text/plain": [
       "<Figure size 1200x800 with 1 Axes>"
      ]
     },
     "metadata": {},
     "output_type": "display_data"
    }
   ],
   "source": [
    "stations.boxplot(column='가격', by='셀프', figsize=(12,8)) "
   ]
  },
  {
   "cell_type": "code",
   "execution_count": 16,
   "id": "f5b145d5",
   "metadata": {},
   "outputs": [
    {
     "data": {
      "image/png": "[encoded data removed]",
      "text/plain": [
       "<Figure size 1200x800 with 1 Axes>"
      ]
     },
     "metadata": {},
     "output_type": "display_data"
    }
   ],
   "source": [
    "plt.figure(figsize=(12,8))\n",
    "sns.boxplot(x='상표', y='가격', hue='셀프', data=stations, palette='Set3')\n",
    "plt.show()"
   ]
  },
  {
   "cell_type": "code",
   "execution_count": 17,
   "id": "47f89cb6",
   "metadata": {},
   "outputs": [
    {
     "name": "stderr",
     "output_type": "stream",
     "text": [
      "C:\\Users\\nahyu\\anaconda3\\envs\\gpu\\lib\\site-packages\\seaborn\\categorical.py:3544: UserWarning: 7.8% of the points cannot be placed; you may want to decrease the size of the markers or use stripplot.\n",
      "  warnings.warn(msg, UserWarning)\n"
     ]
    },
    {
     "data": {
      "image/png": "[encoded data removed]",
      "text/plain": [
       "<Figure size 1200x800 with 1 Axes>"
      ]
     },
     "metadata": {},
     "output_type": "display_data"
    }
   ],
   "source": [
    "plt.figure(figsize=(12,8))\n",
    "sns.boxplot(x='상표', y='가격', data=stations, palette='Set3')\n",
    "sns.swarmplot(x='상표', y='가격', data=stations, color='.6')\n",
    "plt.show()"
   ]
  }
 ],
 "metadata": {
  "kernelspec": {
   "display_name": "Python 3 (ipykernel)",
   "language": "python",
   "name": "python3"
  },
  "language_info": {
   "codemirror_mode": {
    "name": "ipython",
    "version": 3
   },
   "file_extension": ".py",
   "mimetype": "text/x-python",
   "name": "python",
   "nbconvert_exporter": "python",
   "pygments_lexer": "ipython3",
   "version": "3.10.9"
  }
 },
 "nbformat": 4,
 "nbformat_minor": 5
}

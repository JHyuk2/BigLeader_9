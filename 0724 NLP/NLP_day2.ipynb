{
  "nbformat": 4,
  "nbformat_minor": 0,
  "metadata": {
    "colab": {
      "provenance": []
    },
    "kernelspec": {
      "name": "python3",
      "display_name": "Python 3"
    },
    "language_info": {
      "name": "python"
    }
  },
  "cells": [
    {
      "cell_type": "code",
      "execution_count": null,
      "metadata": {
        "id": "6oBjOPQvZPRG"
      },
      "outputs": [],
      "source": [
        "import re"
      ]
    },
    {
      "cell_type": "code",
      "source": [
        "# re.함수명(패턴, 문자열)\n",
        "re.search('^Hello', 'Hello, world!') # Hello 로 시작하는 단어를 찾아줌."
      ],
      "metadata": {
        "colab": {
          "base_uri": "https://localhost:8080/"
        },
        "id": "W5iowuFvaIdm",
        "outputId": "4bdd7d8f-7638-45f3-c016-052acb46639c"
      },
      "execution_count": null,
      "outputs": [
        {
          "output_type": "execute_result",
          "data": {
            "text/plain": [
              "<re.Match object; span=(0, 5), match='Hello'>"
            ]
          },
          "metadata": {},
          "execution_count": 2
        }
      ]
    },
    {
      "cell_type": "code",
      "source": [
        "re.search('^Hello', 'Hi Hello, world!') # Hi 로 시작했기 때문에 return 값이 없음."
      ],
      "metadata": {
        "id": "Its3iSnka2-Y"
      },
      "execution_count": null,
      "outputs": []
    },
    {
      "cell_type": "code",
      "source": [
        "re.search('world!$', 'Hello, world') # world로 끝나는지를 판단"
      ],
      "metadata": {
        "id": "qw9px0-9a3TG"
      },
      "execution_count": null,
      "outputs": []
    },
    {
      "cell_type": "code",
      "source": [
        "re.match('hello|world', 'hello') # hello 또는 world가 있으면 return"
      ],
      "metadata": {
        "colab": {
          "base_uri": "https://localhost:8080/"
        },
        "id": "WGeP8aOXbB9h",
        "outputId": "a3bab51f-1fa8-4006-886d-528c8ced8b22"
      },
      "execution_count": null,
      "outputs": [
        {
          "output_type": "execute_result",
          "data": {
            "text/plain": [
              "<re.Match object; span=(0, 5), match='hello'>"
            ]
          },
          "metadata": {},
          "execution_count": 6
        }
      ]
    },
    {
      "cell_type": "code",
      "source": [
        "re.findall('[0-9]*', '1234') # 1234라는 문자열 속에 패턴이 있습니까?"
      ],
      "metadata": {
        "colab": {
          "base_uri": "https://localhost:8080/"
        },
        "id": "e6img5AXbKjs",
        "outputId": "4e5d571d-c569-4f4b-a767-ae5019fd2ad0"
      },
      "execution_count": null,
      "outputs": [
        {
          "output_type": "execute_result",
          "data": {
            "text/plain": [
              "['1234', '']"
            ]
          },
          "metadata": {},
          "execution_count": 8
        }
      ]
    },
    {
      "cell_type": "code",
      "source": [
        "re.findall('[0-9]+', '1234')"
      ],
      "metadata": {
        "colab": {
          "base_uri": "https://localhost:8080/"
        },
        "id": "JGLkd3ikbUQN",
        "outputId": "15c466c3-3058-4843-a067-8a501f2ef38c"
      },
      "execution_count": null,
      "outputs": [
        {
          "output_type": "execute_result",
          "data": {
            "text/plain": [
              "['1234']"
            ]
          },
          "metadata": {},
          "execution_count": 9
        }
      ]
    },
    {
      "cell_type": "code",
      "source": [
        "'''\n",
        "안녕하세요 오늘부터 함께 알고리즘 진행할 스터디방입니다.\n",
        "오늘부터 부담되지 않는 선에서 함께 스터디를 진행해보려고 합니다.\n",
        "\n",
        "'''\n",
        "\n",
        "# [] 한 문자\n",
        "# ex) [a] : a문자 의미, [ab] : a또는 b문자 의미\n",
        "# ex) [a-c] : a부터 c까지의 문자를 의미"
      ],
      "metadata": {
        "colab": {
          "base_uri": "https://localhost:8080/",
          "height": 54
        },
        "id": "Na3yZL2LbbdI",
        "outputId": "7bf09201-aa63-4924-8586-4606bdf3f79b"
      },
      "execution_count": null,
      "outputs": [
        {
          "output_type": "execute_result",
          "data": {
            "text/plain": [
              "'\\n안녕하세요 오늘부터 함께 알고리즘 진행할 스터디방입니다.\\n오늘부터 부담되지 않는 선에서 함께 스터디를 진행해보려고 합니다.\\n\\n'"
            ],
            "application/vnd.google.colaboratory.intrinsic+json": {
              "type": "string"
            }
          },
          "metadata": {},
          "execution_count": 10
        }
      ]
    },
    {
      "cell_type": "code",
      "source": [
        "re.match('[0-9]*', '1234') # 숫자가 0개 이상 존재하면 매치"
      ],
      "metadata": {
        "colab": {
          "base_uri": "https://localhost:8080/"
        },
        "id": "Y-JlPPUXcFZb",
        "outputId": "6a991c81-9284-4663-cc34-5b7ddaa40967"
      },
      "execution_count": null,
      "outputs": [
        {
          "output_type": "execute_result",
          "data": {
            "text/plain": [
              "<re.Match object; span=(0, 4), match='1234'>"
            ]
          },
          "metadata": {},
          "execution_count": 12
        }
      ]
    },
    {
      "cell_type": "code",
      "source": [
        "re.match('[0-5]*', '1234' )"
      ],
      "metadata": {
        "colab": {
          "base_uri": "https://localhost:8080/"
        },
        "id": "qeccC10qcIuG",
        "outputId": "776c1ff1-07bd-40ab-c60b-09517633b713"
      },
      "execution_count": null,
      "outputs": [
        {
          "output_type": "execute_result",
          "data": {
            "text/plain": [
              "<re.Match object; span=(0, 4), match='1234'>"
            ]
          },
          "metadata": {},
          "execution_count": 13
        }
      ]
    },
    {
      "cell_type": "code",
      "source": [
        "re.match('[5-9]*', '1234')"
      ],
      "metadata": {
        "colab": {
          "base_uri": "https://localhost:8080/"
        },
        "id": "6vwwTZkTcQSb",
        "outputId": "edb3699b-801d-4858-bc5c-8a8fd30de55e"
      },
      "execution_count": null,
      "outputs": [
        {
          "output_type": "execute_result",
          "data": {
            "text/plain": [
              "<re.Match object; span=(0, 0), match=''>"
            ]
          },
          "metadata": {},
          "execution_count": 14
        }
      ]
    },
    {
      "cell_type": "code",
      "source": [
        "re.match('[0-9a-zA-Zㄱ-ㅎ가-힣]*', 'ㅋㅋㅋ홍길동XYabc1234')"
      ],
      "metadata": {
        "colab": {
          "base_uri": "https://localhost:8080/"
        },
        "id": "pvTXbgCFcsIs",
        "outputId": "c221092f-07ea-4d2d-ba20-a5ddd4ff20f8"
      },
      "execution_count": null,
      "outputs": [
        {
          "output_type": "execute_result",
          "data": {
            "text/plain": [
              "<re.Match object; span=(0, 15), match='ㅋㅋㅋ홍길동XYabc1234'>"
            ]
          },
          "metadata": {},
          "execution_count": 15
        }
      ]
    },
    {
      "cell_type": "code",
      "source": [
        "re.match('[0-9]+', 'rk1234') # 맨 앞에서 일치하는게 아니면 return하지 않음. (그래서 잘 안씀)"
      ],
      "metadata": {
        "id": "3NrMyd9Zd1WG"
      },
      "execution_count": null,
      "outputs": []
    },
    {
      "cell_type": "code",
      "source": [
        "re.match('[0-9]+[가-힣]+[0-9]', '12가34')"
      ],
      "metadata": {
        "colab": {
          "base_uri": "https://localhost:8080/"
        },
        "id": "gDF_X00HfJ-T",
        "outputId": "8387c07d-245e-44c3-d8e5-b83d53bfde24"
      },
      "execution_count": null,
      "outputs": [
        {
          "output_type": "execute_result",
          "data": {
            "text/plain": [
              "<re.Match object; span=(0, 4), match='12가3'>"
            ]
          },
          "metadata": {},
          "execution_count": 20
        }
      ]
    },
    {
      "cell_type": "code",
      "source": [
        "re.match('[0-9]+[가-힣]+[0-9]+', '12가34')"
      ],
      "metadata": {
        "colab": {
          "base_uri": "https://localhost:8080/"
        },
        "id": "iqNKJqnqfrg4",
        "outputId": "eb1e3173-df7b-4d2a-e87b-8c0346660509"
      },
      "execution_count": null,
      "outputs": [
        {
          "output_type": "execute_result",
          "data": {
            "text/plain": [
              "<re.Match object; span=(0, 5), match='12가34'>"
            ]
          },
          "metadata": {},
          "execution_count": 21
        }
      ]
    },
    {
      "cell_type": "code",
      "source": [
        "re.match('[0-9]+[가-힣]+[0-9]+aa', '12가34abc') # 아무것도 나오지 않는다. (aa를 일치시켜야 하기 때문에)"
      ],
      "metadata": {
        "id": "7boyoZK4fw84"
      },
      "execution_count": null,
      "outputs": []
    },
    {
      "cell_type": "code",
      "source": [
        "re.match('h{3}', 'hhhelllo')  # {반복횟수}"
      ],
      "metadata": {
        "colab": {
          "base_uri": "https://localhost:8080/"
        },
        "id": "Rq7Dp77lgG7-",
        "outputId": "95131085-6d7a-4b6b-c342-820aed8d6c22"
      },
      "execution_count": null,
      "outputs": [
        {
          "output_type": "execute_result",
          "data": {
            "text/plain": [
              "<re.Match object; span=(0, 3), match='hhh'>"
            ]
          },
          "metadata": {},
          "execution_count": 24
        }
      ]
    },
    {
      "cell_type": "code",
      "source": [
        "m = re.match('(?P<func>[a-zA-Z_][a-zA-Z0-9_]+)\\((?P<arg>\\w+)\\)', 'print1234')\n",
        "# ?P<func> 함수를 만든다.\n",
        "# _ 한글자 이상\n",
        "\n",
        "re.search('[0-9]+', 'Fizz 1 2 4 Buzz Fizz 7 8')"
      ],
      "metadata": {
        "colab": {
          "base_uri": "https://localhost:8080/"
        },
        "id": "3cndUklxhKUG",
        "outputId": "361b5116-29f4-4446-c237-fc403edb8148"
      },
      "execution_count": null,
      "outputs": [
        {
          "output_type": "execute_result",
          "data": {
            "text/plain": [
              "<re.Match object; span=(5, 6), match='1'>"
            ]
          },
          "metadata": {},
          "execution_count": 25
        }
      ]
    },
    {
      "cell_type": "code",
      "source": [
        "# 연습문제 : 뉴스기사에서 특정 문자들만 추출 (findall 사용하기)"
      ],
      "metadata": {
        "id": "IHp3zTo-oL_a"
      },
      "execution_count": null,
      "outputs": []
    },
    {
      "cell_type": "code",
      "source": [
        "re.findall('[0-9]+', 'Fizz 1 2 4 Buzz Fizz 7 8') # 모든 숫자를 다 찾아버림"
      ],
      "metadata": {
        "colab": {
          "base_uri": "https://localhost:8080/"
        },
        "id": "3V1ywHA8owZS",
        "outputId": "52355c5b-65bb-4702-a3ec-a7a4015f36c7"
      },
      "execution_count": null,
      "outputs": [
        {
          "output_type": "execute_result",
          "data": {
            "text/plain": [
              "['1', '2', '4', '7', '8']"
            ]
          },
          "metadata": {},
          "execution_count": 27
        }
      ]
    },
    {
      "cell_type": "code",
      "source": [
        "'''\n",
        "언어모델 : 통계적 모델, 신경망 모델\n",
        "통계적(ML) 기반 모델 : 초창기 모델로, 지금은 잘 쓰이지 않음.\n",
        "신경망(NN) 기반 모델 : LSTM, RNN 등\n",
        "\n",
        "언어모델은 언어에 대한 순서에 확률을 부여하여 문장 또는 단어를 추출하거나 예측하는 모델\n",
        "\n",
        "\n",
        "---------------------------------------------------------------------\n",
        "-- Statistic Language Model (SLM)\n",
        "통계적 기반 모델 : 단어의 순서에 대해 확률을 부여\n",
        "ex) P(나는 자연어 처리를 공부한다.) > P(나는 자연어 처리를 먹는다.)\n",
        "전자에 대한 확률이 더 높다.==> 추천\n",
        "P(공부한다 | 나는 , 자연어, 처리)\n",
        "\n",
        "\n",
        "n-gram : 문장간의 유사도를 비교할 때 쓰이는 방법.\n",
        "    ex) 오늘 점심 추천 메뉴:소고기볶음밥, 햄볶음밥\n",
        "\n",
        "# 보통 바이그램까지 많이쓰인다.\n",
        "유니그램:(n=1) : 오늘, 점심, 추천, 메뉴...\n",
        "바이그램 (n=2) : 오늘 점심, 점심 추천, 추천 메뉴 ...\n",
        "트라이그램(n=3) : 오늘 점심 추천, 점심 추천 메뉴, 추천 메뉴 소고기볶음밥...\n",
        "\n",
        "P(소고기볶음밥 | 점심 추천 메뉴)\n",
        "  = count(소고기 볶음밥 with 점심 추천 메뉴) / count(점심 추천 메뉴)\n",
        "...\n",
        "2000-2010 초반의 전통적 통계 기반 언어모델 ~ 굉장히 한계가 많음.\n",
        "(조금만 수정되어도 적용이 안됨.)\n",
        "ex) 점심 추천 메뉴 -> 저녁 추천 메뉴\n",
        "ex) 점심 -> 런치  // 메뉴 -> 메뉴판\n",
        "\n",
        "또한 n을 얼마나 할 것인가 등에 대해 정하기가 쉽지 않음.\n",
        "(대부분 unigram이 좋은 성능을 낸다고 나오긴 하지만...)\n",
        "\n",
        "* 시간이 되면 나중에 LCS(Longest Common Seubsequence) 알고리즘 공부하기.\n",
        ">>> 코테 단골문제.\n",
        "\n",
        "\n",
        "1. 한국어는 단어의 순서가 큰 의미 없음\n",
        "-> 신경망(RNN, LSTM) 기반 생성시 어려움\n",
        "\n",
        "\n",
        "<얕은 신경망>\n",
        "Linear Regression(예측, 회귀) -> Logistic Regression(Sigmoid 이진분류)\n",
        "  -> SOFTMAX(다중분류) -> (얕은 신경망) : NN - Nueral Neetwork\n",
        "\n",
        "h(x) = wx + b # linear regression // ~inf ~ + inf\n",
        "sigmoid(h(x)) = 1 / 1 + e^-(h(x)) // 0 ~ 1\n",
        "SOFTMAX --> 각 선택지별로 sigmoid를 적용, 가장 높은 확률의 class선택\n",
        "위의 소프트맥스를 사용한 Neural Network가 얕은 신경망\n",
        "\n",
        "<깊은 신경망>\n",
        "(신경망 종류 - DNN, CNN, RNN 등)\n",
        "입력 / 히든 / 출력 레이어(층)으로 구분되어 구분함.\n",
        "-----------------------------------------------------------------------\n",
        "\n",
        "나는 지금 자연어를 공부해요\n",
        "자연어를 공부해요 나는 지금\n",
        "> 둘 다 해석이 가능함.\n",
        "'''"
      ],
      "metadata": {
        "id": "Jnl7Klilo06Q"
      },
      "execution_count": null,
      "outputs": []
    },
    {
      "cell_type": "code",
      "source": [
        "'''\n",
        "## TF-IDF (Term Frequency - Inverse Document Frequency)\n",
        "\n",
        "one-hot, DTM(Document Term Matrix - TF), TDM, TF-IDF\n",
        "\n",
        "DTM ----------------------------------\n",
        "         단어 1    단어 2 ...   단어N  |\n",
        "문서1 |     5        0     ...     0   |  M차원 벡터 공간(5, 0, 1)\n",
        "문서2 |     3        2     ...     1   |\n",
        "...   |                                |\n",
        "문서N |     1        4     ...     3   |\n",
        "--------------------------------------\n",
        "\n",
        "Q) 어떻게 추천할 수 있을까?\n",
        "1) 문서 1과 다른 문서 사이의 유클리디안 거리를 비교하여 추천\n",
        ">>> KNN - 최인접 이웃들을 유클리디안 거리로 추천해줌\n",
        "'''"
      ],
      "metadata": {
        "id": "AZYtI52X2gFZ"
      },
      "execution_count": null,
      "outputs": []
    },
    {
      "cell_type": "code",
      "source": [
        "from sklearn.feature_extraction.text import CountVectorizer\n",
        "# CountVectorizer : 단어의 빈도수를 기반으로 벡터를 생성하는 함수.\n"
      ],
      "metadata": {
        "id": "WQT_TMwM454U"
      },
      "execution_count": null,
      "outputs": []
    },
    {
      "cell_type": "code",
      "source": [
        "corpus = ['나는 지금 자연어 처리를 공부해요. 나는 자연어 좋아요']"
      ],
      "metadata": {
        "id": "QhEemYCE5MpS"
      },
      "execution_count": null,
      "outputs": []
    },
    {
      "cell_type": "code",
      "source": [
        "vector = CountVectorizer() # object 생성"
      ],
      "metadata": {
        "id": "GkhqyDoI5QIM"
      },
      "execution_count": null,
      "outputs": []
    },
    {
      "cell_type": "code",
      "source": [
        "'''\n",
        "fit 결과\n",
        ">>> [2 1 2 1 1 1 ]\n",
        "sparse matrix(희소행렬: 행렬 요소값이 대부분이 0인 행렬) -- 공간 낭비, 연산량 폭발적\n",
        "'''\n",
        "\n",
        "vector.fit_transform(corpus) # unique한 단어들만 뽑아서 사전에 넣어줌\n",
        "# fit: 각각의 단어별로 인덱스 부여\n",
        "# transform: corpus에 저장된 문장을 fit 결과에 맞춰 (빈도수 기반)변환해라."
      ],
      "metadata": {
        "colab": {
          "base_uri": "https://localhost:8080/"
        },
        "id": "oCoWxl9-6AF2",
        "outputId": "a346f878-633f-40d5-d642-227454e954c4"
      },
      "execution_count": null,
      "outputs": [
        {
          "output_type": "execute_result",
          "data": {
            "text/plain": [
              "<1x6 sparse matrix of type '<class 'numpy.int64'>'\n",
              "\twith 6 stored elements in Compressed Sparse Row format>"
            ]
          },
          "metadata": {},
          "execution_count": 35
        }
      ]
    },
    {
      "cell_type": "code",
      "source": [
        "vector.fit_transform(corpus).toarray()"
      ],
      "metadata": {
        "colab": {
          "base_uri": "https://localhost:8080/"
        },
        "id": "I_fZF8Iv6EXm",
        "outputId": "f271bc5a-86b9-485b-a399-1ed03991ea97"
      },
      "execution_count": null,
      "outputs": [
        {
          "output_type": "execute_result",
          "data": {
            "text/plain": [
              "array([[1, 2, 2, 1, 1, 1]])"
            ]
          },
          "metadata": {},
          "execution_count": 36
        }
      ]
    },
    {
      "cell_type": "code",
      "source": [
        "# Bag of Words (BOW)\n",
        "vector.vocabulary_"
      ],
      "metadata": {
        "colab": {
          "base_uri": "https://localhost:8080/"
        },
        "id": "1w1xH0bk7ce2",
        "outputId": "db8f0d3a-3383-4cd3-9fb4-26425581e362"
      },
      "execution_count": null,
      "outputs": [
        {
          "output_type": "execute_result",
          "data": {
            "text/plain": [
              "{'나는': 1, '지금': 4, '자연어': 2, '처리를': 5, '공부해요': 0, '좋아요': 3}"
            ]
          },
          "metadata": {},
          "execution_count": 37
        }
      ]
    },
    {
      "cell_type": "code",
      "source": [
        "'''\n",
        "cosine similarity (코사인 유사도)\n",
        "- A벡터와 B벡터간의 내적을 통해 이루는 각을 비교할 수 있음.\n",
        "- 코사인90도까지만 비교하면 됨\n",
        "  - why?) 빈도수는 음수값이 나올 수 없기 때문에 90도를 넘을 수 없음.\n",
        "\n",
        "K-MEANS\n",
        "- 선형 기반 클러스터링\n",
        "- 거리 기반 (K값의 랜덤한 센트로이드 기준으로 유클리디안 거리를 측정 후 가까운 것부터 클러스터화)\n",
        "\n",
        "\n",
        "DBSCAN\n",
        "- 거리 기반 클러스터링 (특정 관측값 y로부터 반경 r 안에 들어가는 점들의 모임)\n",
        "\n",
        "H_Clustering\n",
        "- 계층형 클러슽터링 모델\n",
        "\n",
        "> seaborn.pairplot 써봅시다 (코사인 유사도와 밀접한가?)\n",
        "----------------------------------------------------------------\n",
        "\n",
        "## tf-idf\n",
        "==> TDM을 tf * idf 값의 매트릭스로 변경\n",
        "\n",
        "<tf-idf 개념>\n",
        "한 문서에서 더 자주 보일수록(specific할수록) 가중치를 높게주고. -- term frequency\n",
        "여러 문서에서 쉽게 보일수록(general할수록) 가중치를 낮게준다. -- inverse document frequenccy\n",
        "\n",
        "tf(d, t) : 특정 문서 d에서 찾는 단어 t가 나오는 빈도수 (term | docu_n)\n",
        "idf(d, t) : 't가 등장하는 모든 문서 documents의 개수' 의 역수(inverse)\n",
        "\n",
        "ex) 내가 찾고싶은건 '흑맥주', 검색어의 범용성 --> '맥주' 가 더 많이 나온다 ==> df 상승\n",
        "     --> 특정 문서에서 '흑맥주'가 '맥주'보다 tf가 높고, df값이 낮다.(더 중요하다.)\n",
        "     --> 즉 tf-idf 값이 높다 : 특정 문서 (d_n) 에서 더 중요한 키워드임을 의미.\n",
        "\n",
        "\n",
        "-- 계산과정\n",
        "idf(d, t) : log(n) / df(t) + 1\n",
        "  - n은 전체 문서의 개수\n",
        "\n",
        "ex) n=1000\n",
        "idf(d, t) = log(1000 / df(t) + 1)\n",
        "# 분모값에 1을 더해주는 건, 로그값을 취했을 때 값이 기하급수적으로 커지는 것을 방지하기 위한 수학적 트릭\n",
        "\n",
        "df(t) = 1, idf(d, t)\n",
        "'''"
      ],
      "metadata": {
        "id": "1RnX8Vy075kc"
      },
      "execution_count": null,
      "outputs": []
    },
    {
      "cell_type": "code",
      "source": [
        "from sklearn.feature_extraction.text import CountVectorizer"
      ],
      "metadata": {
        "id": "_-SOAmHTf27h"
      },
      "execution_count": null,
      "outputs": []
    },
    {
      "cell_type": "code",
      "source": [
        "# 각각의 문서들\n",
        "documents = [\n",
        "    'I love you',      # 문서 1\n",
        "    'I can do it',     # 문서 2\n",
        "    'I want your love' # 문서 3\n",
        "]\n",
        "\n",
        "# DTM (Document term matrix)\n",
        "# 문서의 개수(m) * 단어의 개수 (n) 차원의 matrix 생성"
      ],
      "metadata": {
        "id": "wcKTySN9gA_b"
      },
      "execution_count": null,
      "outputs": []
    },
    {
      "cell_type": "code",
      "source": [
        "v = CountVectorizer() # object 생성"
      ],
      "metadata": {
        "id": "EMK-LE0cgup1"
      },
      "execution_count": null,
      "outputs": []
    },
    {
      "cell_type": "code",
      "source": [
        "v.fit_transform(documents).toarray()\n",
        "# vectors.toarray()"
      ],
      "metadata": {
        "colab": {
          "base_uri": "https://localhost:8080/"
        },
        "id": "k3ztRfDXgy_q",
        "outputId": "d810243a-fa5f-4f79-b1f4-81a209daa1aa"
      },
      "execution_count": null,
      "outputs": [
        {
          "output_type": "execute_result",
          "data": {
            "text/plain": [
              "array([[0, 0, 0, 1, 0, 1, 0],\n",
              "       [1, 1, 1, 0, 0, 0, 0],\n",
              "       [0, 0, 0, 1, 1, 0, 1]])"
            ]
          },
          "metadata": {},
          "execution_count": 48
        }
      ]
    },
    {
      "cell_type": "code",
      "source": [
        "v.vocabulary_ # I라는 단어는 너무 짧아서 빠졌나? 라기보단 stopwords에 걸린듯"
      ],
      "metadata": {
        "colab": {
          "base_uri": "https://localhost:8080/"
        },
        "id": "_a-ECowYhUZf",
        "outputId": "8dcc292e-d274-4916-9379-144917698dd2"
      },
      "execution_count": null,
      "outputs": [
        {
          "output_type": "execute_result",
          "data": {
            "text/plain": [
              "{'love': 3, 'you': 5, 'can': 0, 'do': 1, 'it': 2, 'want': 4, 'your': 6}"
            ]
          },
          "metadata": {},
          "execution_count": 49
        }
      ]
    },
    {
      "cell_type": "code",
      "source": [
        "from sklearn.feature_extraction.text import TfidfVectorizer"
      ],
      "metadata": {
        "id": "6Qz8GVBhhGeY"
      },
      "execution_count": null,
      "outputs": []
    },
    {
      "cell_type": "code",
      "source": [
        "tfidf = TfidfVectorizer() # object 생성"
      ],
      "metadata": {
        "id": "zQbOn6IwhLDm"
      },
      "execution_count": null,
      "outputs": []
    },
    {
      "cell_type": "code",
      "source": [
        "tfidf.fit_transform(documents).toarray()"
      ],
      "metadata": {
        "colab": {
          "base_uri": "https://localhost:8080/"
        },
        "id": "f3AZepUliNzX",
        "outputId": "e28a514f-82c9-4fb8-8f21-f5cd155a079b"
      },
      "execution_count": null,
      "outputs": [
        {
          "output_type": "execute_result",
          "data": {
            "text/plain": [
              "array([[0.        , 0.        , 0.        , 0.60534851, 0.        ,\n",
              "        0.79596054, 0.        ],\n",
              "       [0.57735027, 0.57735027, 0.57735027, 0.        , 0.        ,\n",
              "        0.        , 0.        ],\n",
              "       [0.        , 0.        , 0.        , 0.4736296 , 0.62276601,\n",
              "        0.        , 0.62276601]])"
            ]
          },
          "metadata": {},
          "execution_count": 53
        }
      ]
    },
    {
      "cell_type": "code",
      "source": [
        "import numpy as np\n",
        "from numpy import dot\n",
        "from numpy.linalg import norm"
      ],
      "metadata": {
        "id": "4g4N1XbKjehb"
      },
      "execution_count": null,
      "outputs": []
    },
    {
      "cell_type": "code",
      "source": [
        "# d1, d2, d3는 영화제목\n",
        "# 각 열은 영화 대사에 등장한 단어 (사랑, 돈, 운명, 증오)\n",
        "d1 = np.array([1,1,1,0]) # 루트2\n",
        "d2 = np.array([0,1,1,1])\n",
        "d3 = np.array([0,3,3,3])\n",
        "d4 = np.array([0,5,5,5]) # 루트 48\n",
        "\n",
        "# 유클리디안 거리로는 d2와 d1과 더 가깝다.\n",
        "# 하지만 코사인 유사도로 계산했을 땐 d2, d4가 더 유사하다고 볼 수 있다."
      ],
      "metadata": {
        "id": "fIqj_B2Cie9K"
      },
      "execution_count": null,
      "outputs": []
    },
    {
      "cell_type": "code",
      "source": [
        "# dot product (Ucldiean Distance)\n",
        "print(f'dot product(d1, d2) = {dot(d1, d2)}')\n",
        "print(f'dot product(d2, d4) = {dot(d2, d4)}')\n",
        "print()\n",
        "# cosine sim\n",
        "print(f'cosine sim(d1, d2) = {dot(d1, d2) / (norm(d1) * norm(d2))}')\n",
        "print(f\"cosine sim(d2, d4) = {dot(d2, d4) / (norm(d2) * norm(d4))}\")"
      ],
      "metadata": {
        "colab": {
          "base_uri": "https://localhost:8080/"
        },
        "id": "I_uyy8whrbyD",
        "outputId": "7c0f7a1a-98c2-4b92-b9b0-c32f30301465"
      },
      "execution_count": null,
      "outputs": [
        {
          "output_type": "stream",
          "name": "stdout",
          "text": [
            "dot product(d1, d2) = 2\n",
            "dot product(d2, d4) = 15\n",
            "\n",
            "cosine sim(d1, d2) = 0.6666666666666667\n",
            "cosine sim(d2, d4) = 1.0\n"
          ]
        }
      ]
    },
    {
      "cell_type": "code",
      "source": [
        "# Jacaard Sim\n",
        "# 자카드 유사도: 집합의 원소는 단어에 해당됨, (범위 0-1)\n",
        "# 내일 과제 (두 문서간의 자카드 유사도, 코사인 유사도 함께 구하기)\n",
        "\n",
        "'''\n",
        "자카드유사도 (d1, d2) =  d1.Intersection(d2)_단어  / d1.Union(d2)_단어\n",
        "'''\n",
        "\n",
        "d1 = \"대한민국 하늘 육지\"\n",
        "d2 = \"바다 들판 우주\"\n"
      ],
      "metadata": {
        "id": "Rn4hwKDcsZ2F"
      },
      "execution_count": null,
      "outputs": []
    },
    {
      "cell_type": "code",
      "source": [
        "# 오늘 과제2\n",
        "# 코사인 유사도 기반 와인 추천시스템 개발\n",
        "# 제공받은 csv파일을 로드\n",
        "\n",
        "'''\n",
        "- 상위 5000개의 와인데이터만 추출하여 변수에 저장\n",
        "- description column 추출\n",
        "- stopwords(불용어 제거), DTM,\n",
        "   - 길이가 짧은 애들, 불용어 사전에 등록된 애들 등 제거\n",
        "- 5000개 문서 중 단어 등장 횟수가 2객 이하 제거\n",
        "- DTM 구성( 만약 시간이 너무 많이 소요되면, 상위 1000개만)\n",
        "\n",
        "df.drop(~~, axis=1)\n",
        "\n",
        "- TFIDF matrix (문서 n * 단어 m)\n",
        "- cos sim matrix (문서 n * 문서 n) # 문서끼리의 유사도\n",
        "\n",
        "# ex) 50번에 해당되는 와인과 가장 유사한 와인 10개를 추천해줘.\n",
        "'''"
      ],
      "metadata": {
        "id": "mq-0iXMRv7wD"
      },
      "execution_count": null,
      "outputs": []
    },
    {
      "cell_type": "code",
      "source": [
        "from google.colab import drive\n",
        "drive.mount('/content/drive')"
      ],
      "metadata": {
        "colab": {
          "base_uri": "https://localhost:8080/"
        },
        "id": "JOiofm1Ss_iY",
        "outputId": "bda8cc1f-228e-4548-962e-88b7c7ac8517"
      },
      "execution_count": null,
      "outputs": [
        {
          "output_type": "stream",
          "name": "stdout",
          "text": [
            "Mounted at /content/drive\n"
          ]
        }
      ]
    },
    {
      "cell_type": "code",
      "source": [
        "import pandas as pd\n",
        "df = pd.read_csv('/content/drive/MyDrive/data/datasets/movies_metadata.csv', header=0)\n",
        "df.head()"
      ],
      "metadata": {
        "colab": {
          "base_uri": "https://localhost:8080/",
          "height": 787
        },
        "id": "v-6LjIoIw_sv",
        "outputId": "aaf75895-b0cc-4a11-83f3-cbd035ae50ad"
      },
      "execution_count": null,
      "outputs": [
        {
          "output_type": "stream",
          "name": "stderr",
          "text": [
            "<ipython-input-2-fc5e38dd5c67>:2: DtypeWarning: Columns (10) have mixed types. Specify dtype option on import or set low_memory=False.\n",
            "  df = pd.read_csv('/content/drive/MyDrive/data/datasets/movies_metadata.csv', header=0)\n"
          ]
        },
        {
          "output_type": "execute_result",
          "data": {
            "text/plain": [
              "   adult                              belongs_to_collection    budget  \\\n",
              "0  False  {'id': 10194, 'name': 'Toy Story Collection', ...  30000000   \n",
              "1  False                                                NaN  65000000   \n",
              "2  False  {'id': 119050, 'name': 'Grumpy Old Men Collect...         0   \n",
              "3  False                                                NaN  16000000   \n",
              "4  False  {'id': 96871, 'name': 'Father of the Bride Col...         0   \n",
              "\n",
              "                                              genres  \\\n",
              "0  [{'id': 16, 'name': 'Animation'}, {'id': 35, '...   \n",
              "1  [{'id': 12, 'name': 'Adventure'}, {'id': 14, '...   \n",
              "2  [{'id': 10749, 'name': 'Romance'}, {'id': 35, ...   \n",
              "3  [{'id': 35, 'name': 'Comedy'}, {'id': 18, 'nam...   \n",
              "4                     [{'id': 35, 'name': 'Comedy'}]   \n",
              "\n",
              "                               homepage     id    imdb_id original_language  \\\n",
              "0  http://toystory.disney.com/toy-story    862  tt0114709                en   \n",
              "1                                   NaN   8844  tt0113497                en   \n",
              "2                                   NaN  15602  tt0113228                en   \n",
              "3                                   NaN  31357  tt0114885                en   \n",
              "4                                   NaN  11862  tt0113041                en   \n",
              "\n",
              "                original_title  \\\n",
              "0                    Toy Story   \n",
              "1                      Jumanji   \n",
              "2             Grumpier Old Men   \n",
              "3            Waiting to Exhale   \n",
              "4  Father of the Bride Part II   \n",
              "\n",
              "                                            overview  ... release_date  \\\n",
              "0  Led by Woody, Andy's toys live happily in his ...  ...   1995-10-30   \n",
              "1  When siblings Judy and Peter discover an encha...  ...   1995-12-15   \n",
              "2  A family wedding reignites the ancient feud be...  ...   1995-12-22   \n",
              "3  Cheated on, mistreated and stepped on, the wom...  ...   1995-12-22   \n",
              "4  Just when George Banks has recovered from his ...  ...   1995-02-10   \n",
              "\n",
              "       revenue runtime                                   spoken_languages  \\\n",
              "0  373554033.0    81.0           [{'iso_639_1': 'en', 'name': 'English'}]   \n",
              "1  262797249.0   104.0  [{'iso_639_1': 'en', 'name': 'English'}, {'iso...   \n",
              "2          0.0   101.0           [{'iso_639_1': 'en', 'name': 'English'}]   \n",
              "3   81452156.0   127.0           [{'iso_639_1': 'en', 'name': 'English'}]   \n",
              "4   76578911.0   106.0           [{'iso_639_1': 'en', 'name': 'English'}]   \n",
              "\n",
              "     status                                            tagline  \\\n",
              "0  Released                                                NaN   \n",
              "1  Released          Roll the dice and unleash the excitement!   \n",
              "2  Released  Still Yelling. Still Fighting. Still Ready for...   \n",
              "3  Released  Friends are the people who let you be yourself...   \n",
              "4  Released  Just When His World Is Back To Normal... He's ...   \n",
              "\n",
              "                         title  video vote_average vote_count  \n",
              "0                    Toy Story  False          7.7     5415.0  \n",
              "1                      Jumanji  False          6.9     2413.0  \n",
              "2             Grumpier Old Men  False          6.5       92.0  \n",
              "3            Waiting to Exhale  False          6.1       34.0  \n",
              "4  Father of the Bride Part II  False          5.7      173.0  \n",
              "\n",
              "[5 rows x 24 columns]"
            ],
            "text/html": [
              "\n",
              "\n",
              "  <div id=\"df-b00c3eb2-8a38-464d-b353-c5983887d5c0\">\n",
              "    <div class=\"colab-df-container\">\n",
              "      <div>\n",
              "<style scoped>\n",
              "    .dataframe tbody tr th:only-of-type {\n",
              "        vertical-align: middle;\n",
              "    }\n",
              "\n",
              "    .dataframe tbody tr th {\n",
              "        vertical-align: top;\n",
              "    }\n",
              "\n",
              "    .dataframe thead th {\n",
              "        text-align: right;\n",
              "    }\n",
              "</style>\n",
              "<table border=\"1\" class=\"dataframe\">\n",
              "  <thead>\n",
              "    <tr style=\"text-align: right;\">\n",
              "      <th></th>\n",
              "      <th>adult</th>\n",
              "      <th>belongs_to_collection</th>\n",
              "      <th>budget</th>\n",
              "      <th>genres</th>\n",
              "      <th>homepage</th>\n",
              "      <th>id</th>\n",
              "      <th>imdb_id</th>\n",
              "      <th>original_language</th>\n",
              "      <th>original_title</th>\n",
              "      <th>overview</th>\n",
              "      <th>...</th>\n",
              "      <th>release_date</th>\n",
              "      <th>revenue</th>\n",
              "      <th>runtime</th>\n",
              "      <th>spoken_languages</th>\n",
              "      <th>status</th>\n",
              "      <th>tagline</th>\n",
              "      <th>title</th>\n",
              "      <th>video</th>\n",
              "      <th>vote_average</th>\n",
              "      <th>vote_count</th>\n",
              "    </tr>\n",
              "  </thead>\n",
              "  <tbody>\n",
              "    <tr>\n",
              "      <th>0</th>\n",
              "      <td>False</td>\n",
              "      <td>{'id': 10194, 'name': 'Toy Story Collection', ...</td>\n",
              "      <td>30000000</td>\n",
              "      <td>[{'id': 16, 'name': 'Animation'}, {'id': 35, '...</td>\n",
              "      <td>http://toystory.disney.com/toy-story</td>\n",
              "      <td>862</td>\n",
              "      <td>tt0114709</td>\n",
              "      <td>en</td>\n",
              "      <td>Toy Story</td>\n",
              "      <td>Led by Woody, Andy's toys live happily in his ...</td>\n",
              "      <td>...</td>\n",
              "      <td>1995-10-30</td>\n",
              "      <td>373554033.0</td>\n",
              "      <td>81.0</td>\n",
              "      <td>[{'iso_639_1': 'en', 'name': 'English'}]</td>\n",
              "      <td>Released</td>\n",
              "      <td>NaN</td>\n",
              "      <td>Toy Story</td>\n",
              "      <td>False</td>\n",
              "      <td>7.7</td>\n",
              "      <td>5415.0</td>\n",
              "    </tr>\n",
              "    <tr>\n",
              "      <th>1</th>\n",
              "      <td>False</td>\n",
              "      <td>NaN</td>\n",
              "      <td>65000000</td>\n",
              "      <td>[{'id': 12, 'name': 'Adventure'}, {'id': 14, '...</td>\n",
              "      <td>NaN</td>\n",
              "      <td>8844</td>\n",
              "      <td>tt0113497</td>\n",
              "      <td>en</td>\n",
              "      <td>Jumanji</td>\n",
              "      <td>When siblings Judy and Peter discover an encha...</td>\n",
              "      <td>...</td>\n",
              "      <td>1995-12-15</td>\n",
              "      <td>262797249.0</td>\n",
              "      <td>104.0</td>\n",
              "      <td>[{'iso_639_1': 'en', 'name': 'English'}, {'iso...</td>\n",
              "      <td>Released</td>\n",
              "      <td>Roll the dice and unleash the excitement!</td>\n",
              "      <td>Jumanji</td>\n",
              "      <td>False</td>\n",
              "      <td>6.9</td>\n",
              "      <td>2413.0</td>\n",
              "    </tr>\n",
              "    <tr>\n",
              "      <th>2</th>\n",
              "      <td>False</td>\n",
              "      <td>{'id': 119050, 'name': 'Grumpy Old Men Collect...</td>\n",
              "      <td>0</td>\n",
              "      <td>[{'id': 10749, 'name': 'Romance'}, {'id': 35, ...</td>\n",
              "      <td>NaN</td>\n",
              "      <td>15602</td>\n",
              "      <td>tt0113228</td>\n",
              "      <td>en</td>\n",
              "      <td>Grumpier Old Men</td>\n",
              "      <td>A family wedding reignites the ancient feud be...</td>\n",
              "      <td>...</td>\n",
              "      <td>1995-12-22</td>\n",
              "      <td>0.0</td>\n",
              "      <td>101.0</td>\n",
              "      <td>[{'iso_639_1': 'en', 'name': 'English'}]</td>\n",
              "      <td>Released</td>\n",
              "      <td>Still Yelling. Still Fighting. Still Ready for...</td>\n",
              "      <td>Grumpier Old Men</td>\n",
              "      <td>False</td>\n",
              "      <td>6.5</td>\n",
              "      <td>92.0</td>\n",
              "    </tr>\n",
              "    <tr>\n",
              "      <th>3</th>\n",
              "      <td>False</td>\n",
              "      <td>NaN</td>\n",
              "      <td>16000000</td>\n",
              "      <td>[{'id': 35, 'name': 'Comedy'}, {'id': 18, 'nam...</td>\n",
              "      <td>NaN</td>\n",
              "      <td>31357</td>\n",
              "      <td>tt0114885</td>\n",
              "      <td>en</td>\n",
              "      <td>Waiting to Exhale</td>\n",
              "      <td>Cheated on, mistreated and stepped on, the wom...</td>\n",
              "      <td>...</td>\n",
              "      <td>1995-12-22</td>\n",
              "      <td>81452156.0</td>\n",
              "      <td>127.0</td>\n",
              "      <td>[{'iso_639_1': 'en', 'name': 'English'}]</td>\n",
              "      <td>Released</td>\n",
              "      <td>Friends are the people who let you be yourself...</td>\n",
              "      <td>Waiting to Exhale</td>\n",
              "      <td>False</td>\n",
              "      <td>6.1</td>\n",
              "      <td>34.0</td>\n",
              "    </tr>\n",
              "    <tr>\n",
              "      <th>4</th>\n",
              "      <td>False</td>\n",
              "      <td>{'id': 96871, 'name': 'Father of the Bride Col...</td>\n",
              "      <td>0</td>\n",
              "      <td>[{'id': 35, 'name': 'Comedy'}]</td>\n",
              "      <td>NaN</td>\n",
              "      <td>11862</td>\n",
              "      <td>tt0113041</td>\n",
              "      <td>en</td>\n",
              "      <td>Father of the Bride Part II</td>\n",
              "      <td>Just when George Banks has recovered from his ...</td>\n",
              "      <td>...</td>\n",
              "      <td>1995-02-10</td>\n",
              "      <td>76578911.0</td>\n",
              "      <td>106.0</td>\n",
              "      <td>[{'iso_639_1': 'en', 'name': 'English'}]</td>\n",
              "      <td>Released</td>\n",
              "      <td>Just When His World Is Back To Normal... He's ...</td>\n",
              "      <td>Father of the Bride Part II</td>\n",
              "      <td>False</td>\n",
              "      <td>5.7</td>\n",
              "      <td>173.0</td>\n",
              "    </tr>\n",
              "  </tbody>\n",
              "</table>\n",
              "<p>5 rows × 24 columns</p>\n",
              "</div>\n",
              "      <button class=\"colab-df-convert\" onclick=\"convertToInteractive('df-b00c3eb2-8a38-464d-b353-c5983887d5c0')\"\n",
              "              title=\"Convert this dataframe to an interactive table.\"\n",
              "              style=\"display:none;\">\n",
              "\n",
              "  <svg xmlns=\"http://www.w3.org/2000/svg\" height=\"24px\"viewBox=\"0 0 24 24\"\n",
              "       width=\"24px\">\n",
              "    <path d=\"M0 0h24v24H0V0z\" fill=\"none\"/>\n",
              "    <path d=\"M18.56 5.44l.94 2.06.94-2.06 2.06-.94-2.06-.94-.94-2.06-.94 2.06-2.06.94zm-11 1L8.5 8.5l.94-2.06 2.06-.94-2.06-.94L8.5 2.5l-.94 2.06-2.06.94zm10 10l.94 2.06.94-2.06 2.06-.94-2.06-.94-.94-2.06-.94 2.06-2.06.94z\"/><path d=\"M17.41 7.96l-1.37-1.37c-.4-.4-.92-.59-1.43-.59-.52 0-1.04.2-1.43.59L10.3 9.45l-7.72 7.72c-.78.78-.78 2.05 0 2.83L4 21.41c.39.39.9.59 1.41.59.51 0 1.02-.2 1.41-.59l7.78-7.78 2.81-2.81c.8-.78.8-2.07 0-2.86zM5.41 20L4 18.59l7.72-7.72 1.47 1.35L5.41 20z\"/>\n",
              "  </svg>\n",
              "      </button>\n",
              "\n",
              "\n",
              "\n",
              "    <div id=\"df-7d526f84-70df-486c-a9c1-030064048b8d\">\n",
              "      <button class=\"colab-df-quickchart\" onclick=\"quickchart('df-7d526f84-70df-486c-a9c1-030064048b8d')\"\n",
              "              title=\"Suggest charts.\"\n",
              "              style=\"display:none;\">\n",
              "\n",
              "<svg xmlns=\"http://www.w3.org/2000/svg\" height=\"24px\"viewBox=\"0 0 24 24\"\n",
              "     width=\"24px\">\n",
              "    <g>\n",
              "        <path d=\"M19 3H5c-1.1 0-2 .9-2 2v14c0 1.1.9 2 2 2h14c1.1 0 2-.9 2-2V5c0-1.1-.9-2-2-2zM9 17H7v-7h2v7zm4 0h-2V7h2v10zm4 0h-2v-4h2v4z\"/>\n",
              "    </g>\n",
              "</svg>\n",
              "      </button>\n",
              "    </div>\n",
              "\n",
              "<style>\n",
              "  .colab-df-quickchart {\n",
              "    background-color: #E8F0FE;\n",
              "    border: none;\n",
              "    border-radius: 50%;\n",
              "    cursor: pointer;\n",
              "    display: none;\n",
              "    fill: #1967D2;\n",
              "    height: 32px;\n",
              "    padding: 0 0 0 0;\n",
              "    width: 32px;\n",
              "  }\n",
              "\n",
              "  .colab-df-quickchart:hover {\n",
              "    background-color: #E2EBFA;\n",
              "    box-shadow: 0px 1px 2px rgba(60, 64, 67, 0.3), 0px 1px 3px 1px rgba(60, 64, 67, 0.15);\n",
              "    fill: #174EA6;\n",
              "  }\n",
              "\n",
              "  [theme=dark] .colab-df-quickchart {\n",
              "    background-color: #3B4455;\n",
              "    fill: #D2E3FC;\n",
              "  }\n",
              "\n",
              "  [theme=dark] .colab-df-quickchart:hover {\n",
              "    background-color: #434B5C;\n",
              "    box-shadow: 0px 1px 3px 1px rgba(0, 0, 0, 0.15);\n",
              "    filter: drop-shadow(0px 1px 2px rgba(0, 0, 0, 0.3));\n",
              "    fill: #FFFFFF;\n",
              "  }\n",
              "</style>\n",
              "\n",
              "    <script>\n",
              "      async function quickchart(key) {\n",
              "        const containerElement = document.querySelector('#' + key);\n",
              "        const charts = await google.colab.kernel.invokeFunction(\n",
              "            'suggestCharts', [key], {});\n",
              "      }\n",
              "    </script>\n",
              "\n",
              "      <script>\n",
              "\n",
              "function displayQuickchartButton(domScope) {\n",
              "  let quickchartButtonEl =\n",
              "    domScope.querySelector('#df-7d526f84-70df-486c-a9c1-030064048b8d button.colab-df-quickchart');\n",
              "  quickchartButtonEl.style.display =\n",
              "    google.colab.kernel.accessAllowed ? 'block' : 'none';\n",
              "}\n",
              "\n",
              "        displayQuickchartButton(document);\n",
              "      </script>\n",
              "      <style>\n",
              "    .colab-df-container {\n",
              "      display:flex;\n",
              "      flex-wrap:wrap;\n",
              "      gap: 12px;\n",
              "    }\n",
              "\n",
              "    .colab-df-convert {\n",
              "      background-color: #E8F0FE;\n",
              "      border: none;\n",
              "      border-radius: 50%;\n",
              "      cursor: pointer;\n",
              "      display: none;\n",
              "      fill: #1967D2;\n",
              "      height: 32px;\n",
              "      padding: 0 0 0 0;\n",
              "      width: 32px;\n",
              "    }\n",
              "\n",
              "    .colab-df-convert:hover {\n",
              "      background-color: #E2EBFA;\n",
              "      box-shadow: 0px 1px 2px rgba(60, 64, 67, 0.3), 0px 1px 3px 1px rgba(60, 64, 67, 0.15);\n",
              "      fill: #174EA6;\n",
              "    }\n",
              "\n",
              "    [theme=dark] .colab-df-convert {\n",
              "      background-color: #3B4455;\n",
              "      fill: #D2E3FC;\n",
              "    }\n",
              "\n",
              "    [theme=dark] .colab-df-convert:hover {\n",
              "      background-color: #434B5C;\n",
              "      box-shadow: 0px 1px 3px 1px rgba(0, 0, 0, 0.15);\n",
              "      filter: drop-shadow(0px 1px 2px rgba(0, 0, 0, 0.3));\n",
              "      fill: #FFFFFF;\n",
              "    }\n",
              "  </style>\n",
              "\n",
              "      <script>\n",
              "        const buttonEl =\n",
              "          document.querySelector('#df-b00c3eb2-8a38-464d-b353-c5983887d5c0 button.colab-df-convert');\n",
              "        buttonEl.style.display =\n",
              "          google.colab.kernel.accessAllowed ? 'block' : 'none';\n",
              "\n",
              "        async function convertToInteractive(key) {\n",
              "          const element = document.querySelector('#df-b00c3eb2-8a38-464d-b353-c5983887d5c0');\n",
              "          const dataTable =\n",
              "            await google.colab.kernel.invokeFunction('convertToInteractive',\n",
              "                                                     [key], {});\n",
              "          if (!dataTable) return;\n",
              "\n",
              "          const docLinkHtml = 'Like what you see? Visit the ' +\n",
              "            '<a target=\"_blank\" href=https://colab.research.google.com/notebooks/data_table.ipynb>data table notebook</a>'\n",
              "            + ' to learn more about interactive tables.';\n",
              "          element.innerHTML = '';\n",
              "          dataTable['output_type'] = 'display_data';\n",
              "          await google.colab.output.renderOutput(dataTable, element);\n",
              "          const docLink = document.createElement('div');\n",
              "          docLink.innerHTML = docLinkHtml;\n",
              "          element.appendChild(docLink);\n",
              "        }\n",
              "      </script>\n",
              "    </div>\n",
              "  </div>\n"
            ]
          },
          "metadata": {},
          "execution_count": 2
        }
      ]
    },
    {
      "cell_type": "code",
      "source": [
        "len(df.columns)"
      ],
      "metadata": {
        "colab": {
          "base_uri": "https://localhost:8080/"
        },
        "id": "z1CfRFSA1GAz",
        "outputId": "b793d864-8ca5-41a5-aed7-52bdfdd6e475"
      },
      "execution_count": null,
      "outputs": [
        {
          "output_type": "execute_result",
          "data": {
            "text/plain": [
              "24"
            ]
          },
          "metadata": {},
          "execution_count": 5
        }
      ]
    },
    {
      "cell_type": "code",
      "source": [
        "temp_df = df.iloc[:5000]\n",
        "temp_df.shape"
      ],
      "metadata": {
        "colab": {
          "base_uri": "https://localhost:8080/"
        },
        "id": "zr9z2sTI1AG-",
        "outputId": "9fc934a5-2109-440e-b47b-a79cee82ed2e"
      },
      "execution_count": null,
      "outputs": [
        {
          "output_type": "execute_result",
          "data": {
            "text/plain": [
              "(5000, 24)"
            ]
          },
          "metadata": {},
          "execution_count": 6
        }
      ]
    },
    {
      "cell_type": "code",
      "source": [
        "# 더 쉽게 하는 방법이 있었네\n",
        "df = df.head(10000)"
      ],
      "metadata": {
        "id": "QACi--LR1Jwb"
      },
      "execution_count": null,
      "outputs": []
    },
    {
      "cell_type": "code",
      "source": [
        "df.info()"
      ],
      "metadata": {
        "colab": {
          "base_uri": "https://localhost:8080/"
        },
        "id": "wk7SiLxV1WMK",
        "outputId": "c606ba0f-5d2e-42d6-de30-2ebf86142cbc"
      },
      "execution_count": null,
      "outputs": [
        {
          "output_type": "stream",
          "name": "stdout",
          "text": [
            "<class 'pandas.core.frame.DataFrame'>\n",
            "RangeIndex: 10000 entries, 0 to 9999\n",
            "Data columns (total 24 columns):\n",
            " #   Column                 Non-Null Count  Dtype  \n",
            "---  ------                 --------------  -----  \n",
            " 0   adult                  10000 non-null  object \n",
            " 1   belongs_to_collection  1421 non-null   object \n",
            " 2   budget                 10000 non-null  object \n",
            " 3   genres                 10000 non-null  object \n",
            " 4   homepage               662 non-null    object \n",
            " 5   id                     10000 non-null  object \n",
            " 6   imdb_id                9999 non-null   object \n",
            " 7   original_language      10000 non-null  object \n",
            " 8   original_title         10000 non-null  object \n",
            " 9   overview               9971 non-null   object \n",
            " 10  popularity             10000 non-null  object \n",
            " 11  poster_path            9969 non-null   object \n",
            " 12  production_companies   10000 non-null  object \n",
            " 13  production_countries   10000 non-null  object \n",
            " 14  release_date           9995 non-null   object \n",
            " 15  revenue                10000 non-null  float64\n",
            " 16  runtime                9994 non-null   float64\n",
            " 17  spoken_languages       10000 non-null  object \n",
            " 18  status                 9992 non-null   object \n",
            " 19  tagline                6892 non-null   object \n",
            " 20  title                  10000 non-null  object \n",
            " 21  video                  10000 non-null  object \n",
            " 22  vote_average           10000 non-null  float64\n",
            " 23  vote_count             10000 non-null  float64\n",
            "dtypes: float64(4), object(20)\n",
            "memory usage: 1.8+ MB\n"
          ]
        }
      ]
    },
    {
      "cell_type": "code",
      "source": [
        "df.isnull().sum()"
      ],
      "metadata": {
        "colab": {
          "base_uri": "https://localhost:8080/"
        },
        "id": "xwJZQv2v6KbR",
        "outputId": "8a143197-aeb3-4fc1-d90a-d1687a9b2a27"
      },
      "execution_count": null,
      "outputs": [
        {
          "output_type": "execute_result",
          "data": {
            "text/plain": [
              "adult                       0\n",
              "belongs_to_collection    8579\n",
              "budget                      0\n",
              "genres                      0\n",
              "homepage                 9338\n",
              "id                          0\n",
              "imdb_id                     1\n",
              "original_language           0\n",
              "original_title              0\n",
              "overview                   29\n",
              "popularity                  0\n",
              "poster_path                31\n",
              "production_companies        0\n",
              "production_countries        0\n",
              "release_date                5\n",
              "revenue                     0\n",
              "runtime                     6\n",
              "spoken_languages            0\n",
              "status                      8\n",
              "tagline                  3108\n",
              "title                       0\n",
              "video                       0\n",
              "vote_average                0\n",
              "vote_count                  0\n",
              "dtype: int64"
            ]
          },
          "metadata": {},
          "execution_count": 9
        }
      ]
    },
    {
      "cell_type": "code",
      "source": [
        "df['overview'] = df.overview.fillna('')"
      ],
      "metadata": {
        "id": "uMtRsdh-6MMP"
      },
      "execution_count": null,
      "outputs": []
    },
    {
      "cell_type": "code",
      "source": [
        "df.overview.isnull().sum()"
      ],
      "metadata": {
        "colab": {
          "base_uri": "https://localhost:8080/"
        },
        "id": "A6Cl6MjF6Wbw",
        "outputId": "3f805c79-d27d-4457-b9d3-9fb199feae43"
      },
      "execution_count": null,
      "outputs": [
        {
          "output_type": "execute_result",
          "data": {
            "text/plain": [
              "0"
            ]
          },
          "metadata": {},
          "execution_count": 11
        }
      ]
    },
    {
      "cell_type": "code",
      "source": [
        "from sklearn.feature_extraction.text import TfidfVectorizer\n",
        "from sklearn.metrics.pairwise import cosine_similarity\n",
        "# from sklearn.feature_extraction.text import\n",
        "\n",
        "tf_idf = TfidfVectorizer(stop_words='english') # object 생성"
      ],
      "metadata": {
        "id": "QntA3IOj6Zp6"
      },
      "execution_count": null,
      "outputs": []
    },
    {
      "cell_type": "code",
      "source": [
        "tfidf_mat = tf_idf.fit_transform(df.overview) # TfIdf matrix 생성\n",
        "tfidf_mat.shape"
      ],
      "metadata": {
        "colab": {
          "base_uri": "https://localhost:8080/"
        },
        "id": "O-2gphN17AUu",
        "outputId": "ef3f3a50-fe54-4093-b3cf-24d464dfc53b"
      },
      "execution_count": null,
      "outputs": [
        {
          "output_type": "execute_result",
          "data": {
            "text/plain": [
              "(10000, 32350)"
            ]
          },
          "metadata": {},
          "execution_count": 18
        }
      ]
    },
    {
      "cell_type": "code",
      "source": [
        "tfidf_mat"
      ],
      "metadata": {
        "colab": {
          "base_uri": "https://localhost:8080/"
        },
        "id": "6bioBIt87OPc",
        "outputId": "65410097-f1ee-4094-e3d2-68ca4e0f3cf9"
      },
      "execution_count": null,
      "outputs": [
        {
          "output_type": "execute_result",
          "data": {
            "text/plain": [
              "<10000x32350 sparse matrix of type '<class 'numpy.float64'>'\n",
              "\twith 268918 stored elements in Compressed Sparse Row format>"
            ]
          },
          "metadata": {},
          "execution_count": 19
        }
      ]
    },
    {
      "cell_type": "code",
      "source": [
        "cos_sim = cosine_similarity(tfidf_mat, tfidf_mat) # 문서간의 유사도를 비교해야함."
      ],
      "metadata": {
        "id": "yVQFRWAh7YWo"
      },
      "execution_count": null,
      "outputs": []
    },
    {
      "cell_type": "code",
      "source": [
        "cos_sim[:5]"
      ],
      "metadata": {
        "colab": {
          "base_uri": "https://localhost:8080/"
        },
        "id": "dElEcP6A8VXO",
        "outputId": "d0ccfffe-d91b-49b8-d56b-e3980700937e"
      },
      "execution_count": null,
      "outputs": [
        {
          "output_type": "execute_result",
          "data": {
            "text/plain": [
              "array([[1.        , 0.01682915, 0.        , ..., 0.        , 0.        ,\n",
              "        0.        ],\n",
              "       [0.01682915, 1.        , 0.04871976, ..., 0.        , 0.01200997,\n",
              "        0.        ],\n",
              "       [0.        , 0.04871976, 1.        , ..., 0.        , 0.00735515,\n",
              "        0.        ],\n",
              "       [0.        , 0.        , 0.        , ..., 0.        , 0.        ,\n",
              "        0.        ],\n",
              "       [0.        , 0.        , 0.02578022, ..., 0.        , 0.        ,\n",
              "        0.        ]])"
            ]
          },
          "metadata": {},
          "execution_count": 21
        }
      ]
    },
    {
      "cell_type": "code",
      "source": [
        "# aws - ec2 (유료버전 cloud pc)\n",
        "# aws 트리 티어 (무료버전)\n",
        "\n",
        "cos_sim.shape"
      ],
      "metadata": {
        "colab": {
          "base_uri": "https://localhost:8080/"
        },
        "id": "bgL14p-r8ZoB",
        "outputId": "52c5bcee-ef55-4aed-a30c-288efd735ae9"
      },
      "execution_count": null,
      "outputs": [
        {
          "output_type": "execute_result",
          "data": {
            "text/plain": [
              "(10000, 10000)"
            ]
          },
          "metadata": {},
          "execution_count": 22
        }
      ]
    },
    {
      "cell_type": "code",
      "source": [
        "df.columns"
      ],
      "metadata": {
        "colab": {
          "base_uri": "https://localhost:8080/"
        },
        "id": "vOaSEwbU9Hc6",
        "outputId": "fa535b44-1831-4d8e-8551-8a384b23a807"
      },
      "execution_count": null,
      "outputs": [
        {
          "output_type": "execute_result",
          "data": {
            "text/plain": [
              "Index(['adult', 'belongs_to_collection', 'budget', 'genres', 'homepage', 'id',\n",
              "       'imdb_id', 'original_language', 'original_title', 'overview',\n",
              "       'popularity', 'poster_path', 'production_companies',\n",
              "       'production_countries', 'release_date', 'revenue', 'runtime',\n",
              "       'spoken_languages', 'status', 'tagline', 'title', 'video',\n",
              "       'vote_average', 'vote_count'],\n",
              "      dtype='object')"
            ]
          },
          "metadata": {},
          "execution_count": 24
        }
      ]
    },
    {
      "cell_type": "code",
      "source": [
        "cos_sim[0] # 자기 자신과의 유사도는 1 => 빼줘야 함."
      ],
      "metadata": {
        "colab": {
          "base_uri": "https://localhost:8080/"
        },
        "id": "ueHTYOEH9Sho",
        "outputId": "b91a8863-1504-4c1b-b195-73bd829516a2"
      },
      "execution_count": null,
      "outputs": [
        {
          "output_type": "execute_result",
          "data": {
            "text/plain": [
              "array([1.        , 0.01682915, 0.        , ..., 0.        , 0.        ,\n",
              "       0.        ])"
            ]
          },
          "metadata": {},
          "execution_count": 25
        }
      ]
    },
    {
      "cell_type": "code",
      "source": [
        "df[:5].original_title"
      ],
      "metadata": {
        "colab": {
          "base_uri": "https://localhost:8080/"
        },
        "id": "f3VkK-6e9drb",
        "outputId": "8d9795cb-925a-4802-d055-ad1385d8d6ce"
      },
      "execution_count": null,
      "outputs": [
        {
          "output_type": "execute_result",
          "data": {
            "text/plain": [
              "0                      Toy Story\n",
              "1                        Jumanji\n",
              "2               Grumpier Old Men\n",
              "3              Waiting to Exhale\n",
              "4    Father of the Bride Part II\n",
              "Name: original_title, dtype: object"
            ]
          },
          "metadata": {},
          "execution_count": 26
        }
      ]
    },
    {
      "cell_type": "code",
      "source": [
        "df.title.head()"
      ],
      "metadata": {
        "colab": {
          "base_uri": "https://localhost:8080/"
        },
        "id": "8qtiYZ5M9opR",
        "outputId": "3f457bd3-ca29-456e-dc77-d49002237cc9"
      },
      "execution_count": null,
      "outputs": [
        {
          "output_type": "execute_result",
          "data": {
            "text/plain": [
              "0                      Toy Story\n",
              "1                        Jumanji\n",
              "2               Grumpier Old Men\n",
              "3              Waiting to Exhale\n",
              "4    Father of the Bride Part II\n",
              "Name: title, dtype: object"
            ]
          },
          "metadata": {},
          "execution_count": 27
        }
      ]
    },
    {
      "cell_type": "code",
      "source": [
        "df.index"
      ],
      "metadata": {
        "colab": {
          "base_uri": "https://localhost:8080/"
        },
        "id": "nv4yn4E39s_C",
        "outputId": "3f2065c9-7e25-41db-9a6b-7de4a3a1a9b8"
      },
      "execution_count": null,
      "outputs": [
        {
          "output_type": "execute_result",
          "data": {
            "text/plain": [
              "RangeIndex(start=0, stop=10000, step=1)"
            ]
          },
          "metadata": {},
          "execution_count": 28
        }
      ]
    },
    {
      "cell_type": "code",
      "source": [
        "data = dict(zip(df.title, df.index))"
      ],
      "metadata": {
        "id": "QYcnSQhB977h"
      },
      "execution_count": null,
      "outputs": []
    },
    {
      "cell_type": "code",
      "source": [
        "i = data['Toy Story']\n",
        "print(i)"
      ],
      "metadata": {
        "colab": {
          "base_uri": "https://localhost:8080/"
        },
        "id": "H2FfJ2fe-aUD",
        "outputId": "183aa868-a5ae-4301-e12a-07c3f9eaec64"
      },
      "execution_count": null,
      "outputs": [
        {
          "output_type": "stream",
          "name": "stdout",
          "text": [
            "0\n"
          ]
        }
      ]
    },
    {
      "cell_type": "code",
      "source": [
        "data"
      ],
      "metadata": {
        "id": "3u1flA_b-pMo"
      },
      "execution_count": null,
      "outputs": []
    },
    {
      "cell_type": "code",
      "source": [
        "def recommand(t, cosine_sim=cos_sim): # t에는 제목 전달, cosine_sim 선언 및 초기화\n",
        "  idx = data[t] # 영화 제목에 매칭되는 인덱스값 반환\n",
        "  print(cosine_sim[idx]) # 근데 사실 nd.array() 자료구조도 기본적으로 global하기 때문에...사용 가능함\n"
      ],
      "metadata": {
        "id": "eUwTmIbN-xff"
      },
      "execution_count": null,
      "outputs": []
    },
    {
      "cell_type": "code",
      "source": [
        "def recommand(t): # t에는 제목 전달, cosine_sim 선언 및 초기화\n",
        "  idx = data[t] # 영화 제목에 매칭되는 인덱스값 반환\n",
        "  # print(cos_sim[idx]) # 근데 사실 nd.array() 자료구조는 기본적으로 list와 거의 동일하고,\n",
        "                       # list 자료구조는 global에서 사용되기 때문에 변수로 지정 안해줘도 됨\n",
        "  sim_scores = list(enumerate(cos_sim[idx])) # (index, cos_score) 형태로 저장됨.\n",
        "  temp = sorted(sim_scores, key=lambda x:x[1], reverse=True)\n",
        "  # print(temp[:11])\n",
        "  return(temp[:11])"
      ],
      "metadata": {
        "id": "O0UjxMn-ATGx"
      },
      "execution_count": null,
      "outputs": []
    },
    {
      "cell_type": "code",
      "source": [
        "recommand('Toy Story')"
      ],
      "metadata": {
        "colab": {
          "base_uri": "https://localhost:8080/"
        },
        "id": "fWnD6IToAU9X",
        "outputId": "775005ce-9801-4dc7-ee01-275164fa568e"
      },
      "execution_count": null,
      "outputs": [
        {
          "output_type": "execute_result",
          "data": {
            "text/plain": [
              "[(0, 1.0000000000000002),\n",
              " (2997, 0.45638472239975103),\n",
              " (8327, 0.2125051726227112),\n",
              " (1071, 0.18331721941453483),\n",
              " (3057, 0.14787027144517378),\n",
              " (1932, 0.14188013382197434),\n",
              " (485, 0.14122665831617187),\n",
              " (5797, 0.13658886827487585),\n",
              " (7254, 0.1301910487191963),\n",
              " (6944, 0.12627898167423743),\n",
              " (7615, 0.12460340953655338)]"
            ]
          },
          "metadata": {},
          "execution_count": 49
        }
      ]
    },
    {
      "cell_type": "code",
      "source": [
        "recommand_movies = recommand('Toy Story')\n",
        "for idx, score in recommand_movies[1:]:\n",
        "  print(df.title[idx])"
      ],
      "metadata": {
        "colab": {
          "base_uri": "https://localhost:8080/"
        },
        "id": "RDc__RX4AWp7",
        "outputId": "5da56519-4eb8-4400-d7ce-c7c77f0a4ed7"
      },
      "execution_count": null,
      "outputs": [
        {
          "output_type": "stream",
          "name": "stdout",
          "text": [
            "Toy Story 2\n",
            "The Champ\n",
            "Rebel Without a Cause\n",
            "Man on the Moon\n",
            "Condorman\n",
            "Malice\n",
            "Class of 1984\n",
            "Africa Screams\n",
            "Rivers and Tides\n",
            "The First $20 Million Is Always the Hardest\n"
          ]
        }
      ]
    },
    {
      "cell_type": "code",
      "source": [
        "from google.colab import drive\n",
        "drive.mount('/content/drive')"
      ],
      "metadata": {
        "colab": {
          "base_uri": "https://localhost:8080/"
        },
        "id": "oop8lc5L84a4",
        "outputId": "fb544d0d-cca6-4033-e160-b507fae216bf"
      },
      "execution_count": null,
      "outputs": [
        {
          "output_type": "stream",
          "name": "stdout",
          "text": [
            "Drive already mounted at /content/drive; to attempt to forcibly remount, call drive.mount(\"/content/drive\", force_remount=True).\n"
          ]
        }
      ]
    },
    {
      "cell_type": "code",
      "source": [
        "import pandas as pd\n",
        "import numpy as np\n",
        "\n",
        "df = pd.read_csv('/content/drive/MyDrive/data/datasets/winemag-data-130k-v2.csv', header=0)"
      ],
      "metadata": {
        "id": "OcPiNHcoCjz7"
      },
      "execution_count": null,
      "outputs": []
    },
    {
      "cell_type": "code",
      "source": [
        "df.shape"
      ],
      "metadata": {
        "colab": {
          "base_uri": "https://localhost:8080/"
        },
        "id": "m3idclkS9czU",
        "outputId": "dfda8c6f-6fed-47ea-a251-cb28ae1fbb7a"
      },
      "execution_count": null,
      "outputs": [
        {
          "output_type": "execute_result",
          "data": {
            "text/plain": [
              "(129971, 14)"
            ]
          },
          "metadata": {},
          "execution_count": 91
        }
      ]
    },
    {
      "cell_type": "code",
      "source": [
        "df = df.head(5000)"
      ],
      "metadata": {
        "id": "ey4RpNIP-ZkI"
      },
      "execution_count": null,
      "outputs": []
    },
    {
      "cell_type": "code",
      "source": [
        "df.head()"
      ],
      "metadata": {
        "colab": {
          "base_uri": "https://localhost:8080/",
          "height": 528
        },
        "id": "PWhsbQve-d1P",
        "outputId": "a5d36b7b-3388-49f2-cb08-de48310eb779"
      },
      "execution_count": null,
      "outputs": [
        {
          "output_type": "execute_result",
          "data": {
            "text/plain": [
              "   Unnamed: 0   country                                        description  \\\n",
              "0           0     Italy  Aromas include tropical fruit, broom, brimston...   \n",
              "1           1  Portugal  This is ripe and fruity, a wine that is smooth...   \n",
              "2           2        US  Tart and snappy, the flavors of lime flesh and...   \n",
              "3           3        US  Pineapple rind, lemon pith and orange blossom ...   \n",
              "4           4        US  Much like the regular bottling from 2012, this...   \n",
              "\n",
              "                          designation  points  price           province  \\\n",
              "0                        Vulkà Bianco      87    NaN  Sicily & Sardinia   \n",
              "1                            Avidagos      87   15.0              Douro   \n",
              "2                                 NaN      87   14.0             Oregon   \n",
              "3                Reserve Late Harvest      87   13.0           Michigan   \n",
              "4  Vintner's Reserve Wild Child Block      87   65.0             Oregon   \n",
              "\n",
              "              region_1           region_2         taster_name  \\\n",
              "0                 Etna                NaN       Kerin O’Keefe   \n",
              "1                  NaN                NaN          Roger Voss   \n",
              "2    Willamette Valley  Willamette Valley        Paul Gregutt   \n",
              "3  Lake Michigan Shore                NaN  Alexander Peartree   \n",
              "4    Willamette Valley  Willamette Valley        Paul Gregutt   \n",
              "\n",
              "  taster_twitter_handle                                              title  \\\n",
              "0          @kerinokeefe                  Nicosia 2013 Vulkà Bianco  (Etna)   \n",
              "1            @vossroger      Quinta dos Avidagos 2011 Avidagos Red (Douro)   \n",
              "2           @paulgwine       Rainstorm 2013 Pinot Gris (Willamette Valley)   \n",
              "3                   NaN  St. Julian 2013 Reserve Late Harvest Riesling ...   \n",
              "4           @paulgwine   Sweet Cheeks 2012 Vintner's Reserve Wild Child...   \n",
              "\n",
              "          variety               winery  \n",
              "0     White Blend              Nicosia  \n",
              "1  Portuguese Red  Quinta dos Avidagos  \n",
              "2      Pinot Gris            Rainstorm  \n",
              "3        Riesling           St. Julian  \n",
              "4      Pinot Noir         Sweet Cheeks  "
            ],
            "text/html": [
              "\n",
              "\n",
              "  <div id=\"df-49688243-b459-4de1-b336-ab1428f4a0a6\">\n",
              "    <div class=\"colab-df-container\">\n",
              "      <div>\n",
              "<style scoped>\n",
              "    .dataframe tbody tr th:only-of-type {\n",
              "        vertical-align: middle;\n",
              "    }\n",
              "\n",
              "    .dataframe tbody tr th {\n",
              "        vertical-align: top;\n",
              "    }\n",
              "\n",
              "    .dataframe thead th {\n",
              "        text-align: right;\n",
              "    }\n",
              "</style>\n",
              "<table border=\"1\" class=\"dataframe\">\n",
              "  <thead>\n",
              "    <tr style=\"text-align: right;\">\n",
              "      <th></th>\n",
              "      <th>Unnamed: 0</th>\n",
              "      <th>country</th>\n",
              "      <th>description</th>\n",
              "      <th>designation</th>\n",
              "      <th>points</th>\n",
              "      <th>price</th>\n",
              "      <th>province</th>\n",
              "      <th>region_1</th>\n",
              "      <th>region_2</th>\n",
              "      <th>taster_name</th>\n",
              "      <th>taster_twitter_handle</th>\n",
              "      <th>title</th>\n",
              "      <th>variety</th>\n",
              "      <th>winery</th>\n",
              "    </tr>\n",
              "  </thead>\n",
              "  <tbody>\n",
              "    <tr>\n",
              "      <th>0</th>\n",
              "      <td>0</td>\n",
              "      <td>Italy</td>\n",
              "      <td>Aromas include tropical fruit, broom, brimston...</td>\n",
              "      <td>Vulkà Bianco</td>\n",
              "      <td>87</td>\n",
              "      <td>NaN</td>\n",
              "      <td>Sicily &amp; Sardinia</td>\n",
              "      <td>Etna</td>\n",
              "      <td>NaN</td>\n",
              "      <td>Kerin O’Keefe</td>\n",
              "      <td>@kerinokeefe</td>\n",
              "      <td>Nicosia 2013 Vulkà Bianco  (Etna)</td>\n",
              "      <td>White Blend</td>\n",
              "      <td>Nicosia</td>\n",
              "    </tr>\n",
              "    <tr>\n",
              "      <th>1</th>\n",
              "      <td>1</td>\n",
              "      <td>Portugal</td>\n",
              "      <td>This is ripe and fruity, a wine that is smooth...</td>\n",
              "      <td>Avidagos</td>\n",
              "      <td>87</td>\n",
              "      <td>15.0</td>\n",
              "      <td>Douro</td>\n",
              "      <td>NaN</td>\n",
              "      <td>NaN</td>\n",
              "      <td>Roger Voss</td>\n",
              "      <td>@vossroger</td>\n",
              "      <td>Quinta dos Avidagos 2011 Avidagos Red (Douro)</td>\n",
              "      <td>Portuguese Red</td>\n",
              "      <td>Quinta dos Avidagos</td>\n",
              "    </tr>\n",
              "    <tr>\n",
              "      <th>2</th>\n",
              "      <td>2</td>\n",
              "      <td>US</td>\n",
              "      <td>Tart and snappy, the flavors of lime flesh and...</td>\n",
              "      <td>NaN</td>\n",
              "      <td>87</td>\n",
              "      <td>14.0</td>\n",
              "      <td>Oregon</td>\n",
              "      <td>Willamette Valley</td>\n",
              "      <td>Willamette Valley</td>\n",
              "      <td>Paul Gregutt</td>\n",
              "      <td>@paulgwine</td>\n",
              "      <td>Rainstorm 2013 Pinot Gris (Willamette Valley)</td>\n",
              "      <td>Pinot Gris</td>\n",
              "      <td>Rainstorm</td>\n",
              "    </tr>\n",
              "    <tr>\n",
              "      <th>3</th>\n",
              "      <td>3</td>\n",
              "      <td>US</td>\n",
              "      <td>Pineapple rind, lemon pith and orange blossom ...</td>\n",
              "      <td>Reserve Late Harvest</td>\n",
              "      <td>87</td>\n",
              "      <td>13.0</td>\n",
              "      <td>Michigan</td>\n",
              "      <td>Lake Michigan Shore</td>\n",
              "      <td>NaN</td>\n",
              "      <td>Alexander Peartree</td>\n",
              "      <td>NaN</td>\n",
              "      <td>St. Julian 2013 Reserve Late Harvest Riesling ...</td>\n",
              "      <td>Riesling</td>\n",
              "      <td>St. Julian</td>\n",
              "    </tr>\n",
              "    <tr>\n",
              "      <th>4</th>\n",
              "      <td>4</td>\n",
              "      <td>US</td>\n",
              "      <td>Much like the regular bottling from 2012, this...</td>\n",
              "      <td>Vintner's Reserve Wild Child Block</td>\n",
              "      <td>87</td>\n",
              "      <td>65.0</td>\n",
              "      <td>Oregon</td>\n",
              "      <td>Willamette Valley</td>\n",
              "      <td>Willamette Valley</td>\n",
              "      <td>Paul Gregutt</td>\n",
              "      <td>@paulgwine</td>\n",
              "      <td>Sweet Cheeks 2012 Vintner's Reserve Wild Child...</td>\n",
              "      <td>Pinot Noir</td>\n",
              "      <td>Sweet Cheeks</td>\n",
              "    </tr>\n",
              "  </tbody>\n",
              "</table>\n",
              "</div>\n",
              "      <button class=\"colab-df-convert\" onclick=\"convertToInteractive('df-49688243-b459-4de1-b336-ab1428f4a0a6')\"\n",
              "              title=\"Convert this dataframe to an interactive table.\"\n",
              "              style=\"display:none;\">\n",
              "\n",
              "  <svg xmlns=\"http://www.w3.org/2000/svg\" height=\"24px\"viewBox=\"0 0 24 24\"\n",
              "       width=\"24px\">\n",
              "    <path d=\"M0 0h24v24H0V0z\" fill=\"none\"/>\n",
              "    <path d=\"M18.56 5.44l.94 2.06.94-2.06 2.06-.94-2.06-.94-.94-2.06-.94 2.06-2.06.94zm-11 1L8.5 8.5l.94-2.06 2.06-.94-2.06-.94L8.5 2.5l-.94 2.06-2.06.94zm10 10l.94 2.06.94-2.06 2.06-.94-2.06-.94-.94-2.06-.94 2.06-2.06.94z\"/><path d=\"M17.41 7.96l-1.37-1.37c-.4-.4-.92-.59-1.43-.59-.52 0-1.04.2-1.43.59L10.3 9.45l-7.72 7.72c-.78.78-.78 2.05 0 2.83L4 21.41c.39.39.9.59 1.41.59.51 0 1.02-.2 1.41-.59l7.78-7.78 2.81-2.81c.8-.78.8-2.07 0-2.86zM5.41 20L4 18.59l7.72-7.72 1.47 1.35L5.41 20z\"/>\n",
              "  </svg>\n",
              "      </button>\n",
              "\n",
              "\n",
              "\n",
              "    <div id=\"df-c602a6c9-8513-4611-af3a-d75e79d43500\">\n",
              "      <button class=\"colab-df-quickchart\" onclick=\"quickchart('df-c602a6c9-8513-4611-af3a-d75e79d43500')\"\n",
              "              title=\"Suggest charts.\"\n",
              "              style=\"display:none;\">\n",
              "\n",
              "<svg xmlns=\"http://www.w3.org/2000/svg\" height=\"24px\"viewBox=\"0 0 24 24\"\n",
              "     width=\"24px\">\n",
              "    <g>\n",
              "        <path d=\"M19 3H5c-1.1 0-2 .9-2 2v14c0 1.1.9 2 2 2h14c1.1 0 2-.9 2-2V5c0-1.1-.9-2-2-2zM9 17H7v-7h2v7zm4 0h-2V7h2v10zm4 0h-2v-4h2v4z\"/>\n",
              "    </g>\n",
              "</svg>\n",
              "      </button>\n",
              "    </div>\n",
              "\n",
              "<style>\n",
              "  .colab-df-quickchart {\n",
              "    background-color: #E8F0FE;\n",
              "    border: none;\n",
              "    border-radius: 50%;\n",
              "    cursor: pointer;\n",
              "    display: none;\n",
              "    fill: #1967D2;\n",
              "    height: 32px;\n",
              "    padding: 0 0 0 0;\n",
              "    width: 32px;\n",
              "  }\n",
              "\n",
              "  .colab-df-quickchart:hover {\n",
              "    background-color: #E2EBFA;\n",
              "    box-shadow: 0px 1px 2px rgba(60, 64, 67, 0.3), 0px 1px 3px 1px rgba(60, 64, 67, 0.15);\n",
              "    fill: #174EA6;\n",
              "  }\n",
              "\n",
              "  [theme=dark] .colab-df-quickchart {\n",
              "    background-color: #3B4455;\n",
              "    fill: #D2E3FC;\n",
              "  }\n",
              "\n",
              "  [theme=dark] .colab-df-quickchart:hover {\n",
              "    background-color: #434B5C;\n",
              "    box-shadow: 0px 1px 3px 1px rgba(0, 0, 0, 0.15);\n",
              "    filter: drop-shadow(0px 1px 2px rgba(0, 0, 0, 0.3));\n",
              "    fill: #FFFFFF;\n",
              "  }\n",
              "</style>\n",
              "\n",
              "    <script>\n",
              "      async function quickchart(key) {\n",
              "        const containerElement = document.querySelector('#' + key);\n",
              "        const charts = await google.colab.kernel.invokeFunction(\n",
              "            'suggestCharts', [key], {});\n",
              "      }\n",
              "    </script>\n",
              "\n",
              "      <script>\n",
              "\n",
              "function displayQuickchartButton(domScope) {\n",
              "  let quickchartButtonEl =\n",
              "    domScope.querySelector('#df-c602a6c9-8513-4611-af3a-d75e79d43500 button.colab-df-quickchart');\n",
              "  quickchartButtonEl.style.display =\n",
              "    google.colab.kernel.accessAllowed ? 'block' : 'none';\n",
              "}\n",
              "\n",
              "        displayQuickchartButton(document);\n",
              "      </script>\n",
              "      <style>\n",
              "    .colab-df-container {\n",
              "      display:flex;\n",
              "      flex-wrap:wrap;\n",
              "      gap: 12px;\n",
              "    }\n",
              "\n",
              "    .colab-df-convert {\n",
              "      background-color: #E8F0FE;\n",
              "      border: none;\n",
              "      border-radius: 50%;\n",
              "      cursor: pointer;\n",
              "      display: none;\n",
              "      fill: #1967D2;\n",
              "      height: 32px;\n",
              "      padding: 0 0 0 0;\n",
              "      width: 32px;\n",
              "    }\n",
              "\n",
              "    .colab-df-convert:hover {\n",
              "      background-color: #E2EBFA;\n",
              "      box-shadow: 0px 1px 2px rgba(60, 64, 67, 0.3), 0px 1px 3px 1px rgba(60, 64, 67, 0.15);\n",
              "      fill: #174EA6;\n",
              "    }\n",
              "\n",
              "    [theme=dark] .colab-df-convert {\n",
              "      background-color: #3B4455;\n",
              "      fill: #D2E3FC;\n",
              "    }\n",
              "\n",
              "    [theme=dark] .colab-df-convert:hover {\n",
              "      background-color: #434B5C;\n",
              "      box-shadow: 0px 1px 3px 1px rgba(0, 0, 0, 0.15);\n",
              "      filter: drop-shadow(0px 1px 2px rgba(0, 0, 0, 0.3));\n",
              "      fill: #FFFFFF;\n",
              "    }\n",
              "  </style>\n",
              "\n",
              "      <script>\n",
              "        const buttonEl =\n",
              "          document.querySelector('#df-49688243-b459-4de1-b336-ab1428f4a0a6 button.colab-df-convert');\n",
              "        buttonEl.style.display =\n",
              "          google.colab.kernel.accessAllowed ? 'block' : 'none';\n",
              "\n",
              "        async function convertToInteractive(key) {\n",
              "          const element = document.querySelector('#df-49688243-b459-4de1-b336-ab1428f4a0a6');\n",
              "          const dataTable =\n",
              "            await google.colab.kernel.invokeFunction('convertToInteractive',\n",
              "                                                     [key], {});\n",
              "          if (!dataTable) return;\n",
              "\n",
              "          const docLinkHtml = 'Like what you see? Visit the ' +\n",
              "            '<a target=\"_blank\" href=https://colab.research.google.com/notebooks/data_table.ipynb>data table notebook</a>'\n",
              "            + ' to learn more about interactive tables.';\n",
              "          element.innerHTML = '';\n",
              "          dataTable['output_type'] = 'display_data';\n",
              "          await google.colab.output.renderOutput(dataTable, element);\n",
              "          const docLink = document.createElement('div');\n",
              "          docLink.innerHTML = docLinkHtml;\n",
              "          element.appendChild(docLink);\n",
              "        }\n",
              "      </script>\n",
              "    </div>\n",
              "  </div>\n"
            ]
          },
          "metadata": {},
          "execution_count": 93
        }
      ]
    },
    {
      "cell_type": "code",
      "source": [
        "df.info()"
      ],
      "metadata": {
        "colab": {
          "base_uri": "https://localhost:8080/"
        },
        "id": "zovCwtxU-e_1",
        "outputId": "d087bfc3-bd8b-41a4-a315-53f1a1ba28e1"
      },
      "execution_count": null,
      "outputs": [
        {
          "output_type": "stream",
          "name": "stdout",
          "text": [
            "<class 'pandas.core.frame.DataFrame'>\n",
            "RangeIndex: 5000 entries, 0 to 4999\n",
            "Data columns (total 14 columns):\n",
            " #   Column                 Non-Null Count  Dtype  \n",
            "---  ------                 --------------  -----  \n",
            " 0   Unnamed: 0             5000 non-null   int64  \n",
            " 1   country                4997 non-null   object \n",
            " 2   description            5000 non-null   object \n",
            " 3   designation            3523 non-null   object \n",
            " 4   points                 5000 non-null   int64  \n",
            " 5   price                  4657 non-null   float64\n",
            " 6   province               4997 non-null   object \n",
            " 7   region_1               4208 non-null   object \n",
            " 8   region_2               1956 non-null   object \n",
            " 9   taster_name            3969 non-null   object \n",
            " 10  taster_twitter_handle  3794 non-null   object \n",
            " 11  title                  5000 non-null   object \n",
            " 12  variety                5000 non-null   object \n",
            " 13  winery                 5000 non-null   object \n",
            "dtypes: float64(1), int64(2), object(11)\n",
            "memory usage: 547.0+ KB\n"
          ]
        }
      ]
    },
    {
      "cell_type": "code",
      "source": [
        "df.isnull().sum()"
      ],
      "metadata": {
        "colab": {
          "base_uri": "https://localhost:8080/"
        },
        "id": "hMF3cd1_-u7_",
        "outputId": "3b23d79f-a129-461a-8fc8-cccd1e3c3b09"
      },
      "execution_count": null,
      "outputs": [
        {
          "output_type": "execute_result",
          "data": {
            "text/plain": [
              "Unnamed: 0                  0\n",
              "country                     3\n",
              "description                 0\n",
              "designation              1477\n",
              "points                      0\n",
              "price                     343\n",
              "province                    3\n",
              "region_1                  792\n",
              "region_2                 3044\n",
              "taster_name              1031\n",
              "taster_twitter_handle    1206\n",
              "title                       0\n",
              "variety                     0\n",
              "winery                      0\n",
              "dtype: int64"
            ]
          },
          "metadata": {},
          "execution_count": 95
        }
      ]
    },
    {
      "cell_type": "code",
      "source": [
        "from nltk.tokenize import word_tokenize\n",
        "import nltk\n",
        "nltk.download('punkt')"
      ],
      "metadata": {
        "id": "jgzNyPL7-wxy",
        "colab": {
          "base_uri": "https://localhost:8080/"
        },
        "outputId": "de64f9a8-25aa-4849-a356-341d6c4a5a8c"
      },
      "execution_count": null,
      "outputs": [
        {
          "output_type": "stream",
          "name": "stderr",
          "text": [
            "[nltk_data] Downloading package punkt to /root/nltk_data...\n",
            "[nltk_data]   Package punkt is already up-to-date!\n"
          ]
        },
        {
          "output_type": "execute_result",
          "data": {
            "text/plain": [
              "True"
            ]
          },
          "metadata": {},
          "execution_count": 96
        }
      ]
    },
    {
      "cell_type": "code",
      "source": [
        "describe = df.description"
      ],
      "metadata": {
        "id": "PeMrtgQqACQC"
      },
      "execution_count": null,
      "outputs": []
    },
    {
      "cell_type": "code",
      "source": [
        "describe"
      ],
      "metadata": {
        "colab": {
          "base_uri": "https://localhost:8080/"
        },
        "id": "kbPO0YKSAGTH",
        "outputId": "6e5b9174-9579-4e9d-bb05-44fe58c24a95"
      },
      "execution_count": null,
      "outputs": [
        {
          "output_type": "execute_result",
          "data": {
            "text/plain": [
              "0       Aromas include tropical fruit, broom, brimston...\n",
              "1       This is ripe and fruity, a wine that is smooth...\n",
              "2       Tart and snappy, the flavors of lime flesh and...\n",
              "3       Pineapple rind, lemon pith and orange blossom ...\n",
              "4       Much like the regular bottling from 2012, this...\n",
              "                              ...                        \n",
              "4995    Sweaty and pungent, loaded with overtones of c...\n",
              "4996    Here's a well-toasted red wine from Southern I...\n",
              "4997    Candied fruit and caramel ride on the back of ...\n",
              "4998    This Cabernet Sauvignon-Syrah blend is soft an...\n",
              "4999    Pungent, zesty and quite varietal in its expre...\n",
              "Name: description, Length: 5000, dtype: object"
            ]
          },
          "metadata": {},
          "execution_count": 98
        }
      ]
    },
    {
      "cell_type": "code",
      "source": [
        "# 전부 소문자로 바꿔주기\n",
        "describe = describe.apply(lambda x:x.lower())\n",
        "\n",
        "# word tokenizer로 단어단위로 구분\n",
        "describe = describe.apply(lambda x:word_tokenize(x))"
      ],
      "metadata": {
        "id": "qqHQMqUZAJ5D"
      },
      "execution_count": null,
      "outputs": []
    },
    {
      "cell_type": "code",
      "source": [
        "# 불용어 제거 및 3글자 이하 버리기\n",
        "describe = describe.apply(lambda x:[word for word in x if len(word) > 3])"
      ],
      "metadata": {
        "id": "wJxUld1p98wF"
      },
      "execution_count": null,
      "outputs": []
    },
    {
      "cell_type": "code",
      "source": [
        "import nltk\n",
        "from nltk.corpus import stopwords"
      ],
      "metadata": {
        "id": "qcRjSbr4-wUx"
      },
      "execution_count": null,
      "outputs": []
    },
    {
      "cell_type": "code",
      "source": [
        "nltk.download('stopwords')\n",
        "stop_words = stopwords.words('english')"
      ],
      "metadata": {
        "id": "lvrYkZ77AshA",
        "colab": {
          "base_uri": "https://localhost:8080/"
        },
        "outputId": "af98c851-dd7f-419c-ac64-1f67d85de1cd"
      },
      "execution_count": null,
      "outputs": [
        {
          "output_type": "stream",
          "name": "stderr",
          "text": [
            "[nltk_data] Downloading package stopwords to /root/nltk_data...\n",
            "[nltk_data]   Package stopwords is already up-to-date!\n"
          ]
        }
      ]
    },
    {
      "cell_type": "code",
      "source": [
        "import re\n",
        "describe = describe.apply(lambda x: [word for word in x if word not in stop_words])"
      ],
      "metadata": {
        "id": "XDoghQ2ZBK4O"
      },
      "execution_count": null,
      "outputs": []
    },
    {
      "cell_type": "code",
      "source": [
        "describe.head()"
      ],
      "metadata": {
        "id": "7jSRKmWNBjgr",
        "colab": {
          "base_uri": "https://localhost:8080/"
        },
        "outputId": "6dda0bb1-24b0-4c92-f2f2-13e4eb0baf3c"
      },
      "execution_count": null,
      "outputs": [
        {
          "output_type": "execute_result",
          "data": {
            "text/plain": [
              "0    [aromas, include, tropical, fruit, broom, brim...\n",
              "1    [ripe, fruity, wine, smooth, still, structured...\n",
              "2    [tart, snappy, flavors, lime, flesh, rind, dom...\n",
              "3    [pineapple, rind, lemon, pith, orange, blossom...\n",
              "4    [much, like, regular, bottling, 2012, comes, a...\n",
              "Name: description, dtype: object"
            ]
          },
          "metadata": {},
          "execution_count": 104
        }
      ]
    },
    {
      "cell_type": "code",
      "source": [
        "from sklearn.feature_extraction.text import TfidfVectorizer"
      ],
      "metadata": {
        "id": "aTmDGExsCrcp"
      },
      "execution_count": null,
      "outputs": []
    },
    {
      "cell_type": "code",
      "source": [
        "tfidf_vec = TfidfVectorizer()"
      ],
      "metadata": {
        "id": "c54RCYO7ZoOh"
      },
      "execution_count": null,
      "outputs": []
    },
    {
      "cell_type": "code",
      "source": [
        "# 문자열로 만들기\n",
        "describe = describe.apply(lambda x: ' '.join(x))"
      ],
      "metadata": {
        "id": "E4vi1xAgZ1uT"
      },
      "execution_count": null,
      "outputs": []
    },
    {
      "cell_type": "code",
      "source": [
        "describe.head()"
      ],
      "metadata": {
        "colab": {
          "base_uri": "https://localhost:8080/"
        },
        "id": "YD9-yFocAxJR",
        "outputId": "b5f3b42b-6cf1-4871-e146-5ef161dfc8c5"
      },
      "execution_count": null,
      "outputs": [
        {
          "output_type": "execute_result",
          "data": {
            "text/plain": [
              "0    aromas include tropical fruit broom brimstone ...\n",
              "1    ripe fruity wine smooth still structured firm ...\n",
              "2    tart snappy flavors lime flesh rind dominate g...\n",
              "3    pineapple rind lemon pith orange blossom start...\n",
              "4    much like regular bottling 2012 comes across r...\n",
              "Name: description, dtype: object"
            ]
          },
          "metadata": {},
          "execution_count": 108
        }
      ]
    },
    {
      "cell_type": "code",
      "source": [
        "type(describe[0])"
      ],
      "metadata": {
        "colab": {
          "base_uri": "https://localhost:8080/"
        },
        "id": "o57JbOOzHiO7",
        "outputId": "b78202a2-f382-4353-fe2a-42666536c444"
      },
      "execution_count": null,
      "outputs": [
        {
          "output_type": "execute_result",
          "data": {
            "text/plain": [
              "str"
            ]
          },
          "metadata": {},
          "execution_count": 109
        }
      ]
    },
    {
      "cell_type": "code",
      "source": [
        "tf_vec = tfidf_vec.fit_transform(describe)"
      ],
      "metadata": {
        "id": "Dyx0vdaifJ03"
      },
      "execution_count": null,
      "outputs": []
    },
    {
      "cell_type": "code",
      "source": [
        "tf_vec.shape"
      ],
      "metadata": {
        "colab": {
          "base_uri": "https://localhost:8080/"
        },
        "id": "-Qn6MMOKfNul",
        "outputId": "24546c93-27f0-43c6-f0ba-e6b39350243c"
      },
      "execution_count": null,
      "outputs": [
        {
          "output_type": "execute_result",
          "data": {
            "text/plain": [
              "(5000, 8080)"
            ]
          },
          "metadata": {},
          "execution_count": 112
        }
      ]
    },
    {
      "cell_type": "code",
      "source": [
        "tf_vec = tf_vec.toarray()"
      ],
      "metadata": {
        "id": "ZlitIMR4f-Z_"
      },
      "execution_count": null,
      "outputs": []
    },
    {
      "cell_type": "code",
      "source": [
        "describe[0]"
      ],
      "metadata": {
        "colab": {
          "base_uri": "https://localhost:8080/",
          "height": 35
        },
        "id": "c9QHwvEWIbYh",
        "outputId": "b0a10e02-aa6e-435c-e8f7-cfb9fd8ca14d"
      },
      "execution_count": null,
      "outputs": [
        {
          "output_type": "execute_result",
          "data": {
            "text/plain": [
              "'aromas include tropical fruit broom brimstone dried herb palate overly expressive offering unripened apple citrus dried sage alongside brisk acidity'"
            ],
            "application/vnd.google.colaboratory.intrinsic+json": {
              "type": "string"
            }
          },
          "metadata": {},
          "execution_count": 120
        }
      ]
    },
    {
      "cell_type": "code",
      "source": [
        "temp = [t for t in tf_vec[0] if t > 0]\n",
        "len(temp)"
      ],
      "metadata": {
        "colab": {
          "base_uri": "https://localhost:8080/"
        },
        "id": "Izt8LvfGA5wl",
        "outputId": "47009790-30d4-4906-bf91-538804c2d527"
      },
      "execution_count": null,
      "outputs": [
        {
          "output_type": "execute_result",
          "data": {
            "text/plain": [
              "19"
            ]
          },
          "metadata": {},
          "execution_count": 118
        }
      ]
    },
    {
      "cell_type": "code",
      "source": [
        "tf_vec.shape"
      ],
      "metadata": {
        "colab": {
          "base_uri": "https://localhost:8080/"
        },
        "id": "RqaTgd-hBZdd",
        "outputId": "d9c921ba-c6c1-4ac4-c60e-774cc42df416"
      },
      "execution_count": null,
      "outputs": [
        {
          "output_type": "execute_result",
          "data": {
            "text/plain": [
              "(5000, 8080)"
            ]
          },
          "metadata": {},
          "execution_count": 121
        }
      ]
    },
    {
      "cell_type": "code",
      "source": [
        "from sklearn.metrics.pairwise import cosine_similarity"
      ],
      "metadata": {
        "id": "52SuMviWA66Y"
      },
      "execution_count": null,
      "outputs": []
    },
    {
      "cell_type": "code",
      "source": [
        "cosine_sim = cosine_similarity(tf_vec, tf_vec)\n",
        "cosine_sim.shape"
      ],
      "metadata": {
        "colab": {
          "base_uri": "https://localhost:8080/"
        },
        "id": "mMFCOmyWBOKp",
        "outputId": "68c75d33-d84a-4ce6-f800-10aa37ecb5d2"
      },
      "execution_count": null,
      "outputs": [
        {
          "output_type": "execute_result",
          "data": {
            "text/plain": [
              "(5000, 5000)"
            ]
          },
          "metadata": {},
          "execution_count": 123
        }
      ]
    },
    {
      "cell_type": "code",
      "source": [
        "cosine_sim[0]"
      ],
      "metadata": {
        "colab": {
          "base_uri": "https://localhost:8080/"
        },
        "id": "k6uiZihUJmLC",
        "outputId": "fa50952b-3a51-47a5-b7e5-3053889d1102"
      },
      "execution_count": null,
      "outputs": [
        {
          "output_type": "execute_result",
          "data": {
            "text/plain": [
              "array([1.        , 0.01135759, 0.01042356, ..., 0.00721141, 0.        ,\n",
              "       0.02759952])"
            ]
          },
          "metadata": {},
          "execution_count": 124
        }
      ]
    },
    {
      "cell_type": "code",
      "source": [
        "df.title.head()"
      ],
      "metadata": {
        "colab": {
          "base_uri": "https://localhost:8080/"
        },
        "id": "y4HPbRQRBiSe",
        "outputId": "c81c5546-69b2-47df-b24b-b558f88955d7"
      },
      "execution_count": null,
      "outputs": [
        {
          "output_type": "execute_result",
          "data": {
            "text/plain": [
              "0                    Nicosia 2013 Vulkà Bianco  (Etna)\n",
              "1        Quinta dos Avidagos 2011 Avidagos Red (Douro)\n",
              "2        Rainstorm 2013 Pinot Gris (Willamette Valley)\n",
              "3    St. Julian 2013 Reserve Late Harvest Riesling ...\n",
              "4    Sweet Cheeks 2012 Vintner's Reserve Wild Child...\n",
              "Name: title, dtype: object"
            ]
          },
          "metadata": {},
          "execution_count": 125
        }
      ]
    },
    {
      "cell_type": "code",
      "source": [
        "temp = df.title.iloc[0]\n",
        "temp"
      ],
      "metadata": {
        "colab": {
          "base_uri": "https://localhost:8080/",
          "height": 35
        },
        "id": "1Ucxlz7RB0UR",
        "outputId": "4f670bad-75e4-470e-f20f-6ae536892e14"
      },
      "execution_count": null,
      "outputs": [
        {
          "output_type": "execute_result",
          "data": {
            "text/plain": [
              "'Nicosia 2013 Vulkà Bianco  (Etna)'"
            ],
            "application/vnd.google.colaboratory.intrinsic+json": {
              "type": "string"
            }
          },
          "metadata": {},
          "execution_count": 126
        }
      ]
    },
    {
      "cell_type": "code",
      "source": [
        "data = dict(zip(df.title, df.index))\n",
        "data[temp]"
      ],
      "metadata": {
        "colab": {
          "base_uri": "https://localhost:8080/"
        },
        "id": "QhkT7xPTBlYY",
        "outputId": "b0037ed7-47af-42a1-ddb2-35513c51ed12"
      },
      "execution_count": null,
      "outputs": [
        {
          "output_type": "execute_result",
          "data": {
            "text/plain": [
              "0"
            ]
          },
          "metadata": {},
          "execution_count": 129
        }
      ]
    },
    {
      "cell_type": "code",
      "source": [
        "def recommand(title): # t에는 제목 전달, cosine_sim 선언 및 초기화\n",
        "  idx = data[title] # 와인 이름 반환\n",
        "  # print(cos_sim[idx]) # 근데 사실 nd.array() 자료구조는 기본적으로 list와 거의 동일하고,\n",
        "                       # list 자료구조는 global에서 사용되기 때문에 변수로 지정 안해줘도 됨\n",
        "  sim_scores = list(enumerate(cosine_sim[idx])) # (index, cos_score) 형태로 저장됨.\n",
        "  temp = sorted(sim_scores, key=lambda x:x[1], reverse=True)\n",
        "\n",
        "  return(temp[1:11])"
      ],
      "metadata": {
        "id": "B1AKKpqsA-Y7"
      },
      "execution_count": null,
      "outputs": []
    },
    {
      "cell_type": "code",
      "source": [
        "recommand(temp)"
      ],
      "metadata": {
        "colab": {
          "base_uri": "https://localhost:8080/"
        },
        "id": "o6L1lAi-CEmX",
        "outputId": "928cfebe-4e2a-4d52-aca4-15995255edbf"
      },
      "execution_count": null,
      "outputs": [
        {
          "output_type": "execute_result",
          "data": {
            "text/plain": [
              "[(2000, 0.29091252320429173),\n",
              " (4033, 0.2485239701894266),\n",
              " (1036, 0.24416432060934953),\n",
              " (908, 0.22219078073821913),\n",
              " (4053, 0.21219280693431058),\n",
              " (677, 0.20599018665238691),\n",
              " (3908, 0.20559460827468318),\n",
              " (1181, 0.1948546039803392),\n",
              " (2725, 0.19136170647914286),\n",
              " (917, 0.18642716598896744)]"
            ]
          },
          "metadata": {},
          "execution_count": 135
        }
      ]
    },
    {
      "cell_type": "code",
      "source": [
        "def get_title(recommanded=recommand):\n",
        "  result = [df.title.iloc[idx] for idx, cosine_sim in recommanded]\n",
        "  return result\n",
        "\n",
        "res = get_title(recommand(temp))\n",
        "for title in res:\n",
        "  print(title)"
      ],
      "metadata": {
        "colab": {
          "base_uri": "https://localhost:8080/"
        },
        "id": "IV5QGlFbCZWm",
        "outputId": "fe1a2e44-db75-4889-b9ba-d6565361b6f1"
      },
      "execution_count": null,
      "outputs": [
        {
          "output_type": "stream",
          "name": "stdout",
          "text": [
            "Feudi del Pisciotto 2013 Baglio del Sole Inzolia (Sicilia)\n",
            "Chateau Ste. Michelle 2015 Horse Heaven Vineyard Sauvignon Blanc (Horse Heaven Hills)\n",
            "Vivera 2010 Salisire Bianco  (Etna)\n",
            "Cascina Bruciata 2013  Barbaresco\n",
            "Cecilia Beretta 2011 Terre di Cariano Riserva  (Amarone della Valpolicella Classico)\n",
            "Baracchi Riccardo 2011 Smeriglio Riserva Syrah (Cortona)\n",
            "La Rajade 2014 Friulano (Collio)\n",
            "Bel Colle 2013 Montersino  (Barbaresco)\n",
            "MandraRossa 2015 Urra di Mare Sauvignon (Sicilia)\n",
            "Deltetto 2012 Bussia  (Barolo)\n"
          ]
        }
      ]
    },
    {
      "cell_type": "code",
      "source": [],
      "metadata": {
        "id": "GrqzHFNnKakP"
      },
      "execution_count": null,
      "outputs": []
    }
  ]
}
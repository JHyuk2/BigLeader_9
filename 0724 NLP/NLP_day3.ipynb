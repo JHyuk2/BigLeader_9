{
  "nbformat": 4,
  "nbformat_minor": 0,
  "metadata": {
    "colab": {
      "provenance": []
    },
    "kernelspec": {
      "name": "python3",
      "display_name": "Python 3"
    },
    "language_info": {
      "name": "python"
    }
  },
  "cells": [
    {
      "cell_type": "code",
      "execution_count": null,
      "metadata": {
        "id": "Hgt8rECVh1ZT"
      },
      "outputs": [],
      "source": [
        "# 국립국어원에서 오픈api를 사용해서 도움을 받을 수 있음.\n",
        "\n",
        "\n",
        "'''\n",
        "# 신경망\n",
        "# batch_size 가 의미하는 것.\n",
        "우리가 데이터 몇 개를 한 번에 읽고 가중치를 업데이트를 할 것인가?\n",
        "\n",
        "<Back Propagation> -- 역전파\n",
        "\n",
        "1) batch_size = 1:\n",
        "  이미지를 한 장 읽고 역전파 해서 w값을 업데이트\n",
        "2) batch_size = 4:\n",
        "  이미지 4장을 읽은 후 오차 역전파 해서 w값을 업데이트\n",
        "'''"
      ]
    },
    {
      "cell_type": "code",
      "source": [
        "# 오늘 가능하면 LSTM 까지 진행하고,\n",
        "# 내일은 word2vec까지 다뤄볼 수 있으면 다룰 예정\n",
        "# attention"
      ],
      "metadata": {
        "id": "W8zVRN3SX7RL"
      },
      "execution_count": 1,
      "outputs": []
    },
    {
      "cell_type": "code",
      "source": [
        "'''\n",
        "인공신경망 (Artifiial Neural Network)\n",
        "- 입력: 3차원, 출력: 2차원\n",
        "'''"
      ],
      "metadata": {
        "id": "xKhxa0gpY8gH"
      },
      "execution_count": null,
      "outputs": []
    },
    {
      "cell_type": "code",
      "source": [
        "# python에서 class는 대문자로 시작한다.\n",
        "# pythonic style code\n",
        "# 문서 확인하기.\n",
        "# keras.io\n",
        "\n",
        "from tensorflow.keras.models import Sequential\n",
        "from tensorflow.keras.layers import Dense"
      ],
      "metadata": {
        "id": "avbdO-JAZH7U"
      },
      "execution_count": 2,
      "outputs": []
    },
    {
      "cell_type": "code",
      "source": [
        "# 데이터를 입력받아 출력을 하기까지의 과정에서 사용되는 입력계층의 노드들과\n",
        "# 출력 노드들의 backpropagation을 통해 찾은 예측 결과가 y1, y2\n",
        "\n",
        "model = Sequential()"
      ],
      "metadata": {
        "id": "UpzmjmIZZYsY"
      },
      "execution_count": 25,
      "outputs": []
    },
    {
      "cell_type": "code",
      "source": [
        "# 출력차원 2, 인풋차원 3, 활성화함수는 소프트맥스\n",
        "# y1, y2에 대해 각각의 예측값이 나오고, 각각에 대한 클래스 예측을 한다 = softmax\n",
        "\n",
        "model.add(Dense(2, input_dim=3, activation='softmax'))"
      ],
      "metadata": {
        "id": "K4p0mM43aB7O"
      },
      "execution_count": 22,
      "outputs": []
    },
    {
      "cell_type": "code",
      "source": [
        "model.add(Dense(4, input_dim=8))"
      ],
      "metadata": {
        "id": "ElHJ0XzBc2hN"
      },
      "execution_count": 23,
      "outputs": []
    },
    {
      "cell_type": "code",
      "source": [
        "# 학습시켜야 할 변수들 : parameter (Param #)\n",
        "# input* output + bias  # bias값은 보통 출력층의 갯수와 동일함.(?? 아닐지도)\n",
        "# activation에 값을 주지 않으니까 param 12가 나오네...?\n",
        "model.summary()"
      ],
      "metadata": {
        "colab": {
          "base_uri": "https://localhost:8080/"
        },
        "id": "FDKPpVisbGbs",
        "outputId": "7a2eef87-cac8-4011-8e20-d0726ee54955"
      },
      "execution_count": 24,
      "outputs": [
        {
          "output_type": "stream",
          "name": "stdout",
          "text": [
            "Model: \"sequential_2\"\n",
            "_________________________________________________________________\n",
            " Layer (type)                Output Shape              Param #   \n",
            "=================================================================\n",
            " dense_7 (Dense)             (None, 2)                 8         \n",
            "                                                                 \n",
            " dense_8 (Dense)             (None, 4)                 12        \n",
            "                                                                 \n",
            "=================================================================\n",
            "Total params: 20\n",
            "Trainable params: 20\n",
            "Non-trainable params: 0\n",
            "_________________________________________________________________\n"
          ]
        }
      ]
    },
    {
      "cell_type": "code",
      "source": [
        "'''\n",
        "딥러닝, 특히 RNN같은 곳에서 시간이 지날수록 가중치가 소실되는 현상을\n",
        "Vanishing Gradient 라고 부른다.\n",
        "(오래된 데이터일수록 계속해서 데이터 손실이 일어나고, 나중에 가면 가중치가 희미해진다.)\n",
        "\n",
        "마지막 출력층에서는 softmax, sigmoid를 써서 분류 or 예측(Classification or Regression)하지만,\n",
        "은닉층(Hidden layer)에서까지 모두 사용하게 되면 0~1값으로 나오게 되어 가중치가 점점 줄어들게된다.\n",
        "> 이 현상이 반복되면 vanishing gradient\n",
        "\n",
        "이것을 막기 위해 온전히 데이터를 넘겨줄 수 있는 활성화함수 \"relu\"를 많이 사용.\n",
        "> tanh, leaky relu, parametic relu 등등 있다.\n",
        "\n",
        "'''\n",
        "\n"
      ],
      "metadata": {
        "id": "fMN-hToeduMD"
      },
      "execution_count": null,
      "outputs": []
    },
    {
      "cell_type": "code",
      "source": [
        "model2 = Sequential()\n",
        "model2.add(Dense(8, input_dim=4, activation='relu')) # input - hidden\n",
        "model2.add(Dense(6, activation='relu')) # hidden - hidden, leaky relu"
      ],
      "metadata": {
        "id": "HBW1Gijkc1-x"
      },
      "execution_count": 26,
      "outputs": []
    },
    {
      "cell_type": "code",
      "source": [
        "model2.add(Dense(3, activation='softmax')) # hidden - output"
      ],
      "metadata": {
        "id": "BejbCDHhfbDL"
      },
      "execution_count": 28,
      "outputs": []
    },
    {
      "cell_type": "code",
      "source": [
        "# 1) input- hidden\n",
        "# Param # = input 4 * ouput 8  + bias 8 = 40\n",
        "# 2) hidden - hidden\n",
        "# Param # = hidden(8) * hidden(6) + bias(6) = 54\n",
        "# 3) hidden - output\n",
        "# Param # = hidden(6) * output(3) + bias(3) = 21\n",
        "\n",
        "model2.summary()"
      ],
      "metadata": {
        "colab": {
          "base_uri": "https://localhost:8080/"
        },
        "id": "JqwDwiA2bIpU",
        "outputId": "944bd56c-f091-4603-d44d-2bc7fa5f5d8c"
      },
      "execution_count": 29,
      "outputs": [
        {
          "output_type": "stream",
          "name": "stdout",
          "text": [
            "Model: \"sequential_4\"\n",
            "_________________________________________________________________\n",
            " Layer (type)                Output Shape              Param #   \n",
            "=================================================================\n",
            " dense_9 (Dense)             (None, 8)                 40        \n",
            "                                                                 \n",
            " dense_10 (Dense)            (None, 6)                 54        \n",
            "                                                                 \n",
            " dense_11 (Dense)            (None, 3)                 21        \n",
            "                                                                 \n",
            "=================================================================\n",
            "Total params: 115\n",
            "Trainable params: 115\n",
            "Non-trainable params: 0\n",
            "_________________________________________________________________\n"
          ]
        }
      ]
    },
    {
      "cell_type": "code",
      "source": [
        "'''\n",
        "# 딥러닝 프레임워크(framework)\n",
        ">> tensorflow, keras, pytorch\n",
        "\n",
        "# framework란?\n",
        "- 기틀, 기반, 뼈대\n",
        "\n",
        "tensorflow에서 자연어처리를 위해 제공하는 함수들\n",
        "'''"
      ],
      "metadata": {
        "id": "u0gV3FX7e8yD"
      },
      "execution_count": null,
      "outputs": []
    },
    {
      "cell_type": "code",
      "source": [
        "from tensorflow.keras.layers import Dense, Embedding, SimpleRNN\n",
        "from tensorflow.keras.preprocessing.text import Tokenizer\n",
        "from tensorflow.keras.preprocessing.sequence import pad_sequences"
      ],
      "metadata": {
        "id": "jfIf41D-g8gp"
      },
      "execution_count": 1,
      "outputs": []
    },
    {
      "cell_type": "code",
      "source": [
        "tok = Tokenizer()"
      ],
      "metadata": {
        "id": "uBHV25PmhBkk"
      },
      "execution_count": 2,
      "outputs": []
    },
    {
      "cell_type": "code",
      "source": [
        "train = \"Can I look around?\"\n",
        "tok.fit_on_texts([train]) # Voca_사전 생성"
      ],
      "metadata": {
        "id": "3-w7c7yXho9j"
      },
      "execution_count": 3,
      "outputs": []
    },
    {
      "cell_type": "code",
      "source": [
        "tok.word_docs"
      ],
      "metadata": {
        "colab": {
          "base_uri": "https://localhost:8080/"
        },
        "id": "P5WbnB0XiGs1",
        "outputId": "ded7148d-0c90-42fa-9e46-66570ee818d6"
      },
      "execution_count": 4,
      "outputs": [
        {
          "output_type": "execute_result",
          "data": {
            "text/plain": [
              "defaultdict(int, {'i': 1, 'around': 1, 'can': 1, 'look': 1})"
            ]
          },
          "metadata": {},
          "execution_count": 4
        }
      ]
    },
    {
      "cell_type": "code",
      "source": [
        "tok.index_word"
      ],
      "metadata": {
        "colab": {
          "base_uri": "https://localhost:8080/"
        },
        "id": "843ERvMpiJbi",
        "outputId": "0e011454-05d4-4644-c1e4-89b7cd5859c3"
      },
      "execution_count": 5,
      "outputs": [
        {
          "output_type": "execute_result",
          "data": {
            "text/plain": [
              "{1: 'can', 2: 'i', 3: 'look', 4: 'around'}"
            ]
          },
          "metadata": {},
          "execution_count": 5
        }
      ]
    },
    {
      "cell_type": "code",
      "source": [
        "# 단어가 먼저 나오고 인덱스가 다음에\n",
        "tok.word_index"
      ],
      "metadata": {
        "colab": {
          "base_uri": "https://localhost:8080/"
        },
        "id": "0S2ahgF1iSVb",
        "outputId": "51133239-6334-4baf-94c3-1fc626cd5cc3"
      },
      "execution_count": 6,
      "outputs": [
        {
          "output_type": "execute_result",
          "data": {
            "text/plain": [
              "{'can': 1, 'i': 2, 'look': 3, 'around': 4}"
            ]
          },
          "metadata": {},
          "execution_count": 6
        }
      ]
    },
    {
      "cell_type": "code",
      "source": [
        "# 새로운 문장을 인코딩\n",
        "text = \"Can I look at my phone after lasik\""
      ],
      "metadata": {
        "id": "bdpH2tHtiY7V"
      },
      "execution_count": 7,
      "outputs": []
    },
    {
      "cell_type": "code",
      "source": [
        "# text를 sequence로 바꿔준다.\n",
        "tok.texts_to_sequences([text])"
      ],
      "metadata": {
        "colab": {
          "base_uri": "https://localhost:8080/"
        },
        "id": "jBxFXbG1jIPU",
        "outputId": "03781900-58e1-4461-9248-e38a4dada67c"
      },
      "execution_count": 8,
      "outputs": [
        {
          "output_type": "execute_result",
          "data": {
            "text/plain": [
              "[[1, 2, 3]]"
            ]
          },
          "metadata": {},
          "execution_count": 8
        }
      ]
    },
    {
      "cell_type": "code",
      "source": [
        "seq = tok.texts_to_sequences([text])[0]\n",
        "seq"
      ],
      "metadata": {
        "colab": {
          "base_uri": "https://localhost:8080/"
        },
        "id": "C2DcCXWejYgH",
        "outputId": "1339b18e-e8a2-46d0-c755-d9a1fc0605ad"
      },
      "execution_count": 9,
      "outputs": [
        {
          "output_type": "execute_result",
          "data": {
            "text/plain": [
              "[1, 2, 3]"
            ]
          },
          "metadata": {},
          "execution_count": 9
        }
      ]
    },
    {
      "cell_type": "code",
      "source": [
        "# padding maxlen 을 하면 길이를 잘라준다. 기본 padding = 'pre'\n",
        "pad_sequences([[1,2,3], [2,3], [3,4,5,6]], maxlen=3)"
      ],
      "metadata": {
        "colab": {
          "base_uri": "https://localhost:8080/"
        },
        "id": "vvJZg0oHnVNH",
        "outputId": "de627983-44a8-4e06-cb48-b8c714e1ab35"
      },
      "execution_count": 10,
      "outputs": [
        {
          "output_type": "execute_result",
          "data": {
            "text/plain": [
              "array([[1, 2, 3],\n",
              "       [0, 2, 3],\n",
              "       [4, 5, 6]], dtype=int32)"
            ]
          },
          "metadata": {},
          "execution_count": 10
        }
      ]
    },
    {
      "cell_type": "code",
      "source": [
        "# padding='post' 라는 값을 넣어줌으로써 뒤에 0이 붙는다. 앞이 잘리는건 똑같음\n",
        "pad_sequences([[1,2,3], [2,3], [3,4,5,6]], maxlen=3, padding='post')"
      ],
      "metadata": {
        "colab": {
          "base_uri": "https://localhost:8080/"
        },
        "id": "LKFW62XQn0Mf",
        "outputId": "f9234836-2e9e-4ba8-b2a4-a7f4e0b6f4e5"
      },
      "execution_count": 12,
      "outputs": [
        {
          "output_type": "execute_result",
          "data": {
            "text/plain": [
              "array([[1, 2, 3],\n",
              "       [2, 3, 0],\n",
              "       [4, 5, 6]], dtype=int32)"
            ]
          },
          "metadata": {},
          "execution_count": 12
        }
      ]
    },
    {
      "cell_type": "code",
      "source": [
        "# 왜 padding의 기본값이 pre일까?\n",
        "# 단어를 뒤로 밀수록 모델의 학습 과정에서 가중치가 더 올라간다. (pre를 쓰는 이유)\n",
        "# >> - 최근에 배운 내용을 더 잘 기억할 수 있기에, output 근처로 미룰수록 효과가 증대\n",
        "# 즉, 패딩을 포스트로 해서 0이 맨 마지막에 오게 되면, 결과값에서 의미없는 0이 가장 큰 의미를 갖는 모순이 발생.\n",
        "\n",
        "# 그럼 항상 pre가 좋은가? > 그건 또 아님.\n",
        "# 우리가 지금 배우는 건 단방향 LSTM --> 양방향 LSTM도 존재함(bi-LSTM)\n",
        "# bi-LSTM 구조에서는 post를 사용하는것도 괜찮은 방법일 수 있음."
      ],
      "metadata": {
        "id": "ULgjCYZRn9mt"
      },
      "execution_count": 13,
      "outputs": []
    },
    {
      "cell_type": "code",
      "source": [
        "\"\"\"\n",
        "- 원핫인코딩을 사용하게 되면, 자연어 데이터 특성상 sparse matrix가 나오게 되고,\n",
        "공간의 낭비가 심해진다. (대부분 0)\n",
        "\n",
        "<Embedding Vector>\n",
        " 임베딩벡터 : 메모리를 적게 차지, 실수값을 반환\n",
        "\n",
        "\n",
        "\n",
        "// 임베딩 차원으로 줄여주는 모듈\n",
        "ex) 1만차원 원핫벡터 -> 10차원 임베딩 벡터  # 차원을 대폭 줄일 수 있다.\n",
        "# from tensorflow.keras.layers import Embedding\n",
        "\n",
        "model.add(Dense()) : Fully Conected Layer (FCL)\n",
        "model.add(Embedding()) : Embedding Vector로 맞춰주는 작업.\n",
        "\n",
        "model.add(Embedding(vocab_size=$사전의 차원, output_dim, 3(입력문장의 길이_padding ~ maxlen) ))\n",
        "model.add(Dense())\n",
        "\"\"\""
      ],
      "metadata": {
        "id": "4EHU0SOnpTej"
      },
      "execution_count": null,
      "outputs": []
    },
    {
      "cell_type": "code",
      "source": [
        "import pandas as pd\n",
        "from sklearn.datasets import fetch_20newsgroups\n",
        "import matplotlib.pyplot as plt\n",
        "# matplotlib.org / plotly.com / tableau.com  - 시각화 사이트\n",
        "# folium.org - 지도 그려주는 사이트\n",
        "# seaborn, pandas - DataFrame, heatmap, correlation\n",
        "from tensorflow.keras.utils import to_categorical # categorical value로 바꿔주는 함수\n",
        "\n",
        "news = fetch_20newsgroups(subset='train')"
      ],
      "metadata": {
        "id": "sKWzsr3Lqvll"
      },
      "execution_count": 15,
      "outputs": []
    },
    {
      "cell_type": "code",
      "source": [
        "news"
      ],
      "metadata": {
        "id": "9KHhysnquSi8"
      },
      "execution_count": null,
      "outputs": []
    },
    {
      "cell_type": "code",
      "source": [
        "news.keys()"
      ],
      "metadata": {
        "colab": {
          "base_uri": "https://localhost:8080/"
        },
        "id": "eJvlXDhGuU9D",
        "outputId": "8eef1a8c-5086-42d3-b0ac-67ba11f88c75"
      },
      "execution_count": 20,
      "outputs": [
        {
          "output_type": "execute_result",
          "data": {
            "text/plain": [
              "dict_keys(['data', 'filenames', 'target_names', 'target', 'DESCR'])"
            ]
          },
          "metadata": {},
          "execution_count": 20
        }
      ]
    },
    {
      "cell_type": "code",
      "source": [
        "# 원래 딕셔너리에서는 이렇게 사용 못함.\n",
        "# news['data'] 이렇게 들어가야 됨.\n",
        "# news.data라고 사용할 수 있는 건 news라는 object가 갖고 있는 속성 때문.\n",
        "\n",
        "news.data"
      ],
      "metadata": {
        "id": "XU-rC2Xqum6-"
      },
      "execution_count": null,
      "outputs": []
    },
    {
      "cell_type": "code",
      "source": [
        "from collections import Counter\n",
        "\n",
        "temp = 'aaabbbbccc'\n",
        "cnt_dict = Counter(temp)\n",
        "cnt_dict"
      ],
      "metadata": {
        "colab": {
          "base_uri": "https://localhost:8080/"
        },
        "id": "_osUM_-Bu8xU",
        "outputId": "88be229d-f02d-4531-87cf-c65dd3c6bd24"
      },
      "execution_count": 22,
      "outputs": [
        {
          "output_type": "execute_result",
          "data": {
            "text/plain": [
              "Counter({'a': 3, 'b': 4, 'c': 3})"
            ]
          },
          "metadata": {},
          "execution_count": 22
        }
      ]
    },
    {
      "cell_type": "code",
      "source": [
        "cnt_dict.a"
      ],
      "metadata": {
        "colab": {
          "base_uri": "https://localhost:8080/",
          "height": 172
        },
        "id": "762RuSfrvJUT",
        "outputId": "da9b3855-c2cd-4b4b-e1a9-0bc7b9ce1794"
      },
      "execution_count": 23,
      "outputs": [
        {
          "output_type": "error",
          "ename": "AttributeError",
          "evalue": "ignored",
          "traceback": [
            "\u001b[0;31m---------------------------------------------------------------------------\u001b[0m",
            "\u001b[0;31mAttributeError\u001b[0m                            Traceback (most recent call last)",
            "\u001b[0;32m<ipython-input-23-ba8b51c72ba5>\u001b[0m in \u001b[0;36m<cell line: 1>\u001b[0;34m()\u001b[0m\n\u001b[0;32m----> 1\u001b[0;31m \u001b[0mcnt_dict\u001b[0m\u001b[0;34m.\u001b[0m\u001b[0ma\u001b[0m\u001b[0;34m\u001b[0m\u001b[0;34m\u001b[0m\u001b[0m\n\u001b[0m",
            "\u001b[0;31mAttributeError\u001b[0m: 'Counter' object has no attribute 'a'"
          ]
        }
      ]
    },
    {
      "cell_type": "code",
      "source": [
        "# 뉴스 카테고리 이름들.\n",
        "news.target_names"
      ],
      "metadata": {
        "colab": {
          "base_uri": "https://localhost:8080/"
        },
        "id": "fnl36HePvLOS",
        "outputId": "8f1f4f40-09da-446d-8500-7543303cf440"
      },
      "execution_count": 24,
      "outputs": [
        {
          "output_type": "execute_result",
          "data": {
            "text/plain": [
              "['alt.atheism',\n",
              " 'comp.graphics',\n",
              " 'comp.os.ms-windows.misc',\n",
              " 'comp.sys.ibm.pc.hardware',\n",
              " 'comp.sys.mac.hardware',\n",
              " 'comp.windows.x',\n",
              " 'misc.forsale',\n",
              " 'rec.autos',\n",
              " 'rec.motorcycles',\n",
              " 'rec.sport.baseball',\n",
              " 'rec.sport.hockey',\n",
              " 'sci.crypt',\n",
              " 'sci.electronics',\n",
              " 'sci.med',\n",
              " 'sci.space',\n",
              " 'soc.religion.christian',\n",
              " 'talk.politics.guns',\n",
              " 'talk.politics.mideast',\n",
              " 'talk.politics.misc',\n",
              " 'talk.religion.misc']"
            ]
          },
          "metadata": {},
          "execution_count": 24
        }
      ]
    },
    {
      "cell_type": "code",
      "source": [
        "len(news.data)"
      ],
      "metadata": {
        "colab": {
          "base_uri": "https://localhost:8080/"
        },
        "id": "lXTOUNiKvPV_",
        "outputId": "809326b7-8d3e-4a7e-d821-25f229c9e89a"
      },
      "execution_count": 25,
      "outputs": [
        {
          "output_type": "execute_result",
          "data": {
            "text/plain": [
              "11314"
            ]
          },
          "metadata": {},
          "execution_count": 25
        }
      ]
    },
    {
      "cell_type": "code",
      "source": [
        "news.data[9]"
      ],
      "metadata": {
        "colab": {
          "base_uri": "https://localhost:8080/",
          "height": 127
        },
        "id": "I_wzbNOKvfE4",
        "outputId": "2e1d7130-fb63-4238-b335-bd38e35e6830"
      },
      "execution_count": 26,
      "outputs": [
        {
          "output_type": "execute_result",
          "data": {
            "text/plain": [
              "\"From: kerr@ux1.cso.uiuc.edu (Stan Kerr)\\nSubject: Re: Sigma Designs Double up??\\nArticle-I.D.: ux1.C52u8x.B62\\nOrganization: University of Illinois at Urbana\\nLines: 29\\n\\njap10@po.CWRU.Edu (Joseph A. Pellettiere) writes:\\n\\n\\n>\\tI am looking for any information about the Sigma Designs\\n>\\tdouble up board.  All I can figure out is that it is a\\n>\\thardware compression board that works with AutoDoubler, but\\n>\\tI am not sure about this.  Also how much would one cost?\\n\\nI've had the board for over a year, and it does work with Diskdoubler,\\nbut not with Autodoubler, due to a licensing problem with Stac Technologies,\\nthe owners of the board's compression technology. (I'm writing this\\nfrom memory; I've lost the reference. Please correct me if I'm wrong.)\\n\\nUsing the board, I've had problems with file icons being lost, but it's\\nhard to say whether it's the board's fault or something else; however,\\nif I decompress the troubled file and recompress it without the board,\\nthe icon usually reappears. Because of the above mentioned licensing\\nproblem, the freeware expansion utility DD Expand will not decompress\\na board-compressed file unless you have the board installed.\\n\\nSince Stac has its own product now, it seems unlikely that the holes\\nin Autodoubler/Diskdoubler related to the board will be fixed.\\nWhich is sad, and makes me very reluctant to buy Stac's product since\\nthey're being so stinky. (But hey, that's competition.)\\n-- \\n\\nStan Kerr    \\nComputing & Communications Services Office, U of Illinois/Urbana\\nPhone: 217-333-5217  Email: stankerr@uiuc.edu   \\n\""
            ],
            "application/vnd.google.colaboratory.intrinsic+json": {
              "type": "string"
            }
          },
          "metadata": {},
          "execution_count": 26
        }
      ]
    },
    {
      "cell_type": "code",
      "source": [
        "news.target[9]\n",
        "news.target_names\n",
        "news.target_names[4]"
      ],
      "metadata": {
        "colab": {
          "base_uri": "https://localhost:8080/",
          "height": 35
        },
        "id": "w4--duyW1HLC",
        "outputId": "fa96148a-fac8-4a7b-d352-7b3d12fe06d8"
      },
      "execution_count": 32,
      "outputs": [
        {
          "output_type": "execute_result",
          "data": {
            "text/plain": [
              "'comp.sys.mac.hardware'"
            ],
            "application/vnd.google.colaboratory.intrinsic+json": {
              "type": "string"
            }
          },
          "metadata": {},
          "execution_count": 32
        }
      ]
    },
    {
      "cell_type": "code",
      "source": [
        "# 데이터사이언스 스쿨 (https://datascienceschool.net/)\n",
        "# 수많은 알고리즘중에 어떤 것을 쓸 것이냐?\n",
        "# 잘 모르면 RandomForest / Ensemble 써라\n",
        "\n",
        "# 정규표현식을 파싱하는것도 많이 필요하다.\n",
        "\n",
        "# 숙제 ~ from: 다음부터 Subject: 사이에는 이메일 주소가 있음.// 이메일 주소 추출하기.\n",
        "# pandas의 extract라는 함수가 있음 (str.extract(정규표현식) -- 정규표현식에 해당하는 문자열 모두 추)"
      ],
      "metadata": {
        "id": "DqqmVegh1TOJ"
      },
      "execution_count": 33,
      "outputs": []
    },
    {
      "cell_type": "code",
      "source": [
        "df = pd.DataFrame(news.data, columns=['article'])\n",
        "df.head()"
      ],
      "metadata": {
        "colab": {
          "base_uri": "https://localhost:8080/",
          "height": 206
        },
        "id": "nAvPo8jv4lI6",
        "outputId": "da0f838b-4688-4130-c45d-d1c01a7aae88"
      },
      "execution_count": 37,
      "outputs": [
        {
          "output_type": "execute_result",
          "data": {
            "text/plain": [
              "                                             article\n",
              "0  From: lerxst@wam.umd.edu (where's my thing)\\nS...\n",
              "1  From: guykuo@carson.u.washington.edu (Guy Kuo)...\n",
              "2  From: twillis@ec.ecn.purdue.edu (Thomas E Will...\n",
              "3  From: jgreen@amber (Joe Green)\\nSubject: Re: W...\n",
              "4  From: jcm@head-cfa.harvard.edu (Jonathan McDow..."
            ],
            "text/html": [
              "\n",
              "\n",
              "  <div id=\"df-9e1d4b4a-6353-4779-a8b1-24be43488cf5\">\n",
              "    <div class=\"colab-df-container\">\n",
              "      <div>\n",
              "<style scoped>\n",
              "    .dataframe tbody tr th:only-of-type {\n",
              "        vertical-align: middle;\n",
              "    }\n",
              "\n",
              "    .dataframe tbody tr th {\n",
              "        vertical-align: top;\n",
              "    }\n",
              "\n",
              "    .dataframe thead th {\n",
              "        text-align: right;\n",
              "    }\n",
              "</style>\n",
              "<table border=\"1\" class=\"dataframe\">\n",
              "  <thead>\n",
              "    <tr style=\"text-align: right;\">\n",
              "      <th></th>\n",
              "      <th>article</th>\n",
              "    </tr>\n",
              "  </thead>\n",
              "  <tbody>\n",
              "    <tr>\n",
              "      <th>0</th>\n",
              "      <td>From: lerxst@wam.umd.edu (where's my thing)\\nS...</td>\n",
              "    </tr>\n",
              "    <tr>\n",
              "      <th>1</th>\n",
              "      <td>From: guykuo@carson.u.washington.edu (Guy Kuo)...</td>\n",
              "    </tr>\n",
              "    <tr>\n",
              "      <th>2</th>\n",
              "      <td>From: twillis@ec.ecn.purdue.edu (Thomas E Will...</td>\n",
              "    </tr>\n",
              "    <tr>\n",
              "      <th>3</th>\n",
              "      <td>From: jgreen@amber (Joe Green)\\nSubject: Re: W...</td>\n",
              "    </tr>\n",
              "    <tr>\n",
              "      <th>4</th>\n",
              "      <td>From: jcm@head-cfa.harvard.edu (Jonathan McDow...</td>\n",
              "    </tr>\n",
              "  </tbody>\n",
              "</table>\n",
              "</div>\n",
              "      <button class=\"colab-df-convert\" onclick=\"convertToInteractive('df-9e1d4b4a-6353-4779-a8b1-24be43488cf5')\"\n",
              "              title=\"Convert this dataframe to an interactive table.\"\n",
              "              style=\"display:none;\">\n",
              "\n",
              "  <svg xmlns=\"http://www.w3.org/2000/svg\" height=\"24px\"viewBox=\"0 0 24 24\"\n",
              "       width=\"24px\">\n",
              "    <path d=\"M0 0h24v24H0V0z\" fill=\"none\"/>\n",
              "    <path d=\"M18.56 5.44l.94 2.06.94-2.06 2.06-.94-2.06-.94-.94-2.06-.94 2.06-2.06.94zm-11 1L8.5 8.5l.94-2.06 2.06-.94-2.06-.94L8.5 2.5l-.94 2.06-2.06.94zm10 10l.94 2.06.94-2.06 2.06-.94-2.06-.94-.94-2.06-.94 2.06-2.06.94z\"/><path d=\"M17.41 7.96l-1.37-1.37c-.4-.4-.92-.59-1.43-.59-.52 0-1.04.2-1.43.59L10.3 9.45l-7.72 7.72c-.78.78-.78 2.05 0 2.83L4 21.41c.39.39.9.59 1.41.59.51 0 1.02-.2 1.41-.59l7.78-7.78 2.81-2.81c.8-.78.8-2.07 0-2.86zM5.41 20L4 18.59l7.72-7.72 1.47 1.35L5.41 20z\"/>\n",
              "  </svg>\n",
              "      </button>\n",
              "\n",
              "\n",
              "\n",
              "    <div id=\"df-b577f14b-9082-4ffd-8557-10c613336af9\">\n",
              "      <button class=\"colab-df-quickchart\" onclick=\"quickchart('df-b577f14b-9082-4ffd-8557-10c613336af9')\"\n",
              "              title=\"Suggest charts.\"\n",
              "              style=\"display:none;\">\n",
              "\n",
              "<svg xmlns=\"http://www.w3.org/2000/svg\" height=\"24px\"viewBox=\"0 0 24 24\"\n",
              "     width=\"24px\">\n",
              "    <g>\n",
              "        <path d=\"M19 3H5c-1.1 0-2 .9-2 2v14c0 1.1.9 2 2 2h14c1.1 0 2-.9 2-2V5c0-1.1-.9-2-2-2zM9 17H7v-7h2v7zm4 0h-2V7h2v10zm4 0h-2v-4h2v4z\"/>\n",
              "    </g>\n",
              "</svg>\n",
              "      </button>\n",
              "    </div>\n",
              "\n",
              "<style>\n",
              "  .colab-df-quickchart {\n",
              "    background-color: #E8F0FE;\n",
              "    border: none;\n",
              "    border-radius: 50%;\n",
              "    cursor: pointer;\n",
              "    display: none;\n",
              "    fill: #1967D2;\n",
              "    height: 32px;\n",
              "    padding: 0 0 0 0;\n",
              "    width: 32px;\n",
              "  }\n",
              "\n",
              "  .colab-df-quickchart:hover {\n",
              "    background-color: #E2EBFA;\n",
              "    box-shadow: 0px 1px 2px rgba(60, 64, 67, 0.3), 0px 1px 3px 1px rgba(60, 64, 67, 0.15);\n",
              "    fill: #174EA6;\n",
              "  }\n",
              "\n",
              "  [theme=dark] .colab-df-quickchart {\n",
              "    background-color: #3B4455;\n",
              "    fill: #D2E3FC;\n",
              "  }\n",
              "\n",
              "  [theme=dark] .colab-df-quickchart:hover {\n",
              "    background-color: #434B5C;\n",
              "    box-shadow: 0px 1px 3px 1px rgba(0, 0, 0, 0.15);\n",
              "    filter: drop-shadow(0px 1px 2px rgba(0, 0, 0, 0.3));\n",
              "    fill: #FFFFFF;\n",
              "  }\n",
              "</style>\n",
              "\n",
              "    <script>\n",
              "      async function quickchart(key) {\n",
              "        const containerElement = document.querySelector('#' + key);\n",
              "        const charts = await google.colab.kernel.invokeFunction(\n",
              "            'suggestCharts', [key], {});\n",
              "      }\n",
              "    </script>\n",
              "\n",
              "      <script>\n",
              "\n",
              "function displayQuickchartButton(domScope) {\n",
              "  let quickchartButtonEl =\n",
              "    domScope.querySelector('#df-b577f14b-9082-4ffd-8557-10c613336af9 button.colab-df-quickchart');\n",
              "  quickchartButtonEl.style.display =\n",
              "    google.colab.kernel.accessAllowed ? 'block' : 'none';\n",
              "}\n",
              "\n",
              "        displayQuickchartButton(document);\n",
              "      </script>\n",
              "      <style>\n",
              "    .colab-df-container {\n",
              "      display:flex;\n",
              "      flex-wrap:wrap;\n",
              "      gap: 12px;\n",
              "    }\n",
              "\n",
              "    .colab-df-convert {\n",
              "      background-color: #E8F0FE;\n",
              "      border: none;\n",
              "      border-radius: 50%;\n",
              "      cursor: pointer;\n",
              "      display: none;\n",
              "      fill: #1967D2;\n",
              "      height: 32px;\n",
              "      padding: 0 0 0 0;\n",
              "      width: 32px;\n",
              "    }\n",
              "\n",
              "    .colab-df-convert:hover {\n",
              "      background-color: #E2EBFA;\n",
              "      box-shadow: 0px 1px 2px rgba(60, 64, 67, 0.3), 0px 1px 3px 1px rgba(60, 64, 67, 0.15);\n",
              "      fill: #174EA6;\n",
              "    }\n",
              "\n",
              "    [theme=dark] .colab-df-convert {\n",
              "      background-color: #3B4455;\n",
              "      fill: #D2E3FC;\n",
              "    }\n",
              "\n",
              "    [theme=dark] .colab-df-convert:hover {\n",
              "      background-color: #434B5C;\n",
              "      box-shadow: 0px 1px 3px 1px rgba(0, 0, 0, 0.15);\n",
              "      filter: drop-shadow(0px 1px 2px rgba(0, 0, 0, 0.3));\n",
              "      fill: #FFFFFF;\n",
              "    }\n",
              "  </style>\n",
              "\n",
              "      <script>\n",
              "        const buttonEl =\n",
              "          document.querySelector('#df-9e1d4b4a-6353-4779-a8b1-24be43488cf5 button.colab-df-convert');\n",
              "        buttonEl.style.display =\n",
              "          google.colab.kernel.accessAllowed ? 'block' : 'none';\n",
              "\n",
              "        async function convertToInteractive(key) {\n",
              "          const element = document.querySelector('#df-9e1d4b4a-6353-4779-a8b1-24be43488cf5');\n",
              "          const dataTable =\n",
              "            await google.colab.kernel.invokeFunction('convertToInteractive',\n",
              "                                                     [key], {});\n",
              "          if (!dataTable) return;\n",
              "\n",
              "          const docLinkHtml = 'Like what you see? Visit the ' +\n",
              "            '<a target=\"_blank\" href=https://colab.research.google.com/notebooks/data_table.ipynb>data table notebook</a>'\n",
              "            + ' to learn more about interactive tables.';\n",
              "          element.innerHTML = '';\n",
              "          dataTable['output_type'] = 'display_data';\n",
              "          await google.colab.output.renderOutput(dataTable, element);\n",
              "          const docLink = document.createElement('div');\n",
              "          docLink.innerHTML = docLinkHtml;\n",
              "          element.appendChild(docLink);\n",
              "        }\n",
              "      </script>\n",
              "    </div>\n",
              "  </div>\n"
            ]
          },
          "metadata": {},
          "execution_count": 37
        }
      ]
    },
    {
      "cell_type": "code",
      "source": [
        "df['target'] = news.target\n",
        "df.head()"
      ],
      "metadata": {
        "colab": {
          "base_uri": "https://localhost:8080/",
          "height": 206
        },
        "id": "blLWtyQl4n9T",
        "outputId": "301b98fc-3311-498d-8562-ff627c5730bb"
      },
      "execution_count": 38,
      "outputs": [
        {
          "output_type": "execute_result",
          "data": {
            "text/plain": [
              "                                             article  target\n",
              "0  From: lerxst@wam.umd.edu (where's my thing)\\nS...       7\n",
              "1  From: guykuo@carson.u.washington.edu (Guy Kuo)...       4\n",
              "2  From: twillis@ec.ecn.purdue.edu (Thomas E Will...       4\n",
              "3  From: jgreen@amber (Joe Green)\\nSubject: Re: W...       1\n",
              "4  From: jcm@head-cfa.harvard.edu (Jonathan McDow...      14"
            ],
            "text/html": [
              "\n",
              "\n",
              "  <div id=\"df-60101492-d562-46b6-b8c4-f4dbefe9f266\">\n",
              "    <div class=\"colab-df-container\">\n",
              "      <div>\n",
              "<style scoped>\n",
              "    .dataframe tbody tr th:only-of-type {\n",
              "        vertical-align: middle;\n",
              "    }\n",
              "\n",
              "    .dataframe tbody tr th {\n",
              "        vertical-align: top;\n",
              "    }\n",
              "\n",
              "    .dataframe thead th {\n",
              "        text-align: right;\n",
              "    }\n",
              "</style>\n",
              "<table border=\"1\" class=\"dataframe\">\n",
              "  <thead>\n",
              "    <tr style=\"text-align: right;\">\n",
              "      <th></th>\n",
              "      <th>article</th>\n",
              "      <th>target</th>\n",
              "    </tr>\n",
              "  </thead>\n",
              "  <tbody>\n",
              "    <tr>\n",
              "      <th>0</th>\n",
              "      <td>From: lerxst@wam.umd.edu (where's my thing)\\nS...</td>\n",
              "      <td>7</td>\n",
              "    </tr>\n",
              "    <tr>\n",
              "      <th>1</th>\n",
              "      <td>From: guykuo@carson.u.washington.edu (Guy Kuo)...</td>\n",
              "      <td>4</td>\n",
              "    </tr>\n",
              "    <tr>\n",
              "      <th>2</th>\n",
              "      <td>From: twillis@ec.ecn.purdue.edu (Thomas E Will...</td>\n",
              "      <td>4</td>\n",
              "    </tr>\n",
              "    <tr>\n",
              "      <th>3</th>\n",
              "      <td>From: jgreen@amber (Joe Green)\\nSubject: Re: W...</td>\n",
              "      <td>1</td>\n",
              "    </tr>\n",
              "    <tr>\n",
              "      <th>4</th>\n",
              "      <td>From: jcm@head-cfa.harvard.edu (Jonathan McDow...</td>\n",
              "      <td>14</td>\n",
              "    </tr>\n",
              "  </tbody>\n",
              "</table>\n",
              "</div>\n",
              "      <button class=\"colab-df-convert\" onclick=\"convertToInteractive('df-60101492-d562-46b6-b8c4-f4dbefe9f266')\"\n",
              "              title=\"Convert this dataframe to an interactive table.\"\n",
              "              style=\"display:none;\">\n",
              "\n",
              "  <svg xmlns=\"http://www.w3.org/2000/svg\" height=\"24px\"viewBox=\"0 0 24 24\"\n",
              "       width=\"24px\">\n",
              "    <path d=\"M0 0h24v24H0V0z\" fill=\"none\"/>\n",
              "    <path d=\"M18.56 5.44l.94 2.06.94-2.06 2.06-.94-2.06-.94-.94-2.06-.94 2.06-2.06.94zm-11 1L8.5 8.5l.94-2.06 2.06-.94-2.06-.94L8.5 2.5l-.94 2.06-2.06.94zm10 10l.94 2.06.94-2.06 2.06-.94-2.06-.94-.94-2.06-.94 2.06-2.06.94z\"/><path d=\"M17.41 7.96l-1.37-1.37c-.4-.4-.92-.59-1.43-.59-.52 0-1.04.2-1.43.59L10.3 9.45l-7.72 7.72c-.78.78-.78 2.05 0 2.83L4 21.41c.39.39.9.59 1.41.59.51 0 1.02-.2 1.41-.59l7.78-7.78 2.81-2.81c.8-.78.8-2.07 0-2.86zM5.41 20L4 18.59l7.72-7.72 1.47 1.35L5.41 20z\"/>\n",
              "  </svg>\n",
              "      </button>\n",
              "\n",
              "\n",
              "\n",
              "    <div id=\"df-3612ea45-faf0-4cd0-ab8b-676990c24c7c\">\n",
              "      <button class=\"colab-df-quickchart\" onclick=\"quickchart('df-3612ea45-faf0-4cd0-ab8b-676990c24c7c')\"\n",
              "              title=\"Suggest charts.\"\n",
              "              style=\"display:none;\">\n",
              "\n",
              "<svg xmlns=\"http://www.w3.org/2000/svg\" height=\"24px\"viewBox=\"0 0 24 24\"\n",
              "     width=\"24px\">\n",
              "    <g>\n",
              "        <path d=\"M19 3H5c-1.1 0-2 .9-2 2v14c0 1.1.9 2 2 2h14c1.1 0 2-.9 2-2V5c0-1.1-.9-2-2-2zM9 17H7v-7h2v7zm4 0h-2V7h2v10zm4 0h-2v-4h2v4z\"/>\n",
              "    </g>\n",
              "</svg>\n",
              "      </button>\n",
              "    </div>\n",
              "\n",
              "<style>\n",
              "  .colab-df-quickchart {\n",
              "    background-color: #E8F0FE;\n",
              "    border: none;\n",
              "    border-radius: 50%;\n",
              "    cursor: pointer;\n",
              "    display: none;\n",
              "    fill: #1967D2;\n",
              "    height: 32px;\n",
              "    padding: 0 0 0 0;\n",
              "    width: 32px;\n",
              "  }\n",
              "\n",
              "  .colab-df-quickchart:hover {\n",
              "    background-color: #E2EBFA;\n",
              "    box-shadow: 0px 1px 2px rgba(60, 64, 67, 0.3), 0px 1px 3px 1px rgba(60, 64, 67, 0.15);\n",
              "    fill: #174EA6;\n",
              "  }\n",
              "\n",
              "  [theme=dark] .colab-df-quickchart {\n",
              "    background-color: #3B4455;\n",
              "    fill: #D2E3FC;\n",
              "  }\n",
              "\n",
              "  [theme=dark] .colab-df-quickchart:hover {\n",
              "    background-color: #434B5C;\n",
              "    box-shadow: 0px 1px 3px 1px rgba(0, 0, 0, 0.15);\n",
              "    filter: drop-shadow(0px 1px 2px rgba(0, 0, 0, 0.3));\n",
              "    fill: #FFFFFF;\n",
              "  }\n",
              "</style>\n",
              "\n",
              "    <script>\n",
              "      async function quickchart(key) {\n",
              "        const containerElement = document.querySelector('#' + key);\n",
              "        const charts = await google.colab.kernel.invokeFunction(\n",
              "            'suggestCharts', [key], {});\n",
              "      }\n",
              "    </script>\n",
              "\n",
              "      <script>\n",
              "\n",
              "function displayQuickchartButton(domScope) {\n",
              "  let quickchartButtonEl =\n",
              "    domScope.querySelector('#df-3612ea45-faf0-4cd0-ab8b-676990c24c7c button.colab-df-quickchart');\n",
              "  quickchartButtonEl.style.display =\n",
              "    google.colab.kernel.accessAllowed ? 'block' : 'none';\n",
              "}\n",
              "\n",
              "        displayQuickchartButton(document);\n",
              "      </script>\n",
              "      <style>\n",
              "    .colab-df-container {\n",
              "      display:flex;\n",
              "      flex-wrap:wrap;\n",
              "      gap: 12px;\n",
              "    }\n",
              "\n",
              "    .colab-df-convert {\n",
              "      background-color: #E8F0FE;\n",
              "      border: none;\n",
              "      border-radius: 50%;\n",
              "      cursor: pointer;\n",
              "      display: none;\n",
              "      fill: #1967D2;\n",
              "      height: 32px;\n",
              "      padding: 0 0 0 0;\n",
              "      width: 32px;\n",
              "    }\n",
              "\n",
              "    .colab-df-convert:hover {\n",
              "      background-color: #E2EBFA;\n",
              "      box-shadow: 0px 1px 2px rgba(60, 64, 67, 0.3), 0px 1px 3px 1px rgba(60, 64, 67, 0.15);\n",
              "      fill: #174EA6;\n",
              "    }\n",
              "\n",
              "    [theme=dark] .colab-df-convert {\n",
              "      background-color: #3B4455;\n",
              "      fill: #D2E3FC;\n",
              "    }\n",
              "\n",
              "    [theme=dark] .colab-df-convert:hover {\n",
              "      background-color: #434B5C;\n",
              "      box-shadow: 0px 1px 3px 1px rgba(0, 0, 0, 0.15);\n",
              "      filter: drop-shadow(0px 1px 2px rgba(0, 0, 0, 0.3));\n",
              "      fill: #FFFFFF;\n",
              "    }\n",
              "  </style>\n",
              "\n",
              "      <script>\n",
              "        const buttonEl =\n",
              "          document.querySelector('#df-60101492-d562-46b6-b8c4-f4dbefe9f266 button.colab-df-convert');\n",
              "        buttonEl.style.display =\n",
              "          google.colab.kernel.accessAllowed ? 'block' : 'none';\n",
              "\n",
              "        async function convertToInteractive(key) {\n",
              "          const element = document.querySelector('#df-60101492-d562-46b6-b8c4-f4dbefe9f266');\n",
              "          const dataTable =\n",
              "            await google.colab.kernel.invokeFunction('convertToInteractive',\n",
              "                                                     [key], {});\n",
              "          if (!dataTable) return;\n",
              "\n",
              "          const docLinkHtml = 'Like what you see? Visit the ' +\n",
              "            '<a target=\"_blank\" href=https://colab.research.google.com/notebooks/data_table.ipynb>data table notebook</a>'\n",
              "            + ' to learn more about interactive tables.';\n",
              "          element.innerHTML = '';\n",
              "          dataTable['output_type'] = 'display_data';\n",
              "          await google.colab.output.renderOutput(dataTable, element);\n",
              "          const docLink = document.createElement('div');\n",
              "          docLink.innerHTML = docLinkHtml;\n",
              "          element.appendChild(docLink);\n",
              "        }\n",
              "      </script>\n",
              "    </div>\n",
              "  </div>\n"
            ]
          },
          "metadata": {},
          "execution_count": 38
        }
      ]
    },
    {
      "cell_type": "code",
      "source": [
        "df.info()"
      ],
      "metadata": {
        "colab": {
          "base_uri": "https://localhost:8080/"
        },
        "id": "V5FNp-aM5KrR",
        "outputId": "86db7bbe-753a-4c11-8644-9224f4e1fb83"
      },
      "execution_count": 39,
      "outputs": [
        {
          "output_type": "stream",
          "name": "stdout",
          "text": [
            "<class 'pandas.core.frame.DataFrame'>\n",
            "RangeIndex: 11314 entries, 0 to 11313\n",
            "Data columns (total 2 columns):\n",
            " #   Column   Non-Null Count  Dtype \n",
            "---  ------   --------------  ----- \n",
            " 0   article  11314 non-null  object\n",
            " 1   target   11314 non-null  int64 \n",
            "dtypes: int64(1), object(1)\n",
            "memory usage: 176.9+ KB\n"
          ]
        }
      ]
    },
    {
      "cell_type": "code",
      "source": [
        "df.target.value_counts().plot(kind='bar')"
      ],
      "metadata": {
        "colab": {
          "base_uri": "https://localhost:8080/",
          "height": 452
        },
        "id": "FPScPQYo5iFs",
        "outputId": "2b5d76d1-636e-4616-c5f5-599674375216"
      },
      "execution_count": 43,
      "outputs": [
        {
          "output_type": "execute_result",
          "data": {
            "text/plain": [
              "<Axes: >"
            ]
          },
          "metadata": {},
          "execution_count": 43
        },
        {
          "output_type": "display_data",
          "data": {
            "text/plain": [
              "<Figure size 640x480 with 1 Axes>"
            ],
            "image/png": "[encoded data removed]"
          },
          "metadata": {}
        }
      ]
    },
    {
      "cell_type": "code",
      "source": [
        "test = fetch_20newsgroups(subset='test', shuffle=True)\n",
        "\n",
        "test"
      ],
      "metadata": {
        "id": "qFjJCjHb5k6b"
      },
      "execution_count": null,
      "outputs": []
    },
    {
      "cell_type": "code",
      "source": [
        "print(len(test))\n",
        "print(len(test.data))"
      ],
      "metadata": {
        "colab": {
          "base_uri": "https://localhost:8080/"
        },
        "id": "eaHXEH8F6e9s",
        "outputId": "00bb11a7-8ec4-4770-a152-0de8a2f3d869"
      },
      "execution_count": 45,
      "outputs": [
        {
          "output_type": "stream",
          "name": "stdout",
          "text": [
            "5\n",
            "7532\n"
          ]
        }
      ]
    },
    {
      "cell_type": "code",
      "source": [
        "train_article = df.article\n",
        "train_target = df.target"
      ],
      "metadata": {
        "id": "Cu30j9Rh6k-X"
      },
      "execution_count": 47,
      "outputs": []
    },
    {
      "cell_type": "code",
      "source": [
        "test_article = test.data\n",
        "test_target = test.target"
      ],
      "metadata": {
        "id": "BwZujFJy6__j"
      },
      "execution_count": 64,
      "outputs": []
    },
    {
      "cell_type": "code",
      "source": [
        "print(len(train_article))\n",
        "print(len(test_article))"
      ],
      "metadata": {
        "colab": {
          "base_uri": "https://localhost:8080/"
        },
        "id": "XwyvdA7-7Pe8",
        "outputId": "65ec6636-ef70-4693-d538-ebc8a86186d4"
      },
      "execution_count": 65,
      "outputs": [
        {
          "output_type": "stream",
          "name": "stdout",
          "text": [
            "11314\n",
            "7532\n"
          ]
        }
      ]
    },
    {
      "cell_type": "code",
      "source": [
        "tok = Tokenizer(num_words=10000) # 몇 개의 단어를 사용할 것인지 정해줄 수 있음."
      ],
      "metadata": {
        "id": "MLmsg1K59eoB"
      },
      "execution_count": 66,
      "outputs": []
    },
    {
      "cell_type": "code",
      "source": [
        "def pre_processing_data(trainData, testData, ty): # 트레인, 테스트, 유형분류\n",
        "  \"\"\"\n",
        "  트레인, 테스트, 유형분류\n",
        "  \"\"\"\n",
        "  tok = Tokenizer(num_words=10000)\n",
        "  tok.fit_on_texts(trainData)\n",
        "  xtrain = tok.texts_to_matrix(trainData, mode=ty)\n",
        "  xtest = tok.texts_to_matrix(testData, mode=ty)\n",
        "  return xtrain, xtest, tok.index_word\n"
      ],
      "metadata": {
        "id": "Z9GnQlkl7Zf6"
      },
      "execution_count": 67,
      "outputs": []
    },
    {
      "cell_type": "code",
      "source": [
        "xtrain, xtest, index_words = pre_processing_data(train_article, test_article, 'binary')"
      ],
      "metadata": {
        "id": "DHys_WhX8MNn"
      },
      "execution_count": 68,
      "outputs": []
    },
    {
      "cell_type": "code",
      "source": [
        "xtrain.shape # (11314, 10000)\n",
        "xtest.shape  #  (7532, 10000)"
      ],
      "metadata": {
        "colab": {
          "base_uri": "https://localhost:8080/"
        },
        "id": "7ljirTFv8P_X",
        "outputId": "62e4ff31-d252-4a21-d243-6d2bb956b373"
      },
      "execution_count": 69,
      "outputs": [
        {
          "output_type": "execute_result",
          "data": {
            "text/plain": [
              "(7532, 10000)"
            ]
          },
          "metadata": {},
          "execution_count": 69
        }
      ]
    },
    {
      "cell_type": "code",
      "source": [
        "xtrain[0]"
      ],
      "metadata": {
        "colab": {
          "base_uri": "https://localhost:8080/"
        },
        "id": "Rwh7Sl22CsPH",
        "outputId": "fd7290aa-c245-4ff8-b480-c37ce3b228bc"
      },
      "execution_count": 70,
      "outputs": [
        {
          "output_type": "execute_result",
          "data": {
            "text/plain": [
              "array([0., 1., 1., ..., 0., 0., 0.])"
            ]
          },
          "metadata": {},
          "execution_count": 70
        }
      ]
    },
    {
      "cell_type": "code",
      "source": [
        "index_words"
      ],
      "metadata": {
        "colab": {
          "base_uri": "https://localhost:8080/"
        },
        "id": "vE2Jk-zPDjUo",
        "outputId": "37973598-4de1-4cf2-cb03-817e26dc17cb"
      },
      "execution_count": 71,
      "outputs": [
        {
          "output_type": "execute_result",
          "data": {
            "text/plain": [
              "{1: 'the',\n",
              " 2: 'to',\n",
              " 3: 'of',\n",
              " 4: 'a',\n",
              " 5: \"'ax\",\n",
              " 6: 'and',\n",
              " 7: 'in',\n",
              " 8: 'i',\n",
              " 9: 'is',\n",
              " 10: 'that',\n",
              " 11: 'it',\n",
              " 12: 'for',\n",
              " 13: 'you',\n",
              " 14: 'from',\n",
              " 15: 'edu',\n",
              " 16: 'on',\n",
              " 17: 'this',\n",
              " 18: 'be',\n",
              " 19: 'are',\n",
              " 20: 'not',\n",
              " 21: 'have',\n",
              " 22: 'with',\n",
              " 23: 'as',\n",
              " 24: '1',\n",
              " 25: 'or',\n",
              " 26: 'was',\n",
              " 27: 'if',\n",
              " 28: 'but',\n",
              " 29: 'subject',\n",
              " 30: 'they',\n",
              " 31: 'com',\n",
              " 32: 'lines',\n",
              " 33: 'at',\n",
              " 34: 'organization',\n",
              " 35: 'by',\n",
              " 36: '2',\n",
              " 37: 'an',\n",
              " 38: 'my',\n",
              " 39: 'can',\n",
              " 40: 'x',\n",
              " 41: '3',\n",
              " 42: 'what',\n",
              " 43: '0',\n",
              " 44: 'all',\n",
              " 45: 'will',\n",
              " 46: 'm',\n",
              " 47: 'there',\n",
              " 48: 'would',\n",
              " 49: 'one',\n",
              " 50: 'do',\n",
              " 51: \"'\",\n",
              " 52: 'about',\n",
              " 53: 're',\n",
              " 54: 'we',\n",
              " 55: 'writes',\n",
              " 56: 'so',\n",
              " 57: 'he',\n",
              " 58: 'your',\n",
              " 59: 'no',\n",
              " 60: 'has',\n",
              " 61: 'article',\n",
              " 62: 'any',\n",
              " 63: 'me',\n",
              " 64: 'some',\n",
              " 65: 'who',\n",
              " 66: 'out',\n",
              " 67: 'which',\n",
              " 68: '4',\n",
              " 69: 'q',\n",
              " 70: 'more',\n",
              " 71: 'like',\n",
              " 72: 'people',\n",
              " 73: \"don't\",\n",
              " 74: 'when',\n",
              " 75: '5',\n",
              " 76: 'just',\n",
              " 77: 'university',\n",
              " 78: 'posting',\n",
              " 79: 'their',\n",
              " 80: 'were',\n",
              " 81: 'up',\n",
              " 82: 'r',\n",
              " 83: 'p',\n",
              " 84: 'w',\n",
              " 85: 'how',\n",
              " 86: 'other',\n",
              " 87: '7',\n",
              " 88: 'know',\n",
              " 89: 's',\n",
              " 90: 'only',\n",
              " 91: 'host',\n",
              " 92: 'get',\n",
              " 93: 'c',\n",
              " 94: 'them',\n",
              " 95: 'nntp',\n",
              " 96: 'max',\n",
              " 97: 'than',\n",
              " 98: 'had',\n",
              " 99: 'think',\n",
              " 100: 'g',\n",
              " 101: 'been',\n",
              " 102: 'his',\n",
              " 103: '8',\n",
              " 104: 'o',\n",
              " 105: 'also',\n",
              " 106: '6',\n",
              " 107: 'use',\n",
              " 108: 'does',\n",
              " 109: 'time',\n",
              " 110: 'new',\n",
              " 111: 'then',\n",
              " 112: 'e',\n",
              " 113: \"it's\",\n",
              " 114: 'good',\n",
              " 115: \"i'm\",\n",
              " 116: 'these',\n",
              " 117: 'd',\n",
              " 118: 'u',\n",
              " 119: 'should',\n",
              " 120: '9',\n",
              " 121: 'ca',\n",
              " 122: 'n',\n",
              " 123: 'could',\n",
              " 124: 'well',\n",
              " 125: 'us',\n",
              " 126: 'because',\n",
              " 127: 'am',\n",
              " 128: 'b',\n",
              " 129: 'may',\n",
              " 130: 't',\n",
              " 131: 'even',\n",
              " 132: 'why',\n",
              " 133: 'very',\n",
              " 134: 'now',\n",
              " 135: 'into',\n",
              " 136: 'see',\n",
              " 137: 'cs',\n",
              " 138: 'two',\n",
              " 139: 'way',\n",
              " 140: 'v',\n",
              " 141: 'first',\n",
              " 142: 'many',\n",
              " 143: 'those',\n",
              " 144: 'make',\n",
              " 145: 'much',\n",
              " 146: 'most',\n",
              " 147: 'system',\n",
              " 148: 'such',\n",
              " 149: 'distribution',\n",
              " 150: 'right',\n",
              " 151: 'say',\n",
              " 152: 'l',\n",
              " 153: 'where',\n",
              " 154: 'world',\n",
              " 155: 'god',\n",
              " 156: 'k',\n",
              " 157: 'z',\n",
              " 158: 'h',\n",
              " 159: 'want',\n",
              " 160: 'our',\n",
              " 161: 'here',\n",
              " 162: 'its',\n",
              " 163: 'go',\n",
              " 164: 'reply',\n",
              " 165: '10',\n",
              " 166: 'used',\n",
              " 167: 'said',\n",
              " 168: 'being',\n",
              " 169: 'did',\n",
              " 170: 'over',\n",
              " 171: 'anyone',\n",
              " 172: 'same',\n",
              " 173: 'after',\n",
              " 174: 'need',\n",
              " 175: 'work',\n",
              " 176: 'too',\n",
              " 177: 'state',\n",
              " 178: 'something',\n",
              " 179: 'problem',\n",
              " 180: 'j',\n",
              " 181: 'please',\n",
              " 182: 'really',\n",
              " 183: 'computer',\n",
              " 184: 'him',\n",
              " 185: 'off',\n",
              " 186: 'since',\n",
              " 187: 'f',\n",
              " 188: 'mail',\n",
              " 189: 'believe',\n",
              " 190: 'back',\n",
              " 191: 'still',\n",
              " 192: 'going',\n",
              " 193: 'file',\n",
              " 194: 'year',\n",
              " 195: 'information',\n",
              " 196: 'windows',\n",
              " 197: 'help',\n",
              " 198: 'years',\n",
              " 199: 'using',\n",
              " 200: 'find',\n",
              " 201: 'take',\n",
              " 202: 'question',\n",
              " 203: 'point',\n",
              " 204: 'last',\n",
              " 205: 'space',\n",
              " 206: 'thanks',\n",
              " 207: 'before',\n",
              " 208: 'must',\n",
              " 209: \"i've\",\n",
              " 210: 'never',\n",
              " 211: '15',\n",
              " 212: 'things',\n",
              " 213: 'better',\n",
              " 214: 'while',\n",
              " 215: '16',\n",
              " 216: 'news',\n",
              " 217: '20',\n",
              " 218: 'government',\n",
              " 219: 'might',\n",
              " 220: 'usa',\n",
              " 221: 'own',\n",
              " 222: \"can't\",\n",
              " 223: 'both',\n",
              " 224: 'number',\n",
              " 225: 'read',\n",
              " 226: 'sure',\n",
              " 227: 'program',\n",
              " 228: 'another',\n",
              " 229: 'case',\n",
              " 230: 'without',\n",
              " 231: 'etc',\n",
              " 232: 'key',\n",
              " 233: 'david',\n",
              " 234: 'data',\n",
              " 235: 'down',\n",
              " 236: 'through',\n",
              " 237: 'got',\n",
              " 238: 'y',\n",
              " 239: 'made',\n",
              " 240: '14',\n",
              " 241: 'drive',\n",
              " 242: 'software',\n",
              " 243: 'bit',\n",
              " 244: '1993',\n",
              " 245: 'long',\n",
              " 246: 'available',\n",
              " 247: 'law',\n",
              " 248: 'under',\n",
              " 249: '00',\n",
              " 250: 'thing',\n",
              " 251: '12',\n",
              " 252: 'someone',\n",
              " 253: \"doesn't\",\n",
              " 254: 'power',\n",
              " 255: 'look',\n",
              " 256: 'part',\n",
              " 257: 'uk',\n",
              " 258: 'between',\n",
              " 259: 'few',\n",
              " 260: 'little',\n",
              " 261: 'version',\n",
              " 262: 'come',\n",
              " 263: 'day',\n",
              " 264: \"that's\",\n",
              " 265: \"didn't\",\n",
              " 266: 'however',\n",
              " 267: '25',\n",
              " 268: 'each',\n",
              " 269: 'public',\n",
              " 270: 'org',\n",
              " 271: 'anything',\n",
              " 272: 'around',\n",
              " 273: 'name',\n",
              " 274: 'fact',\n",
              " 275: 'science',\n",
              " 276: 'give',\n",
              " 277: 'john',\n",
              " 278: 'cc',\n",
              " 279: 'access',\n",
              " 280: 'every',\n",
              " 281: 'best',\n",
              " 282: 'true',\n",
              " 283: 'probably',\n",
              " 284: 'again',\n",
              " 285: '17',\n",
              " 286: '11',\n",
              " 287: 'line',\n",
              " 288: '30',\n",
              " 289: 'research',\n",
              " 290: 'gov',\n",
              " 291: 'against',\n",
              " 292: 'nasa',\n",
              " 293: 'course',\n",
              " 294: 'least',\n",
              " 295: 'tell',\n",
              " 296: 'set',\n",
              " 297: 'seems',\n",
              " 298: 'car',\n",
              " 299: 'different',\n",
              " 300: 'group',\n",
              " 301: 'list',\n",
              " 302: 'great',\n",
              " 303: 'systems',\n",
              " 304: 'put',\n",
              " 305: 'enough',\n",
              " 306: 'run',\n",
              " 307: 'high',\n",
              " 308: 'try',\n",
              " 309: '24',\n",
              " 310: 'hard',\n",
              " 311: 'lot',\n",
              " 312: 'ac',\n",
              " 313: 'real',\n",
              " 314: 'says',\n",
              " 315: 'second',\n",
              " 316: '18',\n",
              " 317: 'life',\n",
              " 318: 'mr',\n",
              " 319: 'far',\n",
              " 320: '13',\n",
              " 321: 'old',\n",
              " 322: 'net',\n",
              " 323: 'possible',\n",
              " 324: 'g9v',\n",
              " 325: 'actually',\n",
              " 326: 'either',\n",
              " 327: 'end',\n",
              " 328: 'post',\n",
              " 329: 'game',\n",
              " 330: 'though',\n",
              " 331: 'support',\n",
              " 332: 'gun',\n",
              " 333: 'inc',\n",
              " 334: 'technology',\n",
              " 335: 'card',\n",
              " 336: 'b8f',\n",
              " 337: 'called',\n",
              " 338: 'her',\n",
              " 339: 'she',\n",
              " 340: 'de',\n",
              " 341: \"i'd\",\n",
              " 342: 'sun',\n",
              " 343: 'free',\n",
              " 344: 'rather',\n",
              " 345: 'center',\n",
              " 346: 'window',\n",
              " 347: 'email',\n",
              " 348: 'nothing',\n",
              " 349: 'internet',\n",
              " 350: '19',\n",
              " 351: 'next',\n",
              " 352: 'non',\n",
              " 353: 'team',\n",
              " 354: 'chip',\n",
              " 355: 'mean',\n",
              " 356: 'jesus',\n",
              " 357: 'info',\n",
              " 358: 'let',\n",
              " 359: 'problems',\n",
              " 360: \"you're\",\n",
              " 361: 'call',\n",
              " 362: 'wrong',\n",
              " 363: 'keep',\n",
              " 364: 'files',\n",
              " 365: 'send',\n",
              " 366: 'based',\n",
              " 367: 'apr',\n",
              " 368: '50',\n",
              " 369: 'message',\n",
              " 370: 'bad',\n",
              " 371: 'mark',\n",
              " 372: 'order',\n",
              " 373: 'example',\n",
              " 374: 'reason',\n",
              " 375: 'a86',\n",
              " 376: 'yes',\n",
              " 377: 'having',\n",
              " 378: 'done',\n",
              " 379: 'found',\n",
              " 380: 'maybe',\n",
              " 381: 'able',\n",
              " 382: 'else',\n",
              " 383: 'netcom',\n",
              " 384: 'looking',\n",
              " 385: '21',\n",
              " 386: 'above',\n",
              " 387: 'man',\n",
              " 388: 'national',\n",
              " 389: 'person',\n",
              " 390: 'control',\n",
              " 391: 'thought',\n",
              " 392: \"isn't\",\n",
              " 393: 'three',\n",
              " 394: 'ibm',\n",
              " 395: 'hp',\n",
              " 396: 'always',\n",
              " 397: 'less',\n",
              " 398: 'mit',\n",
              " 399: 'place',\n",
              " 400: 'others',\n",
              " 401: '145',\n",
              " 402: 'following',\n",
              " 403: 'left',\n",
              " 404: 'times',\n",
              " 405: '22',\n",
              " 406: 'doing',\n",
              " 407: 'general',\n",
              " 408: 'bill',\n",
              " 409: 'scsi',\n",
              " 410: 'several',\n",
              " 411: 'keywords',\n",
              " 412: 'trying',\n",
              " 413: 'code',\n",
              " 414: 'seen',\n",
              " 415: 'dos',\n",
              " 416: '000',\n",
              " 417: 'uucp',\n",
              " 418: 'heard',\n",
              " 419: 'graphics',\n",
              " 420: 'yet',\n",
              " 421: 'american',\n",
              " 422: 'ever',\n",
              " 423: 'means',\n",
              " 424: 'home',\n",
              " 425: '93',\n",
              " 426: 'christian',\n",
              " 427: 'quite',\n",
              " 428: 'phone',\n",
              " 429: 'away',\n",
              " 430: 'once',\n",
              " 431: 'big',\n",
              " 432: 'questions',\n",
              " 433: 'israel',\n",
              " 434: 'note',\n",
              " 435: 'wrote',\n",
              " 436: 'win',\n",
              " 437: 'opinions',\n",
              " 438: 'given',\n",
              " 439: 'steve',\n",
              " 440: 'idea',\n",
              " 441: 'washington',\n",
              " 442: 'mac',\n",
              " 443: 'getting',\n",
              " 444: 'start',\n",
              " 445: 'play',\n",
              " 446: 'source',\n",
              " 447: '23',\n",
              " 448: 'whether',\n",
              " 449: 'human',\n",
              " 450: 'jews',\n",
              " 451: 'during',\n",
              " 452: 'pc',\n",
              " 453: '40',\n",
              " 454: 'today',\n",
              " 455: 'book',\n",
              " 456: 'standard',\n",
              " 457: 'michael',\n",
              " 458: 'kind',\n",
              " 459: 'current',\n",
              " 460: 'remember',\n",
              " 461: 'encryption',\n",
              " 462: 'money',\n",
              " 463: 'already',\n",
              " 464: 'ftp',\n",
              " 465: 'pl',\n",
              " 466: \"i'll\",\n",
              " 467: 'seem',\n",
              " 468: 'au',\n",
              " 469: 'cannot',\n",
              " 470: 'local',\n",
              " 471: 'disk',\n",
              " 472: 'image',\n",
              " 473: 'until',\n",
              " 474: 'makes',\n",
              " 475: 'ask',\n",
              " 476: 'andrew',\n",
              " 477: 'games',\n",
              " 478: 'large',\n",
              " 479: 'co',\n",
              " 480: 'evidence',\n",
              " 481: '32',\n",
              " 482: 'department',\n",
              " 483: 'address',\n",
              " 484: 'small',\n",
              " 485: 'word',\n",
              " 486: 'fax',\n",
              " 487: 'speed',\n",
              " 488: 'president',\n",
              " 489: 'apple',\n",
              " 490: 'change',\n",
              " 491: 'ago',\n",
              " 492: '27',\n",
              " 493: 'institute',\n",
              " 494: 'clipper',\n",
              " 495: 'perhaps',\n",
              " 496: '34',\n",
              " 497: 'answer',\n",
              " 498: 'mike',\n",
              " 499: 'jim',\n",
              " 500: 'bible',\n",
              " 501: 'told',\n",
              " 502: 'issue',\n",
              " 503: 'open',\n",
              " 504: 'running',\n",
              " 505: 'price',\n",
              " 506: 'memory',\n",
              " 507: 'full',\n",
              " 508: 'works',\n",
              " 509: 'came',\n",
              " 510: 'robert',\n",
              " 511: 'hand',\n",
              " 512: 'unix',\n",
              " 513: 'rights',\n",
              " 514: 'whole',\n",
              " 515: 'children',\n",
              " 516: 'sale',\n",
              " 517: '26',\n",
              " 518: 'buy',\n",
              " 519: 'april',\n",
              " 520: 'interested',\n",
              " 521: '100',\n",
              " 522: 'pretty',\n",
              " 523: 'type',\n",
              " 524: 'uiuc',\n",
              " 525: 'server',\n",
              " 526: 'stuff',\n",
              " 527: 'live',\n",
              " 528: 'turkish',\n",
              " 529: 'hope',\n",
              " 530: 'show',\n",
              " 531: 'states',\n",
              " 532: \"there's\",\n",
              " 533: 'days',\n",
              " 534: 'color',\n",
              " 535: 'paul',\n",
              " 536: 'side',\n",
              " 537: 'saying',\n",
              " 538: 'vs',\n",
              " 539: 'everything',\n",
              " 540: 'war',\n",
              " 541: 'important',\n",
              " 542: 'armenian',\n",
              " 543: 'canada',\n",
              " 544: 'original',\n",
              " 545: '28',\n",
              " 546: 'oh',\n",
              " 547: 'check',\n",
              " 548: 'went',\n",
              " 549: 'toronto',\n",
              " 550: '1d9',\n",
              " 551: 'box',\n",
              " 552: 'matter',\n",
              " 553: 'machine',\n",
              " 554: 'agree',\n",
              " 555: 'video',\n",
              " 556: '0d',\n",
              " 557: 'cost',\n",
              " 558: 'white',\n",
              " 559: 'israeli',\n",
              " 560: 'often',\n",
              " 561: 'including',\n",
              " 562: 'comes',\n",
              " 563: 'christians',\n",
              " 564: 'area',\n",
              " 565: 'feel',\n",
              " 566: 'faq',\n",
              " 567: 'everyone',\n",
              " 568: 'almost',\n",
              " 569: 'house',\n",
              " 570: 'colorado',\n",
              " 571: 'simply',\n",
              " 572: 'wanted',\n",
              " 573: 'understand',\n",
              " 574: 'ms',\n",
              " 575: \"won't\",\n",
              " 576: 'later',\n",
              " 577: 'output',\n",
              " 578: 'security',\n",
              " 579: 'programs',\n",
              " 580: 'care',\n",
              " 581: \"wouldn't\",\n",
              " 582: 'hockey',\n",
              " 583: 'display',\n",
              " 584: 'engineering',\n",
              " 585: 'love',\n",
              " 586: 'single',\n",
              " 587: 'include',\n",
              " 588: 'working',\n",
              " 589: 'dept',\n",
              " 590: 'low',\n",
              " 591: 'cmu',\n",
              " 592: 'mind',\n",
              " 593: 'service',\n",
              " 594: 'claim',\n",
              " 595: 'st',\n",
              " 596: 'db',\n",
              " 597: 'although',\n",
              " 598: 'instead',\n",
              " 599: 'top',\n",
              " 600: 'certainly',\n",
              " 601: 'hi',\n",
              " 602: 'truth',\n",
              " 603: 'write',\n",
              " 604: 'ohio',\n",
              " 605: 'ok',\n",
              " 606: 'church',\n",
              " 607: 'anyway',\n",
              " 608: 'california',\n",
              " 609: 'school',\n",
              " 610: 'college',\n",
              " 611: 'consider',\n",
              " 612: '45',\n",
              " 613: '31',\n",
              " 614: '34u',\n",
              " 615: 'size',\n",
              " 616: 'guess',\n",
              " 617: 'season',\n",
              " 618: 'started',\n",
              " 619: 'anybody',\n",
              " 620: 'known',\n",
              " 621: 'provide',\n",
              " 622: 'hell',\n",
              " 623: 'armenians',\n",
              " 624: 'religion',\n",
              " 625: 'contact',\n",
              " 626: 'package',\n",
              " 627: 'men',\n",
              " 628: 'history',\n",
              " 629: 'unless',\n",
              " 630: 'division',\n",
              " 631: 'making',\n",
              " 632: 'city',\n",
              " 633: 'tried',\n",
              " 634: 'earth',\n",
              " 635: 'keys',\n",
              " 636: 'san',\n",
              " 637: '33',\n",
              " 638: 'cause',\n",
              " 639: 'country',\n",
              " 640: 'network',\n",
              " 641: 'death',\n",
              " 642: 'james',\n",
              " 643: 'similar',\n",
              " 644: 'summary',\n",
              " 645: 'newsreader',\n",
              " 646: 'talk',\n",
              " 647: 'jewish',\n",
              " 648: 'fast',\n",
              " 649: 'hardware',\n",
              " 650: 'certain',\n",
              " 651: 'services',\n",
              " 652: '80',\n",
              " 653: 'difference',\n",
              " 654: 'user',\n",
              " 655: 'private',\n",
              " 656: 'level',\n",
              " 657: 'couple',\n",
              " 658: 'players',\n",
              " 659: 'company',\n",
              " 660: 'numbers',\n",
              " 661: 'took',\n",
              " 662: 'na',\n",
              " 663: 'black',\n",
              " 664: '29',\n",
              " 665: 'sort',\n",
              " 666: 'screen',\n",
              " 667: 'pub',\n",
              " 668: 'within',\n",
              " 669: 'faith',\n",
              " 670: 'major',\n",
              " 671: 'view',\n",
              " 672: 'police',\n",
              " 673: 'clinton',\n",
              " 674: 'likely',\n",
              " 675: \"he's\",\n",
              " 676: '0t',\n",
              " 677: 'per',\n",
              " 678: 'correct',\n",
              " 679: 'argument',\n",
              " 680: 'nice',\n",
              " 681: '35',\n",
              " 682: 'talking',\n",
              " 683: 'columbia',\n",
              " 684: 'cx',\n",
              " 685: 'via',\n",
              " 686: 'berkeley',\n",
              " 687: 'pitt',\n",
              " 688: \"they're\",\n",
              " 689: 'driver',\n",
              " 690: 'bike',\n",
              " 691: 'asked',\n",
              " 692: 'pay',\n",
              " 693: 'health',\n",
              " 694: 'dave',\n",
              " 695: 'ma',\n",
              " 696: 'york',\n",
              " 697: 'guns',\n",
              " 698: 'text',\n",
              " 699: 'application',\n",
              " 700: 'board',\n",
              " 701: 'usually',\n",
              " 702: 'experience',\n",
              " 703: 'press',\n",
              " 704: '55',\n",
              " 705: 'virginia',\n",
              " 706: 'exactly',\n",
              " 707: 'period',\n",
              " 708: 'saw',\n",
              " 709: 'cwru',\n",
              " 710: 'words',\n",
              " 711: 'keith',\n",
              " 712: 'especially',\n",
              " 713: 'sense',\n",
              " 714: 'sound',\n",
              " 715: 'groups',\n",
              " 716: 'points',\n",
              " 717: 'simple',\n",
              " 718: 'al',\n",
              " 719: 'themselves',\n",
              " 720: 'sorry',\n",
              " 721: 'att',\n",
              " 722: 'reading',\n",
              " 723: 'office',\n",
              " 724: 'copy',\n",
              " 725: \"we're\",\n",
              " 726: 'body',\n",
              " 727: 'gmt',\n",
              " 728: 'stop',\n",
              " 729: 'test',\n",
              " 730: 'deal',\n",
              " 731: 'killed',\n",
              " 732: 'brian',\n",
              " 733: 'dod',\n",
              " 734: 'comp',\n",
              " 735: 'head',\n",
              " 736: 'drivers',\n",
              " 737: '1992',\n",
              " 738: 'dead',\n",
              " 739: 'light',\n",
              " 740: 'needed',\n",
              " 741: 'clear',\n",
              " 742: 'self',\n",
              " 743: 'third',\n",
              " 744: '75u',\n",
              " 745: 'uses',\n",
              " 746: 'goes',\n",
              " 747: 'mode',\n",
              " 748: 'taken',\n",
              " 749: 'posted',\n",
              " 750: 'written',\n",
              " 751: 'bus',\n",
              " 752: 'common',\n",
              " 753: 'pittsburgh',\n",
              " 754: 'radio',\n",
              " 755: 'except',\n",
              " 756: 'business',\n",
              " 757: 'tin',\n",
              " 758: 'thus',\n",
              " 759: 'christ',\n",
              " 760: 'western',\n",
              " 761: 'fine',\n",
              " 762: '3t',\n",
              " 763: 'value',\n",
              " 764: 'turn',\n",
              " 765: 'short',\n",
              " 766: 'opinion',\n",
              " 767: 'week',\n",
              " 768: 'usenet',\n",
              " 769: 'advance',\n",
              " 770: 'communications',\n",
              " 771: 'young',\n",
              " 772: 'return',\n",
              " 773: 'exist',\n",
              " 774: 'myself',\n",
              " 775: 'air',\n",
              " 776: 'become',\n",
              " 777: 'bob',\n",
              " 778: 'force',\n",
              " 779: 'position',\n",
              " 780: 'guy',\n",
              " 781: 'mouse',\n",
              " 782: 'build',\n",
              " 783: 'se',\n",
              " 784: 'political',\n",
              " 785: 'among',\n",
              " 786: 'os',\n",
              " 787: 'happened',\n",
              " 788: '2di',\n",
              " 789: 'stanford',\n",
              " 790: 'easy',\n",
              " 791: 'laws',\n",
              " 792: 'form',\n",
              " 793: 'mine',\n",
              " 794: 'society',\n",
              " 795: 'smith',\n",
              " 796: 'runs',\n",
              " 797: 'particular',\n",
              " 798: 'anti',\n",
              " 799: 'discussion',\n",
              " 800: 'cleveland',\n",
              " 801: 'monitor',\n",
              " 802: 'sci',\n",
              " 803: 'motif',\n",
              " 804: 'four',\n",
              " 805: 'date',\n",
              " 806: 'peter',\n",
              " 807: 'ed',\n",
              " 808: 'whatever',\n",
              " 809: 'fire',\n",
              " 810: 'corporation',\n",
              " 811: 'built',\n",
              " 812: 'drives',\n",
              " 813: '04',\n",
              " 814: 'hear',\n",
              " 815: 'interesting',\n",
              " 816: 'rest',\n",
              " 817: 'therefore',\n",
              " 818: \"let's\",\n",
              " 819: 'needs',\n",
              " 820: '41',\n",
              " 821: 'military',\n",
              " 822: 'books',\n",
              " 823: 'hit',\n",
              " 824: 'league',\n",
              " 825: 'rate',\n",
              " 826: 'study',\n",
              " 827: 'night',\n",
              " 828: 'model',\n",
              " 829: \"haven't\",\n",
              " 830: 'lost',\n",
              " 831: 'gets',\n",
              " 832: 'considered',\n",
              " 833: 'face',\n",
              " 834: 'request',\n",
              " 835: 'future',\n",
              " 836: 'past',\n",
              " 837: '44',\n",
              " 838: \"what's\",\n",
              " 839: 'east',\n",
              " 840: 'situation',\n",
              " 841: 'itself',\n",
              " 842: 'strong',\n",
              " 843: 'early',\n",
              " 844: 'front',\n",
              " 845: 'cars',\n",
              " 846: 'statement',\n",
              " 847: 'job',\n",
              " 848: 'bhj',\n",
              " 849: 'special',\n",
              " 850: 'red',\n",
              " 851: 'texas',\n",
              " 852: 'ground',\n",
              " 853: 'longer',\n",
              " 854: 'la',\n",
              " 855: 'anonymous',\n",
              " 856: 'crime',\n",
              " 857: 'women',\n",
              " 858: 'section',\n",
              " 859: 'manager',\n",
              " 860: 'ones',\n",
              " 861: \"aren't\",\n",
              " 862: 'personal',\n",
              " 863: 'scott',\n",
              " 864: 'thinking',\n",
              " 865: \"wasn't\",\n",
              " 866: 'effect',\n",
              " 867: 'users',\n",
              " 868: 'kill',\n",
              " 869: '36',\n",
              " 870: 'weapons',\n",
              " 871: 'acs',\n",
              " 872: 'due',\n",
              " 873: 'add',\n",
              " 874: 'water',\n",
              " 875: 'plus',\n",
              " 876: 'sell',\n",
              " 877: 'policy',\n",
              " 878: 'act',\n",
              " 879: 'upon',\n",
              " 880: 'looks',\n",
              " 881: 'chicago',\n",
              " 882: 'road',\n",
              " 883: 'baseball',\n",
              " 884: 'cd',\n",
              " 885: 'ii',\n",
              " 886: '60',\n",
              " 887: 'sometimes',\n",
              " 888: 'format',\n",
              " 889: 'cso',\n",
              " 890: 'caltech',\n",
              " 891: 'series',\n",
              " 892: 'offer',\n",
              " 893: 'process',\n",
              " 894: 'error',\n",
              " 895: 'assume',\n",
              " 896: 'members',\n",
              " 897: 'defense',\n",
              " 898: 'disclaimer',\n",
              " 899: 'entry',\n",
              " 900: 'specific',\n",
              " 901: 'federal',\n",
              " 902: 'project',\n",
              " 903: 'tom',\n",
              " 904: 'coming',\n",
              " 905: 'recently',\n",
              " 906: 'sgi',\n",
              " 907: 'legal',\n",
              " 908: '38',\n",
              " 909: 'richard',\n",
              " 910: 'includes',\n",
              " 911: 'religious',\n",
              " 912: 'accept',\n",
              " 913: 'peace',\n",
              " 914: 'soon',\n",
              " 915: 'worth',\n",
              " 916: 'media',\n",
              " 917: 'united',\n",
              " 918: 'voice',\n",
              " 919: 'privacy',\n",
              " 920: 'ram',\n",
              " 921: 'rutgers',\n",
              " 922: 'nor',\n",
              " 923: 'behind',\n",
              " 924: 'taking',\n",
              " 925: 'controller',\n",
              " 926: 'bitnet',\n",
              " 927: 'tv',\n",
              " 928: 'food',\n",
              " 929: 'happen',\n",
              " 930: 'frank',\n",
              " 931: 'according',\n",
              " 932: 'near',\n",
              " 933: 'cases',\n",
              " 934: 'along',\n",
              " 935: 'together',\n",
              " 936: 'technical',\n",
              " 937: 'further',\n",
              " 938: 'moral',\n",
              " 939: 'giz',\n",
              " 940: 'international',\n",
              " 941: 'comments',\n",
              " 942: 'related',\n",
              " 943: 'purpose',\n",
              " 944: 'total',\n",
              " 945: 'cut',\n",
              " 946: 'allow',\n",
              " 947: 'parts',\n",
              " 948: 'fbi',\n",
              " 949: 'move',\n",
              " 950: 'corp',\n",
              " 951: 'fi',\n",
              " 952: 'explain',\n",
              " 953: 'expect',\n",
              " 954: 'performance',\n",
              " 955: 'land',\n",
              " 956: 'austin',\n",
              " 957: 'previous',\n",
              " 958: 'sources',\n",
              " 959: 'knowledge',\n",
              " 960: 'design',\n",
              " 961: 'months',\n",
              " 962: 'action',\n",
              " 963: 'mentioned',\n",
              " 964: 'dr',\n",
              " 965: 'result',\n",
              " 966: 'half',\n",
              " 967: 'math',\n",
              " 968: 'uunet',\n",
              " 969: 'friend',\n",
              " 970: 'ny',\n",
              " 971: 'medical',\n",
              " 972: '42',\n",
              " 973: 'court',\n",
              " 974: 'various',\n",
              " 975: 'utexas',\n",
              " 976: 'thomas',\n",
              " 977: 'building',\n",
              " 978: 'close',\n",
              " 979: 'necessary',\n",
              " 980: '02',\n",
              " 981: 'nhl',\n",
              " 982: '75',\n",
              " 983: 'reference',\n",
              " 984: 'images',\n",
              " 985: 'involved',\n",
              " 986: 'sent',\n",
              " 987: 'ide',\n",
              " 988: 'cover',\n",
              " 989: 'hold',\n",
              " 990: 'currently',\n",
              " 991: 'nl',\n",
              " 992: 'response',\n",
              " 993: 'himself',\n",
              " 994: 'million',\n",
              " 995: 'chris',\n",
              " 996: 'north',\n",
              " 997: 'machines',\n",
              " 998: 'rules',\n",
              " 999: 'main',\n",
              " 1000: 'save',\n",
              " ...}"
            ]
          },
          "metadata": {},
          "execution_count": 71
        }
      ]
    },
    {
      "cell_type": "code",
      "source": [
        "train_target"
      ],
      "metadata": {
        "colab": {
          "base_uri": "https://localhost:8080/"
        },
        "id": "tjo23L8BFaZU",
        "outputId": "21001890-422e-4d29-e91b-8c7710ed811f"
      },
      "execution_count": 73,
      "outputs": [
        {
          "output_type": "execute_result",
          "data": {
            "text/plain": [
              "0         7\n",
              "1         4\n",
              "2         4\n",
              "3         1\n",
              "4        14\n",
              "         ..\n",
              "11309    13\n",
              "11310     4\n",
              "11311     3\n",
              "11312     1\n",
              "11313     8\n",
              "Name: target, Length: 11314, dtype: int64"
            ]
          },
          "metadata": {},
          "execution_count": 73
        }
      ]
    },
    {
      "cell_type": "code",
      "source": [
        "# 데이터를 신경망으로 학습하여 분류 모델 생성 ->\n",
        "# xtest데이터를 모델에 입력하여 분류 20가지 결과 확인. test_target을 비교하여 정확도 계산\n",
        "\n",
        "# train_target\n",
        "ytrain = to_categorical(train_target, 20)\n",
        "ytest = to_categorical(test_target, 20)"
      ],
      "metadata": {
        "id": "u19aVjl7ESvf"
      },
      "execution_count": 74,
      "outputs": []
    },
    {
      "cell_type": "code",
      "source": [
        "# 신경망 모델 만들기\n",
        "from tensorflow.keras.models import Sequential\n",
        "from tensorflow.keras.layers import Dense\n",
        "\n",
        "model = Sequential() # 빈 모델\n",
        "model.add(Dense(256, input_shape=(10000,), activation='relu')) # input - hidden\n",
        "model.add(Dense(128, activation='relu')) # hidden - hidden\n",
        "model.add(Dense(20, activation='softmax')) # hidden - output, 출력층에서의 activation function = softmax / sigmoid\n",
        "model.compile(loss=\"categorical_crossentropy\", optimizer='adam', metrics=['accuracy'])"
      ],
      "metadata": {
        "id": "w7q17lORDkrM"
      },
      "execution_count": 84,
      "outputs": []
    },
    {
      "cell_type": "code",
      "source": [
        "# 모델 훈련(트레이닝)\n",
        "model.fit(xtrain, ytrain, batch_size=128, epochs=5, verbose=1, validation_split=0.1)"
      ],
      "metadata": {
        "colab": {
          "base_uri": "https://localhost:8080/"
        },
        "id": "ketc6l_uIdV1",
        "outputId": "786a239a-c3dc-480d-e5ef-c1f6e7879239"
      },
      "execution_count": 85,
      "outputs": [
        {
          "output_type": "stream",
          "name": "stdout",
          "text": [
            "Epoch 1/5\n",
            "80/80 [==============================] - 6s 61ms/step - loss: 1.2592 - accuracy: 0.7219 - val_loss: 0.4582 - val_accuracy: 0.8825\n",
            "Epoch 2/5\n",
            "80/80 [==============================] - 7s 82ms/step - loss: 0.1852 - accuracy: 0.9619 - val_loss: 0.3682 - val_accuracy: 0.8966\n",
            "Epoch 3/5\n",
            "80/80 [==============================] - 5s 64ms/step - loss: 0.0612 - accuracy: 0.9929 - val_loss: 0.3220 - val_accuracy: 0.9046\n",
            "Epoch 4/5\n",
            "80/80 [==============================] - 6s 79ms/step - loss: 0.0255 - accuracy: 0.9977 - val_loss: 0.3083 - val_accuracy: 0.9081\n",
            "Epoch 5/5\n",
            "80/80 [==============================] - 5s 65ms/step - loss: 0.0178 - accuracy: 0.9985 - val_loss: 0.3190 - val_accuracy: 0.9072\n"
          ]
        },
        {
          "output_type": "execute_result",
          "data": {
            "text/plain": [
              "<keras.callbacks.History at 0x783e66c47610>"
            ]
          },
          "metadata": {},
          "execution_count": 85
        }
      ]
    },
    {
      "cell_type": "code",
      "source": [
        "# 모델 평가\n",
        "score = model.evaluate(xtest, ytest, batch_size=128, verbose=0)\n",
        "score[1]"
      ],
      "metadata": {
        "colab": {
          "base_uri": "https://localhost:8080/"
        },
        "id": "KVw0AmfLIlgP",
        "outputId": "cdd83c85-99ee-4648-d75d-7e54fd3ee352"
      },
      "execution_count": 86,
      "outputs": [
        {
          "output_type": "execute_result",
          "data": {
            "text/plain": [
              "0.8149229884147644"
            ]
          },
          "metadata": {},
          "execution_count": 86
        }
      ]
    },
    {
      "cell_type": "code",
      "source": [
        "temp_str = 'level'\n",
        "middle = len(temp_str) // 2\n",
        "result = 1\n",
        "\n",
        "for idx in range(middle):\n",
        "    if temp_str[idx] != temp_str[-1-idx]:\n",
        "        result = -1\n",
        "        break\n",
        "print(result)"
      ],
      "metadata": {
        "colab": {
          "base_uri": "https://localhost:8080/"
        },
        "id": "3RqEG9zyHhvq",
        "outputId": "5956454c-c1a3-4776-c130-c6fa17fc3ba0"
      },
      "execution_count": 89,
      "outputs": [
        {
          "output_type": "stream",
          "name": "stdout",
          "text": [
            "1\n"
          ]
        }
      ]
    },
    {
      "cell_type": "code",
      "source": [
        "numbers = [1, 25, 3, 16, 2, 7, 8]\n",
        "\n",
        "max_num = 0\n",
        "result_idx = 0\n",
        "\n",
        "for idx, num in enumerate(numbers):\n",
        "    if max_num < num:\n",
        "        max_num = num\n",
        "        result_idx = idx\n",
        "\n",
        "print(result_idx, max_num)"
      ],
      "metadata": {
        "colab": {
          "base_uri": "https://localhost:8080/"
        },
        "id": "sHwEv325Hkr_",
        "outputId": "6f343a1c-e8d9-4cdc-bfd1-fc0dd1512c4a"
      },
      "execution_count": 93,
      "outputs": [
        {
          "output_type": "stream",
          "name": "stdout",
          "text": [
            "1 25\n"
          ]
        }
      ]
    },
    {
      "cell_type": "code",
      "source": [
        "list(range(1, 5))"
      ],
      "metadata": {
        "colab": {
          "base_uri": "https://localhost:8080/"
        },
        "id": "UgTOSWnLKgjB",
        "outputId": "5f84071f-cc81-46a8-f519-33024f60e68e"
      },
      "execution_count": 94,
      "outputs": [
        {
          "output_type": "execute_result",
          "data": {
            "text/plain": [
              "[1, 2, 3, 4]"
            ]
          },
          "metadata": {},
          "execution_count": 94
        }
      ]
    },
    {
      "cell_type": "code",
      "source": [],
      "metadata": {
        "id": "H0kaZ1lLLkj7"
      },
      "execution_count": null,
      "outputs": []
    }
  ]
}
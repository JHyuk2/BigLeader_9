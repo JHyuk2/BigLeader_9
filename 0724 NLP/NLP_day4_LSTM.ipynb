{
  "nbformat": 4,
  "nbformat_minor": 0,
  "metadata": {
    "colab": {
      "provenance": [],
      "gpuType": "T4"
    },
    "kernelspec": {
      "name": "python3",
      "display_name": "Python 3"
    },
    "language_info": {
      "name": "python"
    },
    "accelerator": "GPU"
  },
  "cells": [
    {
      "cell_type": "code",
      "source": [
        "from sklearn.feature_extraction.text import CountVectorizer"
      ],
      "metadata": {
        "id": "yU1P53s7ygem"
      },
      "execution_count": null,
      "outputs": []
    },
    {
      "cell_type": "code",
      "execution_count": null,
      "metadata": {
        "id": "A8MTe7M0yRi8"
      },
      "outputs": [],
      "source": [
        "texts = ['자연어 처리 알고리즘', '자연어 처리 방법',\n",
        "         '자연어 NLP 알고리즘 알고리즘',\n",
        "         '자연어 처리 전문가']"
      ]
    },
    {
      "cell_type": "code",
      "source": [
        "from tensorflow.keras.preprocessing.text import Tokenizer"
      ],
      "metadata": {
        "id": "1TR-k7C4yw9q"
      },
      "execution_count": null,
      "outputs": []
    },
    {
      "cell_type": "code",
      "source": [
        "tok = Tokenizer()"
      ],
      "metadata": {
        "id": "fnfWe3CQzKzv"
      },
      "execution_count": null,
      "outputs": []
    },
    {
      "cell_type": "code",
      "source": [
        "tok.fit_on_texts(texts)"
      ],
      "metadata": {
        "id": "BohEspyFzMVK"
      },
      "execution_count": null,
      "outputs": []
    },
    {
      "cell_type": "code",
      "source": [
        "tok.index_word"
      ],
      "metadata": {
        "colab": {
          "base_uri": "https://localhost:8080/"
        },
        "id": "8ccixSxfzOi8",
        "outputId": "6640d7fb-8743-4f25-9ad0-09d6c4873ae4"
      },
      "execution_count": null,
      "outputs": [
        {
          "output_type": "execute_result",
          "data": {
            "text/plain": [
              "{1: '자연어', 2: '처리', 3: '알고리즘', 4: '방법', 5: 'nlp', 6: '전문가'}"
            ]
          },
          "metadata": {},
          "execution_count": 6
        }
      ]
    },
    {
      "cell_type": "code",
      "source": [
        "# 말 그대로, 텍스트를 매트릭스로 바꿔준다. (원핫인코딩)\n",
        "tok.texts_to_matrix(texts, mode='binary') # default mode = 'binary"
      ],
      "metadata": {
        "colab": {
          "base_uri": "https://localhost:8080/"
        },
        "id": "T8a5oJZrzR5C",
        "outputId": "2fddb816-3247-44ce-bea9-a1a0fe9fa135"
      },
      "execution_count": null,
      "outputs": [
        {
          "output_type": "execute_result",
          "data": {
            "text/plain": [
              "array([[0., 1., 1., 1., 0., 0., 0.],\n",
              "       [0., 1., 1., 0., 1., 0., 0.],\n",
              "       [0., 1., 0., 1., 0., 1., 0.],\n",
              "       [0., 1., 1., 0., 0., 0., 1.]])"
            ]
          },
          "metadata": {},
          "execution_count": 7
        }
      ]
    },
    {
      "cell_type": "code",
      "source": [
        "tok.texts_to_matrix(texts, mode='count') # 몇 번 등장했느냐에 따라 수치를 바꿔줌."
      ],
      "metadata": {
        "colab": {
          "base_uri": "https://localhost:8080/"
        },
        "id": "douGDB9S0HbX",
        "outputId": "431e14fa-9f88-4756-d50b-cb2ca920bf3e"
      },
      "execution_count": null,
      "outputs": [
        {
          "output_type": "execute_result",
          "data": {
            "text/plain": [
              "array([[0., 1., 1., 1., 0., 0., 0.],\n",
              "       [0., 1., 1., 0., 1., 0., 0.],\n",
              "       [0., 1., 0., 2., 0., 1., 0.],\n",
              "       [0., 1., 1., 0., 0., 0., 1.]])"
            ]
          },
          "metadata": {},
          "execution_count": 8
        }
      ]
    },
    {
      "cell_type": "code",
      "source": [
        "tok.texts_to_matrix(texts, mode='tfidf') # tfidf matrix를 생성"
      ],
      "metadata": {
        "colab": {
          "base_uri": "https://localhost:8080/"
        },
        "id": "DZ8tXxHIzfCN",
        "outputId": "3512126b-cd10-4815-8bc5-01a52bfc3bc5"
      },
      "execution_count": null,
      "outputs": [
        {
          "output_type": "execute_result",
          "data": {
            "text/plain": [
              "array([[0.        , 0.58778666, 0.69314718, 0.84729786, 0.        ,\n",
              "        0.        , 0.        ],\n",
              "       [0.        , 0.58778666, 0.69314718, 0.        , 1.09861229,\n",
              "        0.        , 0.        ],\n",
              "       [0.        , 0.58778666, 0.        , 1.43459998, 0.        ,\n",
              "        1.09861229, 0.        ],\n",
              "       [0.        , 0.58778666, 0.69314718, 0.        , 0.        ,\n",
              "        0.        , 1.09861229]])"
            ]
          },
          "metadata": {},
          "execution_count": 9
        }
      ]
    },
    {
      "cell_type": "code",
      "source": [
        "tok.texts_to_matrix(texts, mode='freq') # frequency ratio (빈도 비율 - 잘 안씀)"
      ],
      "metadata": {
        "colab": {
          "base_uri": "https://localhost:8080/"
        },
        "id": "7xd56cKR0hOw",
        "outputId": "43af818e-c802-4922-da2b-aa06461c82dd"
      },
      "execution_count": null,
      "outputs": [
        {
          "output_type": "execute_result",
          "data": {
            "text/plain": [
              "array([[0.        , 0.33333333, 0.33333333, 0.33333333, 0.        ,\n",
              "        0.        , 0.        ],\n",
              "       [0.        , 0.33333333, 0.33333333, 0.        , 0.33333333,\n",
              "        0.        , 0.        ],\n",
              "       [0.        , 0.25      , 0.        , 0.5       , 0.        ,\n",
              "        0.25      , 0.        ],\n",
              "       [0.        , 0.33333333, 0.33333333, 0.        , 0.        ,\n",
              "        0.        , 0.33333333]])"
            ]
          },
          "metadata": {},
          "execution_count": 10
        }
      ]
    },
    {
      "cell_type": "code",
      "source": [
        "from google.colab import drive\n",
        "drive.mount('/content/myDrive')"
      ],
      "metadata": {
        "colab": {
          "base_uri": "https://localhost:8080/"
        },
        "id": "nRvVueGy611x",
        "outputId": "2715c24c-653b-4eee-8072-4bc6cf8f0f5d"
      },
      "execution_count": null,
      "outputs": [
        {
          "output_type": "stream",
          "name": "stdout",
          "text": [
            "Mounted at /content/myDrive\n"
          ]
        }
      ]
    },
    {
      "cell_type": "code",
      "source": [
        "import pandas as pd\n",
        "import numpy as np\n",
        "from string import punctuation"
      ],
      "metadata": {
        "id": "wxXS-dyk0oGQ"
      },
      "execution_count": null,
      "outputs": []
    },
    {
      "cell_type": "code",
      "source": [
        "df = pd.read_csv('/content/myDrive/MyDrive/data/datasets/NYT_2018.csv')"
      ],
      "metadata": {
        "id": "4ov4TYs_54o6"
      },
      "execution_count": null,
      "outputs": []
    },
    {
      "cell_type": "code",
      "source": [
        "df.columns"
      ],
      "metadata": {
        "colab": {
          "base_uri": "https://localhost:8080/"
        },
        "id": "CEopeKhM570H",
        "outputId": "f1513be7-443b-48ea-be6a-d34284d678b5"
      },
      "execution_count": null,
      "outputs": [
        {
          "output_type": "execute_result",
          "data": {
            "text/plain": [
              "Index(['articleID', 'articleWordCount', 'byline', 'documentType', 'headline',\n",
              "       'keywords', 'multimedia', 'newDesk', 'printPage', 'pubDate',\n",
              "       'sectionName', 'snippet', 'source', 'typeOfMaterial', 'webURL'],\n",
              "      dtype='object')"
            ]
          },
          "metadata": {},
          "execution_count": 14
        }
      ]
    },
    {
      "cell_type": "code",
      "source": [
        "df.head()"
      ],
      "metadata": {
        "colab": {
          "base_uri": "https://localhost:8080/",
          "height": 704
        },
        "id": "Eg0LNfJE7LbD",
        "outputId": "33bcd219-d5cb-4c16-de1a-3ad1e9bfd1ac"
      },
      "execution_count": null,
      "outputs": [
        {
          "output_type": "execute_result",
          "data": {
            "text/plain": [
              "                  articleID  articleWordCount  \\\n",
              "0  5adf6684068401528a2aa69b               781   \n",
              "1  5adf653f068401528a2aa697               656   \n",
              "2  5adf4626068401528a2aa628              2427   \n",
              "3  5adf40d2068401528a2aa619               626   \n",
              "4  5adf3d64068401528a2aa60f               815   \n",
              "\n",
              "                                      byline documentType  \\\n",
              "0                             By JOHN BRANCH      article   \n",
              "1                           By LISA FRIEDMAN      article   \n",
              "2                              By PETE WELLS      article   \n",
              "3  By JULIE HIRSCHFELD DAVIS and PETER BAKER      article   \n",
              "4             By IAN AUSTEN and DAN BILEFSKY      article   \n",
              "\n",
              "                                            headline  \\\n",
              "0  Former N.F.L. Cheerleaders’ Settlement Offer: ...   \n",
              "1  E.P.A. to Unveil a New Rule. Its Effect: Less ...   \n",
              "2                            The New Noma, Explained   \n",
              "3                                            Unknown   \n",
              "4                                            Unknown   \n",
              "\n",
              "                                            keywords  multimedia     newDesk  \\\n",
              "0  ['Workplace Hazards and Violations', 'Football...          68      Sports   \n",
              "1  ['Environmental Protection Agency', 'Pruitt, S...          68     Climate   \n",
              "2  ['Restaurants', 'Noma (Copenhagen, Restaurant)...          66      Dining   \n",
              "3  ['Macron, Emmanuel (1977- )', 'Trump, Donald J...          68  Washington   \n",
              "4  ['Toronto, Ontario, Attack (April, 2018)', 'Mu...          68     Foreign   \n",
              "\n",
              "   printPage              pubDate   sectionName  \\\n",
              "0          0  2018-04-24 17:16:49  Pro Football   \n",
              "1          0  2018-04-24 17:11:21       Unknown   \n",
              "2          0  2018-04-24 14:58:44       Unknown   \n",
              "3          0  2018-04-24 14:35:57        Europe   \n",
              "4          0  2018-04-24 14:21:21        Canada   \n",
              "\n",
              "                                             snippet              source  \\\n",
              "0  “I understand that they could meet with us, pa...  The New York Times   \n",
              "1  The agency plans to publish a new regulation T...  The New York Times   \n",
              "2  What’s it like to eat at the second incarnatio...  The New York Times   \n",
              "3  President Trump welcomed President Emmanuel Ma...  The New York Times   \n",
              "4  Alek Minassian, 25, a resident of Toronto’s Ri...  The New York Times   \n",
              "\n",
              "  typeOfMaterial                                             webURL  \n",
              "0           News  https://www.nytimes.com/2018/04/24/sports/foot...  \n",
              "1           News  https://www.nytimes.com/2018/04/24/climate/epa...  \n",
              "2           News  https://www.nytimes.com/2018/04/24/dining/noma...  \n",
              "3           News  https://www.nytimes.com/2018/04/24/world/europ...  \n",
              "4           News  https://www.nytimes.com/2018/04/24/world/canad...  "
            ],
            "text/html": [
              "\n",
              "\n",
              "  <div id=\"df-96739d7a-e88b-4b8c-ac63-ec0a97f8e7a5\">\n",
              "    <div class=\"colab-df-container\">\n",
              "      <div>\n",
              "<style scoped>\n",
              "    .dataframe tbody tr th:only-of-type {\n",
              "        vertical-align: middle;\n",
              "    }\n",
              "\n",
              "    .dataframe tbody tr th {\n",
              "        vertical-align: top;\n",
              "    }\n",
              "\n",
              "    .dataframe thead th {\n",
              "        text-align: right;\n",
              "    }\n",
              "</style>\n",
              "<table border=\"1\" class=\"dataframe\">\n",
              "  <thead>\n",
              "    <tr style=\"text-align: right;\">\n",
              "      <th></th>\n",
              "      <th>articleID</th>\n",
              "      <th>articleWordCount</th>\n",
              "      <th>byline</th>\n",
              "      <th>documentType</th>\n",
              "      <th>headline</th>\n",
              "      <th>keywords</th>\n",
              "      <th>multimedia</th>\n",
              "      <th>newDesk</th>\n",
              "      <th>printPage</th>\n",
              "      <th>pubDate</th>\n",
              "      <th>sectionName</th>\n",
              "      <th>snippet</th>\n",
              "      <th>source</th>\n",
              "      <th>typeOfMaterial</th>\n",
              "      <th>webURL</th>\n",
              "    </tr>\n",
              "  </thead>\n",
              "  <tbody>\n",
              "    <tr>\n",
              "      <th>0</th>\n",
              "      <td>5adf6684068401528a2aa69b</td>\n",
              "      <td>781</td>\n",
              "      <td>By JOHN BRANCH</td>\n",
              "      <td>article</td>\n",
              "      <td>Former N.F.L. Cheerleaders’ Settlement Offer: ...</td>\n",
              "      <td>['Workplace Hazards and Violations', 'Football...</td>\n",
              "      <td>68</td>\n",
              "      <td>Sports</td>\n",
              "      <td>0</td>\n",
              "      <td>2018-04-24 17:16:49</td>\n",
              "      <td>Pro Football</td>\n",
              "      <td>“I understand that they could meet with us, pa...</td>\n",
              "      <td>The New York Times</td>\n",
              "      <td>News</td>\n",
              "      <td>https://www.nytimes.com/2018/04/24/sports/foot...</td>\n",
              "    </tr>\n",
              "    <tr>\n",
              "      <th>1</th>\n",
              "      <td>5adf653f068401528a2aa697</td>\n",
              "      <td>656</td>\n",
              "      <td>By LISA FRIEDMAN</td>\n",
              "      <td>article</td>\n",
              "      <td>E.P.A. to Unveil a New Rule. Its Effect: Less ...</td>\n",
              "      <td>['Environmental Protection Agency', 'Pruitt, S...</td>\n",
              "      <td>68</td>\n",
              "      <td>Climate</td>\n",
              "      <td>0</td>\n",
              "      <td>2018-04-24 17:11:21</td>\n",
              "      <td>Unknown</td>\n",
              "      <td>The agency plans to publish a new regulation T...</td>\n",
              "      <td>The New York Times</td>\n",
              "      <td>News</td>\n",
              "      <td>https://www.nytimes.com/2018/04/24/climate/epa...</td>\n",
              "    </tr>\n",
              "    <tr>\n",
              "      <th>2</th>\n",
              "      <td>5adf4626068401528a2aa628</td>\n",
              "      <td>2427</td>\n",
              "      <td>By PETE WELLS</td>\n",
              "      <td>article</td>\n",
              "      <td>The New Noma, Explained</td>\n",
              "      <td>['Restaurants', 'Noma (Copenhagen, Restaurant)...</td>\n",
              "      <td>66</td>\n",
              "      <td>Dining</td>\n",
              "      <td>0</td>\n",
              "      <td>2018-04-24 14:58:44</td>\n",
              "      <td>Unknown</td>\n",
              "      <td>What’s it like to eat at the second incarnatio...</td>\n",
              "      <td>The New York Times</td>\n",
              "      <td>News</td>\n",
              "      <td>https://www.nytimes.com/2018/04/24/dining/noma...</td>\n",
              "    </tr>\n",
              "    <tr>\n",
              "      <th>3</th>\n",
              "      <td>5adf40d2068401528a2aa619</td>\n",
              "      <td>626</td>\n",
              "      <td>By JULIE HIRSCHFELD DAVIS and PETER BAKER</td>\n",
              "      <td>article</td>\n",
              "      <td>Unknown</td>\n",
              "      <td>['Macron, Emmanuel (1977- )', 'Trump, Donald J...</td>\n",
              "      <td>68</td>\n",
              "      <td>Washington</td>\n",
              "      <td>0</td>\n",
              "      <td>2018-04-24 14:35:57</td>\n",
              "      <td>Europe</td>\n",
              "      <td>President Trump welcomed President Emmanuel Ma...</td>\n",
              "      <td>The New York Times</td>\n",
              "      <td>News</td>\n",
              "      <td>https://www.nytimes.com/2018/04/24/world/europ...</td>\n",
              "    </tr>\n",
              "    <tr>\n",
              "      <th>4</th>\n",
              "      <td>5adf3d64068401528a2aa60f</td>\n",
              "      <td>815</td>\n",
              "      <td>By IAN AUSTEN and DAN BILEFSKY</td>\n",
              "      <td>article</td>\n",
              "      <td>Unknown</td>\n",
              "      <td>['Toronto, Ontario, Attack (April, 2018)', 'Mu...</td>\n",
              "      <td>68</td>\n",
              "      <td>Foreign</td>\n",
              "      <td>0</td>\n",
              "      <td>2018-04-24 14:21:21</td>\n",
              "      <td>Canada</td>\n",
              "      <td>Alek Minassian, 25, a resident of Toronto’s Ri...</td>\n",
              "      <td>The New York Times</td>\n",
              "      <td>News</td>\n",
              "      <td>https://www.nytimes.com/2018/04/24/world/canad...</td>\n",
              "    </tr>\n",
              "  </tbody>\n",
              "</table>\n",
              "</div>\n",
              "      <button class=\"colab-df-convert\" onclick=\"convertToInteractive('df-96739d7a-e88b-4b8c-ac63-ec0a97f8e7a5')\"\n",
              "              title=\"Convert this dataframe to an interactive table.\"\n",
              "              style=\"display:none;\">\n",
              "\n",
              "  <svg xmlns=\"http://www.w3.org/2000/svg\" height=\"24px\"viewBox=\"0 0 24 24\"\n",
              "       width=\"24px\">\n",
              "    <path d=\"M0 0h24v24H0V0z\" fill=\"none\"/>\n",
              "    <path d=\"M18.56 5.44l.94 2.06.94-2.06 2.06-.94-2.06-.94-.94-2.06-.94 2.06-2.06.94zm-11 1L8.5 8.5l.94-2.06 2.06-.94-2.06-.94L8.5 2.5l-.94 2.06-2.06.94zm10 10l.94 2.06.94-2.06 2.06-.94-2.06-.94-.94-2.06-.94 2.06-2.06.94z\"/><path d=\"M17.41 7.96l-1.37-1.37c-.4-.4-.92-.59-1.43-.59-.52 0-1.04.2-1.43.59L10.3 9.45l-7.72 7.72c-.78.78-.78 2.05 0 2.83L4 21.41c.39.39.9.59 1.41.59.51 0 1.02-.2 1.41-.59l7.78-7.78 2.81-2.81c.8-.78.8-2.07 0-2.86zM5.41 20L4 18.59l7.72-7.72 1.47 1.35L5.41 20z\"/>\n",
              "  </svg>\n",
              "      </button>\n",
              "\n",
              "\n",
              "\n",
              "    <div id=\"df-145221ed-26ce-405b-92e5-8b2922959393\">\n",
              "      <button class=\"colab-df-quickchart\" onclick=\"quickchart('df-145221ed-26ce-405b-92e5-8b2922959393')\"\n",
              "              title=\"Suggest charts.\"\n",
              "              style=\"display:none;\">\n",
              "\n",
              "<svg xmlns=\"http://www.w3.org/2000/svg\" height=\"24px\"viewBox=\"0 0 24 24\"\n",
              "     width=\"24px\">\n",
              "    <g>\n",
              "        <path d=\"M19 3H5c-1.1 0-2 .9-2 2v14c0 1.1.9 2 2 2h14c1.1 0 2-.9 2-2V5c0-1.1-.9-2-2-2zM9 17H7v-7h2v7zm4 0h-2V7h2v10zm4 0h-2v-4h2v4z\"/>\n",
              "    </g>\n",
              "</svg>\n",
              "      </button>\n",
              "    </div>\n",
              "\n",
              "<style>\n",
              "  .colab-df-quickchart {\n",
              "    background-color: #E8F0FE;\n",
              "    border: none;\n",
              "    border-radius: 50%;\n",
              "    cursor: pointer;\n",
              "    display: none;\n",
              "    fill: #1967D2;\n",
              "    height: 32px;\n",
              "    padding: 0 0 0 0;\n",
              "    width: 32px;\n",
              "  }\n",
              "\n",
              "  .colab-df-quickchart:hover {\n",
              "    background-color: #E2EBFA;\n",
              "    box-shadow: 0px 1px 2px rgba(60, 64, 67, 0.3), 0px 1px 3px 1px rgba(60, 64, 67, 0.15);\n",
              "    fill: #174EA6;\n",
              "  }\n",
              "\n",
              "  [theme=dark] .colab-df-quickchart {\n",
              "    background-color: #3B4455;\n",
              "    fill: #D2E3FC;\n",
              "  }\n",
              "\n",
              "  [theme=dark] .colab-df-quickchart:hover {\n",
              "    background-color: #434B5C;\n",
              "    box-shadow: 0px 1px 3px 1px rgba(0, 0, 0, 0.15);\n",
              "    filter: drop-shadow(0px 1px 2px rgba(0, 0, 0, 0.3));\n",
              "    fill: #FFFFFF;\n",
              "  }\n",
              "</style>\n",
              "\n",
              "    <script>\n",
              "      async function quickchart(key) {\n",
              "        const containerElement = document.querySelector('#' + key);\n",
              "        const charts = await google.colab.kernel.invokeFunction(\n",
              "            'suggestCharts', [key], {});\n",
              "      }\n",
              "    </script>\n",
              "\n",
              "      <script>\n",
              "\n",
              "function displayQuickchartButton(domScope) {\n",
              "  let quickchartButtonEl =\n",
              "    domScope.querySelector('#df-145221ed-26ce-405b-92e5-8b2922959393 button.colab-df-quickchart');\n",
              "  quickchartButtonEl.style.display =\n",
              "    google.colab.kernel.accessAllowed ? 'block' : 'none';\n",
              "}\n",
              "\n",
              "        displayQuickchartButton(document);\n",
              "      </script>\n",
              "      <style>\n",
              "    .colab-df-container {\n",
              "      display:flex;\n",
              "      flex-wrap:wrap;\n",
              "      gap: 12px;\n",
              "    }\n",
              "\n",
              "    .colab-df-convert {\n",
              "      background-color: #E8F0FE;\n",
              "      border: none;\n",
              "      border-radius: 50%;\n",
              "      cursor: pointer;\n",
              "      display: none;\n",
              "      fill: #1967D2;\n",
              "      height: 32px;\n",
              "      padding: 0 0 0 0;\n",
              "      width: 32px;\n",
              "    }\n",
              "\n",
              "    .colab-df-convert:hover {\n",
              "      background-color: #E2EBFA;\n",
              "      box-shadow: 0px 1px 2px rgba(60, 64, 67, 0.3), 0px 1px 3px 1px rgba(60, 64, 67, 0.15);\n",
              "      fill: #174EA6;\n",
              "    }\n",
              "\n",
              "    [theme=dark] .colab-df-convert {\n",
              "      background-color: #3B4455;\n",
              "      fill: #D2E3FC;\n",
              "    }\n",
              "\n",
              "    [theme=dark] .colab-df-convert:hover {\n",
              "      background-color: #434B5C;\n",
              "      box-shadow: 0px 1px 3px 1px rgba(0, 0, 0, 0.15);\n",
              "      filter: drop-shadow(0px 1px 2px rgba(0, 0, 0, 0.3));\n",
              "      fill: #FFFFFF;\n",
              "    }\n",
              "  </style>\n",
              "\n",
              "      <script>\n",
              "        const buttonEl =\n",
              "          document.querySelector('#df-96739d7a-e88b-4b8c-ac63-ec0a97f8e7a5 button.colab-df-convert');\n",
              "        buttonEl.style.display =\n",
              "          google.colab.kernel.accessAllowed ? 'block' : 'none';\n",
              "\n",
              "        async function convertToInteractive(key) {\n",
              "          const element = document.querySelector('#df-96739d7a-e88b-4b8c-ac63-ec0a97f8e7a5');\n",
              "          const dataTable =\n",
              "            await google.colab.kernel.invokeFunction('convertToInteractive',\n",
              "                                                     [key], {});\n",
              "          if (!dataTable) return;\n",
              "\n",
              "          const docLinkHtml = 'Like what you see? Visit the ' +\n",
              "            '<a target=\"_blank\" href=https://colab.research.google.com/notebooks/data_table.ipynb>data table notebook</a>'\n",
              "            + ' to learn more about interactive tables.';\n",
              "          element.innerHTML = '';\n",
              "          dataTable['output_type'] = 'display_data';\n",
              "          await google.colab.output.renderOutput(dataTable, element);\n",
              "          const docLink = document.createElement('div');\n",
              "          docLink.innerHTML = docLinkHtml;\n",
              "          element.appendChild(docLink);\n",
              "        }\n",
              "      </script>\n",
              "    </div>\n",
              "  </div>\n"
            ]
          },
          "metadata": {},
          "execution_count": 15
        }
      ]
    },
    {
      "cell_type": "code",
      "source": [
        "headline = df.headline"
      ],
      "metadata": {
        "id": "7_5Azj267MPH"
      },
      "execution_count": null,
      "outputs": []
    },
    {
      "cell_type": "code",
      "source": [
        "len(headline)"
      ],
      "metadata": {
        "colab": {
          "base_uri": "https://localhost:8080/"
        },
        "id": "dFJ3-dGJ7NpF",
        "outputId": "a5c47608-665b-483d-ad9c-3e6482e72e20"
      },
      "execution_count": null,
      "outputs": [
        {
          "output_type": "execute_result",
          "data": {
            "text/plain": [
              "1324"
            ]
          },
          "metadata": {},
          "execution_count": 17
        }
      ]
    },
    {
      "cell_type": "code",
      "source": [
        "headline.head()"
      ],
      "metadata": {
        "colab": {
          "base_uri": "https://localhost:8080/"
        },
        "id": "rFIwXkap7PQb",
        "outputId": "3036c549-46e7-4f34-a129-9b686c52be9e"
      },
      "execution_count": null,
      "outputs": [
        {
          "output_type": "execute_result",
          "data": {
            "text/plain": [
              "0    Former N.F.L. Cheerleaders’ Settlement Offer: ...\n",
              "1    E.P.A. to Unveil a New Rule. Its Effect: Less ...\n",
              "2                              The New Noma, Explained\n",
              "3                                              Unknown\n",
              "4                                              Unknown\n",
              "Name: headline, dtype: object"
            ]
          },
          "metadata": {},
          "execution_count": 18
        }
      ]
    },
    {
      "cell_type": "code",
      "source": [
        "len(headline[headline=='Unknown'])"
      ],
      "metadata": {
        "colab": {
          "base_uri": "https://localhost:8080/"
        },
        "id": "oMHXJ7iA7UcV",
        "outputId": "26ed8852-d831-4c6f-f6a1-a3de3855099b"
      },
      "execution_count": null,
      "outputs": [
        {
          "output_type": "execute_result",
          "data": {
            "text/plain": [
              "110"
            ]
          },
          "metadata": {},
          "execution_count": 19
        }
      ]
    },
    {
      "cell_type": "code",
      "source": [
        "df.headline=='Unkknown'"
      ],
      "metadata": {
        "colab": {
          "base_uri": "https://localhost:8080/"
        },
        "id": "JsdOPw_M7Yyz",
        "outputId": "0184c045-8a1c-4e7b-9cce-c5ea4f0db3f8"
      },
      "execution_count": null,
      "outputs": [
        {
          "output_type": "execute_result",
          "data": {
            "text/plain": [
              "0       False\n",
              "1       False\n",
              "2       False\n",
              "3       False\n",
              "4       False\n",
              "        ...  \n",
              "1319    False\n",
              "1320    False\n",
              "1321    False\n",
              "1322    False\n",
              "1323    False\n",
              "Name: headline, Length: 1324, dtype: bool"
            ]
          },
          "metadata": {},
          "execution_count": 20
        }
      ]
    },
    {
      "cell_type": "code",
      "source": [
        "headline = df.headline[headline!='Unknown'] # unknown 제거"
      ],
      "metadata": {
        "id": "4cPP1aVEC3V7"
      },
      "execution_count": null,
      "outputs": []
    },
    {
      "cell_type": "code",
      "source": [
        "len([w for w in headline if w =='Unknown'])  #=='Unknown"
      ],
      "metadata": {
        "colab": {
          "base_uri": "https://localhost:8080/"
        },
        "id": "uoJgoRCX8Fkc",
        "outputId": "10eca3de-1f3e-447b-8f98-23bfc844cd7a"
      },
      "execution_count": null,
      "outputs": [
        {
          "output_type": "execute_result",
          "data": {
            "text/plain": [
              "0"
            ]
          },
          "metadata": {},
          "execution_count": 22
        }
      ]
    },
    {
      "cell_type": "markdown",
      "source": [
        "Series를 List로 바꿔서 count하는 게 제일빠르다. (의외)"
      ],
      "metadata": {
        "id": "WHzmr7Bu9aAu"
      }
    },
    {
      "cell_type": "code",
      "source": [
        "%%timeit\n",
        "\n",
        "sum(df.headline == 'Unknown')"
      ],
      "metadata": {
        "colab": {
          "base_uri": "https://localhost:8080/"
        },
        "id": "M-h3DQr88hOq",
        "outputId": "5562bd6d-1f80-4b3a-d50d-506e65923e56"
      },
      "execution_count": null,
      "outputs": [
        {
          "output_type": "stream",
          "name": "stdout",
          "text": [
            "705 µs ± 338 µs per loop (mean ± std. dev. of 7 runs, 1000 loops each)\n"
          ]
        }
      ]
    },
    {
      "cell_type": "code",
      "source": [
        "%%timeit\n",
        "\n",
        "len([w for w in headline if w=='Unknown'])"
      ],
      "metadata": {
        "colab": {
          "base_uri": "https://localhost:8080/"
        },
        "id": "dlm5j6fV8qGG",
        "outputId": "9f3e3cf8-5848-4e9c-8f89-ba54c8840632"
      },
      "execution_count": null,
      "outputs": [
        {
          "output_type": "stream",
          "name": "stdout",
          "text": [
            "177 µs ± 55.4 µs per loop (mean ± std. dev. of 7 runs, 10000 loops each)\n"
          ]
        }
      ]
    },
    {
      "cell_type": "code",
      "source": [
        "%%timeit\n",
        "\n",
        "head_list = list(headline)\n",
        "head_list.count('Unknown')"
      ],
      "metadata": {
        "colab": {
          "base_uri": "https://localhost:8080/"
        },
        "id": "xIU8i7HF9Ay4",
        "outputId": "0a3d11b9-afa7-467a-bb2e-cdcb3ff501e6"
      },
      "execution_count": null,
      "outputs": [
        {
          "output_type": "stream",
          "name": "stdout",
          "text": [
            "170 µs ± 53.8 µs per loop (mean ± std. dev. of 7 runs, 10000 loops each)\n"
          ]
        }
      ]
    },
    {
      "cell_type": "code",
      "source": [
        "# headline에 저장된 뉴스 기사 제목으로 다음 단어를 생성하는 LSTM\n",
        "'''\n",
        "기반 모델 설계\n",
        "<동작 예시>\n",
        "\n",
        "입력 : I, 생성하고자 하는 단어의 갯수\n",
        "출력 : I was ... 완성\n",
        "'''"
      ],
      "metadata": {
        "id": "5MfEuoUz9D-A"
      },
      "execution_count": null,
      "outputs": []
    },
    {
      "cell_type": "code",
      "source": [
        "head_list[0]"
      ],
      "metadata": {
        "colab": {
          "base_uri": "https://localhost:8080/",
          "height": 35
        },
        "id": "UbTnkBe6_d4w",
        "outputId": "12fd76c4-6c40-4752-b89c-d8e16644383d"
      },
      "execution_count": null,
      "outputs": [
        {
          "output_type": "execute_result",
          "data": {
            "text/plain": [
              "'Former N.F.L. Cheerleaders’ Settlement Offer: $1 and a Meeting With Goodell'"
            ],
            "application/vnd.google.colaboratory.intrinsic+json": {
              "type": "string"
            }
          },
          "metadata": {},
          "execution_count": 35
        }
      ]
    },
    {
      "cell_type": "code",
      "source": [
        "def pre_func(title):\n",
        "  # 소문자 변환\n",
        "  # res = title.lower()\n",
        "  global punctuation\n",
        "  # 문자열 하나하나를 w로 받아서 lower를 해주는 코드\n",
        "  # w가 punctuation에 속하지 않으면(특수문자면) 넣어줘라. (== str.isalpha() 라는 좋은 함수가 있음)\n",
        "  res = ''.join([w.lower() for w in title if w not in punctuation])\n",
        "  return res"
      ],
      "metadata": {
        "id": "ALg1D10J-b3j"
      },
      "execution_count": null,
      "outputs": []
    },
    {
      "cell_type": "code",
      "source": [
        "# 전처리\n",
        "# [x.lower() for x in headline]\n",
        "pre_headline = [pre_func(x) for x in headline]\n",
        "pre_headline[:5]"
      ],
      "metadata": {
        "colab": {
          "base_uri": "https://localhost:8080/"
        },
        "id": "9-QIG_J_90hN",
        "outputId": "44e4b337-7f08-4828-984a-f408c2d4a172"
      },
      "execution_count": null,
      "outputs": [
        {
          "output_type": "execute_result",
          "data": {
            "text/plain": [
              "['former nfl cheerleaders’ settlement offer 1 and a meeting with goodell',\n",
              " 'epa to unveil a new rule its effect less science in policymaking',\n",
              " 'the new noma explained',\n",
              " 'how a bag of texas dirt  became a times tradition',\n",
              " 'is school a place for selfexpression']"
            ]
          },
          "metadata": {},
          "execution_count": 24
        }
      ]
    },
    {
      "cell_type": "code",
      "source": [
        "punctuation"
      ],
      "metadata": {
        "colab": {
          "base_uri": "https://localhost:8080/",
          "height": 35
        },
        "id": "elBjKkX5Ac0c",
        "outputId": "20a05675-308d-46fc-a7ce-6cd23554081d"
      },
      "execution_count": null,
      "outputs": [
        {
          "output_type": "execute_result",
          "data": {
            "text/plain": [
              "'!\"#$%&\\'()*+,-./:;<=>?@[\\\\]^_`{|}~'"
            ],
            "application/vnd.google.colaboratory.intrinsic+json": {
              "type": "string"
            }
          },
          "metadata": {},
          "execution_count": 25
        }
      ]
    },
    {
      "cell_type": "code",
      "source": [
        "tok = Tokenizer()\n",
        "tok.fit_on_texts(pre_headline)"
      ],
      "metadata": {
        "id": "1FRiVcnTAtYc"
      },
      "execution_count": null,
      "outputs": []
    },
    {
      "cell_type": "code",
      "source": [
        "type(tok.index_word)"
      ],
      "metadata": {
        "colab": {
          "base_uri": "https://localhost:8080/"
        },
        "id": "MdK_2e9SBt-n",
        "outputId": "3ec16f0a-3213-48d9-b342-b7a9d2cdf5e0"
      },
      "execution_count": null,
      "outputs": [
        {
          "output_type": "execute_result",
          "data": {
            "text/plain": [
              "dict"
            ]
          },
          "metadata": {},
          "execution_count": 27
        }
      ]
    },
    {
      "cell_type": "code",
      "source": [
        "len(tok.index_word)"
      ],
      "metadata": {
        "colab": {
          "base_uri": "https://localhost:8080/"
        },
        "id": "MsHTQ_x2BvuZ",
        "outputId": "4cae0957-6bd0-4b0f-dbe7-8b04ad54a30d"
      },
      "execution_count": null,
      "outputs": [
        {
          "output_type": "execute_result",
          "data": {
            "text/plain": [
              "3619"
            ]
          },
          "metadata": {},
          "execution_count": 28
        }
      ]
    },
    {
      "cell_type": "code",
      "source": [
        "vocab_size = len(tok.index_word) +1"
      ],
      "metadata": {
        "id": "WL7CYYj2CH82"
      },
      "execution_count": null,
      "outputs": []
    },
    {
      "cell_type": "code",
      "source": [
        "sequences = []\n",
        "for s in pre_headline:\n",
        "  enc = tok.texts_to_sequences([s])[0]\n",
        "  for i in range(1, len(enc)):\n",
        "\n",
        "    seq = enc[: i+1]\n",
        "    sequences.append(seq)\n",
        "\n",
        "sequences[:15]"
      ],
      "metadata": {
        "colab": {
          "base_uri": "https://localhost:8080/"
        },
        "id": "CyyiMc8jBw-7",
        "outputId": "264cb697-2544-4890-bb4d-80bda5fd7186"
      },
      "execution_count": null,
      "outputs": [
        {
          "output_type": "execute_result",
          "data": {
            "text/plain": [
              "[[95, 263],\n",
              " [95, 263, 1100],\n",
              " [95, 263, 1100, 1101],\n",
              " [95, 263, 1100, 1101, 572],\n",
              " [95, 263, 1100, 1101, 572, 50],\n",
              " [95, 263, 1100, 1101, 572, 50, 7],\n",
              " [95, 263, 1100, 1101, 572, 50, 7, 2],\n",
              " [95, 263, 1100, 1101, 572, 50, 7, 2, 365],\n",
              " [95, 263, 1100, 1101, 572, 50, 7, 2, 365, 10],\n",
              " [95, 263, 1100, 1101, 572, 50, 7, 2, 365, 10, 1102],\n",
              " [96, 3],\n",
              " [96, 3, 1103],\n",
              " [96, 3, 1103, 2],\n",
              " [96, 3, 1103, 2, 14],\n",
              " [96, 3, 1103, 2, 14, 573]]"
            ]
          },
          "metadata": {},
          "execution_count": 30
        }
      ]
    },
    {
      "cell_type": "code",
      "source": [
        "sents = [\n",
        "    ['programmer', 'person'],\n",
        "    ['programmer', 'word', 'secret']]"
      ],
      "metadata": {
        "id": "JnsIb6s3DOiK"
      },
      "execution_count": null,
      "outputs": []
    },
    {
      "cell_type": "code",
      "source": [
        "mytok = Tokenizer()\n",
        "mytok.fit_on_texts(sents)\n",
        "mytok.word_index"
      ],
      "metadata": {
        "colab": {
          "base_uri": "https://localhost:8080/"
        },
        "id": "5YN3OYhyIJIv",
        "outputId": "8d7c6820-0466-4c80-9fcc-da3a6972d578"
      },
      "execution_count": null,
      "outputs": [
        {
          "output_type": "execute_result",
          "data": {
            "text/plain": [
              "{'programmer': 1, 'person': 2, 'word': 3, 'secret': 4}"
            ]
          },
          "metadata": {},
          "execution_count": 32
        }
      ]
    },
    {
      "cell_type": "code",
      "source": [
        "# 문자 그대로 텍스트를 시퀀스형 자료로 바꿔줌.\n",
        "mytok.texts_to_sequences(sents)"
      ],
      "metadata": {
        "colab": {
          "base_uri": "https://localhost:8080/"
        },
        "id": "86n1Qh2DISCa",
        "outputId": "3f7762b7-9829-410e-998c-cd19c5e8e6cb"
      },
      "execution_count": null,
      "outputs": [
        {
          "output_type": "execute_result",
          "data": {
            "text/plain": [
              "[[1, 2], [1, 3, 4]]"
            ]
          },
          "metadata": {},
          "execution_count": 33
        }
      ]
    },
    {
      "cell_type": "code",
      "source": [
        "# list로 감싸주지 않으면\n",
        "alpha_tok = Tokenizer()\n",
        "alpha_tok.fit_on_texts('asbs dfadf fasdf dfsdf aqw er')"
      ],
      "metadata": {
        "id": "x73a7BdUIVUt"
      },
      "execution_count": null,
      "outputs": []
    },
    {
      "cell_type": "code",
      "source": [
        "alpha_tok.word_index"
      ],
      "metadata": {
        "colab": {
          "base_uri": "https://localhost:8080/"
        },
        "id": "zpuIfPZpKtyr",
        "outputId": "53bff972-95d3-48f2-f6f0-466946e689bb"
      },
      "execution_count": null,
      "outputs": [
        {
          "output_type": "execute_result",
          "data": {
            "text/plain": [
              "{'f': 1, 'd': 2, 'a': 3, 's': 4, 'b': 5, 'q': 6, 'w': 7, 'e': 8, 'r': 9}"
            ]
          },
          "metadata": {},
          "execution_count": 33
        }
      ]
    },
    {
      "cell_type": "code",
      "source": [
        "text_tok = Tokenizer()\n",
        "text_tok.fit_on_texts(['asdf asdf  bwrq sdf ax d f s fasd ddd'])"
      ],
      "metadata": {
        "id": "9XyTgo7tKvPH"
      },
      "execution_count": null,
      "outputs": []
    },
    {
      "cell_type": "code",
      "source": [
        "text_tok.word_index"
      ],
      "metadata": {
        "colab": {
          "base_uri": "https://localhost:8080/"
        },
        "id": "42RG3ULkLTGj",
        "outputId": "5b6b706a-abdd-4181-d855-022345aece3f"
      },
      "execution_count": null,
      "outputs": [
        {
          "output_type": "execute_result",
          "data": {
            "text/plain": [
              "{'asdf': 1,\n",
              " 'bwrq': 2,\n",
              " 'sdf': 3,\n",
              " 'ax': 4,\n",
              " 'd': 5,\n",
              " 'f': 6,\n",
              " 's': 7,\n",
              " 'fasd': 8,\n",
              " 'ddd': 9}"
            ]
          },
          "metadata": {},
          "execution_count": 35
        }
      ]
    },
    {
      "cell_type": "code",
      "source": [
        "mytok.word_index"
      ],
      "metadata": {
        "colab": {
          "base_uri": "https://localhost:8080/"
        },
        "id": "Ia2EOy-9LxLD",
        "outputId": "a4d6d1aa-08ac-418d-8ad6-bd5ed33a022e"
      },
      "execution_count": null,
      "outputs": [
        {
          "output_type": "execute_result",
          "data": {
            "text/plain": [
              "{'programmer': 1, 'person': 2, 'word': 3, 'secret': 4}"
            ]
          },
          "metadata": {},
          "execution_count": 36
        }
      ]
    },
    {
      "cell_type": "code",
      "source": [
        "sequences[:15]"
      ],
      "metadata": {
        "colab": {
          "base_uri": "https://localhost:8080/"
        },
        "id": "MZkvJv11MFo_",
        "outputId": "bd02a968-e7cb-4985-a4a2-cff4a3846cec"
      },
      "execution_count": null,
      "outputs": [
        {
          "output_type": "execute_result",
          "data": {
            "text/plain": [
              "[[95, 263],\n",
              " [95, 263, 1100],\n",
              " [95, 263, 1100, 1101],\n",
              " [95, 263, 1100, 1101, 572],\n",
              " [95, 263, 1100, 1101, 572, 50],\n",
              " [95, 263, 1100, 1101, 572, 50, 7],\n",
              " [95, 263, 1100, 1101, 572, 50, 7, 2],\n",
              " [95, 263, 1100, 1101, 572, 50, 7, 2, 365],\n",
              " [95, 263, 1100, 1101, 572, 50, 7, 2, 365, 10],\n",
              " [95, 263, 1100, 1101, 572, 50, 7, 2, 365, 10, 1102],\n",
              " [96, 3],\n",
              " [96, 3, 1103],\n",
              " [96, 3, 1103, 2],\n",
              " [96, 3, 1103, 2, 14],\n",
              " [96, 3, 1103, 2, 14, 573]]"
            ]
          },
          "metadata": {},
          "execution_count": 37
        }
      ]
    },
    {
      "cell_type": "code",
      "source": [],
      "metadata": {
        "id": "om4C_jxSLUU8"
      },
      "execution_count": null,
      "outputs": []
    },
    {
      "cell_type": "code",
      "source": [
        "'''\n",
        "ex) lstm 모델로 단어를 예측하도록 설계합니다.\n",
        "입력                -                   출력\n",
        "---------------------------------------------\n",
        "lstm                                  모델로\n",
        "lstm 모델로                           단어를\n",
        "...\n",
        "lstm 모델로 단어를 예측하도록       설계합니다.\n",
        "-----------------------------------------------\n",
        "\n",
        "입력값 x1 -> x2  출력으로 학습\n",
        "입력값 x1, x2 => x3  출력으로 학습\n",
        "...\n",
        "입력값 x1, x2, ..., x(n-1)  =>  x(n) 학습\n",
        "\n",
        "<입력>\n",
        "# ~ 만약 kstm이란 게 들어오면 어떻게 될까??\n",
        "## - 파이썬의 if조건문과 다르게, lstm과 유사한 단어로 판단하고, 예측이 가능하다.\n",
        "\n",
        "토큰이 n개면 n-1개의 학습결과가 나오게 된다.\n",
        "\n",
        "<출력>\n",
        "그럼 출력층의 shape은 어떻게 될까?\n",
        ">> 모든 단어들이 y값에서 나올 수 있기 때문에\n",
        ">> 단어사전의 크기(모든 단어의 수)만큼 출력층의 크기를 갖는다. (y1 = 모델로, y2= 단어를, ..., yn = 설계합니다.)\n",
        "'''\n"
      ],
      "metadata": {
        "colab": {
          "base_uri": "https://localhost:8080/",
          "height": 108
        },
        "id": "7rXOgY5aMHf0",
        "outputId": "11cabacd-fdea-4435-9736-0e637e672122"
      },
      "execution_count": null,
      "outputs": [
        {
          "output_type": "execute_result",
          "data": {
            "text/plain": [
              "'\\nex) lstm 모델로 단어를 예측하도록 설계합니다.\\n입력                -                   출력\\n---------------------------------------------\\nlstm                                  모델로\\nlstm 모델로                           단어를\\n...\\nlstm 모델로 단어를 예측하도록       설계합니다.\\n-----------------------------------------------\\n\\n입력값 x1 -> x2  출력으로 학습\\n입력값 x1, x2 => x3  출력으로 학습\\n...\\n입력값 x1, x2, ..., x(n-1)  =>  x(n) 학습\\n\\n<입력>\\n# ~ 만약 kstm이란 게 들어오면 어떻게 될까??\\n## - 파이썬의 if조건문과 다르게, lstm과 유사한 단어로 판단하고, 예측이 가능하다.\\n\\n토큰이 n개면 n-1개의 학습결과가 나오게 된다.\\n\\n<출력>\\n그럼 출력층의 shape은 어떻게 될까?\\n>> 모든 단어들이 y값에서 나올 수 있기 때문에\\n>> 단어사전의 크기(모든 단어의 수)만큼 출력층의 크기를 갖는다. (y1 = 모델로, y2= 단어를, ..., yn = 설계합니다.)\\n'"
            ],
            "application/vnd.google.colaboratory.intrinsic+json": {
              "type": "string"
            }
          },
          "metadata": {},
          "execution_count": 38
        }
      ]
    },
    {
      "cell_type": "markdown",
      "source": [
        "```python\n",
        "tf.keras.layers.LSTM(\n",
        "    units,\n",
        "    activation=\"tanh\",\n",
        "    recurrent_activation=\"sigmoid\",\n",
        "    use_bias=True,\n",
        "    kernel_initializer=\"glorot_uniform\",\n",
        "    recurrent_initializer=\"orthogonal\",\n",
        "    bias_initializer=\"zeros\",\n",
        "    unit_forget_bias=True,\n",
        "    kernel_regularizer=None,\n",
        "    recurrent_regularizer=None,\n",
        "    bias_regularizer=None,\n",
        "    activity_regularizer=None,\n",
        "    kernel_constraint=None,\n",
        "    recurrent_constraint=None,\n",
        "    bias_constraint=None,\n",
        "    dropout=0.0,\n",
        "    recurrent_dropout=0.0,\n",
        "    return_sequences=False,\n",
        "    return_state=False,\n",
        "    go_backwards=False,\n",
        "    stateful=False,\n",
        "    time_major=False,\n",
        "    unroll=False,\n",
        "    **kwargs\n",
        ")\n",
        "```"
      ],
      "metadata": {
        "id": "byC1jxGnPsIV"
      }
    },
    {
      "cell_type": "markdown",
      "source": [
        "**return_sequences = False,**  \n",
        "모든 시퀀스를 출력값을 줄 건지에 대한 여부  \n",
        "LSTM같은 경우, 다대일 계층.  \n",
        "즉, 입력값이 n-1개, 출력값이 1개로 이루어져있는데  \n",
        "return_sequences=True를 주게 되면 이 구조가 망가진다."
      ],
      "metadata": {
        "id": "ogEDrYm0PsMR"
      }
    },
    {
      "cell_type": "code",
      "source": [
        "len(tok.word_index)"
      ],
      "metadata": {
        "colab": {
          "base_uri": "https://localhost:8080/"
        },
        "id": "NcK-59PKPqYk",
        "outputId": "cf699021-66c1-44f1-8442-8c4b579892a0"
      },
      "execution_count": null,
      "outputs": [
        {
          "output_type": "execute_result",
          "data": {
            "text/plain": [
              "3619"
            ]
          },
          "metadata": {},
          "execution_count": 39
        }
      ]
    },
    {
      "cell_type": "code",
      "source": [
        "type(tok.word_index)"
      ],
      "metadata": {
        "colab": {
          "base_uri": "https://localhost:8080/"
        },
        "id": "gtBA_5gSj6iE",
        "outputId": "75d9ea80-1ee8-4b99-82e5-0fa3afd9d21a"
      },
      "execution_count": null,
      "outputs": [
        {
          "output_type": "execute_result",
          "data": {
            "text/plain": [
              "dict"
            ]
          },
          "metadata": {},
          "execution_count": 40
        }
      ]
    },
    {
      "cell_type": "code",
      "source": [
        "idx2word= {}\n",
        "\n",
        "# 가장 빈도수가 높은 게 가장 위에 위치하게 된다.\n",
        "# key, value 쌍을 바꾸는 딕셔너리 생성\n",
        "for k, v in tok.word_index.items():\n",
        "  idx2word[v] = k\n",
        "\n",
        "idx2word"
      ],
      "metadata": {
        "id": "DfeCYTWtkKC4"
      },
      "execution_count": null,
      "outputs": []
    },
    {
      "cell_type": "code",
      "source": [
        "sequences"
      ],
      "metadata": {
        "id": "41tmIxOtkg6h"
      },
      "execution_count": null,
      "outputs": []
    },
    {
      "cell_type": "code",
      "source": [
        "maxlen = print(max(len(i) for i in sequences))"
      ],
      "metadata": {
        "colab": {
          "base_uri": "https://localhost:8080/"
        },
        "id": "RW7g90zDlBwN",
        "outputId": "da45146f-e123-434d-8ceb-3545431c4486"
      },
      "execution_count": null,
      "outputs": [
        {
          "output_type": "stream",
          "name": "stdout",
          "text": [
            "24\n"
          ]
        }
      ]
    },
    {
      "cell_type": "code",
      "source": [
        "from tensorflow.keras.preprocessing.sequence import pad_sequences"
      ],
      "metadata": {
        "id": "f2b7WVq-lYd_"
      },
      "execution_count": null,
      "outputs": []
    },
    {
      "cell_type": "code",
      "source": [
        "# 원핫인코딩 비슷한 느낌인데 0 1 대신 단어사전의 인덱스로 들어감.\n",
        "padded_sequences = pad_sequences(sequences, maxlen=maxlen, padding='pre')\n",
        "padded_sequences.shape"
      ],
      "metadata": {
        "colab": {
          "base_uri": "https://localhost:8080/"
        },
        "id": "gvdoVtDxmIMq",
        "outputId": "bd46dd69-3ce1-4a5c-fdcc-e5ea88f6a6a5"
      },
      "execution_count": null,
      "outputs": [
        {
          "output_type": "execute_result",
          "data": {
            "text/plain": [
              "(7809, 24)"
            ]
          },
          "metadata": {},
          "execution_count": 37
        }
      ]
    },
    {
      "cell_type": "code",
      "source": [
        "padded_sequences[0]"
      ],
      "metadata": {
        "colab": {
          "base_uri": "https://localhost:8080/"
        },
        "id": "Pc2otTxGmOFp",
        "outputId": "6eace27a-65ac-4c6f-ce06-4f561d0ba216"
      },
      "execution_count": null,
      "outputs": [
        {
          "output_type": "execute_result",
          "data": {
            "text/plain": [
              "array([  0,   0,   0,   0,   0,   0,   0,   0,   0,   0,   0,   0,   0,\n",
              "         0,   0,   0,   0,   0,   0,   0,   0,   0,  95, 263], dtype=int32)"
            ]
          },
          "metadata": {},
          "execution_count": 38
        }
      ]
    },
    {
      "cell_type": "code",
      "source": [
        "x_data = np.array([sequence[:-1] for sequence in padded_sequences])\n",
        "y_data = np.array([sequence[-1] for sequence in padded_sequences])"
      ],
      "metadata": {
        "id": "8-xJja5Lmi9S"
      },
      "execution_count": null,
      "outputs": []
    },
    {
      "cell_type": "code",
      "source": [
        "# 다른 표현방법.\n",
        "array_sequences = np.array(padded_sequences)\n",
        "x_data = array_sequences[:,:-1] # 전체에 대해서, 처음부터 -1번째 인덱스까지만 (슬라이싱)\n",
        "y_data = array_sequences[:,-1] # 전체에 대해서, -1번째 인덱스만 (인덱싱)"
      ],
      "metadata": {
        "id": "nCULCZF1pAIM"
      },
      "execution_count": null,
      "outputs": []
    },
    {
      "cell_type": "code",
      "source": [
        "x_data.shape"
      ],
      "metadata": {
        "colab": {
          "base_uri": "https://localhost:8080/"
        },
        "id": "gr4jXHfkm-Mi",
        "outputId": "e2d3d347-dbc2-483d-e5fa-e62ca3cc6d2c"
      },
      "execution_count": null,
      "outputs": [
        {
          "output_type": "execute_result",
          "data": {
            "text/plain": [
              "(7809, 23)"
            ]
          },
          "metadata": {},
          "execution_count": 41
        }
      ]
    },
    {
      "cell_type": "code",
      "source": [
        "y_data.shape"
      ],
      "metadata": {
        "colab": {
          "base_uri": "https://localhost:8080/"
        },
        "id": "ThDfFiaGm_Fj",
        "outputId": "4bb864ac-839e-446c-c72f-0cb167c5c7b6"
      },
      "execution_count": null,
      "outputs": [
        {
          "output_type": "execute_result",
          "data": {
            "text/plain": [
              "(7809,)"
            ]
          },
          "metadata": {},
          "execution_count": 42
        }
      ]
    },
    {
      "cell_type": "code",
      "source": [
        "print(x_data[0], y_data[0])"
      ],
      "metadata": {
        "colab": {
          "base_uri": "https://localhost:8080/"
        },
        "id": "6rZ7Jnc6nEyh",
        "outputId": "3f180fe3-e40c-4915-b19a-3a13d753bfdb"
      },
      "execution_count": null,
      "outputs": [
        {
          "output_type": "stream",
          "name": "stdout",
          "text": [
            "[ 0  0  0  0  0  0  0  0  0  0  0  0  0  0  0  0  0  0  0  0  0  0 95] 263\n"
          ]
        }
      ]
    },
    {
      "cell_type": "code",
      "source": [
        "# y값에 대해 출력값을 categorical value 값으로 변환하기 위함\n",
        "# y값 출력층 shape 1 -> 3620\n",
        "from tensorflow.keras.utils import to_categorical"
      ],
      "metadata": {
        "id": "NiYkrBiU3ALs"
      },
      "execution_count": null,
      "outputs": []
    },
    {
      "cell_type": "code",
      "source": [
        "y_cat = to_categorical(y_data, vocab_size)"
      ],
      "metadata": {
        "id": "m5S6wxbV3cQf"
      },
      "execution_count": null,
      "outputs": []
    },
    {
      "cell_type": "code",
      "source": [
        "y_cat.shape"
      ],
      "metadata": {
        "colab": {
          "base_uri": "https://localhost:8080/"
        },
        "id": "Z4PzwQHU3hur",
        "outputId": "791dd2e9-0693-4917-88f4-daf3abd8d268"
      },
      "execution_count": null,
      "outputs": [
        {
          "output_type": "execute_result",
          "data": {
            "text/plain": [
              "(7809, 3620)"
            ]
          },
          "metadata": {},
          "execution_count": 46
        }
      ]
    },
    {
      "cell_type": "code",
      "source": [
        "from tensorflow.keras.layers import Dense, Embedding\n",
        "from tensorflow.keras.models import Sequential"
      ],
      "metadata": {
        "id": "9E5cok36nGFU"
      },
      "execution_count": null,
      "outputs": []
    },
    {
      "cell_type": "code",
      "source": [
        "vocab_size"
      ],
      "metadata": {
        "colab": {
          "base_uri": "https://localhost:8080/"
        },
        "id": "8PJI3ENFrSgH",
        "outputId": "54f06fd6-372b-43c1-e8d1-68be5396d732"
      },
      "execution_count": null,
      "outputs": [
        {
          "output_type": "execute_result",
          "data": {
            "text/plain": [
              "3620"
            ]
          },
          "metadata": {},
          "execution_count": 48
        }
      ]
    },
    {
      "cell_type": "code",
      "source": [
        "# 모델 오브젝트 생성\n",
        "model = Sequential()\n",
        "\n",
        "# 모델 층 쌓기\n",
        "from tensorflow.keras.layers import LSTM # layer로 사용할 LSTM\n",
        "\n",
        "# EmbeddingVector 생성, 3620차원을 10차원으로 변경\n",
        "model.add(Embedding(vocab_size, 10)) # input 3620 -> maxlen(24) ->  hidden 10\n",
        "model.add(LSTM(128)) # hidden 10 -> hidden 128 (특성의 갯수 정도로 의미하면 됨. 몇 가지의 특성으로 나타낼 것인가)\n",
        "model.add(Dense(vocab_size, activation='softmax')) # hidden 128 -> output 3620(단어예측) w/ softmax"
      ],
      "metadata": {
        "id": "xJEB07xFrTKx"
      },
      "execution_count": null,
      "outputs": []
    },
    {
      "cell_type": "code",
      "source": [
        "model.summary()"
      ],
      "metadata": {
        "colab": {
          "base_uri": "https://localhost:8080/"
        },
        "id": "pgr5LfHny8SJ",
        "outputId": "99e814ce-33d9-4af9-8edf-1673184f9b30"
      },
      "execution_count": null,
      "outputs": [
        {
          "output_type": "stream",
          "name": "stdout",
          "text": [
            "Model: \"sequential_5\"\n",
            "_________________________________________________________________\n",
            " Layer (type)                Output Shape              Param #   \n",
            "=================================================================\n",
            " embedding_4 (Embedding)     (None, None, 10)          36200     \n",
            "                                                                 \n",
            " lstm_4 (LSTM)               (None, 128)               71168     \n",
            "                                                                 \n",
            " dense_4 (Dense)             (None, 3620)              466980    \n",
            "                                                                 \n",
            "=================================================================\n",
            "Total params: 574,348\n",
            "Trainable params: 574,348\n",
            "Non-trainable params: 0\n",
            "_________________________________________________________________\n"
          ]
        }
      ]
    },
    {
      "cell_type": "code",
      "source": [
        "# embedding의 구조가 신경망의 구조와 굉장히 유사하다.\n",
        "# loss = 노드값 하나하나에 대한 error를 의미한다.\n",
        "# cost = cost function : (loss들의 합 / 노드의 갯수) 를 사용한 비용함수, MSE 많이씀\n",
        "\n",
        "model.compile(loss='categorical_crossentropy',\n",
        "              optimizer='adam',\n",
        "              metrics=['accuracy'])"
      ],
      "metadata": {
        "id": "BanBtJu8sR5r"
      },
      "execution_count": null,
      "outputs": []
    },
    {
      "cell_type": "code",
      "source": [
        "x_data.shape"
      ],
      "metadata": {
        "colab": {
          "base_uri": "https://localhost:8080/"
        },
        "id": "FO4p6jDK3w4t",
        "outputId": "8aa0f7fd-8f71-49b5-ceaf-085e5a46486a"
      },
      "execution_count": null,
      "outputs": [
        {
          "output_type": "execute_result",
          "data": {
            "text/plain": [
              "(7809, 23)"
            ]
          },
          "metadata": {},
          "execution_count": 149
        }
      ]
    },
    {
      "cell_type": "code",
      "source": [
        "y_cat.shape"
      ],
      "metadata": {
        "colab": {
          "base_uri": "https://localhost:8080/"
        },
        "id": "vYJUmW0g3yd5",
        "outputId": "d9f29281-ce30-4468-f8fd-b01f987e8df1"
      },
      "execution_count": null,
      "outputs": [
        {
          "output_type": "execute_result",
          "data": {
            "text/plain": [
              "(7809, 3620)"
            ]
          },
          "metadata": {},
          "execution_count": 150
        }
      ]
    },
    {
      "cell_type": "code",
      "source": [
        "model.fit(x_data, y_cat, epochs=200, )"
      ],
      "metadata": {
        "id": "3vL1Owpe2AhS"
      },
      "execution_count": null,
      "outputs": []
    },
    {
      "cell_type": "code",
      "source": [
        "# 다음에 올 단어 예측\n",
        "def gen_sent(model, token, c_word, n):\n",
        "  pred_sent = \"\"\n",
        "\n",
        "  for _ in range(10):\n",
        "    # 구현\n",
        "    enc = tok.texts_to_sequences([c_word])[0]\n",
        "    enc = pad_sequences([enc], maxlen=24, padding='pre')\n",
        "\n",
        "    # 예측\n",
        "    pred = model.predict(enc)\n",
        "    # print(pred)\n",
        "\n",
        "    # argmax _ 예측값이 최대가 되는 arguments(단어) 찾기\n",
        "    res = np.argmax(pred)\n",
        "\n",
        "    # word : index 순서로 저장되어있는 딕셔너리.\n",
        "    for word, idx in tok.word_index.items():\n",
        "      if res == idx:\n",
        "        break\n",
        "\n",
        "    c_word = c_word + ' ' + word # The => The New\n",
        "    print(\"예측 단어: \", word)\n",
        "    pred_sent = c_word\n",
        "\n",
        "  return pred_sent\n",
        "\n",
        "# 입력 ( 모델, 토크나이저, 단어, 예측 할 단어의 수 n)\n"
      ],
      "metadata": {
        "id": "YXEPqlyd2CuG"
      },
      "execution_count": null,
      "outputs": []
    },
    {
      "cell_type": "code",
      "source": [
        "gen_sent(model, tok, 'The', 10)"
      ],
      "metadata": {
        "colab": {
          "base_uri": "https://localhost:8080/",
          "height": 398
        },
        "id": "kPNeQzrM5vWl",
        "outputId": "e87b70b8-6ad5-4b09-bd6e-47bc990198af"
      },
      "execution_count": null,
      "outputs": [
        {
          "output_type": "stream",
          "name": "stdout",
          "text": [
            "1/1 [==============================] - 0s 76ms/step\n",
            "예측 단어:  new\n",
            "1/1 [==============================] - 0s 71ms/step\n",
            "예측 단어:  shingles\n",
            "1/1 [==============================] - 0s 107ms/step\n",
            "예측 단어:  vaccine\n",
            "1/1 [==============================] - 0s 87ms/step\n",
            "예측 단어:  reasons\n",
            "1/1 [==============================] - 0s 38ms/step\n",
            "예측 단어:  to\n",
            "1/1 [==============================] - 0s 44ms/step\n",
            "예측 단어:  get\n",
            "1/1 [==============================] - 0s 54ms/step\n",
            "예측 단어:  it\n",
            "1/1 [==============================] - 0s 48ms/step\n",
            "예측 단어:  the\n",
            "1/1 [==============================] - 0s 52ms/step\n",
            "예측 단어:  white\n",
            "1/1 [==============================] - 0s 103ms/step\n",
            "예측 단어:  white\n"
          ]
        },
        {
          "output_type": "execute_result",
          "data": {
            "text/plain": [
              "'The new shingles vaccine reasons to get it the white white'"
            ],
            "application/vnd.google.colaboratory.intrinsic+json": {
              "type": "string"
            }
          },
          "metadata": {},
          "execution_count": 169
        }
      ]
    },
    {
      "cell_type": "code",
      "source": [
        "# GPU 가속기 사용하기 w/ Cuda\n",
        "import tensorflow as tf\n",
        "device_name = tf.test.gpu_device_name()\n",
        "if device_name != '/device:GPU:0':\n",
        "  raise SystemError('GPU device not found')\n",
        "print('Found GPU at :{}'.format(device_name))"
      ],
      "metadata": {
        "colab": {
          "base_uri": "https://localhost:8080/"
        },
        "id": "lSj7OMbd4HCO",
        "outputId": "97d22a61-7a45-4912-d200-fbd6b1710f0f"
      },
      "execution_count": null,
      "outputs": [
        {
          "output_type": "stream",
          "name": "stdout",
          "text": [
            "Found GPU at :/device:GPU:0\n"
          ]
        }
      ]
    },
    {
      "cell_type": "code",
      "source": [
        "# 모델 층 쌓기\n",
        "from tensorflow.keras.layers import LSTM # layer로 사용할 LSTM\n",
        "from tensorflow.keras.layers import Dense, Embedding # FCL, Embedding Vector\n",
        "from tensorflow.keras.models import Sequential\n",
        "\n",
        "with tf.device('/device:GPU:0'):\n",
        "  # 모델 오브젝트 생성\n",
        "  model = Sequential()\n",
        "\n",
        "  # EmbeddingVector 생성, 3620차원을 10차원으로 변경\n",
        "  model.add(Embedding(vocab_size, 10)) # input 3620 -> maxlen(24) ->  hidden 10\n",
        "  model.add(LSTM(128, return_sequences=True)) # hidden 10 -> hidden 128 (특성의 갯수 정도로 의미하면 됨. 몇 가지의 특성으로 나타낼 것인가)\n",
        "  model.add(LSTM(256, return_sequences=True))\n",
        "  model.add(LSTM(128, return_sequences=True))\n",
        "  model.add(LSTM(64))\n",
        "  model.add(Dense(vocab_size, activation='softmax')) # hidden 128 -> output 3620(단어예측) w/ softmax\n",
        "  # embedding의 구조가 신경망의 구조와 굉장히 유사하다.\n",
        "\n",
        "  # loss = 노드값 하나하나에 대한 error를 의미한다.\n",
        "  # cost = cost function : (loss들의 합 / 노드의 갯수) 를 사용한 비용함수, MSE 많이씀\n",
        "  model.compile(loss='categorical_crossentropy',\n",
        "                optimizer='adam',\n",
        "                metrics=['accuracy'])\n",
        "\n",
        "  # 학습\n",
        "  model.fit(x_data, y_cat, epochs=200, verbose=2)"
      ],
      "metadata": {
        "colab": {
          "base_uri": "https://localhost:8080/"
        },
        "id": "Z6LHJtAeE9PE",
        "outputId": "ff9b49b1-0b18-4b8c-a6c8-2b9c345a9bcb"
      },
      "execution_count": null,
      "outputs": [
        {
          "output_type": "stream",
          "name": "stdout",
          "text": [
            "Epoch 1/200\n",
            "245/245 - 20s - loss: 7.7087 - accuracy: 0.0255 - 20s/epoch - 82ms/step\n",
            "Epoch 2/200\n",
            "245/245 - 3s - loss: 7.2232 - accuracy: 0.0306 - 3s/epoch - 13ms/step\n",
            "Epoch 3/200\n",
            "245/245 - 3s - loss: 7.1645 - accuracy: 0.0303 - 3s/epoch - 12ms/step\n",
            "Epoch 4/200\n",
            "245/245 - 4s - loss: 7.1419 - accuracy: 0.0301 - 4s/epoch - 15ms/step\n",
            "Epoch 5/200\n",
            "245/245 - 3s - loss: 7.1323 - accuracy: 0.0307 - 3s/epoch - 12ms/step\n",
            "Epoch 6/200\n",
            "245/245 - 3s - loss: 7.1262 - accuracy: 0.0305 - 3s/epoch - 12ms/step\n",
            "Epoch 7/200\n",
            "245/245 - 3s - loss: 7.1228 - accuracy: 0.0291 - 3s/epoch - 12ms/step\n",
            "Epoch 8/200\n",
            "245/245 - 3s - loss: 7.1215 - accuracy: 0.0314 - 3s/epoch - 11ms/step\n",
            "Epoch 9/200\n",
            "245/245 - 4s - loss: 7.1195 - accuracy: 0.0314 - 4s/epoch - 17ms/step\n",
            "Epoch 10/200\n",
            "245/245 - 3s - loss: 7.1176 - accuracy: 0.0314 - 3s/epoch - 12ms/step\n",
            "Epoch 11/200\n",
            "245/245 - 3s - loss: 7.1166 - accuracy: 0.0311 - 3s/epoch - 11ms/step\n",
            "Epoch 12/200\n",
            "245/245 - 3s - loss: 7.1147 - accuracy: 0.0307 - 3s/epoch - 11ms/step\n",
            "Epoch 13/200\n",
            "245/245 - 3s - loss: 7.1141 - accuracy: 0.0314 - 3s/epoch - 12ms/step\n",
            "Epoch 14/200\n",
            "245/245 - 3s - loss: 7.1121 - accuracy: 0.0314 - 3s/epoch - 14ms/step\n",
            "Epoch 15/200\n",
            "245/245 - 2s - loss: 7.1117 - accuracy: 0.0314 - 2s/epoch - 10ms/step\n",
            "Epoch 16/200\n",
            "245/245 - 3s - loss: 7.1110 - accuracy: 0.0314 - 3s/epoch - 10ms/step\n",
            "Epoch 17/200\n",
            "245/245 - 2s - loss: 7.1091 - accuracy: 0.0314 - 2s/epoch - 10ms/step\n",
            "Epoch 18/200\n",
            "245/245 - 3s - loss: 7.1090 - accuracy: 0.0300 - 3s/epoch - 12ms/step\n",
            "Epoch 19/200\n",
            "245/245 - 3s - loss: 7.1079 - accuracy: 0.0295 - 3s/epoch - 14ms/step\n",
            "Epoch 20/200\n",
            "245/245 - 2s - loss: 7.1074 - accuracy: 0.0314 - 2s/epoch - 10ms/step\n",
            "Epoch 21/200\n",
            "245/245 - 3s - loss: 7.1068 - accuracy: 0.0314 - 3s/epoch - 11ms/step\n",
            "Epoch 22/200\n",
            "245/245 - 3s - loss: 7.1063 - accuracy: 0.0311 - 3s/epoch - 11ms/step\n",
            "Epoch 23/200\n",
            "245/245 - 3s - loss: 7.1053 - accuracy: 0.0311 - 3s/epoch - 12ms/step\n",
            "Epoch 24/200\n",
            "245/245 - 3s - loss: 7.1037 - accuracy: 0.0314 - 3s/epoch - 12ms/step\n",
            "Epoch 25/200\n",
            "245/245 - 2s - loss: 7.1036 - accuracy: 0.0314 - 2s/epoch - 10ms/step\n",
            "Epoch 26/200\n",
            "245/245 - 2s - loss: 7.1033 - accuracy: 0.0314 - 2s/epoch - 10ms/step\n",
            "Epoch 27/200\n",
            "245/245 - 3s - loss: 7.1028 - accuracy: 0.0300 - 3s/epoch - 11ms/step\n",
            "Epoch 28/200\n",
            "245/245 - 3s - loss: 7.1027 - accuracy: 0.0305 - 3s/epoch - 12ms/step\n",
            "Epoch 29/200\n",
            "245/245 - 3s - loss: 7.1020 - accuracy: 0.0303 - 3s/epoch - 12ms/step\n",
            "Epoch 30/200\n",
            "245/245 - 3s - loss: 7.1008 - accuracy: 0.0305 - 3s/epoch - 11ms/step\n",
            "Epoch 31/200\n",
            "245/245 - 3s - loss: 7.1007 - accuracy: 0.0300 - 3s/epoch - 11ms/step\n",
            "Epoch 32/200\n",
            "245/245 - 2s - loss: 7.1008 - accuracy: 0.0296 - 2s/epoch - 10ms/step\n",
            "Epoch 33/200\n",
            "245/245 - 3s - loss: 7.0998 - accuracy: 0.0314 - 3s/epoch - 12ms/step\n",
            "Epoch 34/200\n",
            "245/245 - 3s - loss: 7.0996 - accuracy: 0.0309 - 3s/epoch - 12ms/step\n",
            "Epoch 35/200\n",
            "245/245 - 3s - loss: 7.0991 - accuracy: 0.0314 - 3s/epoch - 10ms/step\n",
            "Epoch 36/200\n",
            "245/245 - 2s - loss: 7.0982 - accuracy: 0.0314 - 2s/epoch - 10ms/step\n",
            "Epoch 37/200\n",
            "245/245 - 2s - loss: 7.0985 - accuracy: 0.0314 - 2s/epoch - 10ms/step\n",
            "Epoch 38/200\n",
            "245/245 - 3s - loss: 7.0983 - accuracy: 0.0314 - 3s/epoch - 12ms/step\n",
            "Epoch 39/200\n",
            "245/245 - 3s - loss: 7.0977 - accuracy: 0.0314 - 3s/epoch - 12ms/step\n",
            "Epoch 40/200\n",
            "245/245 - 2s - loss: 7.0969 - accuracy: 0.0314 - 2s/epoch - 10ms/step\n",
            "Epoch 41/200\n",
            "245/245 - 2s - loss: 7.0977 - accuracy: 0.0280 - 2s/epoch - 10ms/step\n",
            "Epoch 42/200\n",
            "245/245 - 2s - loss: 7.0971 - accuracy: 0.0292 - 2s/epoch - 10ms/step\n",
            "Epoch 43/200\n",
            "245/245 - 3s - loss: 7.0961 - accuracy: 0.0314 - 3s/epoch - 11ms/step\n",
            "Epoch 44/200\n",
            "245/245 - 3s - loss: 7.0959 - accuracy: 0.0314 - 3s/epoch - 13ms/step\n",
            "Epoch 45/200\n",
            "245/245 - 2s - loss: 7.0961 - accuracy: 0.0314 - 2s/epoch - 10ms/step\n",
            "Epoch 46/200\n",
            "245/245 - 2s - loss: 7.0952 - accuracy: 0.0314 - 2s/epoch - 10ms/step\n",
            "Epoch 47/200\n",
            "245/245 - 2s - loss: 7.0951 - accuracy: 0.0314 - 2s/epoch - 10ms/step\n",
            "Epoch 48/200\n",
            "245/245 - 3s - loss: 7.0952 - accuracy: 0.0314 - 3s/epoch - 10ms/step\n",
            "Epoch 49/200\n",
            "245/245 - 3s - loss: 7.0942 - accuracy: 0.0314 - 3s/epoch - 13ms/step\n",
            "Epoch 50/200\n",
            "245/245 - 2s - loss: 7.0944 - accuracy: 0.0314 - 2s/epoch - 10ms/step\n",
            "Epoch 51/200\n",
            "245/245 - 3s - loss: 7.0933 - accuracy: 0.0314 - 3s/epoch - 10ms/step\n",
            "Epoch 52/200\n",
            "245/245 - 2s - loss: 7.0942 - accuracy: 0.0314 - 2s/epoch - 10ms/step\n",
            "Epoch 53/200\n",
            "245/245 - 3s - loss: 7.0933 - accuracy: 0.0314 - 3s/epoch - 10ms/step\n",
            "Epoch 54/200\n",
            "245/245 - 3s - loss: 7.0939 - accuracy: 0.0314 - 3s/epoch - 14ms/step\n",
            "Epoch 55/200\n",
            "245/245 - 2s - loss: 7.0929 - accuracy: 0.0314 - 2s/epoch - 10ms/step\n",
            "Epoch 56/200\n",
            "245/245 - 2s - loss: 7.0931 - accuracy: 0.0314 - 2s/epoch - 10ms/step\n",
            "Epoch 57/200\n",
            "245/245 - 2s - loss: 7.0924 - accuracy: 0.0314 - 2s/epoch - 10ms/step\n",
            "Epoch 58/200\n",
            "245/245 - 3s - loss: 7.0929 - accuracy: 0.0314 - 3s/epoch - 10ms/step\n",
            "Epoch 59/200\n",
            "245/245 - 3s - loss: 7.0915 - accuracy: 0.0314 - 3s/epoch - 14ms/step\n",
            "Epoch 60/200\n",
            "245/245 - 2s - loss: 7.0921 - accuracy: 0.0314 - 2s/epoch - 10ms/step\n",
            "Epoch 61/200\n",
            "245/245 - 2s - loss: 7.0913 - accuracy: 0.0314 - 2s/epoch - 10ms/step\n",
            "Epoch 62/200\n",
            "245/245 - 2s - loss: 7.0917 - accuracy: 0.0314 - 2s/epoch - 10ms/step\n",
            "Epoch 63/200\n",
            "245/245 - 2s - loss: 7.0909 - accuracy: 0.0314 - 2s/epoch - 10ms/step\n",
            "Epoch 64/200\n",
            "245/245 - 3s - loss: 7.0912 - accuracy: 0.0314 - 3s/epoch - 13ms/step\n",
            "Epoch 65/200\n",
            "245/245 - 3s - loss: 7.0914 - accuracy: 0.0314 - 3s/epoch - 10ms/step\n",
            "Epoch 66/200\n",
            "245/245 - 2s - loss: 7.0906 - accuracy: 0.0314 - 2s/epoch - 10ms/step\n",
            "Epoch 67/200\n",
            "245/245 - 2s - loss: 7.0904 - accuracy: 0.0314 - 2s/epoch - 10ms/step\n",
            "Epoch 68/200\n",
            "245/245 - 3s - loss: 7.0901 - accuracy: 0.0314 - 3s/epoch - 10ms/step\n",
            "Epoch 69/200\n",
            "245/245 - 3s - loss: 7.0895 - accuracy: 0.0314 - 3s/epoch - 13ms/step\n",
            "Epoch 70/200\n",
            "245/245 - 3s - loss: 7.0901 - accuracy: 0.0314 - 3s/epoch - 11ms/step\n",
            "Epoch 71/200\n",
            "245/245 - 2s - loss: 7.0897 - accuracy: 0.0314 - 2s/epoch - 10ms/step\n",
            "Epoch 72/200\n",
            "245/245 - 2s - loss: 7.0894 - accuracy: 0.0314 - 2s/epoch - 10ms/step\n",
            "Epoch 73/200\n",
            "245/245 - 2s - loss: 7.0893 - accuracy: 0.0314 - 2s/epoch - 10ms/step\n",
            "Epoch 74/200\n",
            "245/245 - 3s - loss: 7.0894 - accuracy: 0.0314 - 3s/epoch - 12ms/step\n",
            "Epoch 75/200\n",
            "245/245 - 3s - loss: 7.0896 - accuracy: 0.0314 - 3s/epoch - 12ms/step\n",
            "Epoch 76/200\n",
            "245/245 - 2s - loss: 7.0887 - accuracy: 0.0314 - 2s/epoch - 10ms/step\n",
            "Epoch 77/200\n",
            "245/245 - 3s - loss: 7.0886 - accuracy: 0.0314 - 3s/epoch - 10ms/step\n",
            "Epoch 78/200\n",
            "245/245 - 2s - loss: 7.0883 - accuracy: 0.0314 - 2s/epoch - 10ms/step\n",
            "Epoch 79/200\n",
            "245/245 - 3s - loss: 7.0882 - accuracy: 0.0314 - 3s/epoch - 12ms/step\n",
            "Epoch 80/200\n",
            "245/245 - 3s - loss: 7.0880 - accuracy: 0.0314 - 3s/epoch - 12ms/step\n",
            "Epoch 81/200\n",
            "245/245 - 2s - loss: 7.0880 - accuracy: 0.0314 - 2s/epoch - 10ms/step\n",
            "Epoch 82/200\n",
            "245/245 - 2s - loss: 7.0879 - accuracy: 0.0302 - 2s/epoch - 10ms/step\n",
            "Epoch 83/200\n",
            "245/245 - 2s - loss: 7.0880 - accuracy: 0.0314 - 2s/epoch - 10ms/step\n",
            "Epoch 84/200\n",
            "245/245 - 3s - loss: 7.0874 - accuracy: 0.0314 - 3s/epoch - 11ms/step\n",
            "Epoch 85/200\n",
            "245/245 - 3s - loss: 7.0873 - accuracy: 0.0314 - 3s/epoch - 13ms/step\n",
            "Epoch 86/200\n",
            "245/245 - 2s - loss: 7.0871 - accuracy: 0.0300 - 2s/epoch - 10ms/step\n",
            "Epoch 87/200\n",
            "245/245 - 2s - loss: 7.0868 - accuracy: 0.0314 - 2s/epoch - 10ms/step\n",
            "Epoch 88/200\n",
            "245/245 - 2s - loss: 7.0865 - accuracy: 0.0314 - 2s/epoch - 10ms/step\n",
            "Epoch 89/200\n",
            "245/245 - 3s - loss: 7.0865 - accuracy: 0.0314 - 3s/epoch - 11ms/step\n",
            "Epoch 90/200\n",
            "245/245 - 3s - loss: 7.0865 - accuracy: 0.0314 - 3s/epoch - 13ms/step\n",
            "Epoch 91/200\n",
            "245/245 - 2s - loss: 7.0865 - accuracy: 0.0314 - 2s/epoch - 10ms/step\n",
            "Epoch 92/200\n",
            "245/245 - 2s - loss: 7.0865 - accuracy: 0.0314 - 2s/epoch - 10ms/step\n",
            "Epoch 93/200\n",
            "245/245 - 2s - loss: 7.0860 - accuracy: 0.0314 - 2s/epoch - 10ms/step\n",
            "Epoch 94/200\n",
            "245/245 - 3s - loss: 7.0857 - accuracy: 0.0314 - 3s/epoch - 10ms/step\n",
            "Epoch 95/200\n",
            "245/245 - 3s - loss: 7.0860 - accuracy: 0.0307 - 3s/epoch - 13ms/step\n",
            "Epoch 96/200\n",
            "245/245 - 2s - loss: 7.0858 - accuracy: 0.0314 - 2s/epoch - 10ms/step\n",
            "Epoch 97/200\n",
            "245/245 - 2s - loss: 7.0855 - accuracy: 0.0314 - 2s/epoch - 10ms/step\n",
            "Epoch 98/200\n",
            "245/245 - 2s - loss: 7.0858 - accuracy: 0.0314 - 2s/epoch - 10ms/step\n",
            "Epoch 99/200\n",
            "245/245 - 2s - loss: 7.0858 - accuracy: 0.0314 - 2s/epoch - 10ms/step\n",
            "Epoch 100/200\n",
            "245/245 - 3s - loss: 7.0855 - accuracy: 0.0314 - 3s/epoch - 14ms/step\n",
            "Epoch 101/200\n",
            "245/245 - 3s - loss: 7.0852 - accuracy: 0.0314 - 3s/epoch - 10ms/step\n",
            "Epoch 102/200\n",
            "245/245 - 2s - loss: 7.0852 - accuracy: 0.0314 - 2s/epoch - 10ms/step\n",
            "Epoch 103/200\n",
            "245/245 - 2s - loss: 7.0851 - accuracy: 0.0314 - 2s/epoch - 10ms/step\n",
            "Epoch 104/200\n",
            "245/245 - 2s - loss: 7.0851 - accuracy: 0.0314 - 2s/epoch - 10ms/step\n",
            "Epoch 105/200\n",
            "245/245 - 4s - loss: 7.0848 - accuracy: 0.0314 - 4s/epoch - 15ms/step\n",
            "Epoch 106/200\n",
            "245/245 - 2s - loss: 7.0852 - accuracy: 0.0306 - 2s/epoch - 10ms/step\n",
            "Epoch 107/200\n",
            "245/245 - 2s - loss: 7.0847 - accuracy: 0.0314 - 2s/epoch - 10ms/step\n",
            "Epoch 108/200\n",
            "245/245 - 2s - loss: 7.0843 - accuracy: 0.0314 - 2s/epoch - 10ms/step\n",
            "Epoch 109/200\n",
            "245/245 - 2s - loss: 7.0844 - accuracy: 0.0314 - 2s/epoch - 10ms/step\n",
            "Epoch 110/200\n",
            "245/245 - 3s - loss: 7.0847 - accuracy: 0.0314 - 3s/epoch - 13ms/step\n",
            "Epoch 111/200\n",
            "245/245 - 3s - loss: 7.0845 - accuracy: 0.0314 - 3s/epoch - 11ms/step\n",
            "Epoch 112/200\n",
            "245/245 - 2s - loss: 7.0841 - accuracy: 0.0314 - 2s/epoch - 10ms/step\n",
            "Epoch 113/200\n",
            "245/245 - 2s - loss: 7.0838 - accuracy: 0.0314 - 2s/epoch - 10ms/step\n",
            "Epoch 114/200\n",
            "245/245 - 2s - loss: 7.0842 - accuracy: 0.0314 - 2s/epoch - 10ms/step\n",
            "Epoch 115/200\n",
            "245/245 - 3s - loss: 7.0838 - accuracy: 0.0314 - 3s/epoch - 14ms/step\n",
            "Epoch 116/200\n",
            "245/245 - 3s - loss: 7.0840 - accuracy: 0.0314 - 3s/epoch - 11ms/step\n",
            "Epoch 117/200\n",
            "245/245 - 3s - loss: 7.0838 - accuracy: 0.0314 - 3s/epoch - 10ms/step\n",
            "Epoch 118/200\n",
            "245/245 - 2s - loss: 7.0835 - accuracy: 0.0314 - 2s/epoch - 10ms/step\n",
            "Epoch 119/200\n",
            "245/245 - 2s - loss: 7.0834 - accuracy: 0.0314 - 2s/epoch - 10ms/step\n",
            "Epoch 120/200\n",
            "245/245 - 3s - loss: 7.0832 - accuracy: 0.0314 - 3s/epoch - 12ms/step\n",
            "Epoch 121/200\n",
            "245/245 - 3s - loss: 7.0834 - accuracy: 0.0314 - 3s/epoch - 11ms/step\n",
            "Epoch 122/200\n",
            "245/245 - 2s - loss: 7.0833 - accuracy: 0.0314 - 2s/epoch - 10ms/step\n",
            "Epoch 123/200\n",
            "245/245 - 2s - loss: 7.0831 - accuracy: 0.0314 - 2s/epoch - 10ms/step\n",
            "Epoch 124/200\n",
            "245/245 - 2s - loss: 7.0832 - accuracy: 0.0314 - 2s/epoch - 10ms/step\n",
            "Epoch 125/200\n",
            "245/245 - 3s - loss: 7.0831 - accuracy: 0.0314 - 3s/epoch - 12ms/step\n",
            "Epoch 126/200\n",
            "245/245 - 3s - loss: 7.0829 - accuracy: 0.0314 - 3s/epoch - 12ms/step\n",
            "Epoch 127/200\n",
            "245/245 - 2s - loss: 7.0832 - accuracy: 0.0314 - 2s/epoch - 10ms/step\n",
            "Epoch 128/200\n",
            "245/245 - 2s - loss: 7.0830 - accuracy: 0.0314 - 2s/epoch - 10ms/step\n",
            "Epoch 129/200\n",
            "245/245 - 2s - loss: 7.0826 - accuracy: 0.0314 - 2s/epoch - 10ms/step\n",
            "Epoch 130/200\n",
            "245/245 - 3s - loss: 7.0830 - accuracy: 0.0314 - 3s/epoch - 12ms/step\n",
            "Epoch 131/200\n",
            "245/245 - 3s - loss: 7.0823 - accuracy: 0.0314 - 3s/epoch - 13ms/step\n",
            "Epoch 132/200\n",
            "245/245 - 2s - loss: 7.0822 - accuracy: 0.0314 - 2s/epoch - 10ms/step\n",
            "Epoch 133/200\n",
            "245/245 - 2s - loss: 7.0825 - accuracy: 0.0314 - 2s/epoch - 10ms/step\n",
            "Epoch 134/200\n",
            "245/245 - 2s - loss: 7.0823 - accuracy: 0.0314 - 2s/epoch - 10ms/step\n",
            "Epoch 135/200\n",
            "245/245 - 3s - loss: 7.0820 - accuracy: 0.0314 - 3s/epoch - 11ms/step\n",
            "Epoch 136/200\n",
            "245/245 - 3s - loss: 7.0819 - accuracy: 0.0314 - 3s/epoch - 13ms/step\n",
            "Epoch 137/200\n",
            "245/245 - 2s - loss: 7.0817 - accuracy: 0.0314 - 2s/epoch - 10ms/step\n",
            "Epoch 138/200\n",
            "245/245 - 2s - loss: 7.0819 - accuracy: 0.0314 - 2s/epoch - 10ms/step\n",
            "Epoch 139/200\n",
            "245/245 - 2s - loss: 7.0816 - accuracy: 0.0314 - 2s/epoch - 10ms/step\n",
            "Epoch 140/200\n",
            "245/245 - 2s - loss: 7.0820 - accuracy: 0.0314 - 2s/epoch - 10ms/step\n",
            "Epoch 141/200\n",
            "245/245 - 3s - loss: 7.0820 - accuracy: 0.0314 - 3s/epoch - 14ms/step\n",
            "Epoch 142/200\n",
            "245/245 - 2s - loss: 7.0815 - accuracy: 0.0314 - 2s/epoch - 10ms/step\n",
            "Epoch 143/200\n",
            "245/245 - 2s - loss: 7.0816 - accuracy: 0.0314 - 2s/epoch - 10ms/step\n",
            "Epoch 144/200\n",
            "245/245 - 2s - loss: 7.0810 - accuracy: 0.0314 - 2s/epoch - 10ms/step\n",
            "Epoch 145/200\n",
            "245/245 - 2s - loss: 7.0816 - accuracy: 0.0314 - 2s/epoch - 10ms/step\n",
            "Epoch 146/200\n",
            "245/245 - 3s - loss: 7.0805 - accuracy: 0.0314 - 3s/epoch - 13ms/step\n",
            "Epoch 147/200\n",
            "245/245 - 3s - loss: 7.0812 - accuracy: 0.0314 - 3s/epoch - 10ms/step\n",
            "Epoch 148/200\n",
            "245/245 - 2s - loss: 7.0810 - accuracy: 0.0314 - 2s/epoch - 10ms/step\n",
            "Epoch 149/200\n",
            "245/245 - 2s - loss: 7.0807 - accuracy: 0.0314 - 2s/epoch - 10ms/step\n",
            "Epoch 150/200\n",
            "245/245 - 2s - loss: 7.0807 - accuracy: 0.0314 - 2s/epoch - 10ms/step\n",
            "Epoch 151/200\n",
            "245/245 - 3s - loss: 7.0809 - accuracy: 0.0314 - 3s/epoch - 12ms/step\n",
            "Epoch 152/200\n",
            "245/245 - 3s - loss: 7.0811 - accuracy: 0.0314 - 3s/epoch - 11ms/step\n",
            "Epoch 153/200\n",
            "245/245 - 2s - loss: 7.0801 - accuracy: 0.0314 - 2s/epoch - 10ms/step\n",
            "Epoch 154/200\n",
            "245/245 - 2s - loss: 7.0804 - accuracy: 0.0314 - 2s/epoch - 10ms/step\n",
            "Epoch 155/200\n",
            "245/245 - 2s - loss: 7.0801 - accuracy: 0.0314 - 2s/epoch - 10ms/step\n",
            "Epoch 156/200\n",
            "245/245 - 3s - loss: 7.0804 - accuracy: 0.0314 - 3s/epoch - 13ms/step\n",
            "Epoch 157/200\n",
            "245/245 - 3s - loss: 7.0802 - accuracy: 0.0314 - 3s/epoch - 12ms/step\n",
            "Epoch 158/200\n",
            "245/245 - 2s - loss: 7.0800 - accuracy: 0.0314 - 2s/epoch - 10ms/step\n",
            "Epoch 159/200\n",
            "245/245 - 2s - loss: 7.0801 - accuracy: 0.0314 - 2s/epoch - 10ms/step\n",
            "Epoch 160/200\n",
            "245/245 - 2s - loss: 7.0798 - accuracy: 0.0314 - 2s/epoch - 10ms/step\n",
            "Epoch 161/200\n",
            "245/245 - 3s - loss: 7.0795 - accuracy: 0.0314 - 3s/epoch - 11ms/step\n",
            "Epoch 162/200\n",
            "245/245 - 3s - loss: 7.0797 - accuracy: 0.0314 - 3s/epoch - 13ms/step\n",
            "Epoch 163/200\n",
            "245/245 - 2s - loss: 7.0797 - accuracy: 0.0314 - 2s/epoch - 10ms/step\n",
            "Epoch 164/200\n",
            "245/245 - 3s - loss: 7.0801 - accuracy: 0.0314 - 3s/epoch - 11ms/step\n",
            "Epoch 165/200\n",
            "245/245 - 2s - loss: 7.0797 - accuracy: 0.0314 - 2s/epoch - 10ms/step\n",
            "Epoch 166/200\n",
            "245/245 - 3s - loss: 7.0798 - accuracy: 0.0314 - 3s/epoch - 11ms/step\n",
            "Epoch 167/200\n",
            "245/245 - 3s - loss: 7.0793 - accuracy: 0.0314 - 3s/epoch - 12ms/step\n",
            "Epoch 168/200\n",
            "245/245 - 2s - loss: 7.0790 - accuracy: 0.0314 - 2s/epoch - 10ms/step\n",
            "Epoch 169/200\n",
            "245/245 - 2s - loss: 7.0793 - accuracy: 0.0314 - 2s/epoch - 10ms/step\n",
            "Epoch 170/200\n",
            "245/245 - 2s - loss: 7.0790 - accuracy: 0.0314 - 2s/epoch - 10ms/step\n",
            "Epoch 171/200\n",
            "245/245 - 2s - loss: 7.0791 - accuracy: 0.0314 - 2s/epoch - 10ms/step\n",
            "Epoch 172/200\n",
            "245/245 - 3s - loss: 7.0789 - accuracy: 0.0314 - 3s/epoch - 14ms/step\n",
            "Epoch 173/200\n",
            "245/245 - 2s - loss: 7.0787 - accuracy: 0.0314 - 2s/epoch - 10ms/step\n",
            "Epoch 174/200\n",
            "245/245 - 2s - loss: 7.0787 - accuracy: 0.0314 - 2s/epoch - 10ms/step\n",
            "Epoch 175/200\n",
            "245/245 - 2s - loss: 7.0789 - accuracy: 0.0314 - 2s/epoch - 10ms/step\n",
            "Epoch 176/200\n",
            "245/245 - 2s - loss: 7.0787 - accuracy: 0.0314 - 2s/epoch - 10ms/step\n",
            "Epoch 177/200\n",
            "245/245 - 4s - loss: 7.0788 - accuracy: 0.0314 - 4s/epoch - 15ms/step\n",
            "Epoch 178/200\n",
            "245/245 - 3s - loss: 7.0789 - accuracy: 0.0314 - 3s/epoch - 11ms/step\n",
            "Epoch 179/200\n",
            "245/245 - 2s - loss: 7.0784 - accuracy: 0.0314 - 2s/epoch - 10ms/step\n",
            "Epoch 180/200\n",
            "245/245 - 2s - loss: 7.0784 - accuracy: 0.0314 - 2s/epoch - 10ms/step\n",
            "Epoch 181/200\n",
            "245/245 - 2s - loss: 7.0783 - accuracy: 0.0314 - 2s/epoch - 10ms/step\n",
            "Epoch 182/200\n",
            "245/245 - 3s - loss: 7.0784 - accuracy: 0.0314 - 3s/epoch - 14ms/step\n",
            "Epoch 183/200\n",
            "245/245 - 3s - loss: 7.0782 - accuracy: 0.0314 - 3s/epoch - 10ms/step\n",
            "Epoch 184/200\n",
            "245/245 - 2s - loss: 7.0783 - accuracy: 0.0314 - 2s/epoch - 10ms/step\n",
            "Epoch 185/200\n",
            "245/245 - 2s - loss: 7.0781 - accuracy: 0.0314 - 2s/epoch - 10ms/step\n",
            "Epoch 186/200\n",
            "245/245 - 2s - loss: 7.0781 - accuracy: 0.0314 - 2s/epoch - 10ms/step\n",
            "Epoch 187/200\n",
            "245/245 - 3s - loss: 7.0781 - accuracy: 0.0314 - 3s/epoch - 13ms/step\n",
            "Epoch 188/200\n",
            "245/245 - 3s - loss: 7.0779 - accuracy: 0.0314 - 3s/epoch - 11ms/step\n",
            "Epoch 189/200\n",
            "245/245 - 2s - loss: 7.0779 - accuracy: 0.0314 - 2s/epoch - 10ms/step\n",
            "Epoch 190/200\n",
            "245/245 - 2s - loss: 7.0780 - accuracy: 0.0314 - 2s/epoch - 10ms/step\n",
            "Epoch 191/200\n",
            "245/245 - 2s - loss: 7.0780 - accuracy: 0.0314 - 2s/epoch - 10ms/step\n",
            "Epoch 192/200\n",
            "245/245 - 3s - loss: 7.0779 - accuracy: 0.0314 - 3s/epoch - 12ms/step\n",
            "Epoch 193/200\n",
            "245/245 - 3s - loss: 7.0778 - accuracy: 0.0314 - 3s/epoch - 12ms/step\n",
            "Epoch 194/200\n",
            "245/245 - 2s - loss: 7.0775 - accuracy: 0.0314 - 2s/epoch - 10ms/step\n",
            "Epoch 195/200\n",
            "245/245 - 2s - loss: 7.0777 - accuracy: 0.0314 - 2s/epoch - 10ms/step\n",
            "Epoch 196/200\n",
            "245/245 - 3s - loss: 7.0777 - accuracy: 0.0314 - 3s/epoch - 10ms/step\n",
            "Epoch 197/200\n",
            "245/245 - 3s - loss: 7.0776 - accuracy: 0.0314 - 3s/epoch - 12ms/step\n",
            "Epoch 198/200\n",
            "245/245 - 3s - loss: 7.0776 - accuracy: 0.0314 - 3s/epoch - 12ms/step\n",
            "Epoch 199/200\n",
            "245/245 - 2s - loss: 7.0776 - accuracy: 0.0314 - 2s/epoch - 10ms/step\n",
            "Epoch 200/200\n",
            "245/245 - 2s - loss: 7.0775 - accuracy: 0.0314 - 2s/epoch - 10ms/step\n"
          ]
        }
      ]
    },
    {
      "cell_type": "code",
      "source": [],
      "metadata": {
        "id": "6FZDZcsOqXbG"
      },
      "execution_count": null,
      "outputs": []
    },
    {
      "cell_type": "code",
      "source": [
        "# 우리나라 소설 책(토지) 중 일부를 발췌하여 모델링 연습 (선택사항)\n",
        "# 한자 제거하고 띄어쓰기 기준으로 토큰화\n",
        "# 불용어 제거하고...동의어처리 해야되나?\n",
        "# okt 이용해서 명사(nouns)만 뽑기. # 형태소분석기 써도됨"
      ],
      "metadata": {
        "id": "disbu_BiFXJp"
      },
      "execution_count": null,
      "outputs": []
    }
  ]
}
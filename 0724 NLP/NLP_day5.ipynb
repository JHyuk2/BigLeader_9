{
  "nbformat": 4,
  "nbformat_minor": 0,
  "metadata": {
    "colab": {
      "provenance": [],
      "gpuType": "T4"
    },
    "kernelspec": {
      "name": "python3",
      "display_name": "Python 3"
    },
    "language_info": {
      "name": "python"
    }
  },
  "cells": [
    {
      "cell_type": "markdown",
      "source": [
        "### 데이터사이언스 + 개발자적 역량\n",
        "\n",
        "- 그래프, 트리\n",
        "- 그리디 백트래킹 다이나믹 프로그래밍(DP)\n",
        "\n",
        "강화학습을 공부하기 위해서는 CNN, RNN을 이해해야 한다.  \n",
        "\n",
        "> 강화학습에 들어가는 핵심 기법이 DP  \n",
        "> 전혀 정답이 없는 데이터만 가지고 있을 때 사용하는 게 강화학습.(비지도학습 / 지도학습)  \n",
        "> ~~강화학습 스터디 할까...?~~  \n",
        "\n",
        "\n",
        "### Word Embedding\n",
        "\n",
        "- 단어 임베딩이라 하는것은, 단어를 입력받아 벡터형태로 표현하는 것.  \n",
        "\n",
        "> 원핫인코딩\n",
        "- 길이가 10인 전체 공간에서 하나의 공간만 1이고, 나머지는 0...(one-hot encoding)  \n",
        "  ex) document term matrix  \n",
        "- 공간의 낭비가 심하고, 0 혹은 1이라는 숫자의 불연속성으로 인해 단어의 의미가 없어짐.  \n",
        "\n",
        "> 밀집벡터 `(Embedding Vector)`\n",
        "- 단어의 종류의 갯수를 벡터의 차원이라고 **보지 않는다.**  \n",
        "- 공간낭비가 없고, 실수값으로 표현되어 단어들 사이의 흐름을 나타낼 수 있다.  \n",
        "- CBOW / skipgram\n",
        "- 훈련데이터로부터 학습을 통해 임베딩하기 위한 벡터가 생성되어지게 되는데, 학습을 통해 만들어지는 것이 밀집벡터.  \n",
        "\n",
        "\n",
        "<img src='https://kawine.github.io/blog/assets/parallelogram.png'>\n",
        "\n",
        "> - CBOW(Continous Bag-of-Words)\n",
        "\n",
        "\n",
        "\n",
        "\n",
        "\n",
        "\n"
      ],
      "metadata": {
        "id": "UOVSnv5u4nSf"
      }
    },
    {
      "cell_type": "markdown",
      "source": [
        "## Word2Vec\n",
        "\n",
        "<img src='http://jalammar.github.io/images/word2vec/word2vec.png' width='500px'>\n",
        "\n",
        "#### 개념\n",
        "Word2Vec의 주요 아이디어는 \"**비슷한 분포를 가진 단어라면 비슷한 의미를 가질 것이다.**\" 이다.  \n",
        "즉, 자주 같이 등장할수록 두 단어는 비슷한 의미를 가진다는 것이다.  \n",
        "\n",
        "<br>\n",
        "Word2Vec은 Input, Hiddenn, Output layer 즉 3개의 층으로만 이루어져 있으므로 학습이 빠르고 많은 단어뭉치를 학습할 수 있으니 능이 좋다.  \n",
        "\n",
        "---\n",
        "\n",
        "#### 방법\n",
        "- 말뭉치에 나오는 모든 단얼르 벡터로 표현함(임의 벡터)  \n",
        "- 말뭉치의 각 위치 t에 대해, 중심 단어 c가 주어졌을 때 주변에 나오는 단어들 o의 확률이 커지도록(혹은 반대로 주변에 나오는 단어들 c가 주어졌을 때 중심 단어 c의 확률이 커지도록) 벡터를 조정.  \n",
        "\n",
        "- 두 가지 방법 CBOW와 Skip gram 모델이 있음.  \n",
        "\n",
        "\n",
        "<br>\n",
        "\n",
        "## CBow and Skip-gram\n",
        "<img src='https://img1.daumcdn.net/thumb/R1280x0/?scode=mtistory2&fname=https%3A%2F%2Fblog.kakaocdn.net%2Fdn%2FCzgg5%2FbtqEttXkz91%2FLK5RqukCujicrxQ2kRWt0k%2Fimg.png' width='400px'>\n",
        "\n",
        "\n",
        "1.  Look up embeddings\n",
        "> 사실상 이게 word2vec의 과정이라고 볼 수 있다.  \n",
        "\n",
        "2. Sliding window\n",
        "> 말 그대로, 윈도우(창문) 크기를 설정하고, n그램 비슷하게 미끄러지듯 탐색하는 방법.  \n",
        "> `Jay was hit by a __`   \n",
        "> `Jay was hit by a __ bus`  \n",
        "> 아래를 보면, 오른쪽의 정보를 찾지 않고서는 밑줄에 들어갈 단어를 예측하기 쉽지 않다.  \n",
        "> 그래서 LSTM같은 경우도 좌에서 우로 서치했지만, 나중에 bi-directional LSTM (bi-LSTM) 이 나오게 된다.  \n",
        "\n",
        "\n",
        "\n",
        "- CBOW (Countinuous Bag-of-Words)\n",
        "\n",
        "- Skipgram\n",
        "주변에 있는 단어들을 참고데이터로 삼아, 중심에 있는 단어들을 예측하는 바법.  \n",
        "이웃인 단어들에 대해서는 1값을 주지만, 그렇지 않은 단어들에 대해서는 0값을 준다.  \n",
        "\n",
        "- Glove\n",
        "\n",
        "#### Word2Vec Training Procsee\n",
        "1. 전처리\n",
        "2. Embedding - vocab 생성\n",
        "    2.1. embedding_size  -- 300 is common value(defaule = 100)\n",
        "\n",
        "```pyython\n",
        "from gensim.models import Phrases\n",
        "\n",
        "bigram_transformer = phrases(commen_texts)\n",
        "\n",
        "model = Word2Vec(embedding_size = 300)\n",
        "```\n",
        "\n",
        "Embdeeing = => vocab_size, embedding_size\n",
        "\n",
        "\n",
        "\n",
        "\n",
        "\n",
        "\n"
      ],
      "metadata": {
        "id": "ltIYb_PY6LQ7"
      }
    },
    {
      "cell_type": "code",
      "source": [
        "'''\n",
        "특성을 늘리면 오버피팅이 줄어든다.\n",
        "특성이 너무 많으면? 오버피팅\n",
        "특성이 너무 적으면? 언더피팅\n",
        "\n",
        "선형회귀 -> 다중공선성을 제거함(독립변수들끼리 상관관계가 높으면 안됨.)\n",
        "~ 두 개 다 모델에 반영이 되면 안되고, pca나 featrue selection, feature reduction을 통해 차원을 줄여줘야한다.\n",
        "- VIF(Variance Inflation Factor) ~ 우리가 사용했던 것.\n",
        " > 조사해서 값이 높으면 던져버리면 됨. 보통 5보다 크면 다중공선성이 있는 것으로 본다.\n",
        "\n",
        " https://mindscale.kr\n",
        "\n",
        "\n",
        "Gensim library 패키지를 불러오면 바로 word2vec 사용해볼 수 있다\n",
        "처음에는 베이지안(조건부)확률에 의거하여 다음 단어를 예측했지만,\n",
        "이제는 딥러닝 모델에 의거해서 단어를 예측한다.\n",
        "\n",
        "\n",
        "'''"
      ],
      "metadata": {
        "colab": {
          "base_uri": "https://localhost:8080/",
          "height": 90
        },
        "id": "KhX9U7aw4sW6",
        "outputId": "47feae31-8f50-4d7c-c7e6-cf90e84237b7"
      },
      "execution_count": null,
      "outputs": [
        {
          "output_type": "execute_result",
          "data": {
            "text/plain": [
              "'\\n특성을 늘리면 오버피팅이 줄어든다.\\n특성이 너무 많으면? 오버피팅\\n특성이 너무 적으면? 언더피팅\\n\\n선형회귀 -> 다중공선성을 제거함(독립변수들끼리 상관관계가 높으면 안됨.)\\n~ 두 개 다 모델에 반영이 되면 안되고, pca나 featrue selection, feature reduction을 통해 차원을 줄여줘야한다.\\n- VIF(Variance Inflation Factor) ~ 우리가 사용했던 것.\\n > 조사해서 값이 높으면 던져버리면 됨. 보통 5보다 크면 다중공선성이 있는 것으로 본다.\\n\\n https://mindscale.kr\\n\\n\\nGensim library 패키지를 불러오면 바로 word2vec 사용해볼 수 있다\\n처음에는 베이지안(조건부)확률에 의거하여 다음 단어를 예측했지만,\\n이제는 딥러닝 모델에 의거해서 단어를 예측한다.\\n\\n\\n'"
            ],
            "application/vnd.google.colaboratory.intrinsic+json": {
              "type": "string"
            }
          },
          "metadata": {},
          "execution_count": 1
        }
      ]
    },
    {
      "cell_type": "code",
      "source": [
        "import re\n",
        "import urllib.request # page에 있는 소스코드에 대한 요청"
      ],
      "metadata": {
        "id": "SS_fkhX1XTXF"
      },
      "execution_count": null,
      "outputs": []
    },
    {
      "cell_type": "code",
      "source": [
        "from lxml import etree\n",
        "from nltk.tokenize import word_tokenize, sent_tokenize"
      ],
      "metadata": {
        "id": "oDxp3iUhXaLE"
      },
      "execution_count": null,
      "outputs": []
    },
    {
      "cell_type": "code",
      "source": [
        "urllib.request.urlretrieve(\"https://raw.githubusercontent.com/ukairia777/tensorflow-nlp-tutorial/main/09.%20Word%20Embedding/dataset/ted_en-20160408.xml\", filename=\"ted_en-20160408.xml\")"
      ],
      "metadata": {
        "colab": {
          "base_uri": "https://localhost:8080/"
        },
        "id": "iyky68w7XelB",
        "outputId": "c52ed8e9-fdb1-4009-866b-39309c8a97e5"
      },
      "execution_count": null,
      "outputs": [
        {
          "output_type": "execute_result",
          "data": {
            "text/plain": [
              "('ted_en-20160408.xml', <http.client.HTTPMessage at 0x7b30acfd0be0>)"
            ]
          },
          "metadata": {},
          "execution_count": 4
        }
      ]
    },
    {
      "cell_type": "code",
      "source": [
        "import nltk\n",
        "# from nltk.corpus import punkt, stopwords\n",
        "nltk.download('punkt')\n"
      ],
      "metadata": {
        "colab": {
          "base_uri": "https://localhost:8080/"
        },
        "id": "eC_mqv57Xnd3",
        "outputId": "ce2ff06b-8206-4418-ecf5-6b0fecf17b7d"
      },
      "execution_count": null,
      "outputs": [
        {
          "output_type": "stream",
          "name": "stderr",
          "text": [
            "[nltk_data] Downloading package punkt to /root/nltk_data...\n",
            "[nltk_data]   Package punkt is already up-to-date!\n"
          ]
        },
        {
          "output_type": "execute_result",
          "data": {
            "text/plain": [
              "True"
            ]
          },
          "metadata": {},
          "execution_count": 5
        }
      ]
    },
    {
      "cell_type": "code",
      "source": [
        "# eXtended Markup Language / html의 태그기능으로는 정보를 담아내기에 한계가 있다. 라는 생각 하에 나온 마크업 랭귀지.\n",
        "# dictionary와 유사한 구조라고 보면 된다 (.json file도 비슷한 느낌)\n",
        "targetXML = open('ted_en-20160408.xml', 'r', encoding='UTF8')\n",
        "target_text = etree.parse(targetXML)\n",
        "\n",
        "\n",
        "# xml 파일로부터 <content> 와 </contnet> 사이의 내용만 가져온다.\n",
        "parse_text = '\\n'.join(target_text.xpath('//content/text()'))\n",
        "\n",
        "\n",
        "# 정규표현식을 사용하여 괄호로 구성된 내용을 제거\n",
        "content_text = re.sub(r'\\([^)]*\\)', '', parse_text)\n",
        "\n",
        "# 입력 코퍼스에 대해 sent_tokenize\n",
        "sent_text = sent_tokenize(content_text)\n",
        "\n",
        "# 각 문장에 대해서 구두점을 제거하고, 대문자를 소문자로 변환.\n",
        "normalized_text = []\n",
        "for string in sent_text:\n",
        "     tokens = re.sub(r\"[^a-z0-9]+\", \" \", string.lower())\n",
        "     normalized_text.append(tokens)\n",
        "# 각 문장에 대해서 NLTK를 이용하여 단어 토큰화를 수행.\n",
        "result = [word_tokenize(sentence) for sentence in normalized_text]"
      ],
      "metadata": {
        "id": "uWOzVb0fYBYE"
      },
      "execution_count": null,
      "outputs": []
    },
    {
      "cell_type": "code",
      "source": [
        "import numpy as np"
      ],
      "metadata": {
        "id": "ax74UXgFZSit"
      },
      "execution_count": null,
      "outputs": []
    },
    {
      "cell_type": "code",
      "source": [
        "len(result)"
      ],
      "metadata": {
        "colab": {
          "base_uri": "https://localhost:8080/"
        },
        "id": "ghSr32JKZZ2o",
        "outputId": "9f7c3f3b-6886-471c-b73a-6ee971bc572b"
      },
      "execution_count": null,
      "outputs": [
        {
          "output_type": "execute_result",
          "data": {
            "text/plain": [
              "273424"
            ]
          },
          "metadata": {},
          "execution_count": 8
        }
      ]
    },
    {
      "cell_type": "code",
      "source": [
        "result[0]"
      ],
      "metadata": {
        "colab": {
          "base_uri": "https://localhost:8080/"
        },
        "id": "VryXfOIpZdQS",
        "outputId": "2b9b1f65-9538-427c-9d69-4535b59515cd"
      },
      "execution_count": null,
      "outputs": [
        {
          "output_type": "execute_result",
          "data": {
            "text/plain": [
              "['here',\n",
              " 'are',\n",
              " 'two',\n",
              " 'reasons',\n",
              " 'companies',\n",
              " 'fail',\n",
              " 'they',\n",
              " 'only',\n",
              " 'do',\n",
              " 'more',\n",
              " 'of',\n",
              " 'the',\n",
              " 'same',\n",
              " 'or',\n",
              " 'they',\n",
              " 'only',\n",
              " 'do',\n",
              " 'what',\n",
              " 's',\n",
              " 'new']"
            ]
          },
          "metadata": {},
          "execution_count": 9
        }
      ]
    },
    {
      "cell_type": "code",
      "source": [
        "from gensim.models import Word2Vec\n",
        "from gensim.models import KeyedVectors\n",
        "\n",
        "model = Word2Vec(sentences=result, vector_size=100, window=5, min_count=5, workers=4, sg=0) # sg : skip gram // 0인 경우 CBOW를 의미한다.~ 중심 단어로 주변을 예측하겠다."
      ],
      "metadata": {
        "id": "xnhjVVOTZjqt"
      },
      "execution_count": null,
      "outputs": []
    },
    {
      "cell_type": "code",
      "source": [
        "model.wv.most_similar('man') # man vector와 가장 가까이 있는 벡터값 10개를 출력해준다."
      ],
      "metadata": {
        "colab": {
          "base_uri": "https://localhost:8080/"
        },
        "id": "iIfAZu4zaJn-",
        "outputId": "ca46f45c-d560-43f9-86af-00c8b4ee5b32"
      },
      "execution_count": null,
      "outputs": [
        {
          "output_type": "execute_result",
          "data": {
            "text/plain": [
              "[('woman', 0.8515543937683105),\n",
              " ('guy', 0.8122081160545349),\n",
              " ('girl', 0.7557367086410522),\n",
              " ('lady', 0.7529515027999878),\n",
              " ('boy', 0.7504024505615234),\n",
              " ('gentleman', 0.7396358847618103),\n",
              " ('kid', 0.723847508430481),\n",
              " ('soldier', 0.7128475308418274),\n",
              " ('surgeon', 0.6789276003837585),\n",
              " ('poet', 0.6626579165458679)]"
            ]
          },
          "metadata": {},
          "execution_count": 11
        }
      ]
    },
    {
      "cell_type": "code",
      "source": [
        "## 한국어 워드투벡 모델 생성\n",
        "urllib.request.urlretrieve(\"https://raw.githubusercontent.com/e9t/nsmc/master/ratings.txt\", filename=\"ratings.txt\")"
      ],
      "metadata": {
        "colab": {
          "base_uri": "https://localhost:8080/"
        },
        "id": "jLvnwdgVao3C",
        "outputId": "845f7400-652b-466a-c7f2-9c99abb1f87b"
      },
      "execution_count": null,
      "outputs": [
        {
          "output_type": "execute_result",
          "data": {
            "text/plain": [
              "('ratings.txt', <http.client.HTTPMessage at 0x7b305b9be020>)"
            ]
          },
          "metadata": {},
          "execution_count": 12
        }
      ]
    },
    {
      "cell_type": "code",
      "source": [
        "import pandas as pd\n",
        "\n",
        "df = pd.read_table('ratings.txt')"
      ],
      "metadata": {
        "id": "uUNChFG7tLXi"
      },
      "execution_count": null,
      "outputs": []
    },
    {
      "cell_type": "code",
      "source": [
        "df.head()"
      ],
      "metadata": {
        "colab": {
          "base_uri": "https://localhost:8080/",
          "height": 206
        },
        "id": "psUpFheVtl7A",
        "outputId": "36ce5ecb-9805-479e-8258-d012ffa6c3dc"
      },
      "execution_count": null,
      "outputs": [
        {
          "output_type": "execute_result",
          "data": {
            "text/plain": [
              "         id                                           document  label\n",
              "0   8112052                                어릴때보고 지금다시봐도 재밌어요ㅋㅋ      1\n",
              "1   8132799  디자인을 배우는 학생으로, 외국디자이너와 그들이 일군 전통을 통해 발전해가는 문화산...      1\n",
              "2   4655635               폴리스스토리 시리즈는 1부터 뉴까지 버릴께 하나도 없음.. 최고.      1\n",
              "3   9251303  와.. 연기가 진짜 개쩔구나.. 지루할거라고 생각했는데 몰입해서 봤다.. 그래 이런...      1\n",
              "4  10067386                        안개 자욱한 밤하늘에 떠 있는 초승달 같은 영화.      1"
            ],
            "text/html": [
              "\n",
              "\n",
              "  <div id=\"df-8a7d9b29-1f40-4489-884f-b75d7706a79e\">\n",
              "    <div class=\"colab-df-container\">\n",
              "      <div>\n",
              "<style scoped>\n",
              "    .dataframe tbody tr th:only-of-type {\n",
              "        vertical-align: middle;\n",
              "    }\n",
              "\n",
              "    .dataframe tbody tr th {\n",
              "        vertical-align: top;\n",
              "    }\n",
              "\n",
              "    .dataframe thead th {\n",
              "        text-align: right;\n",
              "    }\n",
              "</style>\n",
              "<table border=\"1\" class=\"dataframe\">\n",
              "  <thead>\n",
              "    <tr style=\"text-align: right;\">\n",
              "      <th></th>\n",
              "      <th>id</th>\n",
              "      <th>document</th>\n",
              "      <th>label</th>\n",
              "    </tr>\n",
              "  </thead>\n",
              "  <tbody>\n",
              "    <tr>\n",
              "      <th>0</th>\n",
              "      <td>8112052</td>\n",
              "      <td>어릴때보고 지금다시봐도 재밌어요ㅋㅋ</td>\n",
              "      <td>1</td>\n",
              "    </tr>\n",
              "    <tr>\n",
              "      <th>1</th>\n",
              "      <td>8132799</td>\n",
              "      <td>디자인을 배우는 학생으로, 외국디자이너와 그들이 일군 전통을 통해 발전해가는 문화산...</td>\n",
              "      <td>1</td>\n",
              "    </tr>\n",
              "    <tr>\n",
              "      <th>2</th>\n",
              "      <td>4655635</td>\n",
              "      <td>폴리스스토리 시리즈는 1부터 뉴까지 버릴께 하나도 없음.. 최고.</td>\n",
              "      <td>1</td>\n",
              "    </tr>\n",
              "    <tr>\n",
              "      <th>3</th>\n",
              "      <td>9251303</td>\n",
              "      <td>와.. 연기가 진짜 개쩔구나.. 지루할거라고 생각했는데 몰입해서 봤다.. 그래 이런...</td>\n",
              "      <td>1</td>\n",
              "    </tr>\n",
              "    <tr>\n",
              "      <th>4</th>\n",
              "      <td>10067386</td>\n",
              "      <td>안개 자욱한 밤하늘에 떠 있는 초승달 같은 영화.</td>\n",
              "      <td>1</td>\n",
              "    </tr>\n",
              "  </tbody>\n",
              "</table>\n",
              "</div>\n",
              "      <button class=\"colab-df-convert\" onclick=\"convertToInteractive('df-8a7d9b29-1f40-4489-884f-b75d7706a79e')\"\n",
              "              title=\"Convert this dataframe to an interactive table.\"\n",
              "              style=\"display:none;\">\n",
              "\n",
              "  <svg xmlns=\"http://www.w3.org/2000/svg\" height=\"24px\"viewBox=\"0 0 24 24\"\n",
              "       width=\"24px\">\n",
              "    <path d=\"M0 0h24v24H0V0z\" fill=\"none\"/>\n",
              "    <path d=\"M18.56 5.44l.94 2.06.94-2.06 2.06-.94-2.06-.94-.94-2.06-.94 2.06-2.06.94zm-11 1L8.5 8.5l.94-2.06 2.06-.94-2.06-.94L8.5 2.5l-.94 2.06-2.06.94zm10 10l.94 2.06.94-2.06 2.06-.94-2.06-.94-.94-2.06-.94 2.06-2.06.94z\"/><path d=\"M17.41 7.96l-1.37-1.37c-.4-.4-.92-.59-1.43-.59-.52 0-1.04.2-1.43.59L10.3 9.45l-7.72 7.72c-.78.78-.78 2.05 0 2.83L4 21.41c.39.39.9.59 1.41.59.51 0 1.02-.2 1.41-.59l7.78-7.78 2.81-2.81c.8-.78.8-2.07 0-2.86zM5.41 20L4 18.59l7.72-7.72 1.47 1.35L5.41 20z\"/>\n",
              "  </svg>\n",
              "      </button>\n",
              "\n",
              "\n",
              "\n",
              "    <div id=\"df-14582815-5987-4b00-b15e-cec1ceb18475\">\n",
              "      <button class=\"colab-df-quickchart\" onclick=\"quickchart('df-14582815-5987-4b00-b15e-cec1ceb18475')\"\n",
              "              title=\"Suggest charts.\"\n",
              "              style=\"display:none;\">\n",
              "\n",
              "<svg xmlns=\"http://www.w3.org/2000/svg\" height=\"24px\"viewBox=\"0 0 24 24\"\n",
              "     width=\"24px\">\n",
              "    <g>\n",
              "        <path d=\"M19 3H5c-1.1 0-2 .9-2 2v14c0 1.1.9 2 2 2h14c1.1 0 2-.9 2-2V5c0-1.1-.9-2-2-2zM9 17H7v-7h2v7zm4 0h-2V7h2v10zm4 0h-2v-4h2v4z\"/>\n",
              "    </g>\n",
              "</svg>\n",
              "      </button>\n",
              "    </div>\n",
              "\n",
              "<style>\n",
              "  .colab-df-quickchart {\n",
              "    background-color: #E8F0FE;\n",
              "    border: none;\n",
              "    border-radius: 50%;\n",
              "    cursor: pointer;\n",
              "    display: none;\n",
              "    fill: #1967D2;\n",
              "    height: 32px;\n",
              "    padding: 0 0 0 0;\n",
              "    width: 32px;\n",
              "  }\n",
              "\n",
              "  .colab-df-quickchart:hover {\n",
              "    background-color: #E2EBFA;\n",
              "    box-shadow: 0px 1px 2px rgba(60, 64, 67, 0.3), 0px 1px 3px 1px rgba(60, 64, 67, 0.15);\n",
              "    fill: #174EA6;\n",
              "  }\n",
              "\n",
              "  [theme=dark] .colab-df-quickchart {\n",
              "    background-color: #3B4455;\n",
              "    fill: #D2E3FC;\n",
              "  }\n",
              "\n",
              "  [theme=dark] .colab-df-quickchart:hover {\n",
              "    background-color: #434B5C;\n",
              "    box-shadow: 0px 1px 3px 1px rgba(0, 0, 0, 0.15);\n",
              "    filter: drop-shadow(0px 1px 2px rgba(0, 0, 0, 0.3));\n",
              "    fill: #FFFFFF;\n",
              "  }\n",
              "</style>\n",
              "\n",
              "    <script>\n",
              "      async function quickchart(key) {\n",
              "        const containerElement = document.querySelector('#' + key);\n",
              "        const charts = await google.colab.kernel.invokeFunction(\n",
              "            'suggestCharts', [key], {});\n",
              "      }\n",
              "    </script>\n",
              "\n",
              "      <script>\n",
              "\n",
              "function displayQuickchartButton(domScope) {\n",
              "  let quickchartButtonEl =\n",
              "    domScope.querySelector('#df-14582815-5987-4b00-b15e-cec1ceb18475 button.colab-df-quickchart');\n",
              "  quickchartButtonEl.style.display =\n",
              "    google.colab.kernel.accessAllowed ? 'block' : 'none';\n",
              "}\n",
              "\n",
              "        displayQuickchartButton(document);\n",
              "      </script>\n",
              "      <style>\n",
              "    .colab-df-container {\n",
              "      display:flex;\n",
              "      flex-wrap:wrap;\n",
              "      gap: 12px;\n",
              "    }\n",
              "\n",
              "    .colab-df-convert {\n",
              "      background-color: #E8F0FE;\n",
              "      border: none;\n",
              "      border-radius: 50%;\n",
              "      cursor: pointer;\n",
              "      display: none;\n",
              "      fill: #1967D2;\n",
              "      height: 32px;\n",
              "      padding: 0 0 0 0;\n",
              "      width: 32px;\n",
              "    }\n",
              "\n",
              "    .colab-df-convert:hover {\n",
              "      background-color: #E2EBFA;\n",
              "      box-shadow: 0px 1px 2px rgba(60, 64, 67, 0.3), 0px 1px 3px 1px rgba(60, 64, 67, 0.15);\n",
              "      fill: #174EA6;\n",
              "    }\n",
              "\n",
              "    [theme=dark] .colab-df-convert {\n",
              "      background-color: #3B4455;\n",
              "      fill: #D2E3FC;\n",
              "    }\n",
              "\n",
              "    [theme=dark] .colab-df-convert:hover {\n",
              "      background-color: #434B5C;\n",
              "      box-shadow: 0px 1px 3px 1px rgba(0, 0, 0, 0.15);\n",
              "      filter: drop-shadow(0px 1px 2px rgba(0, 0, 0, 0.3));\n",
              "      fill: #FFFFFF;\n",
              "    }\n",
              "  </style>\n",
              "\n",
              "      <script>\n",
              "        const buttonEl =\n",
              "          document.querySelector('#df-8a7d9b29-1f40-4489-884f-b75d7706a79e button.colab-df-convert');\n",
              "        buttonEl.style.display =\n",
              "          google.colab.kernel.accessAllowed ? 'block' : 'none';\n",
              "\n",
              "        async function convertToInteractive(key) {\n",
              "          const element = document.querySelector('#df-8a7d9b29-1f40-4489-884f-b75d7706a79e');\n",
              "          const dataTable =\n",
              "            await google.colab.kernel.invokeFunction('convertToInteractive',\n",
              "                                                     [key], {});\n",
              "          if (!dataTable) return;\n",
              "\n",
              "          const docLinkHtml = 'Like what you see? Visit the ' +\n",
              "            '<a target=\"_blank\" href=https://colab.research.google.com/notebooks/data_table.ipynb>data table notebook</a>'\n",
              "            + ' to learn more about interactive tables.';\n",
              "          element.innerHTML = '';\n",
              "          dataTable['output_type'] = 'display_data';\n",
              "          await google.colab.output.renderOutput(dataTable, element);\n",
              "          const docLink = document.createElement('div');\n",
              "          docLink.innerHTML = docLinkHtml;\n",
              "          element.appendChild(docLink);\n",
              "        }\n",
              "      </script>\n",
              "    </div>\n",
              "  </div>\n"
            ]
          },
          "metadata": {},
          "execution_count": 14
        }
      ]
    },
    {
      "cell_type": "code",
      "source": [
        "train_data = df"
      ],
      "metadata": {
        "id": "yIIRtwzTtm1e"
      },
      "execution_count": null,
      "outputs": []
    },
    {
      "cell_type": "code",
      "source": [
        "train_data.info()"
      ],
      "metadata": {
        "colab": {
          "base_uri": "https://localhost:8080/"
        },
        "id": "LTIk3ZVUuPmH",
        "outputId": "798b5f8f-a3c9-4de2-d26f-e128f547aa59"
      },
      "execution_count": null,
      "outputs": [
        {
          "output_type": "stream",
          "name": "stdout",
          "text": [
            "<class 'pandas.core.frame.DataFrame'>\n",
            "RangeIndex: 200000 entries, 0 to 199999\n",
            "Data columns (total 3 columns):\n",
            " #   Column    Non-Null Count   Dtype \n",
            "---  ------    --------------   ----- \n",
            " 0   id        200000 non-null  int64 \n",
            " 1   document  199992 non-null  object\n",
            " 2   label     200000 non-null  int64 \n",
            "dtypes: int64(2), object(1)\n",
            "memory usage: 4.6+ MB\n"
          ]
        }
      ]
    },
    {
      "cell_type": "code",
      "source": [
        "train_data.document.isnull()"
      ],
      "metadata": {
        "colab": {
          "base_uri": "https://localhost:8080/"
        },
        "id": "gKGldZ2muQkD",
        "outputId": "9cdc5582-15a1-4d3a-c0bb-c432ca728dd5"
      },
      "execution_count": null,
      "outputs": [
        {
          "output_type": "execute_result",
          "data": {
            "text/plain": [
              "0         False\n",
              "1         False\n",
              "2         False\n",
              "3         False\n",
              "4         False\n",
              "          ...  \n",
              "199995    False\n",
              "199996    False\n",
              "199997    False\n",
              "199998    False\n",
              "199999    False\n",
              "Name: document, Length: 200000, dtype: bool"
            ]
          },
          "metadata": {},
          "execution_count": 18
        }
      ]
    },
    {
      "cell_type": "code",
      "source": [
        "train_data.dropna(inplace=True)"
      ],
      "metadata": {
        "id": "LFk0xjt3uS6R"
      },
      "execution_count": null,
      "outputs": []
    },
    {
      "cell_type": "code",
      "source": [
        "train_data.info()"
      ],
      "metadata": {
        "colab": {
          "base_uri": "https://localhost:8080/"
        },
        "id": "tESpi_OZuyP7",
        "outputId": "3f1858ec-e69f-4386-bdd4-8777b2240fa2"
      },
      "execution_count": null,
      "outputs": [
        {
          "output_type": "stream",
          "name": "stdout",
          "text": [
            "<class 'pandas.core.frame.DataFrame'>\n",
            "Int64Index: 199992 entries, 0 to 199999\n",
            "Data columns (total 3 columns):\n",
            " #   Column    Non-Null Count   Dtype \n",
            "---  ------    --------------   ----- \n",
            " 0   id        199992 non-null  int64 \n",
            " 1   document  199992 non-null  object\n",
            " 2   label     199992 non-null  int64 \n",
            "dtypes: int64(2), object(1)\n",
            "memory usage: 6.1+ MB\n"
          ]
        }
      ]
    },
    {
      "cell_type": "code",
      "source": [
        "## series 데이터타입에는 적용할 수 없다.\n",
        "train_data.document.replace(\"포켓\", \"포겟\")"
      ],
      "metadata": {
        "colab": {
          "base_uri": "https://localhost:8080/"
        },
        "id": "_yoDCz6Suz1Y",
        "outputId": "13b80585-7aa7-45be-dddb-97468d59c43e"
      },
      "execution_count": null,
      "outputs": [
        {
          "output_type": "execute_result",
          "data": {
            "text/plain": [
              "0                                       어릴때보고 지금다시봐도 재밌어요ㅋㅋ\n",
              "1         디자인을 배우는 학생으로, 외국디자이너와 그들이 일군 전통을 통해 발전해가는 문화산...\n",
              "2                      폴리스스토리 시리즈는 1부터 뉴까지 버릴께 하나도 없음.. 최고.\n",
              "3         와.. 연기가 진짜 개쩔구나.. 지루할거라고 생각했는데 몰입해서 봤다.. 그래 이런...\n",
              "4                               안개 자욱한 밤하늘에 떠 있는 초승달 같은 영화.\n",
              "                                ...                        \n",
              "199995                                       포켓 몬스터 짜가 ㅡㅡ;;\n",
              "199996                                                쓰.레.기\n",
              "199997                    완전 사이코영화. 마지막은 더욱더 이 영화의질을 떨어트린다.\n",
              "199998                  왜난 재미없었지 ㅠㅠ 라따뚜이 보고나서 스머프 봐서 그런가 ㅋㅋ\n",
              "199999                                      포풍저그가나가신다영차영차영차\n",
              "Name: document, Length: 199992, dtype: object"
            ]
          },
          "metadata": {},
          "execution_count": 21
        }
      ]
    },
    {
      "cell_type": "code",
      "source": [
        "train_data.document.str.replace(\"포켓\", \"포겟\")"
      ],
      "metadata": {
        "colab": {
          "base_uri": "https://localhost:8080/"
        },
        "id": "XoxlqaUTvIZC",
        "outputId": "7286fae6-1b4a-4e7c-e98f-8e056dbff0bd"
      },
      "execution_count": null,
      "outputs": [
        {
          "output_type": "execute_result",
          "data": {
            "text/plain": [
              "0                                       어릴때보고 지금다시봐도 재밌어요ㅋㅋ\n",
              "1         디자인을 배우는 학생으로, 외국디자이너와 그들이 일군 전통을 통해 발전해가는 문화산...\n",
              "2                      폴리스스토리 시리즈는 1부터 뉴까지 버릴께 하나도 없음.. 최고.\n",
              "3         와.. 연기가 진짜 개쩔구나.. 지루할거라고 생각했는데 몰입해서 봤다.. 그래 이런...\n",
              "4                               안개 자욱한 밤하늘에 떠 있는 초승달 같은 영화.\n",
              "                                ...                        \n",
              "199995                                       포겟 몬스터 짜가 ㅡㅡ;;\n",
              "199996                                                쓰.레.기\n",
              "199997                    완전 사이코영화. 마지막은 더욱더 이 영화의질을 떨어트린다.\n",
              "199998                  왜난 재미없었지 ㅠㅠ 라따뚜이 보고나서 스머프 봐서 그런가 ㅋㅋ\n",
              "199999                                      포풍저그가나가신다영차영차영차\n",
              "Name: document, Length: 199992, dtype: object"
            ]
          },
          "metadata": {},
          "execution_count": 22
        }
      ]
    },
    {
      "cell_type": "code",
      "source": [
        "# ^ : 포함되는것\n",
        "train_data.document.str.replace(\"[^ㄱ-ㅎㅏ-ㅣ가-힣]\", \"\")"
      ],
      "metadata": {
        "colab": {
          "base_uri": "https://localhost:8080/"
        },
        "id": "rWoJyL9yvQCc",
        "outputId": "ea91a955-3a08-4458-8ad4-7ef9b75fa725"
      },
      "execution_count": null,
      "outputs": [
        {
          "output_type": "stream",
          "name": "stderr",
          "text": [
            "<ipython-input-24-8f3e3ca32d74>:1: FutureWarning: The default value of regex will change from True to False in a future version.\n",
            "  train_data.document.str.replace(\"[^ㄱ-ㅎㅏ-ㅣ가-힣]\", \"\")\n"
          ]
        },
        {
          "output_type": "execute_result",
          "data": {
            "text/plain": [
              "0                                         어릴때보고지금다시봐도재밌어요ㅋㅋ\n",
              "1         디자인을배우는학생으로외국디자이너와그들이일군전통을통해발전해가는문화산업이부러웠는데사실우...\n",
              "2                                 폴리스스토리시리즈는부터뉴까지버릴께하나도없음최고\n",
              "3                     와연기가진짜개쩔구나지루할거라고생각했는데몰입해서봤다그래이런게진짜영화지\n",
              "4                                       안개자욱한밤하늘에떠있는초승달같은영화\n",
              "                                ...                        \n",
              "199995                                            포켓몬스터짜가ㅡㅡ\n",
              "199996                                                  쓰레기\n",
              "199997                            완전사이코영화마지막은더욱더이영화의질을떨어트린다\n",
              "199998                          왜난재미없었지ㅠㅠ라따뚜이보고나서스머프봐서그런가ㅋㅋ\n",
              "199999                                      포풍저그가나가신다영차영차영차\n",
              "Name: document, Length: 199992, dtype: object"
            ]
          },
          "metadata": {},
          "execution_count": 24
        }
      ]
    },
    {
      "cell_type": "code",
      "source": [
        "stopwords = ['의','가','이','은','들','는','좀','잘','걍','과','도','를','으로','자','에','와','한','하다']"
      ],
      "metadata": {
        "id": "SgoUbwLBv5Cl"
      },
      "execution_count": null,
      "outputs": []
    },
    {
      "cell_type": "code",
      "source": [
        "!pip install konlpy"
      ],
      "metadata": {
        "colab": {
          "base_uri": "https://localhost:8080/"
        },
        "id": "YrFp7Xj7wa7e",
        "outputId": "ff254174-e45f-445b-90d6-01dc1e888fc8"
      },
      "execution_count": null,
      "outputs": [
        {
          "output_type": "stream",
          "name": "stdout",
          "text": [
            "Collecting konlpy\n",
            "  Downloading konlpy-0.6.0-py2.py3-none-any.whl (19.4 MB)\n",
            "\u001b[2K     \u001b[90m━━━━━━━━━━━━━━━━━━━━━━━━━━━━━━━━━━━━━━━━\u001b[0m \u001b[32m19.4/19.4 MB\u001b[0m \u001b[31m25.5 MB/s\u001b[0m eta \u001b[36m0:00:00\u001b[0m\n",
            "\u001b[?25hCollecting JPype1>=0.7.0 (from konlpy)\n",
            "  Downloading JPype1-1.4.1-cp310-cp310-manylinux_2_12_x86_64.manylinux2010_x86_64.whl (465 kB)\n",
            "\u001b[2K     \u001b[90m━━━━━━━━━━━━━━━━━━━━━━━━━━━━━━━━━━━━━━\u001b[0m \u001b[32m465.3/465.3 kB\u001b[0m \u001b[31m29.0 MB/s\u001b[0m eta \u001b[36m0:00:00\u001b[0m\n",
            "\u001b[?25hRequirement already satisfied: lxml>=4.1.0 in /usr/local/lib/python3.10/dist-packages (from konlpy) (4.9.3)\n",
            "Requirement already satisfied: numpy>=1.6 in /usr/local/lib/python3.10/dist-packages (from konlpy) (1.22.4)\n",
            "Requirement already satisfied: packaging in /usr/local/lib/python3.10/dist-packages (from JPype1>=0.7.0->konlpy) (23.1)\n",
            "Installing collected packages: JPype1, konlpy\n",
            "Successfully installed JPype1-1.4.1 konlpy-0.6.0\n"
          ]
        }
      ]
    },
    {
      "cell_type": "code",
      "source": [
        "from konlpy.tag import Okt\n",
        "okt = Okt()"
      ],
      "metadata": {
        "id": "4NZTBbZ6wje1"
      },
      "execution_count": null,
      "outputs": []
    },
    {
      "cell_type": "code",
      "source": [
        "tok_data = []\n",
        "\n",
        "for sent in train_data.document:\n",
        "  tok_sent = okt.morphs(sent) # 토큰화\n",
        "  sw_rem_sent = [w for w in tok_sent if not w in stopwords]\n",
        "  tok_data.append(sw_rem_sent)\n"
      ],
      "metadata": {
        "id": "qgY5Qmpow9Fd"
      },
      "execution_count": null,
      "outputs": []
    },
    {
      "cell_type": "code",
      "source": [
        "import matplotlib.pyplot as  plt"
      ],
      "metadata": {
        "id": "YVjMpkAdx_rk"
      },
      "execution_count": null,
      "outputs": []
    },
    {
      "cell_type": "code",
      "source": [
        "print(max(len(r) for r in tok_data)) # 리뷰 최대길이\n",
        "plt.hist([len(r) for r in tok_data], bins=50)"
      ],
      "metadata": {
        "colab": {
          "base_uri": "https://localhost:8080/",
          "height": 739
        },
        "id": "taiHadr8yZXO",
        "outputId": "4b2c6bc8-ed69-447a-c119-36b4f67c6faa"
      },
      "execution_count": null,
      "outputs": [
        {
          "output_type": "stream",
          "name": "stdout",
          "text": [
            "95\n"
          ]
        },
        {
          "output_type": "execute_result",
          "data": {
            "text/plain": [
              "(array([4.2630e+03, 1.4765e+04, 2.7303e+04, 2.9068e+04, 2.4540e+04,\n",
              "        2.0529e+04, 1.7410e+04, 1.3787e+04, 9.9490e+03, 3.7050e+03,\n",
              "        5.4030e+03, 3.8660e+03, 3.0720e+03, 2.5930e+03, 2.3290e+03,\n",
              "        2.0840e+03, 1.7810e+03, 1.6110e+03, 1.3780e+03, 6.5500e+02,\n",
              "        1.2820e+03, 1.2630e+03, 1.3640e+03, 1.4250e+03, 1.4070e+03,\n",
              "        1.1810e+03, 8.0800e+02, 4.5800e+02, 3.1700e+02, 9.6000e+01,\n",
              "        1.1300e+02, 8.2000e+01, 4.5000e+01, 2.6000e+01, 1.7000e+01,\n",
              "        8.0000e+00, 4.0000e+00, 0.0000e+00, 0.0000e+00, 0.0000e+00,\n",
              "        0.0000e+00, 1.0000e+00, 1.0000e+00, 0.0000e+00, 0.0000e+00,\n",
              "        0.0000e+00, 1.0000e+00, 0.0000e+00, 1.0000e+00, 1.0000e+00]),\n",
              " array([ 0. ,  1.9,  3.8,  5.7,  7.6,  9.5, 11.4, 13.3, 15.2, 17.1, 19. ,\n",
              "        20.9, 22.8, 24.7, 26.6, 28.5, 30.4, 32.3, 34.2, 36.1, 38. , 39.9,\n",
              "        41.8, 43.7, 45.6, 47.5, 49.4, 51.3, 53.2, 55.1, 57. , 58.9, 60.8,\n",
              "        62.7, 64.6, 66.5, 68.4, 70.3, 72.2, 74.1, 76. , 77.9, 79.8, 81.7,\n",
              "        83.6, 85.5, 87.4, 89.3, 91.2, 93.1, 95. ]),\n",
              " <BarContainer object of 50 artists>)"
            ]
          },
          "metadata": {},
          "execution_count": 34
        },
        {
          "output_type": "display_data",
          "data": {
            "text/plain": [
              "<Figure size 640x480 with 1 Axes>"
            ],
            "image/png": "[encoded data removed]"
          },
          "metadata": {}
        }
      ]
    },
    {
      "cell_type": "code",
      "source": [
        "tok_data"
      ],
      "metadata": {
        "id": "dtp7NotQ3zab"
      },
      "execution_count": null,
      "outputs": []
    },
    {
      "cell_type": "code",
      "source": [
        "# hyperparameter 는 환경에 따라 Hueristic(사람에 따라 경험적으로) 설정.\n",
        "model = Word2Vec(sentences = tok_data, vector_size=100, window=5, min_count=5, workers=4, sg=0)"
      ],
      "metadata": {
        "id": "i7PY16YgyhpU"
      },
      "execution_count": null,
      "outputs": []
    },
    {
      "cell_type": "code",
      "source": [
        "result"
      ],
      "metadata": {
        "id": "sI-DBrgv4fUg"
      },
      "execution_count": null,
      "outputs": []
    },
    {
      "cell_type": "code",
      "source": [
        "# model.wv.most_similar(\"키워드\") # 찾는 키워드와 가장 근접한 벡터값을 가진 10개의 단어를 추천\n",
        "model.wv.most_similar(\"티비\")"
      ],
      "metadata": {
        "colab": {
          "base_uri": "https://localhost:8080/"
        },
        "id": "fp-8JPXJzepH",
        "outputId": "a120a7ec-d019-4c47-d7c0-727760e42c5c"
      },
      "execution_count": null,
      "outputs": [
        {
          "output_type": "execute_result",
          "data": {
            "text/plain": [
              "[('케이블', 0.920829176902771),\n",
              " ('ocn', 0.8595171570777893),\n",
              " ('채널', 0.8485574722290039),\n",
              " ('tv', 0.8420579433441162),\n",
              " ('틀어주길래', 0.8386672735214233),\n",
              " ('올레', 0.8351615071296692),\n",
              " ('EBS', 0.8175449371337891),\n",
              " ('무료', 0.8172912001609802),\n",
              " ('cgv', 0.8130183815956116),\n",
              " ('OCN', 0.8116450905799866)]"
            ]
          },
          "metadata": {},
          "execution_count": 44
        }
      ]
    },
    {
      "cell_type": "code",
      "source": [
        "from gensim.models import FastText"
      ],
      "metadata": {
        "id": "zuf_voiK3dpd"
      },
      "execution_count": null,
      "outputs": []
    },
    {
      "cell_type": "code",
      "source": [
        "model = FastText(result, vector_size=100, window=5, min_count=5, workers=4, sg=1)"
      ],
      "metadata": {
        "id": "CIJYqywl84eX"
      },
      "execution_count": null,
      "outputs": []
    },
    {
      "cell_type": "code",
      "source": [
        "model.wv.most_similar('man')"
      ],
      "metadata": {
        "colab": {
          "base_uri": "https://localhost:8080/"
        },
        "id": "Hq3hU4es-LBd",
        "outputId": "56092587-156d-4810-c3e0-b1c73fa1cdbd"
      },
      "execution_count": null,
      "outputs": [
        {
          "output_type": "execute_result",
          "data": {
            "text/plain": [
              "[('batman', 0.8234913945198059),\n",
              " ('woman', 0.8019564747810364),\n",
              " ('hoffman', 0.791840136051178),\n",
              " ('ekman', 0.7832649350166321),\n",
              " ('kahneman', 0.7737042903900146),\n",
              " ('shaman', 0.7715458273887634),\n",
              " ('fireman', 0.7600525617599487),\n",
              " ('lehman', 0.7563652992248535),\n",
              " ('guy', 0.7433616518974304),\n",
              " ('foreman', 0.7411116361618042)]"
            ]
          },
          "metadata": {},
          "execution_count": 48
        }
      ]
    },
    {
      "cell_type": "code",
      "source": [
        "# Bert를 써야 성능이 좋아진다... ㅠㅠㅠ 이건 그냥 실습용"
      ],
      "metadata": {
        "id": "yT32s6Gw-PW0"
      },
      "execution_count": null,
      "outputs": []
    },
    {
      "cell_type": "code",
      "source": [
        "import numpy as np\n",
        "import pandas as pd\n",
        "import matplotlib.pyplot as plt\n",
        "import urllib.request\n",
        "from sklearn.model_selection import train_test_split\n",
        "from tensorflow.keras.preprocessing.text import Tokenizer\n",
        "from tensorflow.keras.preprocessing.sequence import pad_sequences"
      ],
      "metadata": {
        "id": "irgnPSdC_NmB"
      },
      "execution_count": null,
      "outputs": []
    },
    {
      "cell_type": "code",
      "source": [
        "# Ham / Spam 분류\n",
        "urllib.request.urlretrieve(\"https://raw.githubusercontent.com/ukairia777/tensorflow-nlp-tutorial/main/10.%20RNN%20Text%20Classification/dataset/spam.csv\", filename=\"spam.csv\")\n",
        "data = pd.read_csv('spam.csv', encoding='latin1')\n",
        "print('총 샘플의 수 :',len(data))"
      ],
      "metadata": {
        "colab": {
          "base_uri": "https://localhost:8080/"
        },
        "id": "KWqMILtB_OLH",
        "outputId": "8010283e-fc1c-49a0-efe8-b246e33186b2"
      },
      "execution_count": null,
      "outputs": [
        {
          "output_type": "stream",
          "name": "stdout",
          "text": [
            "총 샘플의 수 : 5572\n"
          ]
        }
      ]
    },
    {
      "cell_type": "code",
      "source": [
        "# 자연어처리의 첫 스텝: 전처리\n",
        "# 1) 공백, 특수문자 처리, 의미없는 단어 처리(불용어처리), 불편한 단어, 문장의 길이 2이하 처리, 빈도수 3이하 처리 등\n",
        "data.head()"
      ],
      "metadata": {
        "colab": {
          "base_uri": "https://localhost:8080/",
          "height": 206
        },
        "id": "YrJC8nCs_mvU",
        "outputId": "5149828f-3e4f-46c6-e222-1fe273ebfc8b"
      },
      "execution_count": null,
      "outputs": [
        {
          "output_type": "execute_result",
          "data": {
            "text/plain": [
              "     v1                                                 v2 Unnamed: 2  \\\n",
              "0   ham  Go until jurong point, crazy.. Available only ...        NaN   \n",
              "1   ham                      Ok lar... Joking wif u oni...        NaN   \n",
              "2  spam  Free entry in 2 a wkly comp to win FA Cup fina...        NaN   \n",
              "3   ham  U dun say so early hor... U c already then say...        NaN   \n",
              "4   ham  Nah I don't think he goes to usf, he lives aro...        NaN   \n",
              "\n",
              "  Unnamed: 3 Unnamed: 4  \n",
              "0        NaN        NaN  \n",
              "1        NaN        NaN  \n",
              "2        NaN        NaN  \n",
              "3        NaN        NaN  \n",
              "4        NaN        NaN  "
            ],
            "text/html": [
              "\n",
              "\n",
              "  <div id=\"df-3ee1d5e9-8784-4d40-83ff-d62f15001eec\">\n",
              "    <div class=\"colab-df-container\">\n",
              "      <div>\n",
              "<style scoped>\n",
              "    .dataframe tbody tr th:only-of-type {\n",
              "        vertical-align: middle;\n",
              "    }\n",
              "\n",
              "    .dataframe tbody tr th {\n",
              "        vertical-align: top;\n",
              "    }\n",
              "\n",
              "    .dataframe thead th {\n",
              "        text-align: right;\n",
              "    }\n",
              "</style>\n",
              "<table border=\"1\" class=\"dataframe\">\n",
              "  <thead>\n",
              "    <tr style=\"text-align: right;\">\n",
              "      <th></th>\n",
              "      <th>v1</th>\n",
              "      <th>v2</th>\n",
              "      <th>Unnamed: 2</th>\n",
              "      <th>Unnamed: 3</th>\n",
              "      <th>Unnamed: 4</th>\n",
              "    </tr>\n",
              "  </thead>\n",
              "  <tbody>\n",
              "    <tr>\n",
              "      <th>0</th>\n",
              "      <td>ham</td>\n",
              "      <td>Go until jurong point, crazy.. Available only ...</td>\n",
              "      <td>NaN</td>\n",
              "      <td>NaN</td>\n",
              "      <td>NaN</td>\n",
              "    </tr>\n",
              "    <tr>\n",
              "      <th>1</th>\n",
              "      <td>ham</td>\n",
              "      <td>Ok lar... Joking wif u oni...</td>\n",
              "      <td>NaN</td>\n",
              "      <td>NaN</td>\n",
              "      <td>NaN</td>\n",
              "    </tr>\n",
              "    <tr>\n",
              "      <th>2</th>\n",
              "      <td>spam</td>\n",
              "      <td>Free entry in 2 a wkly comp to win FA Cup fina...</td>\n",
              "      <td>NaN</td>\n",
              "      <td>NaN</td>\n",
              "      <td>NaN</td>\n",
              "    </tr>\n",
              "    <tr>\n",
              "      <th>3</th>\n",
              "      <td>ham</td>\n",
              "      <td>U dun say so early hor... U c already then say...</td>\n",
              "      <td>NaN</td>\n",
              "      <td>NaN</td>\n",
              "      <td>NaN</td>\n",
              "    </tr>\n",
              "    <tr>\n",
              "      <th>4</th>\n",
              "      <td>ham</td>\n",
              "      <td>Nah I don't think he goes to usf, he lives aro...</td>\n",
              "      <td>NaN</td>\n",
              "      <td>NaN</td>\n",
              "      <td>NaN</td>\n",
              "    </tr>\n",
              "  </tbody>\n",
              "</table>\n",
              "</div>\n",
              "      <button class=\"colab-df-convert\" onclick=\"convertToInteractive('df-3ee1d5e9-8784-4d40-83ff-d62f15001eec')\"\n",
              "              title=\"Convert this dataframe to an interactive table.\"\n",
              "              style=\"display:none;\">\n",
              "\n",
              "  <svg xmlns=\"http://www.w3.org/2000/svg\" height=\"24px\"viewBox=\"0 0 24 24\"\n",
              "       width=\"24px\">\n",
              "    <path d=\"M0 0h24v24H0V0z\" fill=\"none\"/>\n",
              "    <path d=\"M18.56 5.44l.94 2.06.94-2.06 2.06-.94-2.06-.94-.94-2.06-.94 2.06-2.06.94zm-11 1L8.5 8.5l.94-2.06 2.06-.94-2.06-.94L8.5 2.5l-.94 2.06-2.06.94zm10 10l.94 2.06.94-2.06 2.06-.94-2.06-.94-.94-2.06-.94 2.06-2.06.94z\"/><path d=\"M17.41 7.96l-1.37-1.37c-.4-.4-.92-.59-1.43-.59-.52 0-1.04.2-1.43.59L10.3 9.45l-7.72 7.72c-.78.78-.78 2.05 0 2.83L4 21.41c.39.39.9.59 1.41.59.51 0 1.02-.2 1.41-.59l7.78-7.78 2.81-2.81c.8-.78.8-2.07 0-2.86zM5.41 20L4 18.59l7.72-7.72 1.47 1.35L5.41 20z\"/>\n",
              "  </svg>\n",
              "      </button>\n",
              "\n",
              "\n",
              "\n",
              "    <div id=\"df-914d7842-fc86-4407-a257-77d241fd99fe\">\n",
              "      <button class=\"colab-df-quickchart\" onclick=\"quickchart('df-914d7842-fc86-4407-a257-77d241fd99fe')\"\n",
              "              title=\"Suggest charts.\"\n",
              "              style=\"display:none;\">\n",
              "\n",
              "<svg xmlns=\"http://www.w3.org/2000/svg\" height=\"24px\"viewBox=\"0 0 24 24\"\n",
              "     width=\"24px\">\n",
              "    <g>\n",
              "        <path d=\"M19 3H5c-1.1 0-2 .9-2 2v14c0 1.1.9 2 2 2h14c1.1 0 2-.9 2-2V5c0-1.1-.9-2-2-2zM9 17H7v-7h2v7zm4 0h-2V7h2v10zm4 0h-2v-4h2v4z\"/>\n",
              "    </g>\n",
              "</svg>\n",
              "      </button>\n",
              "    </div>\n",
              "\n",
              "<style>\n",
              "  .colab-df-quickchart {\n",
              "    background-color: #E8F0FE;\n",
              "    border: none;\n",
              "    border-radius: 50%;\n",
              "    cursor: pointer;\n",
              "    display: none;\n",
              "    fill: #1967D2;\n",
              "    height: 32px;\n",
              "    padding: 0 0 0 0;\n",
              "    width: 32px;\n",
              "  }\n",
              "\n",
              "  .colab-df-quickchart:hover {\n",
              "    background-color: #E2EBFA;\n",
              "    box-shadow: 0px 1px 2px rgba(60, 64, 67, 0.3), 0px 1px 3px 1px rgba(60, 64, 67, 0.15);\n",
              "    fill: #174EA6;\n",
              "  }\n",
              "\n",
              "  [theme=dark] .colab-df-quickchart {\n",
              "    background-color: #3B4455;\n",
              "    fill: #D2E3FC;\n",
              "  }\n",
              "\n",
              "  [theme=dark] .colab-df-quickchart:hover {\n",
              "    background-color: #434B5C;\n",
              "    box-shadow: 0px 1px 3px 1px rgba(0, 0, 0, 0.15);\n",
              "    filter: drop-shadow(0px 1px 2px rgba(0, 0, 0, 0.3));\n",
              "    fill: #FFFFFF;\n",
              "  }\n",
              "</style>\n",
              "\n",
              "    <script>\n",
              "      async function quickchart(key) {\n",
              "        const containerElement = document.querySelector('#' + key);\n",
              "        const charts = await google.colab.kernel.invokeFunction(\n",
              "            'suggestCharts', [key], {});\n",
              "      }\n",
              "    </script>\n",
              "\n",
              "      <script>\n",
              "\n",
              "function displayQuickchartButton(domScope) {\n",
              "  let quickchartButtonEl =\n",
              "    domScope.querySelector('#df-914d7842-fc86-4407-a257-77d241fd99fe button.colab-df-quickchart');\n",
              "  quickchartButtonEl.style.display =\n",
              "    google.colab.kernel.accessAllowed ? 'block' : 'none';\n",
              "}\n",
              "\n",
              "        displayQuickchartButton(document);\n",
              "      </script>\n",
              "      <style>\n",
              "    .colab-df-container {\n",
              "      display:flex;\n",
              "      flex-wrap:wrap;\n",
              "      gap: 12px;\n",
              "    }\n",
              "\n",
              "    .colab-df-convert {\n",
              "      background-color: #E8F0FE;\n",
              "      border: none;\n",
              "      border-radius: 50%;\n",
              "      cursor: pointer;\n",
              "      display: none;\n",
              "      fill: #1967D2;\n",
              "      height: 32px;\n",
              "      padding: 0 0 0 0;\n",
              "      width: 32px;\n",
              "    }\n",
              "\n",
              "    .colab-df-convert:hover {\n",
              "      background-color: #E2EBFA;\n",
              "      box-shadow: 0px 1px 2px rgba(60, 64, 67, 0.3), 0px 1px 3px 1px rgba(60, 64, 67, 0.15);\n",
              "      fill: #174EA6;\n",
              "    }\n",
              "\n",
              "    [theme=dark] .colab-df-convert {\n",
              "      background-color: #3B4455;\n",
              "      fill: #D2E3FC;\n",
              "    }\n",
              "\n",
              "    [theme=dark] .colab-df-convert:hover {\n",
              "      background-color: #434B5C;\n",
              "      box-shadow: 0px 1px 3px 1px rgba(0, 0, 0, 0.15);\n",
              "      filter: drop-shadow(0px 1px 2px rgba(0, 0, 0, 0.3));\n",
              "      fill: #FFFFFF;\n",
              "    }\n",
              "  </style>\n",
              "\n",
              "      <script>\n",
              "        const buttonEl =\n",
              "          document.querySelector('#df-3ee1d5e9-8784-4d40-83ff-d62f15001eec button.colab-df-convert');\n",
              "        buttonEl.style.display =\n",
              "          google.colab.kernel.accessAllowed ? 'block' : 'none';\n",
              "\n",
              "        async function convertToInteractive(key) {\n",
              "          const element = document.querySelector('#df-3ee1d5e9-8784-4d40-83ff-d62f15001eec');\n",
              "          const dataTable =\n",
              "            await google.colab.kernel.invokeFunction('convertToInteractive',\n",
              "                                                     [key], {});\n",
              "          if (!dataTable) return;\n",
              "\n",
              "          const docLinkHtml = 'Like what you see? Visit the ' +\n",
              "            '<a target=\"_blank\" href=https://colab.research.google.com/notebooks/data_table.ipynb>data table notebook</a>'\n",
              "            + ' to learn more about interactive tables.';\n",
              "          element.innerHTML = '';\n",
              "          dataTable['output_type'] = 'display_data';\n",
              "          await google.colab.output.renderOutput(dataTable, element);\n",
              "          const docLink = document.createElement('div');\n",
              "          docLink.innerHTML = docLinkHtml;\n",
              "          element.appendChild(docLink);\n",
              "        }\n",
              "      </script>\n",
              "    </div>\n",
              "  </div>\n"
            ]
          },
          "metadata": {},
          "execution_count": 52
        }
      ]
    },
    {
      "cell_type": "code",
      "source": [
        "data = data.iloc[:,:2]"
      ],
      "metadata": {
        "id": "xLjJFWaTIyi-"
      },
      "execution_count": null,
      "outputs": []
    },
    {
      "cell_type": "code",
      "source": [
        "data.head()"
      ],
      "metadata": {
        "colab": {
          "base_uri": "https://localhost:8080/",
          "height": 206
        },
        "id": "kuoQMyfuI2ac",
        "outputId": "3e32fe37-c057-41f9-cbf2-68c71c87c96a"
      },
      "execution_count": null,
      "outputs": [
        {
          "output_type": "execute_result",
          "data": {
            "text/plain": [
              "     v1                                                 v2\n",
              "0   ham  Go until jurong point, crazy.. Available only ...\n",
              "1   ham                      Ok lar... Joking wif u oni...\n",
              "2  spam  Free entry in 2 a wkly comp to win FA Cup fina...\n",
              "3   ham  U dun say so early hor... U c already then say...\n",
              "4   ham  Nah I don't think he goes to usf, he lives aro..."
            ],
            "text/html": [
              "\n",
              "\n",
              "  <div id=\"df-8fd8b20b-4aab-4766-a759-169fbc0cb733\">\n",
              "    <div class=\"colab-df-container\">\n",
              "      <div>\n",
              "<style scoped>\n",
              "    .dataframe tbody tr th:only-of-type {\n",
              "        vertical-align: middle;\n",
              "    }\n",
              "\n",
              "    .dataframe tbody tr th {\n",
              "        vertical-align: top;\n",
              "    }\n",
              "\n",
              "    .dataframe thead th {\n",
              "        text-align: right;\n",
              "    }\n",
              "</style>\n",
              "<table border=\"1\" class=\"dataframe\">\n",
              "  <thead>\n",
              "    <tr style=\"text-align: right;\">\n",
              "      <th></th>\n",
              "      <th>v1</th>\n",
              "      <th>v2</th>\n",
              "    </tr>\n",
              "  </thead>\n",
              "  <tbody>\n",
              "    <tr>\n",
              "      <th>0</th>\n",
              "      <td>ham</td>\n",
              "      <td>Go until jurong point, crazy.. Available only ...</td>\n",
              "    </tr>\n",
              "    <tr>\n",
              "      <th>1</th>\n",
              "      <td>ham</td>\n",
              "      <td>Ok lar... Joking wif u oni...</td>\n",
              "    </tr>\n",
              "    <tr>\n",
              "      <th>2</th>\n",
              "      <td>spam</td>\n",
              "      <td>Free entry in 2 a wkly comp to win FA Cup fina...</td>\n",
              "    </tr>\n",
              "    <tr>\n",
              "      <th>3</th>\n",
              "      <td>ham</td>\n",
              "      <td>U dun say so early hor... U c already then say...</td>\n",
              "    </tr>\n",
              "    <tr>\n",
              "      <th>4</th>\n",
              "      <td>ham</td>\n",
              "      <td>Nah I don't think he goes to usf, he lives aro...</td>\n",
              "    </tr>\n",
              "  </tbody>\n",
              "</table>\n",
              "</div>\n",
              "      <button class=\"colab-df-convert\" onclick=\"convertToInteractive('df-8fd8b20b-4aab-4766-a759-169fbc0cb733')\"\n",
              "              title=\"Convert this dataframe to an interactive table.\"\n",
              "              style=\"display:none;\">\n",
              "\n",
              "  <svg xmlns=\"http://www.w3.org/2000/svg\" height=\"24px\"viewBox=\"0 0 24 24\"\n",
              "       width=\"24px\">\n",
              "    <path d=\"M0 0h24v24H0V0z\" fill=\"none\"/>\n",
              "    <path d=\"M18.56 5.44l.94 2.06.94-2.06 2.06-.94-2.06-.94-.94-2.06-.94 2.06-2.06.94zm-11 1L8.5 8.5l.94-2.06 2.06-.94-2.06-.94L8.5 2.5l-.94 2.06-2.06.94zm10 10l.94 2.06.94-2.06 2.06-.94-2.06-.94-.94-2.06-.94 2.06-2.06.94z\"/><path d=\"M17.41 7.96l-1.37-1.37c-.4-.4-.92-.59-1.43-.59-.52 0-1.04.2-1.43.59L10.3 9.45l-7.72 7.72c-.78.78-.78 2.05 0 2.83L4 21.41c.39.39.9.59 1.41.59.51 0 1.02-.2 1.41-.59l7.78-7.78 2.81-2.81c.8-.78.8-2.07 0-2.86zM5.41 20L4 18.59l7.72-7.72 1.47 1.35L5.41 20z\"/>\n",
              "  </svg>\n",
              "      </button>\n",
              "\n",
              "\n",
              "\n",
              "    <div id=\"df-a7fc2f2f-c3a6-4def-a8c5-11bfe8ef5bba\">\n",
              "      <button class=\"colab-df-quickchart\" onclick=\"quickchart('df-a7fc2f2f-c3a6-4def-a8c5-11bfe8ef5bba')\"\n",
              "              title=\"Suggest charts.\"\n",
              "              style=\"display:none;\">\n",
              "\n",
              "<svg xmlns=\"http://www.w3.org/2000/svg\" height=\"24px\"viewBox=\"0 0 24 24\"\n",
              "     width=\"24px\">\n",
              "    <g>\n",
              "        <path d=\"M19 3H5c-1.1 0-2 .9-2 2v14c0 1.1.9 2 2 2h14c1.1 0 2-.9 2-2V5c0-1.1-.9-2-2-2zM9 17H7v-7h2v7zm4 0h-2V7h2v10zm4 0h-2v-4h2v4z\"/>\n",
              "    </g>\n",
              "</svg>\n",
              "      </button>\n",
              "    </div>\n",
              "\n",
              "<style>\n",
              "  .colab-df-quickchart {\n",
              "    background-color: #E8F0FE;\n",
              "    border: none;\n",
              "    border-radius: 50%;\n",
              "    cursor: pointer;\n",
              "    display: none;\n",
              "    fill: #1967D2;\n",
              "    height: 32px;\n",
              "    padding: 0 0 0 0;\n",
              "    width: 32px;\n",
              "  }\n",
              "\n",
              "  .colab-df-quickchart:hover {\n",
              "    background-color: #E2EBFA;\n",
              "    box-shadow: 0px 1px 2px rgba(60, 64, 67, 0.3), 0px 1px 3px 1px rgba(60, 64, 67, 0.15);\n",
              "    fill: #174EA6;\n",
              "  }\n",
              "\n",
              "  [theme=dark] .colab-df-quickchart {\n",
              "    background-color: #3B4455;\n",
              "    fill: #D2E3FC;\n",
              "  }\n",
              "\n",
              "  [theme=dark] .colab-df-quickchart:hover {\n",
              "    background-color: #434B5C;\n",
              "    box-shadow: 0px 1px 3px 1px rgba(0, 0, 0, 0.15);\n",
              "    filter: drop-shadow(0px 1px 2px rgba(0, 0, 0, 0.3));\n",
              "    fill: #FFFFFF;\n",
              "  }\n",
              "</style>\n",
              "\n",
              "    <script>\n",
              "      async function quickchart(key) {\n",
              "        const containerElement = document.querySelector('#' + key);\n",
              "        const charts = await google.colab.kernel.invokeFunction(\n",
              "            'suggestCharts', [key], {});\n",
              "      }\n",
              "    </script>\n",
              "\n",
              "      <script>\n",
              "\n",
              "function displayQuickchartButton(domScope) {\n",
              "  let quickchartButtonEl =\n",
              "    domScope.querySelector('#df-a7fc2f2f-c3a6-4def-a8c5-11bfe8ef5bba button.colab-df-quickchart');\n",
              "  quickchartButtonEl.style.display =\n",
              "    google.colab.kernel.accessAllowed ? 'block' : 'none';\n",
              "}\n",
              "\n",
              "        displayQuickchartButton(document);\n",
              "      </script>\n",
              "      <style>\n",
              "    .colab-df-container {\n",
              "      display:flex;\n",
              "      flex-wrap:wrap;\n",
              "      gap: 12px;\n",
              "    }\n",
              "\n",
              "    .colab-df-convert {\n",
              "      background-color: #E8F0FE;\n",
              "      border: none;\n",
              "      border-radius: 50%;\n",
              "      cursor: pointer;\n",
              "      display: none;\n",
              "      fill: #1967D2;\n",
              "      height: 32px;\n",
              "      padding: 0 0 0 0;\n",
              "      width: 32px;\n",
              "    }\n",
              "\n",
              "    .colab-df-convert:hover {\n",
              "      background-color: #E2EBFA;\n",
              "      box-shadow: 0px 1px 2px rgba(60, 64, 67, 0.3), 0px 1px 3px 1px rgba(60, 64, 67, 0.15);\n",
              "      fill: #174EA6;\n",
              "    }\n",
              "\n",
              "    [theme=dark] .colab-df-convert {\n",
              "      background-color: #3B4455;\n",
              "      fill: #D2E3FC;\n",
              "    }\n",
              "\n",
              "    [theme=dark] .colab-df-convert:hover {\n",
              "      background-color: #434B5C;\n",
              "      box-shadow: 0px 1px 3px 1px rgba(0, 0, 0, 0.15);\n",
              "      filter: drop-shadow(0px 1px 2px rgba(0, 0, 0, 0.3));\n",
              "      fill: #FFFFFF;\n",
              "    }\n",
              "  </style>\n",
              "\n",
              "      <script>\n",
              "        const buttonEl =\n",
              "          document.querySelector('#df-8fd8b20b-4aab-4766-a759-169fbc0cb733 button.colab-df-convert');\n",
              "        buttonEl.style.display =\n",
              "          google.colab.kernel.accessAllowed ? 'block' : 'none';\n",
              "\n",
              "        async function convertToInteractive(key) {\n",
              "          const element = document.querySelector('#df-8fd8b20b-4aab-4766-a759-169fbc0cb733');\n",
              "          const dataTable =\n",
              "            await google.colab.kernel.invokeFunction('convertToInteractive',\n",
              "                                                     [key], {});\n",
              "          if (!dataTable) return;\n",
              "\n",
              "          const docLinkHtml = 'Like what you see? Visit the ' +\n",
              "            '<a target=\"_blank\" href=https://colab.research.google.com/notebooks/data_table.ipynb>data table notebook</a>'\n",
              "            + ' to learn more about interactive tables.';\n",
              "          element.innerHTML = '';\n",
              "          dataTable['output_type'] = 'display_data';\n",
              "          await google.colab.output.renderOutput(dataTable, element);\n",
              "          const docLink = document.createElement('div');\n",
              "          docLink.innerHTML = docLinkHtml;\n",
              "          element.appendChild(docLink);\n",
              "        }\n",
              "      </script>\n",
              "    </div>\n",
              "  </div>\n"
            ]
          },
          "metadata": {},
          "execution_count": 59
        }
      ]
    },
    {
      "cell_type": "code",
      "source": [
        "# ham = 0, spam = 1로 변경\n",
        "data.v1.replace(['ham', 'spam'], [0, 1], inplace=True)\n",
        "data.head()"
      ],
      "metadata": {
        "colab": {
          "base_uri": "https://localhost:8080/",
          "height": 297
        },
        "id": "A7A_w_EKI-rB",
        "outputId": "acebb44f-aa44-4163-d85c-89540320f502"
      },
      "execution_count": null,
      "outputs": [
        {
          "output_type": "stream",
          "name": "stderr",
          "text": [
            "<ipython-input-61-a2888ecd09ca>:2: SettingWithCopyWarning: \n",
            "A value is trying to be set on a copy of a slice from a DataFrame\n",
            "\n",
            "See the caveats in the documentation: https://pandas.pydata.org/pandas-docs/stable/user_guide/indexing.html#returning-a-view-versus-a-copy\n",
            "  data.v1.replace(['ham', 'spam'], [0, 1], inplace=True)\n"
          ]
        },
        {
          "output_type": "execute_result",
          "data": {
            "text/plain": [
              "   v1                                                 v2\n",
              "0   0  Go until jurong point, crazy.. Available only ...\n",
              "1   0                      Ok lar... Joking wif u oni...\n",
              "2   1  Free entry in 2 a wkly comp to win FA Cup fina...\n",
              "3   0  U dun say so early hor... U c already then say...\n",
              "4   0  Nah I don't think he goes to usf, he lives aro..."
            ],
            "text/html": [
              "\n",
              "\n",
              "  <div id=\"df-d1a0c01e-c571-47d0-a4bb-27fc4158ac43\">\n",
              "    <div class=\"colab-df-container\">\n",
              "      <div>\n",
              "<style scoped>\n",
              "    .dataframe tbody tr th:only-of-type {\n",
              "        vertical-align: middle;\n",
              "    }\n",
              "\n",
              "    .dataframe tbody tr th {\n",
              "        vertical-align: top;\n",
              "    }\n",
              "\n",
              "    .dataframe thead th {\n",
              "        text-align: right;\n",
              "    }\n",
              "</style>\n",
              "<table border=\"1\" class=\"dataframe\">\n",
              "  <thead>\n",
              "    <tr style=\"text-align: right;\">\n",
              "      <th></th>\n",
              "      <th>v1</th>\n",
              "      <th>v2</th>\n",
              "    </tr>\n",
              "  </thead>\n",
              "  <tbody>\n",
              "    <tr>\n",
              "      <th>0</th>\n",
              "      <td>0</td>\n",
              "      <td>Go until jurong point, crazy.. Available only ...</td>\n",
              "    </tr>\n",
              "    <tr>\n",
              "      <th>1</th>\n",
              "      <td>0</td>\n",
              "      <td>Ok lar... Joking wif u oni...</td>\n",
              "    </tr>\n",
              "    <tr>\n",
              "      <th>2</th>\n",
              "      <td>1</td>\n",
              "      <td>Free entry in 2 a wkly comp to win FA Cup fina...</td>\n",
              "    </tr>\n",
              "    <tr>\n",
              "      <th>3</th>\n",
              "      <td>0</td>\n",
              "      <td>U dun say so early hor... U c already then say...</td>\n",
              "    </tr>\n",
              "    <tr>\n",
              "      <th>4</th>\n",
              "      <td>0</td>\n",
              "      <td>Nah I don't think he goes to usf, he lives aro...</td>\n",
              "    </tr>\n",
              "  </tbody>\n",
              "</table>\n",
              "</div>\n",
              "      <button class=\"colab-df-convert\" onclick=\"convertToInteractive('df-d1a0c01e-c571-47d0-a4bb-27fc4158ac43')\"\n",
              "              title=\"Convert this dataframe to an interactive table.\"\n",
              "              style=\"display:none;\">\n",
              "\n",
              "  <svg xmlns=\"http://www.w3.org/2000/svg\" height=\"24px\"viewBox=\"0 0 24 24\"\n",
              "       width=\"24px\">\n",
              "    <path d=\"M0 0h24v24H0V0z\" fill=\"none\"/>\n",
              "    <path d=\"M18.56 5.44l.94 2.06.94-2.06 2.06-.94-2.06-.94-.94-2.06-.94 2.06-2.06.94zm-11 1L8.5 8.5l.94-2.06 2.06-.94-2.06-.94L8.5 2.5l-.94 2.06-2.06.94zm10 10l.94 2.06.94-2.06 2.06-.94-2.06-.94-.94-2.06-.94 2.06-2.06.94z\"/><path d=\"M17.41 7.96l-1.37-1.37c-.4-.4-.92-.59-1.43-.59-.52 0-1.04.2-1.43.59L10.3 9.45l-7.72 7.72c-.78.78-.78 2.05 0 2.83L4 21.41c.39.39.9.59 1.41.59.51 0 1.02-.2 1.41-.59l7.78-7.78 2.81-2.81c.8-.78.8-2.07 0-2.86zM5.41 20L4 18.59l7.72-7.72 1.47 1.35L5.41 20z\"/>\n",
              "  </svg>\n",
              "      </button>\n",
              "\n",
              "\n",
              "\n",
              "    <div id=\"df-fa452530-5bcc-4a86-a24c-926e8bb732d2\">\n",
              "      <button class=\"colab-df-quickchart\" onclick=\"quickchart('df-fa452530-5bcc-4a86-a24c-926e8bb732d2')\"\n",
              "              title=\"Suggest charts.\"\n",
              "              style=\"display:none;\">\n",
              "\n",
              "<svg xmlns=\"http://www.w3.org/2000/svg\" height=\"24px\"viewBox=\"0 0 24 24\"\n",
              "     width=\"24px\">\n",
              "    <g>\n",
              "        <path d=\"M19 3H5c-1.1 0-2 .9-2 2v14c0 1.1.9 2 2 2h14c1.1 0 2-.9 2-2V5c0-1.1-.9-2-2-2zM9 17H7v-7h2v7zm4 0h-2V7h2v10zm4 0h-2v-4h2v4z\"/>\n",
              "    </g>\n",
              "</svg>\n",
              "      </button>\n",
              "    </div>\n",
              "\n",
              "<style>\n",
              "  .colab-df-quickchart {\n",
              "    background-color: #E8F0FE;\n",
              "    border: none;\n",
              "    border-radius: 50%;\n",
              "    cursor: pointer;\n",
              "    display: none;\n",
              "    fill: #1967D2;\n",
              "    height: 32px;\n",
              "    padding: 0 0 0 0;\n",
              "    width: 32px;\n",
              "  }\n",
              "\n",
              "  .colab-df-quickchart:hover {\n",
              "    background-color: #E2EBFA;\n",
              "    box-shadow: 0px 1px 2px rgba(60, 64, 67, 0.3), 0px 1px 3px 1px rgba(60, 64, 67, 0.15);\n",
              "    fill: #174EA6;\n",
              "  }\n",
              "\n",
              "  [theme=dark] .colab-df-quickchart {\n",
              "    background-color: #3B4455;\n",
              "    fill: #D2E3FC;\n",
              "  }\n",
              "\n",
              "  [theme=dark] .colab-df-quickchart:hover {\n",
              "    background-color: #434B5C;\n",
              "    box-shadow: 0px 1px 3px 1px rgba(0, 0, 0, 0.15);\n",
              "    filter: drop-shadow(0px 1px 2px rgba(0, 0, 0, 0.3));\n",
              "    fill: #FFFFFF;\n",
              "  }\n",
              "</style>\n",
              "\n",
              "    <script>\n",
              "      async function quickchart(key) {\n",
              "        const containerElement = document.querySelector('#' + key);\n",
              "        const charts = await google.colab.kernel.invokeFunction(\n",
              "            'suggestCharts', [key], {});\n",
              "      }\n",
              "    </script>\n",
              "\n",
              "      <script>\n",
              "\n",
              "function displayQuickchartButton(domScope) {\n",
              "  let quickchartButtonEl =\n",
              "    domScope.querySelector('#df-fa452530-5bcc-4a86-a24c-926e8bb732d2 button.colab-df-quickchart');\n",
              "  quickchartButtonEl.style.display =\n",
              "    google.colab.kernel.accessAllowed ? 'block' : 'none';\n",
              "}\n",
              "\n",
              "        displayQuickchartButton(document);\n",
              "      </script>\n",
              "      <style>\n",
              "    .colab-df-container {\n",
              "      display:flex;\n",
              "      flex-wrap:wrap;\n",
              "      gap: 12px;\n",
              "    }\n",
              "\n",
              "    .colab-df-convert {\n",
              "      background-color: #E8F0FE;\n",
              "      border: none;\n",
              "      border-radius: 50%;\n",
              "      cursor: pointer;\n",
              "      display: none;\n",
              "      fill: #1967D2;\n",
              "      height: 32px;\n",
              "      padding: 0 0 0 0;\n",
              "      width: 32px;\n",
              "    }\n",
              "\n",
              "    .colab-df-convert:hover {\n",
              "      background-color: #E2EBFA;\n",
              "      box-shadow: 0px 1px 2px rgba(60, 64, 67, 0.3), 0px 1px 3px 1px rgba(60, 64, 67, 0.15);\n",
              "      fill: #174EA6;\n",
              "    }\n",
              "\n",
              "    [theme=dark] .colab-df-convert {\n",
              "      background-color: #3B4455;\n",
              "      fill: #D2E3FC;\n",
              "    }\n",
              "\n",
              "    [theme=dark] .colab-df-convert:hover {\n",
              "      background-color: #434B5C;\n",
              "      box-shadow: 0px 1px 3px 1px rgba(0, 0, 0, 0.15);\n",
              "      filter: drop-shadow(0px 1px 2px rgba(0, 0, 0, 0.3));\n",
              "      fill: #FFFFFF;\n",
              "    }\n",
              "  </style>\n",
              "\n",
              "      <script>\n",
              "        const buttonEl =\n",
              "          document.querySelector('#df-d1a0c01e-c571-47d0-a4bb-27fc4158ac43 button.colab-df-convert');\n",
              "        buttonEl.style.display =\n",
              "          google.colab.kernel.accessAllowed ? 'block' : 'none';\n",
              "\n",
              "        async function convertToInteractive(key) {\n",
              "          const element = document.querySelector('#df-d1a0c01e-c571-47d0-a4bb-27fc4158ac43');\n",
              "          const dataTable =\n",
              "            await google.colab.kernel.invokeFunction('convertToInteractive',\n",
              "                                                     [key], {});\n",
              "          if (!dataTable) return;\n",
              "\n",
              "          const docLinkHtml = 'Like what you see? Visit the ' +\n",
              "            '<a target=\"_blank\" href=https://colab.research.google.com/notebooks/data_table.ipynb>data table notebook</a>'\n",
              "            + ' to learn more about interactive tables.';\n",
              "          element.innerHTML = '';\n",
              "          dataTable['output_type'] = 'display_data';\n",
              "          await google.colab.output.renderOutput(dataTable, element);\n",
              "          const docLink = document.createElement('div');\n",
              "          docLink.innerHTML = docLinkHtml;\n",
              "          element.appendChild(docLink);\n",
              "        }\n",
              "      </script>\n",
              "    </div>\n",
              "  </div>\n"
            ]
          },
          "metadata": {},
          "execution_count": 61
        }
      ]
    },
    {
      "cell_type": "code",
      "source": [
        "data.columns = ['label', 'title']\n",
        "data.head()"
      ],
      "metadata": {
        "colab": {
          "base_uri": "https://localhost:8080/",
          "height": 206
        },
        "id": "gCVlor16JcbA",
        "outputId": "905dd093-f31e-4603-d141-33ef1a9f3605"
      },
      "execution_count": null,
      "outputs": [
        {
          "output_type": "execute_result",
          "data": {
            "text/plain": [
              "   label                                              title\n",
              "0      0  Go until jurong point, crazy.. Available only ...\n",
              "1      0                      Ok lar... Joking wif u oni...\n",
              "2      1  Free entry in 2 a wkly comp to win FA Cup fina...\n",
              "3      0  U dun say so early hor... U c already then say...\n",
              "4      0  Nah I don't think he goes to usf, he lives aro..."
            ],
            "text/html": [
              "\n",
              "\n",
              "  <div id=\"df-04080884-8ea7-498a-9009-b9c786f1a7cc\">\n",
              "    <div class=\"colab-df-container\">\n",
              "      <div>\n",
              "<style scoped>\n",
              "    .dataframe tbody tr th:only-of-type {\n",
              "        vertical-align: middle;\n",
              "    }\n",
              "\n",
              "    .dataframe tbody tr th {\n",
              "        vertical-align: top;\n",
              "    }\n",
              "\n",
              "    .dataframe thead th {\n",
              "        text-align: right;\n",
              "    }\n",
              "</style>\n",
              "<table border=\"1\" class=\"dataframe\">\n",
              "  <thead>\n",
              "    <tr style=\"text-align: right;\">\n",
              "      <th></th>\n",
              "      <th>label</th>\n",
              "      <th>title</th>\n",
              "    </tr>\n",
              "  </thead>\n",
              "  <tbody>\n",
              "    <tr>\n",
              "      <th>0</th>\n",
              "      <td>0</td>\n",
              "      <td>Go until jurong point, crazy.. Available only ...</td>\n",
              "    </tr>\n",
              "    <tr>\n",
              "      <th>1</th>\n",
              "      <td>0</td>\n",
              "      <td>Ok lar... Joking wif u oni...</td>\n",
              "    </tr>\n",
              "    <tr>\n",
              "      <th>2</th>\n",
              "      <td>1</td>\n",
              "      <td>Free entry in 2 a wkly comp to win FA Cup fina...</td>\n",
              "    </tr>\n",
              "    <tr>\n",
              "      <th>3</th>\n",
              "      <td>0</td>\n",
              "      <td>U dun say so early hor... U c already then say...</td>\n",
              "    </tr>\n",
              "    <tr>\n",
              "      <th>4</th>\n",
              "      <td>0</td>\n",
              "      <td>Nah I don't think he goes to usf, he lives aro...</td>\n",
              "    </tr>\n",
              "  </tbody>\n",
              "</table>\n",
              "</div>\n",
              "      <button class=\"colab-df-convert\" onclick=\"convertToInteractive('df-04080884-8ea7-498a-9009-b9c786f1a7cc')\"\n",
              "              title=\"Convert this dataframe to an interactive table.\"\n",
              "              style=\"display:none;\">\n",
              "\n",
              "  <svg xmlns=\"http://www.w3.org/2000/svg\" height=\"24px\"viewBox=\"0 0 24 24\"\n",
              "       width=\"24px\">\n",
              "    <path d=\"M0 0h24v24H0V0z\" fill=\"none\"/>\n",
              "    <path d=\"M18.56 5.44l.94 2.06.94-2.06 2.06-.94-2.06-.94-.94-2.06-.94 2.06-2.06.94zm-11 1L8.5 8.5l.94-2.06 2.06-.94-2.06-.94L8.5 2.5l-.94 2.06-2.06.94zm10 10l.94 2.06.94-2.06 2.06-.94-2.06-.94-.94-2.06-.94 2.06-2.06.94z\"/><path d=\"M17.41 7.96l-1.37-1.37c-.4-.4-.92-.59-1.43-.59-.52 0-1.04.2-1.43.59L10.3 9.45l-7.72 7.72c-.78.78-.78 2.05 0 2.83L4 21.41c.39.39.9.59 1.41.59.51 0 1.02-.2 1.41-.59l7.78-7.78 2.81-2.81c.8-.78.8-2.07 0-2.86zM5.41 20L4 18.59l7.72-7.72 1.47 1.35L5.41 20z\"/>\n",
              "  </svg>\n",
              "      </button>\n",
              "\n",
              "\n",
              "\n",
              "    <div id=\"df-451a4c30-6b6e-4ec1-9bbc-4f59de51070d\">\n",
              "      <button class=\"colab-df-quickchart\" onclick=\"quickchart('df-451a4c30-6b6e-4ec1-9bbc-4f59de51070d')\"\n",
              "              title=\"Suggest charts.\"\n",
              "              style=\"display:none;\">\n",
              "\n",
              "<svg xmlns=\"http://www.w3.org/2000/svg\" height=\"24px\"viewBox=\"0 0 24 24\"\n",
              "     width=\"24px\">\n",
              "    <g>\n",
              "        <path d=\"M19 3H5c-1.1 0-2 .9-2 2v14c0 1.1.9 2 2 2h14c1.1 0 2-.9 2-2V5c0-1.1-.9-2-2-2zM9 17H7v-7h2v7zm4 0h-2V7h2v10zm4 0h-2v-4h2v4z\"/>\n",
              "    </g>\n",
              "</svg>\n",
              "      </button>\n",
              "    </div>\n",
              "\n",
              "<style>\n",
              "  .colab-df-quickchart {\n",
              "    background-color: #E8F0FE;\n",
              "    border: none;\n",
              "    border-radius: 50%;\n",
              "    cursor: pointer;\n",
              "    display: none;\n",
              "    fill: #1967D2;\n",
              "    height: 32px;\n",
              "    padding: 0 0 0 0;\n",
              "    width: 32px;\n",
              "  }\n",
              "\n",
              "  .colab-df-quickchart:hover {\n",
              "    background-color: #E2EBFA;\n",
              "    box-shadow: 0px 1px 2px rgba(60, 64, 67, 0.3), 0px 1px 3px 1px rgba(60, 64, 67, 0.15);\n",
              "    fill: #174EA6;\n",
              "  }\n",
              "\n",
              "  [theme=dark] .colab-df-quickchart {\n",
              "    background-color: #3B4455;\n",
              "    fill: #D2E3FC;\n",
              "  }\n",
              "\n",
              "  [theme=dark] .colab-df-quickchart:hover {\n",
              "    background-color: #434B5C;\n",
              "    box-shadow: 0px 1px 3px 1px rgba(0, 0, 0, 0.15);\n",
              "    filter: drop-shadow(0px 1px 2px rgba(0, 0, 0, 0.3));\n",
              "    fill: #FFFFFF;\n",
              "  }\n",
              "</style>\n",
              "\n",
              "    <script>\n",
              "      async function quickchart(key) {\n",
              "        const containerElement = document.querySelector('#' + key);\n",
              "        const charts = await google.colab.kernel.invokeFunction(\n",
              "            'suggestCharts', [key], {});\n",
              "      }\n",
              "    </script>\n",
              "\n",
              "      <script>\n",
              "\n",
              "function displayQuickchartButton(domScope) {\n",
              "  let quickchartButtonEl =\n",
              "    domScope.querySelector('#df-451a4c30-6b6e-4ec1-9bbc-4f59de51070d button.colab-df-quickchart');\n",
              "  quickchartButtonEl.style.display =\n",
              "    google.colab.kernel.accessAllowed ? 'block' : 'none';\n",
              "}\n",
              "\n",
              "        displayQuickchartButton(document);\n",
              "      </script>\n",
              "      <style>\n",
              "    .colab-df-container {\n",
              "      display:flex;\n",
              "      flex-wrap:wrap;\n",
              "      gap: 12px;\n",
              "    }\n",
              "\n",
              "    .colab-df-convert {\n",
              "      background-color: #E8F0FE;\n",
              "      border: none;\n",
              "      border-radius: 50%;\n",
              "      cursor: pointer;\n",
              "      display: none;\n",
              "      fill: #1967D2;\n",
              "      height: 32px;\n",
              "      padding: 0 0 0 0;\n",
              "      width: 32px;\n",
              "    }\n",
              "\n",
              "    .colab-df-convert:hover {\n",
              "      background-color: #E2EBFA;\n",
              "      box-shadow: 0px 1px 2px rgba(60, 64, 67, 0.3), 0px 1px 3px 1px rgba(60, 64, 67, 0.15);\n",
              "      fill: #174EA6;\n",
              "    }\n",
              "\n",
              "    [theme=dark] .colab-df-convert {\n",
              "      background-color: #3B4455;\n",
              "      fill: #D2E3FC;\n",
              "    }\n",
              "\n",
              "    [theme=dark] .colab-df-convert:hover {\n",
              "      background-color: #434B5C;\n",
              "      box-shadow: 0px 1px 3px 1px rgba(0, 0, 0, 0.15);\n",
              "      filter: drop-shadow(0px 1px 2px rgba(0, 0, 0, 0.3));\n",
              "      fill: #FFFFFF;\n",
              "    }\n",
              "  </style>\n",
              "\n",
              "      <script>\n",
              "        const buttonEl =\n",
              "          document.querySelector('#df-04080884-8ea7-498a-9009-b9c786f1a7cc button.colab-df-convert');\n",
              "        buttonEl.style.display =\n",
              "          google.colab.kernel.accessAllowed ? 'block' : 'none';\n",
              "\n",
              "        async function convertToInteractive(key) {\n",
              "          const element = document.querySelector('#df-04080884-8ea7-498a-9009-b9c786f1a7cc');\n",
              "          const dataTable =\n",
              "            await google.colab.kernel.invokeFunction('convertToInteractive',\n",
              "                                                     [key], {});\n",
              "          if (!dataTable) return;\n",
              "\n",
              "          const docLinkHtml = 'Like what you see? Visit the ' +\n",
              "            '<a target=\"_blank\" href=https://colab.research.google.com/notebooks/data_table.ipynb>data table notebook</a>'\n",
              "            + ' to learn more about interactive tables.';\n",
              "          element.innerHTML = '';\n",
              "          dataTable['output_type'] = 'display_data';\n",
              "          await google.colab.output.renderOutput(dataTable, element);\n",
              "          const docLink = document.createElement('div');\n",
              "          docLink.innerHTML = docLinkHtml;\n",
              "          element.appendChild(docLink);\n",
              "        }\n",
              "      </script>\n",
              "    </div>\n",
              "  </div>\n"
            ]
          },
          "metadata": {},
          "execution_count": 62
        }
      ]
    },
    {
      "cell_type": "code",
      "source": [
        "data.describe()"
      ],
      "metadata": {
        "colab": {
          "base_uri": "https://localhost:8080/",
          "height": 300
        },
        "id": "V8jMPs8pJsbH",
        "outputId": "2ae50f19-4481-4358-a450-6c4fb4b1a17b"
      },
      "execution_count": null,
      "outputs": [
        {
          "output_type": "execute_result",
          "data": {
            "text/plain": [
              "             label\n",
              "count  5572.000000\n",
              "mean      0.134063\n",
              "std       0.340751\n",
              "min       0.000000\n",
              "25%       0.000000\n",
              "50%       0.000000\n",
              "75%       0.000000\n",
              "max       1.000000"
            ],
            "text/html": [
              "\n",
              "\n",
              "  <div id=\"df-c7534204-429f-45a1-be7a-abb396b1b801\">\n",
              "    <div class=\"colab-df-container\">\n",
              "      <div>\n",
              "<style scoped>\n",
              "    .dataframe tbody tr th:only-of-type {\n",
              "        vertical-align: middle;\n",
              "    }\n",
              "\n",
              "    .dataframe tbody tr th {\n",
              "        vertical-align: top;\n",
              "    }\n",
              "\n",
              "    .dataframe thead th {\n",
              "        text-align: right;\n",
              "    }\n",
              "</style>\n",
              "<table border=\"1\" class=\"dataframe\">\n",
              "  <thead>\n",
              "    <tr style=\"text-align: right;\">\n",
              "      <th></th>\n",
              "      <th>label</th>\n",
              "    </tr>\n",
              "  </thead>\n",
              "  <tbody>\n",
              "    <tr>\n",
              "      <th>count</th>\n",
              "      <td>5572.000000</td>\n",
              "    </tr>\n",
              "    <tr>\n",
              "      <th>mean</th>\n",
              "      <td>0.134063</td>\n",
              "    </tr>\n",
              "    <tr>\n",
              "      <th>std</th>\n",
              "      <td>0.340751</td>\n",
              "    </tr>\n",
              "    <tr>\n",
              "      <th>min</th>\n",
              "      <td>0.000000</td>\n",
              "    </tr>\n",
              "    <tr>\n",
              "      <th>25%</th>\n",
              "      <td>0.000000</td>\n",
              "    </tr>\n",
              "    <tr>\n",
              "      <th>50%</th>\n",
              "      <td>0.000000</td>\n",
              "    </tr>\n",
              "    <tr>\n",
              "      <th>75%</th>\n",
              "      <td>0.000000</td>\n",
              "    </tr>\n",
              "    <tr>\n",
              "      <th>max</th>\n",
              "      <td>1.000000</td>\n",
              "    </tr>\n",
              "  </tbody>\n",
              "</table>\n",
              "</div>\n",
              "      <button class=\"colab-df-convert\" onclick=\"convertToInteractive('df-c7534204-429f-45a1-be7a-abb396b1b801')\"\n",
              "              title=\"Convert this dataframe to an interactive table.\"\n",
              "              style=\"display:none;\">\n",
              "\n",
              "  <svg xmlns=\"http://www.w3.org/2000/svg\" height=\"24px\"viewBox=\"0 0 24 24\"\n",
              "       width=\"24px\">\n",
              "    <path d=\"M0 0h24v24H0V0z\" fill=\"none\"/>\n",
              "    <path d=\"M18.56 5.44l.94 2.06.94-2.06 2.06-.94-2.06-.94-.94-2.06-.94 2.06-2.06.94zm-11 1L8.5 8.5l.94-2.06 2.06-.94-2.06-.94L8.5 2.5l-.94 2.06-2.06.94zm10 10l.94 2.06.94-2.06 2.06-.94-2.06-.94-.94-2.06-.94 2.06-2.06.94z\"/><path d=\"M17.41 7.96l-1.37-1.37c-.4-.4-.92-.59-1.43-.59-.52 0-1.04.2-1.43.59L10.3 9.45l-7.72 7.72c-.78.78-.78 2.05 0 2.83L4 21.41c.39.39.9.59 1.41.59.51 0 1.02-.2 1.41-.59l7.78-7.78 2.81-2.81c.8-.78.8-2.07 0-2.86zM5.41 20L4 18.59l7.72-7.72 1.47 1.35L5.41 20z\"/>\n",
              "  </svg>\n",
              "      </button>\n",
              "\n",
              "\n",
              "\n",
              "    <div id=\"df-0d15ce05-94f6-444a-88d6-d52b0fb97735\">\n",
              "      <button class=\"colab-df-quickchart\" onclick=\"quickchart('df-0d15ce05-94f6-444a-88d6-d52b0fb97735')\"\n",
              "              title=\"Suggest charts.\"\n",
              "              style=\"display:none;\">\n",
              "\n",
              "<svg xmlns=\"http://www.w3.org/2000/svg\" height=\"24px\"viewBox=\"0 0 24 24\"\n",
              "     width=\"24px\">\n",
              "    <g>\n",
              "        <path d=\"M19 3H5c-1.1 0-2 .9-2 2v14c0 1.1.9 2 2 2h14c1.1 0 2-.9 2-2V5c0-1.1-.9-2-2-2zM9 17H7v-7h2v7zm4 0h-2V7h2v10zm4 0h-2v-4h2v4z\"/>\n",
              "    </g>\n",
              "</svg>\n",
              "      </button>\n",
              "    </div>\n",
              "\n",
              "<style>\n",
              "  .colab-df-quickchart {\n",
              "    background-color: #E8F0FE;\n",
              "    border: none;\n",
              "    border-radius: 50%;\n",
              "    cursor: pointer;\n",
              "    display: none;\n",
              "    fill: #1967D2;\n",
              "    height: 32px;\n",
              "    padding: 0 0 0 0;\n",
              "    width: 32px;\n",
              "  }\n",
              "\n",
              "  .colab-df-quickchart:hover {\n",
              "    background-color: #E2EBFA;\n",
              "    box-shadow: 0px 1px 2px rgba(60, 64, 67, 0.3), 0px 1px 3px 1px rgba(60, 64, 67, 0.15);\n",
              "    fill: #174EA6;\n",
              "  }\n",
              "\n",
              "  [theme=dark] .colab-df-quickchart {\n",
              "    background-color: #3B4455;\n",
              "    fill: #D2E3FC;\n",
              "  }\n",
              "\n",
              "  [theme=dark] .colab-df-quickchart:hover {\n",
              "    background-color: #434B5C;\n",
              "    box-shadow: 0px 1px 3px 1px rgba(0, 0, 0, 0.15);\n",
              "    filter: drop-shadow(0px 1px 2px rgba(0, 0, 0, 0.3));\n",
              "    fill: #FFFFFF;\n",
              "  }\n",
              "</style>\n",
              "\n",
              "    <script>\n",
              "      async function quickchart(key) {\n",
              "        const containerElement = document.querySelector('#' + key);\n",
              "        const charts = await google.colab.kernel.invokeFunction(\n",
              "            'suggestCharts', [key], {});\n",
              "      }\n",
              "    </script>\n",
              "\n",
              "      <script>\n",
              "\n",
              "function displayQuickchartButton(domScope) {\n",
              "  let quickchartButtonEl =\n",
              "    domScope.querySelector('#df-0d15ce05-94f6-444a-88d6-d52b0fb97735 button.colab-df-quickchart');\n",
              "  quickchartButtonEl.style.display =\n",
              "    google.colab.kernel.accessAllowed ? 'block' : 'none';\n",
              "}\n",
              "\n",
              "        displayQuickchartButton(document);\n",
              "      </script>\n",
              "      <style>\n",
              "    .colab-df-container {\n",
              "      display:flex;\n",
              "      flex-wrap:wrap;\n",
              "      gap: 12px;\n",
              "    }\n",
              "\n",
              "    .colab-df-convert {\n",
              "      background-color: #E8F0FE;\n",
              "      border: none;\n",
              "      border-radius: 50%;\n",
              "      cursor: pointer;\n",
              "      display: none;\n",
              "      fill: #1967D2;\n",
              "      height: 32px;\n",
              "      padding: 0 0 0 0;\n",
              "      width: 32px;\n",
              "    }\n",
              "\n",
              "    .colab-df-convert:hover {\n",
              "      background-color: #E2EBFA;\n",
              "      box-shadow: 0px 1px 2px rgba(60, 64, 67, 0.3), 0px 1px 3px 1px rgba(60, 64, 67, 0.15);\n",
              "      fill: #174EA6;\n",
              "    }\n",
              "\n",
              "    [theme=dark] .colab-df-convert {\n",
              "      background-color: #3B4455;\n",
              "      fill: #D2E3FC;\n",
              "    }\n",
              "\n",
              "    [theme=dark] .colab-df-convert:hover {\n",
              "      background-color: #434B5C;\n",
              "      box-shadow: 0px 1px 3px 1px rgba(0, 0, 0, 0.15);\n",
              "      filter: drop-shadow(0px 1px 2px rgba(0, 0, 0, 0.3));\n",
              "      fill: #FFFFFF;\n",
              "    }\n",
              "  </style>\n",
              "\n",
              "      <script>\n",
              "        const buttonEl =\n",
              "          document.querySelector('#df-c7534204-429f-45a1-be7a-abb396b1b801 button.colab-df-convert');\n",
              "        buttonEl.style.display =\n",
              "          google.colab.kernel.accessAllowed ? 'block' : 'none';\n",
              "\n",
              "        async function convertToInteractive(key) {\n",
              "          const element = document.querySelector('#df-c7534204-429f-45a1-be7a-abb396b1b801');\n",
              "          const dataTable =\n",
              "            await google.colab.kernel.invokeFunction('convertToInteractive',\n",
              "                                                     [key], {});\n",
              "          if (!dataTable) return;\n",
              "\n",
              "          const docLinkHtml = 'Like what you see? Visit the ' +\n",
              "            '<a target=\"_blank\" href=https://colab.research.google.com/notebooks/data_table.ipynb>data table notebook</a>'\n",
              "            + ' to learn more about interactive tables.';\n",
              "          element.innerHTML = '';\n",
              "          dataTable['output_type'] = 'display_data';\n",
              "          await google.colab.output.renderOutput(dataTable, element);\n",
              "          const docLink = document.createElement('div');\n",
              "          docLink.innerHTML = docLinkHtml;\n",
              "          element.appendChild(docLink);\n",
              "        }\n",
              "      </script>\n",
              "    </div>\n",
              "  </div>\n"
            ]
          },
          "metadata": {},
          "execution_count": 63
        }
      ]
    },
    {
      "cell_type": "code",
      "source": [
        "data.info()"
      ],
      "metadata": {
        "colab": {
          "base_uri": "https://localhost:8080/"
        },
        "id": "u6z-dv06J3z9",
        "outputId": "54b7fcd1-aab2-45ed-e57d-4f7c6ac9e9f1"
      },
      "execution_count": null,
      "outputs": [
        {
          "output_type": "stream",
          "name": "stdout",
          "text": [
            "<class 'pandas.core.frame.DataFrame'>\n",
            "RangeIndex: 5572 entries, 0 to 5571\n",
            "Data columns (total 2 columns):\n",
            " #   Column  Non-Null Count  Dtype \n",
            "---  ------  --------------  ----- \n",
            " 0   label   5572 non-null   int64 \n",
            " 1   title   5572 non-null   object\n",
            "dtypes: int64(1), object(1)\n",
            "memory usage: 87.2+ KB\n"
          ]
        }
      ]
    },
    {
      "cell_type": "code",
      "source": [
        "data.label.value_counts()"
      ],
      "metadata": {
        "colab": {
          "base_uri": "https://localhost:8080/"
        },
        "id": "01El084nJ4kz",
        "outputId": "b6e66828-2ffb-42d0-e3d1-c4dce5864d3f"
      },
      "execution_count": null,
      "outputs": [
        {
          "output_type": "execute_result",
          "data": {
            "text/plain": [
              "0    4825\n",
              "1     747\n",
              "Name: label, dtype: int64"
            ]
          },
          "metadata": {},
          "execution_count": 65
        }
      ]
    },
    {
      "cell_type": "code",
      "source": [
        "# 겹치지 않는 고유한 내용만 찾기\n",
        "data.title.nunique()"
      ],
      "metadata": {
        "colab": {
          "base_uri": "https://localhost:8080/"
        },
        "id": "oK3TDxLCJ_Zo",
        "outputId": "6c420280-ab51-4df3-c651-0363bd91670d"
      },
      "execution_count": null,
      "outputs": [
        {
          "output_type": "execute_result",
          "data": {
            "text/plain": [
              "5169"
            ]
          },
          "metadata": {},
          "execution_count": 67
        }
      ]
    },
    {
      "cell_type": "code",
      "source": [
        "# 중복된 열 제거\n",
        "data.drop_duplicates(subset=['title'], inplace=True)"
      ],
      "metadata": {
        "colab": {
          "base_uri": "https://localhost:8080/"
        },
        "id": "wgbplk7TKWxP",
        "outputId": "69ded257-21e1-4b7a-fc06-fbfb36a7a171"
      },
      "execution_count": null,
      "outputs": [
        {
          "output_type": "stream",
          "name": "stderr",
          "text": [
            "<ipython-input-68-7c4b2c131846>:2: SettingWithCopyWarning: \n",
            "A value is trying to be set on a copy of a slice from a DataFrame\n",
            "\n",
            "See the caveats in the documentation: https://pandas.pydata.org/pandas-docs/stable/user_guide/indexing.html#returning-a-view-versus-a-copy\n",
            "  data.drop_duplicates(subset=['title'], inplace=True)\n"
          ]
        }
      ]
    },
    {
      "cell_type": "code",
      "source": [
        "len(data.title)"
      ],
      "metadata": {
        "colab": {
          "base_uri": "https://localhost:8080/"
        },
        "id": "gQEfDRbmKo4-",
        "outputId": "a1fb9e7c-51e2-41e5-859e-7336ac52c89d"
      },
      "execution_count": null,
      "outputs": [
        {
          "output_type": "execute_result",
          "data": {
            "text/plain": [
              "5169"
            ]
          },
          "metadata": {},
          "execution_count": 69
        }
      ]
    },
    {
      "cell_type": "code",
      "source": [
        "'''\n",
        "# oversampling / undersampling\n",
        "# 굉장히 핫한 방법.(few shot learning) - meta learning\n",
        ">> 나중에 논문같은거 한번 찾아보자.\n",
        "\n",
        "## few shot learning  -- 조금의 사진만 이용해서 러닝한다는 뜻.\n",
        "\n",
        "'''"
      ],
      "metadata": {
        "id": "yELO9gJrKsgb"
      },
      "execution_count": null,
      "outputs": []
    },
    {
      "cell_type": "code",
      "source": [
        "ydata = data.label\n",
        "xdata = data.title"
      ],
      "metadata": {
        "id": "qzN6eWg5L-Us"
      },
      "execution_count": null,
      "outputs": []
    },
    {
      "cell_type": "code",
      "source": [
        "# 돌아버린 random_state\n",
        "# 층화추출 기법으로 추출하는게 option으로 있다. (종류별로 균등한 비율로 추출)\n",
        "x_train, x_test, y_train, y_test = train_test_split(xdata,ydata,test_size=0.2,\n",
        "                                                    random_state=20230728,\n",
        "                                                    stratify=ydata)"
      ],
      "metadata": {
        "id": "7fBzOJl0MDeQ"
      },
      "execution_count": null,
      "outputs": []
    },
    {
      "cell_type": "code",
      "source": [
        "len(x_test)"
      ],
      "metadata": {
        "colab": {
          "base_uri": "https://localhost:8080/"
        },
        "id": "R2hkkD8AMKs0",
        "outputId": "89d6850e-515d-498d-80ef-3730dcf51899"
      },
      "execution_count": null,
      "outputs": [
        {
          "output_type": "execute_result",
          "data": {
            "text/plain": [
              "1034"
            ]
          },
          "metadata": {},
          "execution_count": 86
        }
      ]
    },
    {
      "cell_type": "code",
      "source": [
        "len(y_test)"
      ],
      "metadata": {
        "colab": {
          "base_uri": "https://localhost:8080/"
        },
        "id": "yWs6fBAkMYcI",
        "outputId": "7998f79c-0b7b-499d-97a6-e1087e5840bc"
      },
      "execution_count": null,
      "outputs": [
        {
          "output_type": "execute_result",
          "data": {
            "text/plain": [
              "1034"
            ]
          },
          "metadata": {},
          "execution_count": 87
        }
      ]
    },
    {
      "cell_type": "code",
      "source": [
        "x_train.iloc[0]"
      ],
      "metadata": {
        "colab": {
          "base_uri": "https://localhost:8080/",
          "height": 35
        },
        "id": "stk7Rbi-MZ35",
        "outputId": "6a57dea1-76c8-4117-8d72-a18aacfccfba"
      },
      "execution_count": null,
      "outputs": [
        {
          "output_type": "execute_result",
          "data": {
            "text/plain": [
              "\"No. She's currently in scotland for that.\""
            ],
            "application/vnd.google.colaboratory.intrinsic+json": {
              "type": "string"
            }
          },
          "metadata": {},
          "execution_count": 88
        }
      ]
    },
    {
      "cell_type": "code",
      "source": [
        "x_test.iloc[0]"
      ],
      "metadata": {
        "colab": {
          "base_uri": "https://localhost:8080/",
          "height": 35
        },
        "id": "ymWRVJd8Mb5K",
        "outputId": "77b6d8b9-9479-4a06-b55f-0cc9440fb417"
      },
      "execution_count": null,
      "outputs": [
        {
          "output_type": "execute_result",
          "data": {
            "text/plain": [
              "'U still going to the mall?'"
            ],
            "application/vnd.google.colaboratory.intrinsic+json": {
              "type": "string"
            }
          },
          "metadata": {},
          "execution_count": 89
        }
      ]
    },
    {
      "cell_type": "code",
      "source": [
        "x_train"
      ],
      "metadata": {
        "colab": {
          "base_uri": "https://localhost:8080/"
        },
        "id": "LzBnNN04Mtxs",
        "outputId": "bb4b74a9-fe22-4307-8095-75f616a6c600"
      },
      "execution_count": null,
      "outputs": [
        {
          "output_type": "execute_result",
          "data": {
            "text/plain": [
              "1420            No. She's currently in scotland for that.\n",
              "3801            No da. I am happy that we sit together na\n",
              "1153    1000's of girls many local 2 u who r virgins 2...\n",
              "3157    Thank u. IT BETTER WORK OUT CAUSE I WILL FEEL ...\n",
              "4211    Missed call alert. These numbers called but le...\n",
              "                              ...                        \n",
              "698                        Mum ask Ì_ to buy food home...\n",
              "5519    Can you pls send me that company name. In saib...\n",
              "5503    Perhaps * is much easy give your account ident...\n",
              "4689                                           Ok no prob\n",
              "4456    Aight should I just plan to come up later toni...\n",
              "Name: title, Length: 4135, dtype: object"
            ]
          },
          "metadata": {},
          "execution_count": 92
        }
      ]
    },
    {
      "cell_type": "code",
      "source": [
        "y_train.value_counts()"
      ],
      "metadata": {
        "colab": {
          "base_uri": "https://localhost:8080/"
        },
        "id": "zYicqIJUN_b4",
        "outputId": "135f0d12-5ecd-44eb-878e-7c645d7e5763"
      },
      "execution_count": null,
      "outputs": [
        {
          "output_type": "execute_result",
          "data": {
            "text/plain": [
              "0    3613\n",
              "1     522\n",
              "Name: label, dtype: int64"
            ]
          },
          "metadata": {},
          "execution_count": 93
        }
      ]
    },
    {
      "cell_type": "code",
      "source": [
        "# 과제1) 단어에 대한 전처리 (모델 성능 개선)\n",
        "tok = Tokenizer() # tensorflow.kears.tokeniszer\n",
        "tok.fit_on_texts(x_train) # x_train안의 데이터를 corpus로 fitting하여 단어별로 index가 부여됨.\n",
        "x_train_enc = tok.texts_to_sequences(x_train)"
      ],
      "metadata": {
        "id": "owargvFzOJO7"
      },
      "execution_count": null,
      "outputs": []
    },
    {
      "cell_type": "code",
      "source": [
        "x_train_enc[:5]"
      ],
      "metadata": {
        "colab": {
          "base_uri": "https://localhost:8080/"
        },
        "id": "cN-vONFFPK0S",
        "outputId": "0dd1c49a-0a75-4214-bf1f-ff75a360bac8"
      },
      "execution_count": null,
      "outputs": [
        {
          "output_type": "execute_result",
          "data": {
            "text/plain": [
              "[[35, 743, 936, 8, 1813, 12, 17],\n",
              " [35, 83, 1, 61, 124, 17, 34, 1147, 547, 852],\n",
              " [2342,\n",
              "  15,\n",
              "  611,\n",
              "  221,\n",
              "  1148,\n",
              "  20,\n",
              "  6,\n",
              "  148,\n",
              "  80,\n",
              "  3500,\n",
              "  20,\n",
              "  39,\n",
              "  80,\n",
              "  296,\n",
              "  20,\n",
              "  2343,\n",
              "  40,\n",
              "  217,\n",
              "  3501,\n",
              "  75,\n",
              "  27,\n",
              "  6,\n",
              "  2343,\n",
              "  3502,\n",
              "  70,\n",
              "  1149,\n",
              "  3,\n",
              "  3503,\n",
              "  331,\n",
              "  1505,\n",
              "  462],\n",
              " [355, 6, 14, 249, 145, 51, 580, 1, 38, 200, 744, 1150],\n",
              " [463, 18, 1506, 548, 937, 387, 24, 347, 35, 174, 3504]]"
            ]
          },
          "metadata": {},
          "execution_count": 95
        }
      ]
    },
    {
      "cell_type": "code",
      "source": [
        "tok.index_word"
      ],
      "metadata": {
        "colab": {
          "base_uri": "https://localhost:8080/"
        },
        "id": "NkwE1oGnPMsl",
        "outputId": "20b65edb-f019-4f01-a931-904196bbfa0b"
      },
      "execution_count": null,
      "outputs": [
        {
          "output_type": "execute_result",
          "data": {
            "text/plain": [
              "{1: 'i',\n",
              " 2: 'you',\n",
              " 3: 'to',\n",
              " 4: 'a',\n",
              " 5: 'the',\n",
              " 6: 'u',\n",
              " 7: 'and',\n",
              " 8: 'in',\n",
              " 9: 'is',\n",
              " 10: 'me',\n",
              " 11: 'my',\n",
              " 12: 'for',\n",
              " 13: 'your',\n",
              " 14: 'it',\n",
              " 15: 'of',\n",
              " 16: 'have',\n",
              " 17: 'that',\n",
              " 18: 'call',\n",
              " 19: 'on',\n",
              " 20: '2',\n",
              " 21: 'are',\n",
              " 22: 'so',\n",
              " 23: 'now',\n",
              " 24: 'but',\n",
              " 25: 'not',\n",
              " 26: 'or',\n",
              " 27: 'can',\n",
              " 28: 'do',\n",
              " 29: 'get',\n",
              " 30: \"i'm\",\n",
              " 31: 'at',\n",
              " 32: 'be',\n",
              " 33: 'with',\n",
              " 34: 'we',\n",
              " 35: 'no',\n",
              " 36: 'just',\n",
              " 37: 'if',\n",
              " 38: 'will',\n",
              " 39: 'this',\n",
              " 40: 'ur',\n",
              " 41: 'up',\n",
              " 42: '4',\n",
              " 43: 'from',\n",
              " 44: 'lt',\n",
              " 45: 'gt',\n",
              " 46: 'how',\n",
              " 47: 'when',\n",
              " 48: 'what',\n",
              " 49: 'ok',\n",
              " 50: 'go',\n",
              " 51: 'out',\n",
              " 52: 'all',\n",
              " 53: 'free',\n",
              " 54: 'know',\n",
              " 55: 'like',\n",
              " 56: 'got',\n",
              " 57: 'then',\n",
              " 58: 'was',\n",
              " 59: 'good',\n",
              " 60: 'come',\n",
              " 61: 'am',\n",
              " 62: 'time',\n",
              " 63: 'its',\n",
              " 64: 'want',\n",
              " 65: 'day',\n",
              " 66: 'only',\n",
              " 67: 'love',\n",
              " 68: 'there',\n",
              " 69: 'he',\n",
              " 70: 'text',\n",
              " 71: 'one',\n",
              " 72: 'send',\n",
              " 73: 'by',\n",
              " 74: 'as',\n",
              " 75: 'need',\n",
              " 76: 'going',\n",
              " 77: 'home',\n",
              " 78: 'about',\n",
              " 79: 'still',\n",
              " 80: 'r',\n",
              " 81: 'txt',\n",
              " 82: 'see',\n",
              " 83: 'da',\n",
              " 84: 'back',\n",
              " 85: 'lor',\n",
              " 86: \"i'll\",\n",
              " 87: 'k',\n",
              " 88: 'stop',\n",
              " 89: 'reply',\n",
              " 90: 'sorry',\n",
              " 91: 'take',\n",
              " 92: 'think',\n",
              " 93: 'dont',\n",
              " 94: 'any',\n",
              " 95: 'our',\n",
              " 96: 'hi',\n",
              " 97: 'tell',\n",
              " 98: 'today',\n",
              " 99: 'here',\n",
              " 100: 'new',\n",
              " 101: \"don't\",\n",
              " 102: 'n',\n",
              " 103: 'please',\n",
              " 104: 'they',\n",
              " 105: 'some',\n",
              " 106: 'mobile',\n",
              " 107: 'phone',\n",
              " 108: 'ì',\n",
              " 109: 'did',\n",
              " 110: 'hey',\n",
              " 111: 'been',\n",
              " 112: 'night',\n",
              " 113: 'oh',\n",
              " 114: 'too',\n",
              " 115: 'much',\n",
              " 116: 'well',\n",
              " 117: 'where',\n",
              " 118: 'her',\n",
              " 119: 'him',\n",
              " 120: 'great',\n",
              " 121: 'more',\n",
              " 122: 'pls',\n",
              " 123: 'week',\n",
              " 124: 'happy',\n",
              " 125: 'hope',\n",
              " 126: 'later',\n",
              " 127: 'has',\n",
              " 128: 'wat',\n",
              " 129: 'an',\n",
              " 130: 'claim',\n",
              " 131: 'give',\n",
              " 132: 'she',\n",
              " 133: 'c',\n",
              " 134: 'yes',\n",
              " 135: 'make',\n",
              " 136: 'already',\n",
              " 137: '1',\n",
              " 138: 'way',\n",
              " 139: \"it's\",\n",
              " 140: 'msg',\n",
              " 141: 'dear',\n",
              " 142: 'had',\n",
              " 143: 'e',\n",
              " 144: 'number',\n",
              " 145: 'work',\n",
              " 146: 'should',\n",
              " 147: 'tomorrow',\n",
              " 148: 'who',\n",
              " 149: 'right',\n",
              " 150: 'prize',\n",
              " 151: 'cash',\n",
              " 152: 'yeah',\n",
              " 153: 'www',\n",
              " 154: 'doing',\n",
              " 155: 'im',\n",
              " 156: 'b',\n",
              " 157: 'why',\n",
              " 158: 'ask',\n",
              " 159: 'after',\n",
              " 160: 'really',\n",
              " 161: 'last',\n",
              " 162: 'find',\n",
              " 163: 'meet',\n",
              " 164: 'babe',\n",
              " 165: 'anything',\n",
              " 166: 'say',\n",
              " 167: 'said',\n",
              " 168: 'also',\n",
              " 169: 'thanks',\n",
              " 170: 'them',\n",
              " 171: 'miss',\n",
              " 172: 'cos',\n",
              " 173: 'something',\n",
              " 174: 'message',\n",
              " 175: 'd',\n",
              " 176: 'lol',\n",
              " 177: 'would',\n",
              " 178: 'let',\n",
              " 179: '150p',\n",
              " 180: 'wait',\n",
              " 181: '3',\n",
              " 182: 'morning',\n",
              " 183: 'over',\n",
              " 184: 'again',\n",
              " 185: 'urgent',\n",
              " 186: 'pick',\n",
              " 187: 'care',\n",
              " 188: 'nokia',\n",
              " 189: 'tonight',\n",
              " 190: 'next',\n",
              " 191: 'us',\n",
              " 192: 'sure',\n",
              " 193: 'keep',\n",
              " 194: 'life',\n",
              " 195: \"can't\",\n",
              " 196: 'his',\n",
              " 197: 'very',\n",
              " 198: 't',\n",
              " 199: 'were',\n",
              " 200: 'feel',\n",
              " 201: 'buy',\n",
              " 202: 'off',\n",
              " 203: 'min',\n",
              " 204: 'could',\n",
              " 205: 'sent',\n",
              " 206: 'thing',\n",
              " 207: 'win',\n",
              " 208: 'won',\n",
              " 209: 'other',\n",
              " 210: 'com',\n",
              " 211: 'gonna',\n",
              " 212: 'contact',\n",
              " 213: \"i've\",\n",
              " 214: 'before',\n",
              " 215: 's',\n",
              " 216: 'ya',\n",
              " 217: 'every',\n",
              " 218: 'down',\n",
              " 219: 'haha',\n",
              " 220: 'first',\n",
              " 221: 'many',\n",
              " 222: \"that's\",\n",
              " 223: 'leave',\n",
              " 224: 'soon',\n",
              " 225: 'money',\n",
              " 226: 'chat',\n",
              " 227: 'went',\n",
              " 228: 'cant',\n",
              " 229: 'place',\n",
              " 230: 'thk',\n",
              " 231: 'told',\n",
              " 232: 'things',\n",
              " 233: 'v',\n",
              " 234: 'which',\n",
              " 235: 'someone',\n",
              " 236: 'tone',\n",
              " 237: 'around',\n",
              " 238: 'sleep',\n",
              " 239: 'waiting',\n",
              " 240: 'even',\n",
              " 241: 'late',\n",
              " 242: 'amp',\n",
              " 243: 'getting',\n",
              " 244: 'dun',\n",
              " 245: 'x',\n",
              " 246: 'uk',\n",
              " 247: 'thought',\n",
              " 248: 'done',\n",
              " 249: 'better',\n",
              " 250: 'ìï',\n",
              " 251: 'may',\n",
              " 252: 'nice',\n",
              " 253: 'customer',\n",
              " 254: 'class',\n",
              " 255: '5',\n",
              " 256: 'sms',\n",
              " 257: 'hello',\n",
              " 258: 'same',\n",
              " 259: 'fine',\n",
              " 260: 'gud',\n",
              " 261: 'service',\n",
              " 262: '50',\n",
              " 263: 'per',\n",
              " 264: 'yet',\n",
              " 265: 'wish',\n",
              " 266: 'wan',\n",
              " 267: 'friend',\n",
              " 268: \"you're\",\n",
              " 269: 'long',\n",
              " 270: 'year',\n",
              " 271: 'stuff',\n",
              " 272: 'help',\n",
              " 273: 'finish',\n",
              " 274: 'use',\n",
              " 275: 'guaranteed',\n",
              " 276: 'never',\n",
              " 277: 'talk',\n",
              " 278: '18',\n",
              " 279: 'friends',\n",
              " 280: 'try',\n",
              " 281: 'coming',\n",
              " 282: '16',\n",
              " 283: 'wanna',\n",
              " 284: 'bit',\n",
              " 285: 'always',\n",
              " 286: 'yup',\n",
              " 287: 'cool',\n",
              " 288: 'mins',\n",
              " 289: 'trying',\n",
              " 290: 'than',\n",
              " 291: 'house',\n",
              " 292: 'enjoy',\n",
              " 293: \"didn't\",\n",
              " 294: 'thats',\n",
              " 295: 'yo',\n",
              " 296: 'ready',\n",
              " 297: 'few',\n",
              " 298: 'another',\n",
              " 299: 'co',\n",
              " 300: 'name',\n",
              " 301: 'holiday',\n",
              " 302: 'draw',\n",
              " 303: 'might',\n",
              " 304: 'line',\n",
              " 305: '6',\n",
              " 306: 'being',\n",
              " 307: 'early',\n",
              " 308: 'ah',\n",
              " 309: 'person',\n",
              " 310: 'lunch',\n",
              " 311: 'job',\n",
              " 312: 'y',\n",
              " 313: 'big',\n",
              " 314: 'lar',\n",
              " 315: 'check',\n",
              " 316: 'aight',\n",
              " 317: 'cs',\n",
              " 318: 'ill',\n",
              " 319: 'hear',\n",
              " 320: 'guys',\n",
              " 321: 'wk',\n",
              " 322: 'best',\n",
              " 323: 'xxx',\n",
              " 324: 'live',\n",
              " 325: 'mind',\n",
              " 326: 'meeting',\n",
              " 327: 'people',\n",
              " 328: 'eat',\n",
              " 329: 'nothing',\n",
              " 330: 'car',\n",
              " 331: 'å£1',\n",
              " 332: 'month',\n",
              " 333: 'guess',\n",
              " 334: 'room',\n",
              " 335: 'maybe',\n",
              " 336: 'thanx',\n",
              " 337: '7',\n",
              " 338: 'real',\n",
              " 339: 'jus',\n",
              " 340: 'probably',\n",
              " 341: 'dat',\n",
              " 342: 'actually',\n",
              " 343: 'dunno',\n",
              " 344: 'wont',\n",
              " 345: 'problem',\n",
              " 346: 'end',\n",
              " 347: 'left',\n",
              " 348: 'special',\n",
              " 349: 'once',\n",
              " 350: 'shit',\n",
              " 351: 'll',\n",
              " 352: 'sat',\n",
              " 353: 'play',\n",
              " 354: 'liao',\n",
              " 355: 'thank',\n",
              " 356: 'ever',\n",
              " 357: 'dad',\n",
              " 358: 'into',\n",
              " 359: 'sir',\n",
              " 360: 'speak',\n",
              " 361: 'chance',\n",
              " 362: 'box',\n",
              " 363: 'video',\n",
              " 364: 'baby',\n",
              " 365: 'because',\n",
              " 366: 'watching',\n",
              " 367: 'landline',\n",
              " 368: 'smile',\n",
              " 369: 'word',\n",
              " 370: \"he's\",\n",
              " 371: 'princess',\n",
              " 372: \"how's\",\n",
              " 373: 'bad',\n",
              " 374: 'pay',\n",
              " 375: 'plan',\n",
              " 376: 'man',\n",
              " 377: 'den',\n",
              " 378: 'dinner',\n",
              " 379: 'sweet',\n",
              " 380: 'half',\n",
              " 381: 'face',\n",
              " 382: 'fuck',\n",
              " 383: 'account',\n",
              " 384: 'å£1000',\n",
              " 385: 'days',\n",
              " 386: 'receive',\n",
              " 387: 'called',\n",
              " 388: '150ppm',\n",
              " 389: 'anyway',\n",
              " 390: 'remember',\n",
              " 391: 'minutes',\n",
              " 392: 'watch',\n",
              " 393: 'heart',\n",
              " 394: 'didnt',\n",
              " 395: 'okay',\n",
              " 396: 'hair',\n",
              " 397: 'forgot',\n",
              " 398: 'latest',\n",
              " 399: 'luv',\n",
              " 400: 'kiss',\n",
              " 401: 'town',\n",
              " 402: 'shows',\n",
              " 403: 'tv',\n",
              " 404: 'hour',\n",
              " 405: 'quite',\n",
              " 406: 'those',\n",
              " 407: 'having',\n",
              " 408: 'awarded',\n",
              " 409: 'start',\n",
              " 410: 'look',\n",
              " 411: 'god',\n",
              " 412: 'pa',\n",
              " 413: 'join',\n",
              " 414: 'birthday',\n",
              " 415: 'shopping',\n",
              " 416: 'juz',\n",
              " 417: 'ringtone',\n",
              " 418: 'though',\n",
              " 419: '1st',\n",
              " 420: 'weekend',\n",
              " 421: 'abt',\n",
              " 422: 'guy',\n",
              " 423: 'able',\n",
              " 424: 'details',\n",
              " 425: 'po',\n",
              " 426: 'reach',\n",
              " 427: 'cost',\n",
              " 428: 'everything',\n",
              " 429: 'offer',\n",
              " 430: 'boy',\n",
              " 431: 'working',\n",
              " 432: 'lot',\n",
              " 433: 'shall',\n",
              " 434: 'two',\n",
              " 435: 'world',\n",
              " 436: 'bring',\n",
              " 437: 'does',\n",
              " 438: 'enough',\n",
              " 439: 'girl',\n",
              " 440: 'goes',\n",
              " 441: 'important',\n",
              " 442: 'little',\n",
              " 443: 'times',\n",
              " 444: 'sch',\n",
              " 445: 'tones',\n",
              " 446: 'texts',\n",
              " 447: 'alright',\n",
              " 448: 'must',\n",
              " 449: 'network',\n",
              " 450: 'looking',\n",
              " 451: 'collect',\n",
              " 452: 'wake',\n",
              " 453: 'orange',\n",
              " 454: '9',\n",
              " 455: 'part',\n",
              " 456: 'since',\n",
              " 457: 'without',\n",
              " 458: 'leh',\n",
              " 459: 'selected',\n",
              " 460: 'away',\n",
              " 461: 'award',\n",
              " 462: 'm',\n",
              " 463: 'missed',\n",
              " 464: 'tmr',\n",
              " 465: 'until',\n",
              " 466: 'came',\n",
              " 467: 'plus',\n",
              " 468: 'evening',\n",
              " 469: 'dis',\n",
              " 470: 'bus',\n",
              " 471: 'put',\n",
              " 472: 'online',\n",
              " 473: 'collection',\n",
              " 474: '8',\n",
              " 475: 'food',\n",
              " 476: 'code',\n",
              " 477: 'saw',\n",
              " 478: 're',\n",
              " 479: 'wif',\n",
              " 480: 'bed',\n",
              " 481: 'mob',\n",
              " 482: 'driving',\n",
              " 483: 'wants',\n",
              " 484: 'afternoon',\n",
              " 485: 'havent',\n",
              " 486: 'til',\n",
              " 487: '8007',\n",
              " 488: 'net',\n",
              " 489: 'change',\n",
              " 490: 'show',\n",
              " 491: 'school',\n",
              " 492: 'camera',\n",
              " 493: 'easy',\n",
              " 494: 'mail',\n",
              " 495: 'messages',\n",
              " 496: 'sexy',\n",
              " 497: 'made',\n",
              " 498: 'while',\n",
              " 499: 'haf',\n",
              " 500: 'bt',\n",
              " 501: 'years',\n",
              " 502: 'worry',\n",
              " 503: 'gift',\n",
              " 504: \"what's\",\n",
              " 505: 'stay',\n",
              " 506: 'wanted',\n",
              " 507: \"there's\",\n",
              " 508: 'yesterday',\n",
              " 509: 'test',\n",
              " 510: 'rate',\n",
              " 511: 'oso',\n",
              " 512: 'chikku',\n",
              " 513: 'yourself',\n",
              " 514: \"won't\",\n",
              " 515: 'ard',\n",
              " 516: 'pain',\n",
              " 517: \"haven't\",\n",
              " 518: 'g',\n",
              " 519: 'dude',\n",
              " 520: 'asked',\n",
              " 521: 'wot',\n",
              " 522: '10',\n",
              " 523: 'book',\n",
              " 524: '000',\n",
              " 525: 'de',\n",
              " 526: 'address',\n",
              " 527: 'tried',\n",
              " 528: 'yours',\n",
              " 529: \"we're\",\n",
              " 530: 'charge',\n",
              " 531: 'gd',\n",
              " 532: 'office',\n",
              " 533: 'decimal',\n",
              " 534: 'thinking',\n",
              " 535: 'nite',\n",
              " 536: 'calls',\n",
              " 537: 'busy',\n",
              " 538: 'hav',\n",
              " 539: '2nd',\n",
              " 540: 'attempt',\n",
              " 541: 'leaving',\n",
              " 542: 'tot',\n",
              " 543: 'says',\n",
              " 544: 'double',\n",
              " 545: 'hot',\n",
              " 546: 'most',\n",
              " 547: 'together',\n",
              " 548: 'these',\n",
              " 549: 'id',\n",
              " 550: 'å£2000',\n",
              " 551: 'valid',\n",
              " 552: 'means',\n",
              " 553: 'drive',\n",
              " 554: 'else',\n",
              " 555: 'apply',\n",
              " 556: 'club',\n",
              " 557: 'ha',\n",
              " 558: 'full',\n",
              " 559: 'both',\n",
              " 560: 'goin',\n",
              " 561: 'huh',\n",
              " 562: 'bored',\n",
              " 563: 'price',\n",
              " 564: 'tomo',\n",
              " 565: 'http',\n",
              " 566: 'beautiful',\n",
              " 567: 'movie',\n",
              " 568: 'between',\n",
              " 569: 'sae',\n",
              " 570: 'xmas',\n",
              " 571: 'true',\n",
              " 572: 'old',\n",
              " 573: \"we'll\",\n",
              " 574: 'words',\n",
              " 575: 'pub',\n",
              " 576: 'finished',\n",
              " 577: 'eve',\n",
              " 578: 'lei',\n",
              " 579: 'family',\n",
              " 580: 'cause',\n",
              " 581: 'pic',\n",
              " 582: 'email',\n",
              " 583: 'boytoy',\n",
              " 584: 'took',\n",
              " 585: 'weekly',\n",
              " 586: 'noe',\n",
              " 587: 'aft',\n",
              " 588: 'wen',\n",
              " 589: 'taking',\n",
              " 590: 'order',\n",
              " 591: 'mean',\n",
              " 592: 'found',\n",
              " 593: 'awesome',\n",
              " 594: 'walk',\n",
              " 595: 'saying',\n",
              " 596: 'break',\n",
              " 597: 'lets',\n",
              " 598: 'delivery',\n",
              " 599: 'rite',\n",
              " 600: 'fun',\n",
              " 601: 'ring',\n",
              " 602: 'second',\n",
              " 603: 'entry',\n",
              " 604: 'smiling',\n",
              " 605: 'poly',\n",
              " 606: 'happen',\n",
              " 607: 'auction',\n",
              " 608: 'hurt',\n",
              " 609: 'calling',\n",
              " 610: 'top',\n",
              " 611: 'girls',\n",
              " 612: 'hours',\n",
              " 613: 'whatever',\n",
              " 614: 'mine',\n",
              " 615: '500',\n",
              " 616: 'pounds',\n",
              " 617: 'run',\n",
              " 618: 'choose',\n",
              " 619: 'feeling',\n",
              " 620: 'goodmorning',\n",
              " 621: 'head',\n",
              " 622: 'trip',\n",
              " 623: 'drink',\n",
              " 624: 'colour',\n",
              " 625: 'sun',\n",
              " 626: 'sleeping',\n",
              " 627: 'services',\n",
              " 628: 'msgs',\n",
              " 629: 'making',\n",
              " 630: 'neva',\n",
              " 631: 'believe',\n",
              " 632: 'makes',\n",
              " 633: 'mate',\n",
              " 634: 'å£5000',\n",
              " 635: 'wit',\n",
              " 636: 'smth',\n",
              " 637: 'nope',\n",
              " 638: 'wife',\n",
              " 639: 'alone',\n",
              " 640: 'games',\n",
              " 641: 'started',\n",
              " 642: 'await',\n",
              " 643: 'card',\n",
              " 644: 'lucky',\n",
              " 645: 'bonus',\n",
              " 646: 'touch',\n",
              " 647: 'todays',\n",
              " 648: 'loving',\n",
              " 649: '10p',\n",
              " 650: 'minute',\n",
              " 651: 'lesson',\n",
              " 652: 'date',\n",
              " 653: 'land',\n",
              " 654: 'row',\n",
              " 655: 'okie',\n",
              " 656: 'happened',\n",
              " 657: 'hmmm',\n",
              " 658: 'pics',\n",
              " 659: 'comes',\n",
              " 660: 'available',\n",
              " 661: 'unsubscribe',\n",
              " 662: 'set',\n",
              " 663: 'final',\n",
              " 664: 'camcorder',\n",
              " 665: 'gr8',\n",
              " 666: 'credit',\n",
              " 667: 'game',\n",
              " 668: 'friday',\n",
              " 669: 'answer',\n",
              " 670: 'fast',\n",
              " 671: 'treat',\n",
              " 672: 'carlos',\n",
              " 673: 'finally',\n",
              " 674: 'wil',\n",
              " 675: 'lots',\n",
              " 676: 'sea',\n",
              " 677: 'nt',\n",
              " 678: 'dating',\n",
              " 679: 'update',\n",
              " 680: 'needs',\n",
              " 681: 'points',\n",
              " 682: 'far',\n",
              " 683: 'sis',\n",
              " 684: 'hows',\n",
              " 685: 'mayb',\n",
              " 686: 'tho',\n",
              " 687: 'shop',\n",
              " 688: 'plz',\n",
              " 689: 'w',\n",
              " 690: 'fri',\n",
              " 691: 'å£100',\n",
              " 692: 'crazy',\n",
              " 693: 'prob',\n",
              " 694: 'each',\n",
              " 695: 'company',\n",
              " 696: '12hrs',\n",
              " 697: 'sounds',\n",
              " 698: 'drop',\n",
              " 699: 'xx',\n",
              " 700: 'chennai',\n",
              " 701: 'side',\n",
              " 702: 'bout',\n",
              " 703: 'wrong',\n",
              " 704: 'coz',\n",
              " 705: '08000930705',\n",
              " 706: 'cut',\n",
              " 707: 'listen',\n",
              " 708: 'frnd',\n",
              " 709: 'player',\n",
              " 710: 'å£500',\n",
              " 711: 'takes',\n",
              " 712: 'college',\n",
              " 713: 'till',\n",
              " 714: 'forget',\n",
              " 715: 'download',\n",
              " 716: 'earlier',\n",
              " 717: 'yr',\n",
              " 718: 'friendship',\n",
              " 719: 'hmm',\n",
              " 720: 'don',\n",
              " 721: 'pm',\n",
              " 722: 'question',\n",
              " 723: 'oredi',\n",
              " 724: 'decided',\n",
              " 725: 'park',\n",
              " 726: 'luck',\n",
              " 727: 'talking',\n",
              " 728: 'swing',\n",
              " 729: 'fancy',\n",
              " 730: 'national',\n",
              " 731: 'mobileupd8',\n",
              " 732: 'whole',\n",
              " 733: 'either',\n",
              " 734: 'winner',\n",
              " 735: 'gas',\n",
              " 736: 'outside',\n",
              " 737: 'info',\n",
              " 738: '750',\n",
              " 739: \"you'll\",\n",
              " 740: 'opt',\n",
              " 741: 'mum',\n",
              " 742: 'snow',\n",
              " 743: \"she's\",\n",
              " 744: 'used',\n",
              " 745: 'wonderful',\n",
              " 746: 'freemsg',\n",
              " 747: 'reason',\n",
              " 748: 'darlin',\n",
              " 749: '86688',\n",
              " 750: 'through',\n",
              " 751: 'worth',\n",
              " 752: 'tel',\n",
              " 753: 'whats',\n",
              " 754: 'their',\n",
              " 755: \"doesn't\",\n",
              " 756: 'mah',\n",
              " 757: '100',\n",
              " 758: 'close',\n",
              " 759: 'dogging',\n",
              " 760: 'anytime',\n",
              " 761: 'telling',\n",
              " 762: 'sort',\n",
              " 763: 'search',\n",
              " 764: 'hard',\n",
              " 765: 'charged',\n",
              " 766: 'etc',\n",
              " 767: 'eh',\n",
              " 768: 'direct',\n",
              " 769: 'usf',\n",
              " 770: 'christmas',\n",
              " 771: 'hit',\n",
              " 772: 'weeks',\n",
              " 773: 'sister',\n",
              " 774: 'o',\n",
              " 775: '\\x89û',\n",
              " 776: 'brother',\n",
              " 777: 'music',\n",
              " 778: 'meant',\n",
              " 779: 'open',\n",
              " 780: 'voucher',\n",
              " 781: 'couple',\n",
              " 782: '03',\n",
              " 783: 'sad',\n",
              " 784: 'news',\n",
              " 785: 'bath',\n",
              " 786: 'smoke',\n",
              " 787: 'gone',\n",
              " 788: 'wow',\n",
              " 789: 'content',\n",
              " 790: \"c's\",\n",
              " 791: '08000839402',\n",
              " 792: 'ago',\n",
              " 793: 'gym',\n",
              " 794: 'case',\n",
              " 795: 'balance',\n",
              " 796: 'knw',\n",
              " 797: 'gets',\n",
              " 798: 'fone',\n",
              " 799: 'nyt',\n",
              " 800: 'yar',\n",
              " 801: 'post',\n",
              " 802: 'understand',\n",
              " 803: 'vouchers',\n",
              " 804: 'supposed',\n",
              " 805: 'laptop',\n",
              " 806: 'type',\n",
              " 807: 'crave',\n",
              " 808: 'pobox',\n",
              " 809: 'em',\n",
              " 810: 'kind',\n",
              " 811: 'computer',\n",
              " 812: 'fucking',\n",
              " 813: 'difficult',\n",
              " 814: 'private',\n",
              " 815: 'expires',\n",
              " 816: 'frnds',\n",
              " 817: 'sell',\n",
              " 818: 'sound',\n",
              " 819: 'nah',\n",
              " 820: 'uncle',\n",
              " 821: 'semester',\n",
              " 822: 'caller',\n",
              " 823: 'pretty',\n",
              " 824: 'monday',\n",
              " 825: '20',\n",
              " 826: 'anyone',\n",
              " 827: 'hold',\n",
              " 828: 'read',\n",
              " 829: 'light',\n",
              " 830: 'å£250',\n",
              " 831: 'wonder',\n",
              " 832: '30',\n",
              " 833: 'almost',\n",
              " 834: 'log',\n",
              " 835: 'unlimited',\n",
              " 836: 'everyone',\n",
              " 837: 'party',\n",
              " 838: 'age',\n",
              " 839: 'darren',\n",
              " 840: 'congrats',\n",
              " 841: 'sending',\n",
              " 842: 'cum',\n",
              " 843: 'ltd',\n",
              " 844: 'glad',\n",
              " 845: 'frm',\n",
              " 846: 'st',\n",
              " 847: 'lose',\n",
              " 848: 'dreams',\n",
              " 849: \"you've\",\n",
              " 850: 'å£350',\n",
              " 851: 'welcome',\n",
              " 852: 'na',\n",
              " 853: 'felt',\n",
              " 854: 'kinda',\n",
              " 855: 'fr',\n",
              " 856: 'suite342',\n",
              " 857: '2lands',\n",
              " 858: 'tht',\n",
              " 859: 'spend',\n",
              " 860: 'tc',\n",
              " 861: '2day',\n",
              " 862: 'eg',\n",
              " 863: 'ugh',\n",
              " 864: 'bank',\n",
              " 865: 'operator',\n",
              " 866: 'extra',\n",
              " 867: 'nobody',\n",
              " 868: 'missing',\n",
              " 869: 'ans',\n",
              " 870: 'water',\n",
              " 871: 'th',\n",
              " 872: 'savamob',\n",
              " 873: 'offers',\n",
              " 874: 'grins',\n",
              " 875: 'area',\n",
              " 876: 'laugh',\n",
              " 877: 'ac',\n",
              " 878: 'ipod',\n",
              " 879: 'muz',\n",
              " 880: 'hee',\n",
              " 881: 'pete',\n",
              " 882: 'slow',\n",
              " 883: 'gotta',\n",
              " 884: 'reading',\n",
              " 885: 'mates',\n",
              " 886: 'across',\n",
              " 887: 'secret',\n",
              " 888: 'thinks',\n",
              " 889: 'p',\n",
              " 890: 'link',\n",
              " 891: 'unless',\n",
              " 892: 'met',\n",
              " 893: 'identifier',\n",
              " 894: '11',\n",
              " 895: 'red',\n",
              " 896: 'tickets',\n",
              " 897: 'march',\n",
              " 898: '\\x89ûò',\n",
              " 899: 'enter',\n",
              " 900: 'rest',\n",
              " 901: 'picking',\n",
              " 902: 'parents',\n",
              " 903: 'surprise',\n",
              " 904: 'saturday',\n",
              " 905: 'comin',\n",
              " 906: 'quiz',\n",
              " 907: 'shower',\n",
              " 908: 'lovely',\n",
              " 909: 'abiola',\n",
              " 910: 'b4',\n",
              " 911: 'complimentary',\n",
              " 912: 'mm',\n",
              " 913: 'gal',\n",
              " 914: 'ni8',\n",
              " 915: 'rs',\n",
              " 916: 'ass',\n",
              " 917: 'somebody',\n",
              " 918: 'call2optout',\n",
              " 919: 'gave',\n",
              " 920: 'tired',\n",
              " 921: 'visit',\n",
              " 922: 'course',\n",
              " 923: 'others',\n",
              " 924: 'ex',\n",
              " 925: 'valued',\n",
              " 926: 'mrt',\n",
              " 927: 'wid',\n",
              " 928: 'jay',\n",
              " 929: 'exam',\n",
              " 930: 'motorola',\n",
              " 931: 'simple',\n",
              " 932: 'mr',\n",
              " 933: 'song',\n",
              " 934: 'charity',\n",
              " 935: 'access',\n",
              " 936: 'currently',\n",
              " 937: 'numbers',\n",
              " 938: 'pass',\n",
              " 939: 'kate',\n",
              " 940: 'blue',\n",
              " 941: \"i'd\",\n",
              " 942: 'woke',\n",
              " 943: 'dream',\n",
              " 944: 'rply',\n",
              " 945: 'mon',\n",
              " 946: 'hand',\n",
              " 947: 'safe',\n",
              " 948: 'story',\n",
              " 949: 'nigeria',\n",
              " 950: 'different',\n",
              " 951: 'discount',\n",
              " 952: 'å£3',\n",
              " 953: 'forever',\n",
              " 954: 'seen',\n",
              " 955: 'heard',\n",
              " 956: 'il',\n",
              " 957: 'match',\n",
              " 958: 'ten',\n",
              " 959: 'txting',\n",
              " 960: 'least',\n",
              " 961: 'via',\n",
              " 962: 'wine',\n",
              " 963: 'road',\n",
              " 964: 'vl',\n",
              " 965: 'wap',\n",
              " 966: 'statement',\n",
              " 967: 'bak',\n",
              " 968: 'doctor',\n",
              " 969: 'yep',\n",
              " 970: 'correct',\n",
              " 971: 'worried',\n",
              " 972: 'congratulations',\n",
              " 973: 'myself',\n",
              " 974: '2nite',\n",
              " 975: 'booked',\n",
              " 976: 'å£200',\n",
              " 977: \"wasn't\",\n",
              " 978: 'save',\n",
              " 979: 'tonite',\n",
              " 980: 'rakhesh',\n",
              " 981: 'within',\n",
              " 982: 'knew',\n",
              " 983: 'starting',\n",
              " 984: 'cheap',\n",
              " 985: 'honey',\n",
              " 986: 'small',\n",
              " 987: 'txts',\n",
              " 988: 'study',\n",
              " 989: 'hungry',\n",
              " 990: 'loads',\n",
              " 991: 'store',\n",
              " 992: 'die',\n",
              " 993: 'mo',\n",
              " 994: 'immediately',\n",
              " 995: 'seeing',\n",
              " 996: 'warm',\n",
              " 997: 'mu',\n",
              " 998: 'wiv',\n",
              " 999: 'information',\n",
              " 1000: 'especially',\n",
              " ...}"
            ]
          },
          "metadata": {},
          "execution_count": 96
        }
      ]
    },
    {
      "cell_type": "code",
      "source": [
        "w2i=tok.word_index"
      ],
      "metadata": {
        "id": "_OH37gSzPePi"
      },
      "execution_count": null,
      "outputs": []
    },
    {
      "cell_type": "code",
      "source": [
        "w2i"
      ],
      "metadata": {
        "id": "EGCSDvCnPgW7"
      },
      "execution_count": null,
      "outputs": []
    },
    {
      "cell_type": "code",
      "source": [
        "x_train.shape # 4135\n",
        "x_test.shape # 1034"
      ],
      "metadata": {
        "colab": {
          "base_uri": "https://localhost:8080/"
        },
        "id": "YOxfZBMGP-Sa",
        "outputId": "80fb8ff7-4ce2-4e02-e0ce-09c8dca9d38b"
      },
      "execution_count": null,
      "outputs": [
        {
          "output_type": "execute_result",
          "data": {
            "text/plain": [
              "(4135,)"
            ]
          },
          "metadata": {},
          "execution_count": 99
        }
      ]
    },
    {
      "cell_type": "code",
      "source": [
        "# encoding = word를 숫자로 표현하여 바꾸주는것\n",
        "sum(map(len, x_train_enc)) // len(x_train_enc) # 메일의 평균 단어 갯수"
      ],
      "metadata": {
        "colab": {
          "base_uri": "https://localhost:8080/"
        },
        "id": "jOC5KxBQQP8L",
        "outputId": "876a221b-1a35-4958-c07f-9faaf0429679"
      },
      "execution_count": null,
      "outputs": [
        {
          "output_type": "execute_result",
          "data": {
            "text/plain": [
              "15"
            ]
          },
          "metadata": {},
          "execution_count": 103
        }
      ]
    },
    {
      "cell_type": "code",
      "source": [
        "maxLen = max(map(len, x_train_enc))"
      ],
      "metadata": {
        "id": "fEdLiiZZQRwL"
      },
      "execution_count": null,
      "outputs": []
    },
    {
      "cell_type": "code",
      "source": [
        "min(len(s) for s in x_train_enc)"
      ],
      "metadata": {
        "colab": {
          "base_uri": "https://localhost:8080/"
        },
        "id": "LFj7bCydQfqX",
        "outputId": "2c172660-affd-4304-f813-f63905fe7947"
      },
      "execution_count": null,
      "outputs": [
        {
          "output_type": "execute_result",
          "data": {
            "text/plain": [
              "0"
            ]
          },
          "metadata": {},
          "execution_count": 105
        }
      ]
    },
    {
      "cell_type": "code",
      "source": [
        "# 1번부터 단어의 번호 부여, 0 패딩을 했으므로 1을 더하여 사전의 크기를 설정\n",
        "vocab_size = len(w2i) + 1"
      ],
      "metadata": {
        "id": "Gx5R_lSGTDgN"
      },
      "execution_count": null,
      "outputs": []
    },
    {
      "cell_type": "code",
      "source": [
        "x_train_padded = pad_sequences(x_train_enc, maxlen=maxLen)"
      ],
      "metadata": {
        "id": "QlREQ9GFRtlq"
      },
      "execution_count": null,
      "outputs": []
    },
    {
      "cell_type": "code",
      "source": [
        "from tensorflow.keras.layers import SimpleRNN, Embedding, Dense, LSTM\n",
        "from tensorflow.keras.models import Sequential"
      ],
      "metadata": {
        "id": "Uh_MoR5HR7aZ"
      },
      "execution_count": null,
      "outputs": []
    },
    {
      "cell_type": "code",
      "source": [],
      "metadata": {
        "id": "NE8hACF8SZ-P"
      },
      "execution_count": null,
      "outputs": []
    },
    {
      "cell_type": "code",
      "source": [
        "# 모델 생성\n",
        "model = Sequential()\n",
        "\n",
        "# 모델 층 입력\n",
        "## 가장먼저 해야될 건 차원축소 임베딩\n",
        "# input - hidden, 단어 하나하나가 32 feature를 갖는 무언가로 변함\n",
        "model.add(Embedding(vocab_size, 32))\n",
        "model.add(SimpleRNN(100))\n",
        "model.add(Dense(1, activation='sigmoid')) # binary classification 이기 때문에 시그모이드"
      ],
      "metadata": {
        "id": "EVWKg2U_SdUD"
      },
      "execution_count": null,
      "outputs": []
    },
    {
      "cell_type": "code",
      "source": [
        "# loss값 역시 이진분류기 때문에 binary_crossentropy로 간다.\n",
        "model.compile(optimizer='rmsprop', loss='binary_crossentropy', metrics=['accuracy'])"
      ],
      "metadata": {
        "id": "1g-7NIWCUFCo"
      },
      "execution_count": null,
      "outputs": []
    },
    {
      "cell_type": "code",
      "source": [
        "history = model.fit(x_train_padded, y_train, epochs=5, batch_size=32, validation_split=0.2)\n"
      ],
      "metadata": {
        "colab": {
          "base_uri": "https://localhost:8080/"
        },
        "id": "yh2-tG5lUR1o",
        "outputId": "e85357fc-b630-4e42-9ca9-1b687f2de9e0"
      },
      "execution_count": null,
      "outputs": [
        {
          "output_type": "stream",
          "name": "stdout",
          "text": [
            "Epoch 1/5\n",
            "104/104 [==============================] - 13s 127ms/step - loss: 0.0246 - accuracy: 0.9930 - val_loss: 0.0687 - val_accuracy: 0.9843\n",
            "Epoch 2/5\n",
            "104/104 [==============================] - 9s 85ms/step - loss: 0.0186 - accuracy: 0.9946 - val_loss: 0.0749 - val_accuracy: 0.9819\n",
            "Epoch 3/5\n",
            "104/104 [==============================] - 6s 57ms/step - loss: 0.0139 - accuracy: 0.9973 - val_loss: 0.0866 - val_accuracy: 0.9734\n",
            "Epoch 4/5\n",
            "104/104 [==============================] - 9s 91ms/step - loss: 0.0113 - accuracy: 0.9970 - val_loss: 0.0941 - val_accuracy: 0.9819\n",
            "Epoch 5/5\n",
            "104/104 [==============================] - 8s 79ms/step - loss: 0.0062 - accuracy: 0.9985 - val_loss: 0.0978 - val_accuracy: 0.9807\n"
          ]
        }
      ]
    },
    {
      "cell_type": "code",
      "source": [
        "x_test_enc = tok.texts_to_sequences(x_test)"
      ],
      "metadata": {
        "id": "BVzfZjhWUY4d"
      },
      "execution_count": null,
      "outputs": []
    },
    {
      "cell_type": "code",
      "source": [
        "x_test_padded = pad_sequences(x_test_enc, maxlen=maxLen)"
      ],
      "metadata": {
        "id": "lb_DJxOcU_C7"
      },
      "execution_count": null,
      "outputs": []
    },
    {
      "cell_type": "code",
      "source": [
        "pred = model.predict(x_test_padded)"
      ],
      "metadata": {
        "colab": {
          "base_uri": "https://localhost:8080/"
        },
        "id": "i-smrIbUVFpc",
        "outputId": "ecdce5ec-55d5-4232-b558-caa293f24edc"
      },
      "execution_count": null,
      "outputs": [
        {
          "output_type": "stream",
          "name": "stdout",
          "text": [
            "33/33 [==============================] - 1s 20ms/step\n"
          ]
        }
      ]
    },
    {
      "cell_type": "code",
      "source": [
        "eval = model.evaluate(pred, y_test)\n",
        "eval[1]"
      ],
      "metadata": {
        "colab": {
          "base_uri": "https://localhost:8080/"
        },
        "id": "t94F6TpfVUE1",
        "outputId": "88e9f5fd-9811-4a5e-8ee7-3114fa582e27"
      },
      "execution_count": null,
      "outputs": [
        {
          "output_type": "stream",
          "name": "stdout",
          "text": [
            "33/33 [==============================] - 1s 9ms/step - loss: 0.5108 - accuracy: 0.8733\n"
          ]
        },
        {
          "output_type": "execute_result",
          "data": {
            "text/plain": [
              "0.8733075261116028"
            ]
          },
          "metadata": {},
          "execution_count": 126
        }
      ]
    },
    {
      "cell_type": "code",
      "source": [
        "# 왜 predict값이 아니라 padded x_test를 넣는거지...?\n",
        "model.evaluate(x_test_padded, y_test)"
      ],
      "metadata": {
        "colab": {
          "base_uri": "https://localhost:8080/"
        },
        "id": "e3SQsuLsVuoh",
        "outputId": "795a9e2e-dda4-45ab-ce31-be2c98904364"
      },
      "execution_count": null,
      "outputs": [
        {
          "output_type": "stream",
          "name": "stdout",
          "text": [
            "33/33 [==============================] - 1s 21ms/step - loss: 0.1094 - accuracy: 0.9807\n"
          ]
        },
        {
          "output_type": "execute_result",
          "data": {
            "text/plain": [
              "[0.10941753536462784, 0.9806576371192932]"
            ]
          },
          "metadata": {},
          "execution_count": 128
        }
      ]
    },
    {
      "cell_type": "code",
      "source": [
        "# 2번째 문제 - shopping.txt로 분류모델 만들기."
      ],
      "metadata": {
        "id": "GSZ_buR8VZMU"
      },
      "execution_count": null,
      "outputs": []
    },
    {
      "cell_type": "code",
      "source": [
        "from google.colab import files\n",
        "import io\n",
        "\n",
        "uploaded = files.upload() # txt file 올려서 사용\n",
        "for fn in uploaded.keys():\n",
        "  print('User uploaded file \"{name} with length {length} bytes'.format(name=fn, length=len(uploaded[fn])))"
      ],
      "metadata": {
        "colab": {
          "base_uri": "https://localhost:8080/",
          "height": 94
        },
        "id": "d6W5OfAsWZ8C",
        "outputId": "25fad96a-ba22-45e1-bc5a-bb50923c2315"
      },
      "execution_count": null,
      "outputs": [
        {
          "output_type": "display_data",
          "data": {
            "text/plain": [
              "<IPython.core.display.HTML object>"
            ],
            "text/html": [
              "\n",
              "     <input type=\"file\" id=\"files-d59119c1-935b-4161-a634-87550c8aaf4b\" name=\"files[]\" multiple disabled\n",
              "        style=\"border:none\" />\n",
              "     <output id=\"result-d59119c1-935b-4161-a634-87550c8aaf4b\">\n",
              "      Upload widget is only available when the cell has been executed in the\n",
              "      current browser session. Please rerun this cell to enable.\n",
              "      </output>\n",
              "      <script>// Copyright 2017 Google LLC\n",
              "//\n",
              "// Licensed under the Apache License, Version 2.0 (the \"License\");\n",
              "// you may not use this file except in compliance with the License.\n",
              "// You may obtain a copy of the License at\n",
              "//\n",
              "//      http://www.apache.org/licenses/LICENSE-2.0\n",
              "//\n",
              "// Unless required by applicable law or agreed to in writing, software\n",
              "// distributed under the License is distributed on an \"AS IS\" BASIS,\n",
              "// WITHOUT WARRANTIES OR CONDITIONS OF ANY KIND, either express or implied.\n",
              "// See the License for the specific language governing permissions and\n",
              "// limitations under the License.\n",
              "\n",
              "/**\n",
              " * @fileoverview Helpers for google.colab Python module.\n",
              " */\n",
              "(function(scope) {\n",
              "function span(text, styleAttributes = {}) {\n",
              "  const element = document.createElement('span');\n",
              "  element.textContent = text;\n",
              "  for (const key of Object.keys(styleAttributes)) {\n",
              "    element.style[key] = styleAttributes[key];\n",
              "  }\n",
              "  return element;\n",
              "}\n",
              "\n",
              "// Max number of bytes which will be uploaded at a time.\n",
              "const MAX_PAYLOAD_SIZE = 100 * 1024;\n",
              "\n",
              "function _uploadFiles(inputId, outputId) {\n",
              "  const steps = uploadFilesStep(inputId, outputId);\n",
              "  const outputElement = document.getElementById(outputId);\n",
              "  // Cache steps on the outputElement to make it available for the next call\n",
              "  // to uploadFilesContinue from Python.\n",
              "  outputElement.steps = steps;\n",
              "\n",
              "  return _uploadFilesContinue(outputId);\n",
              "}\n",
              "\n",
              "// This is roughly an async generator (not supported in the browser yet),\n",
              "// where there are multiple asynchronous steps and the Python side is going\n",
              "// to poll for completion of each step.\n",
              "// This uses a Promise to block the python side on completion of each step,\n",
              "// then passes the result of the previous step as the input to the next step.\n",
              "function _uploadFilesContinue(outputId) {\n",
              "  const outputElement = document.getElementById(outputId);\n",
              "  const steps = outputElement.steps;\n",
              "\n",
              "  const next = steps.next(outputElement.lastPromiseValue);\n",
              "  return Promise.resolve(next.value.promise).then((value) => {\n",
              "    // Cache the last promise value to make it available to the next\n",
              "    // step of the generator.\n",
              "    outputElement.lastPromiseValue = value;\n",
              "    return next.value.response;\n",
              "  });\n",
              "}\n",
              "\n",
              "/**\n",
              " * Generator function which is called between each async step of the upload\n",
              " * process.\n",
              " * @param {string} inputId Element ID of the input file picker element.\n",
              " * @param {string} outputId Element ID of the output display.\n",
              " * @return {!Iterable<!Object>} Iterable of next steps.\n",
              " */\n",
              "function* uploadFilesStep(inputId, outputId) {\n",
              "  const inputElement = document.getElementById(inputId);\n",
              "  inputElement.disabled = false;\n",
              "\n",
              "  const outputElement = document.getElementById(outputId);\n",
              "  outputElement.innerHTML = '';\n",
              "\n",
              "  const pickedPromise = new Promise((resolve) => {\n",
              "    inputElement.addEventListener('change', (e) => {\n",
              "      resolve(e.target.files);\n",
              "    });\n",
              "  });\n",
              "\n",
              "  const cancel = document.createElement('button');\n",
              "  inputElement.parentElement.appendChild(cancel);\n",
              "  cancel.textContent = 'Cancel upload';\n",
              "  const cancelPromise = new Promise((resolve) => {\n",
              "    cancel.onclick = () => {\n",
              "      resolve(null);\n",
              "    };\n",
              "  });\n",
              "\n",
              "  // Wait for the user to pick the files.\n",
              "  const files = yield {\n",
              "    promise: Promise.race([pickedPromise, cancelPromise]),\n",
              "    response: {\n",
              "      action: 'starting',\n",
              "    }\n",
              "  };\n",
              "\n",
              "  cancel.remove();\n",
              "\n",
              "  // Disable the input element since further picks are not allowed.\n",
              "  inputElement.disabled = true;\n",
              "\n",
              "  if (!files) {\n",
              "    return {\n",
              "      response: {\n",
              "        action: 'complete',\n",
              "      }\n",
              "    };\n",
              "  }\n",
              "\n",
              "  for (const file of files) {\n",
              "    const li = document.createElement('li');\n",
              "    li.append(span(file.name, {fontWeight: 'bold'}));\n",
              "    li.append(span(\n",
              "        `(${file.type || 'n/a'}) - ${file.size} bytes, ` +\n",
              "        `last modified: ${\n",
              "            file.lastModifiedDate ? file.lastModifiedDate.toLocaleDateString() :\n",
              "                                    'n/a'} - `));\n",
              "    const percent = span('0% done');\n",
              "    li.appendChild(percent);\n",
              "\n",
              "    outputElement.appendChild(li);\n",
              "\n",
              "    const fileDataPromise = new Promise((resolve) => {\n",
              "      const reader = new FileReader();\n",
              "      reader.onload = (e) => {\n",
              "        resolve(e.target.result);\n",
              "      };\n",
              "      reader.readAsArrayBuffer(file);\n",
              "    });\n",
              "    // Wait for the data to be ready.\n",
              "    let fileData = yield {\n",
              "      promise: fileDataPromise,\n",
              "      response: {\n",
              "        action: 'continue',\n",
              "      }\n",
              "    };\n",
              "\n",
              "    // Use a chunked sending to avoid message size limits. See b/62115660.\n",
              "    let position = 0;\n",
              "    do {\n",
              "      const length = Math.min(fileData.byteLength - position, MAX_PAYLOAD_SIZE);\n",
              "      const chunk = new Uint8Array(fileData, position, length);\n",
              "      position += length;\n",
              "\n",
              "      const base64 = btoa(String.fromCharCode.apply(null, chunk));\n",
              "      yield {\n",
              "        response: {\n",
              "          action: 'append',\n",
              "          file: file.name,\n",
              "          data: base64,\n",
              "        },\n",
              "      };\n",
              "\n",
              "      let percentDone = fileData.byteLength === 0 ?\n",
              "          100 :\n",
              "          Math.round((position / fileData.byteLength) * 100);\n",
              "      percent.textContent = `${percentDone}% done`;\n",
              "\n",
              "    } while (position < fileData.byteLength);\n",
              "  }\n",
              "\n",
              "  // All done.\n",
              "  yield {\n",
              "    response: {\n",
              "      action: 'complete',\n",
              "    }\n",
              "  };\n",
              "}\n",
              "\n",
              "scope.google = scope.google || {};\n",
              "scope.google.colab = scope.google.colab || {};\n",
              "scope.google.colab._files = {\n",
              "  _uploadFiles,\n",
              "  _uploadFilesContinue,\n",
              "};\n",
              "})(self);\n",
              "</script> "
            ]
          },
          "metadata": {}
        },
        {
          "output_type": "stream",
          "name": "stdout",
          "text": [
            "Saving shopping.txt to shopping.txt\n",
            "User uploaded file \"shopping.txt with length 20623547 bytes\n"
          ]
        }
      ]
    },
    {
      "cell_type": "code",
      "source": [],
      "metadata": {
        "id": "rfT-1LzXXKcU"
      },
      "execution_count": null,
      "outputs": []
    }
  ]
}